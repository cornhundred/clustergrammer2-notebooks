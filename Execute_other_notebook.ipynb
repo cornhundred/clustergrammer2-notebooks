{
 "cells": [
  {
   "cell_type": "code",
   "execution_count": 10,
   "metadata": {},
   "outputs": [
    {
     "name": "stderr",
     "output_type": "stream",
     "text": [
      "Input notebook does not contain a cell with tag 'parameters'\n"
     ]
    },
    {
     "data": {
      "application/vnd.jupyter.widget-view+json": {
       "model_id": "ae3c69e9260e4834b301430946d8d0db",
       "version_major": 2,
       "version_minor": 0
      },
      "text/plain": [
       "HBox(children=(FloatProgress(value=0.0, description='Executing', max=7.0, style=ProgressStyle(description_widt…"
      ]
     },
     "metadata": {},
     "output_type": "display_data"
    },
    {
     "name": "stdout",
     "output_type": "stream",
     "text": [
      "\n"
     ]
    }
   ],
   "source": [
    "import papermill as pm\n",
    "\n",
    "tmp = pm.execute_notebook(\n",
    "   'Clustergrammer_papermill.ipynb',\n",
    "   'Clustergrammer_papermill-output.ipynb',\n",
    "   parameters = dict(inst_path='data/cell_type_signatures/nm3337_broad_cell_type_sigs.txt')\n",
    ")"
   ]
  },
  {
   "cell_type": "code",
   "execution_count": 11,
   "metadata": {},
   "outputs": [
    {
     "name": "stdout",
     "output_type": "stream",
     "text": [
      "[NbConvertApp] Converting notebook Clustergrammer_papermill-output.ipynb to html\n",
      "[NbConvertApp] Writing 963972 bytes to Clustergrammer_papermill-output.html\n"
     ]
    }
   ],
   "source": [
    "!jupyter nbconvert --to html Clustergrammer_papermill-output.ipynb"
   ]
  },
  {
   "cell_type": "code",
   "execution_count": null,
   "metadata": {},
   "outputs": [],
   "source": []
  }
 ],
 "metadata": {
  "kernelspec": {
   "display_name": "Python 3",
   "language": "python",
   "name": "python3"
  },
  "language_info": {
   "codemirror_mode": {
    "name": "ipython",
    "version": 3
   },
   "file_extension": ".py",
   "mimetype": "text/x-python",
   "name": "python",
   "nbconvert_exporter": "python",
   "pygments_lexer": "ipython3",
   "version": "3.6.5"
  },
  "widgets": {
   "application/vnd.jupyter.widget-state+json": {
    "state": {
     "023149e905ac4f26b3e4636e3d14cd86": {
      "model_module": "@jupyter-widgets/controls",
      "model_module_version": "1.5.0",
      "model_name": "HTMLModel",
      "state": {
       "layout": "IPY_MODEL_3bbb2c9dcdcf4cebb69dca1c06ce0b2b",
       "style": "IPY_MODEL_b66adfbc7e664c4687a5acace40e9990",
       "value": " 7/7 [00:03&lt;00:00,  2.00cell/s]"
      }
     },
     "03589fceb7e4493ba356a26858a79c68": {
      "model_module": "@jupyter-widgets/controls",
      "model_module_version": "1.5.0",
      "model_name": "FloatProgressModel",
      "state": {
       "bar_style": "success",
       "description": "Executing: 100%",
       "layout": "IPY_MODEL_8d49c576724049c998957013f6eaca24",
       "max": 8,
       "style": "IPY_MODEL_e9aac22fbbde4aa0abbe289a759f5952",
       "value": 8
      }
     },
     "12d6527fe8fd4adb85aac48e59f3f504": {
      "model_module": "@jupyter-widgets/base",
      "model_module_version": "1.2.0",
      "model_name": "LayoutModel",
      "state": {}
     },
     "1b2dbdac145e4abb95e5461f7fa10ea0": {
      "model_module": "@jupyter-widgets/controls",
      "model_module_version": "1.5.0",
      "model_name": "DescriptionStyleModel",
      "state": {
       "description_width": ""
      }
     },
     "1dc49dc41cac48b0bf4246b814310cca": {
      "model_module": "@jupyter-widgets/base",
      "model_module_version": "1.2.0",
      "model_name": "LayoutModel",
      "state": {}
     },
     "202c3877586349578aef488aa1a1c906": {
      "model_module": "@jupyter-widgets/controls",
      "model_module_version": "1.5.0",
      "model_name": "DescriptionStyleModel",
      "state": {
       "description_width": ""
      }
     },
     "216c14c6e7074197a997864e958abb74": {
      "model_module": "@jupyter-widgets/base",
      "model_module_version": "1.2.0",
      "model_name": "LayoutModel",
      "state": {}
     },
     "280013206d7640cd8a3f8dece920c8ee": {
      "model_module": "@jupyter-widgets/controls",
      "model_module_version": "1.5.0",
      "model_name": "DescriptionStyleModel",
      "state": {
       "description_width": ""
      }
     },
     "2acc5936e14e4f16a0040c849bf81a1a": {
      "model_module": "@jupyter-widgets/base",
      "model_module_version": "1.2.0",
      "model_name": "LayoutModel",
      "state": {}
     },
     "2c6a00e3549c418885f9a127fb8b7cc4": {
      "model_module": "@jupyter-widgets/controls",
      "model_module_version": "1.5.0",
      "model_name": "DescriptionStyleModel",
      "state": {
       "description_width": ""
      }
     },
     "3058fc22521e4d00a90418490b94fcba": {
      "model_module": "@jupyter-widgets/base",
      "model_module_version": "1.2.0",
      "model_name": "LayoutModel",
      "state": {}
     },
     "3a4211da72b64710a717a9d12b46e76e": {
      "model_module": "@jupyter-widgets/controls",
      "model_module_version": "1.5.0",
      "model_name": "FloatProgressModel",
      "state": {
       "bar_style": "success",
       "description": "Executing: 100%",
       "layout": "IPY_MODEL_84bdcf73061d4bad8f87b7af5d99f0ad",
       "max": 9,
       "style": "IPY_MODEL_8fa5e55e5c034bed829da1afc0737a03",
       "value": 9
      }
     },
     "3bbb2c9dcdcf4cebb69dca1c06ce0b2b": {
      "model_module": "@jupyter-widgets/base",
      "model_module_version": "1.2.0",
      "model_name": "LayoutModel",
      "state": {}
     },
     "3f242a87fa674ee78114aca062737b6e": {
      "model_module": "@jupyter-widgets/controls",
      "model_module_version": "1.5.0",
      "model_name": "FloatProgressModel",
      "state": {
       "bar_style": "danger",
       "description": "Executing:  12%",
       "layout": "IPY_MODEL_12d6527fe8fd4adb85aac48e59f3f504",
       "max": 8,
       "style": "IPY_MODEL_6f6303a3b9f644d5a19d64828cfeb93b",
       "value": 1
      }
     },
     "43a6cf8b22a14e80835b79b368a9874e": {
      "model_module": "@jupyter-widgets/controls",
      "model_module_version": "1.5.0",
      "model_name": "FloatProgressModel",
      "state": {
       "bar_style": "success",
       "description": "Executing: 100%",
       "layout": "IPY_MODEL_8fb215ed89d0460ba0437d74e870bda9",
       "max": 8,
       "style": "IPY_MODEL_aa8084b561c64f3b9972bc0e9e2113ed",
       "value": 8
      }
     },
     "45d6545f4a6240669c872b620f7930e5": {
      "model_module": "@jupyter-widgets/base",
      "model_module_version": "1.2.0",
      "model_name": "LayoutModel",
      "state": {}
     },
     "48775abf05624de2a9a7c7edc14a556b": {
      "model_module": "@jupyter-widgets/base",
      "model_module_version": "1.2.0",
      "model_name": "LayoutModel",
      "state": {}
     },
     "4b41d93e2eb943a198c11e3730f3b070": {
      "model_module": "@jupyter-widgets/base",
      "model_module_version": "1.2.0",
      "model_name": "LayoutModel",
      "state": {}
     },
     "5f0b0af2745a491eb13705a2df69da6e": {
      "model_module": "@jupyter-widgets/controls",
      "model_module_version": "1.5.0",
      "model_name": "HBoxModel",
      "state": {
       "children": [
        "IPY_MODEL_03589fceb7e4493ba356a26858a79c68",
        "IPY_MODEL_955fcb8e1795442586be12e03293fae3"
       ],
       "layout": "IPY_MODEL_4b41d93e2eb943a198c11e3730f3b070"
      }
     },
     "68b627d8fbf34870bb328114c51d2f68": {
      "model_module": "@jupyter-widgets/controls",
      "model_module_version": "1.5.0",
      "model_name": "FloatProgressModel",
      "state": {
       "bar_style": "danger",
       "description": "Executing:  12%",
       "layout": "IPY_MODEL_6b076ad48b4341dca6a37728fd1a2df8",
       "max": 8,
       "style": "IPY_MODEL_d801f2b2c8c94d2bb9535dbdb69930a2",
       "value": 1
      }
     },
     "6b076ad48b4341dca6a37728fd1a2df8": {
      "model_module": "@jupyter-widgets/base",
      "model_module_version": "1.2.0",
      "model_name": "LayoutModel",
      "state": {}
     },
     "6c8811d3d61c4b26b7f629754cf639e8": {
      "model_module": "@jupyter-widgets/controls",
      "model_module_version": "1.5.0",
      "model_name": "HBoxModel",
      "state": {
       "children": [
        "IPY_MODEL_68b627d8fbf34870bb328114c51d2f68",
        "IPY_MODEL_b7c0244e761149609a57b059f8aaed0a"
       ],
       "layout": "IPY_MODEL_b49abad477c3447b9fdaee9f7f43af48"
      }
     },
     "6f6303a3b9f644d5a19d64828cfeb93b": {
      "model_module": "@jupyter-widgets/controls",
      "model_module_version": "1.5.0",
      "model_name": "ProgressStyleModel",
      "state": {
       "description_width": "initial"
      }
     },
     "84bdcf73061d4bad8f87b7af5d99f0ad": {
      "model_module": "@jupyter-widgets/base",
      "model_module_version": "1.2.0",
      "model_name": "LayoutModel",
      "state": {}
     },
     "8623cec0cc254221b765d459eb566949": {
      "model_module": "@jupyter-widgets/controls",
      "model_module_version": "1.5.0",
      "model_name": "FloatProgressModel",
      "state": {
       "bar_style": "success",
       "description": "Executing: 100%",
       "layout": "IPY_MODEL_e42ee736faec45a99f990617604ce857",
       "max": 7,
       "style": "IPY_MODEL_bba28c24b0ac4e5c8abe9041f0bb217a",
       "value": 7
      }
     },
     "8d49c576724049c998957013f6eaca24": {
      "model_module": "@jupyter-widgets/base",
      "model_module_version": "1.2.0",
      "model_name": "LayoutModel",
      "state": {}
     },
     "8fa5e55e5c034bed829da1afc0737a03": {
      "model_module": "@jupyter-widgets/controls",
      "model_module_version": "1.5.0",
      "model_name": "ProgressStyleModel",
      "state": {
       "description_width": "initial"
      }
     },
     "8fb215ed89d0460ba0437d74e870bda9": {
      "model_module": "@jupyter-widgets/base",
      "model_module_version": "1.2.0",
      "model_name": "LayoutModel",
      "state": {}
     },
     "8fe6ee0d8cdf4d20b9024436529af351": {
      "model_module": "@jupyter-widgets/base",
      "model_module_version": "1.2.0",
      "model_name": "LayoutModel",
      "state": {}
     },
     "955fcb8e1795442586be12e03293fae3": {
      "model_module": "@jupyter-widgets/controls",
      "model_module_version": "1.5.0",
      "model_name": "HTMLModel",
      "state": {
       "layout": "IPY_MODEL_216c14c6e7074197a997864e958abb74",
       "style": "IPY_MODEL_1b2dbdac145e4abb95e5461f7fa10ea0",
       "value": " 8/8 [01:39&lt;00:00, 12.45s/cell]"
      }
     },
     "998215216dc24ee88d45fbd268b2ef69": {
      "model_module": "@jupyter-widgets/controls",
      "model_module_version": "1.5.0",
      "model_name": "HBoxModel",
      "state": {
       "children": [
        "IPY_MODEL_3f242a87fa674ee78114aca062737b6e",
        "IPY_MODEL_a5bd638098c6440ead336a0376207bad"
       ],
       "layout": "IPY_MODEL_8fe6ee0d8cdf4d20b9024436529af351"
      }
     },
     "a5bd638098c6440ead336a0376207bad": {
      "model_module": "@jupyter-widgets/controls",
      "model_module_version": "1.5.0",
      "model_name": "HTMLModel",
      "state": {
       "layout": "IPY_MODEL_2acc5936e14e4f16a0040c849bf81a1a",
       "style": "IPY_MODEL_280013206d7640cd8a3f8dece920c8ee",
       "value": " 1/8 [01:54&lt;13:24, 114.92s/cell]"
      }
     },
     "aa8084b561c64f3b9972bc0e9e2113ed": {
      "model_module": "@jupyter-widgets/controls",
      "model_module_version": "1.5.0",
      "model_name": "ProgressStyleModel",
      "state": {
       "description_width": "initial"
      }
     },
     "ae3c69e9260e4834b301430946d8d0db": {
      "model_module": "@jupyter-widgets/controls",
      "model_module_version": "1.5.0",
      "model_name": "HBoxModel",
      "state": {
       "children": [
        "IPY_MODEL_8623cec0cc254221b765d459eb566949",
        "IPY_MODEL_023149e905ac4f26b3e4636e3d14cd86"
       ],
       "layout": "IPY_MODEL_c156a30f23a64391aacb774f961f39ff"
      }
     },
     "b49abad477c3447b9fdaee9f7f43af48": {
      "model_module": "@jupyter-widgets/base",
      "model_module_version": "1.2.0",
      "model_name": "LayoutModel",
      "state": {}
     },
     "b5c64e15fab84b9bb8b607b3a6d03e45": {
      "model_module": "@jupyter-widgets/base",
      "model_module_version": "1.2.0",
      "model_name": "LayoutModel",
      "state": {}
     },
     "b66adfbc7e664c4687a5acace40e9990": {
      "model_module": "@jupyter-widgets/controls",
      "model_module_version": "1.5.0",
      "model_name": "DescriptionStyleModel",
      "state": {
       "description_width": ""
      }
     },
     "b7c0244e761149609a57b059f8aaed0a": {
      "model_module": "@jupyter-widgets/controls",
      "model_module_version": "1.5.0",
      "model_name": "HTMLModel",
      "state": {
       "layout": "IPY_MODEL_1dc49dc41cac48b0bf4246b814310cca",
       "style": "IPY_MODEL_2c6a00e3549c418885f9a127fb8b7cc4",
       "value": " 1/8 [02:18&lt;16:09, 138.43s/cell]"
      }
     },
     "bba28c24b0ac4e5c8abe9041f0bb217a": {
      "model_module": "@jupyter-widgets/controls",
      "model_module_version": "1.5.0",
      "model_name": "ProgressStyleModel",
      "state": {
       "description_width": "initial"
      }
     },
     "c156a30f23a64391aacb774f961f39ff": {
      "model_module": "@jupyter-widgets/base",
      "model_module_version": "1.2.0",
      "model_name": "LayoutModel",
      "state": {}
     },
     "d6936c410eae4a9d9da914fd2d5ec32d": {
      "model_module": "@jupyter-widgets/controls",
      "model_module_version": "1.5.0",
      "model_name": "HTMLModel",
      "state": {
       "layout": "IPY_MODEL_48775abf05624de2a9a7c7edc14a556b",
       "style": "IPY_MODEL_fa06eb4cc943406fabf2cb7a6d648961",
       "value": " 8/8 [03:42&lt;00:00, 27.86s/cell]"
      }
     },
     "d801f2b2c8c94d2bb9535dbdb69930a2": {
      "model_module": "@jupyter-widgets/controls",
      "model_module_version": "1.5.0",
      "model_name": "ProgressStyleModel",
      "state": {
       "description_width": "initial"
      }
     },
     "df2cd008f22f4bbd9cc0ad4d50c284f1": {
      "model_module": "@jupyter-widgets/controls",
      "model_module_version": "1.5.0",
      "model_name": "HBoxModel",
      "state": {
       "children": [
        "IPY_MODEL_43a6cf8b22a14e80835b79b368a9874e",
        "IPY_MODEL_d6936c410eae4a9d9da914fd2d5ec32d"
       ],
       "layout": "IPY_MODEL_45d6545f4a6240669c872b620f7930e5"
      }
     },
     "e42ee736faec45a99f990617604ce857": {
      "model_module": "@jupyter-widgets/base",
      "model_module_version": "1.2.0",
      "model_name": "LayoutModel",
      "state": {}
     },
     "e9aac22fbbde4aa0abbe289a759f5952": {
      "model_module": "@jupyter-widgets/controls",
      "model_module_version": "1.5.0",
      "model_name": "ProgressStyleModel",
      "state": {
       "description_width": "initial"
      }
     },
     "ebd8e4ac03ca4cfdb1e01afc29ecc765": {
      "model_module": "@jupyter-widgets/controls",
      "model_module_version": "1.5.0",
      "model_name": "HBoxModel",
      "state": {
       "children": [
        "IPY_MODEL_3a4211da72b64710a717a9d12b46e76e",
        "IPY_MODEL_ef2f8c84dd9e4fe9b63ea28f25a85cfd"
       ],
       "layout": "IPY_MODEL_b5c64e15fab84b9bb8b607b3a6d03e45"
      }
     },
     "ef2f8c84dd9e4fe9b63ea28f25a85cfd": {
      "model_module": "@jupyter-widgets/controls",
      "model_module_version": "1.5.0",
      "model_name": "HTMLModel",
      "state": {
       "layout": "IPY_MODEL_3058fc22521e4d00a90418490b94fcba",
       "style": "IPY_MODEL_202c3877586349578aef488aa1a1c906",
       "value": " 9/9 [00:03&lt;00:00,  2.60cell/s]"
      }
     },
     "fa06eb4cc943406fabf2cb7a6d648961": {
      "model_module": "@jupyter-widgets/controls",
      "model_module_version": "1.5.0",
      "model_name": "DescriptionStyleModel",
      "state": {
       "description_width": ""
      }
     }
    },
    "version_major": 2,
    "version_minor": 0
   }
  }
 },
 "nbformat": 4,
 "nbformat_minor": 4
}
