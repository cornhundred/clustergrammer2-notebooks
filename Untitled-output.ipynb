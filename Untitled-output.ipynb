{
 "cells": [
  {
   "cell_type": "code",
   "execution_count": 1,
   "metadata": {
    "papermill": {
     "duration": 0.012888,
     "end_time": "2019-12-18T00:39:04.749141",
     "exception": false,
     "start_time": "2019-12-18T00:39:04.736253",
     "status": "completed"
    },
    "tags": [
     "parameters"
    ]
   },
   "outputs": [],
   "source": [
    "alpha = 0.1\n",
    "ratio = 0.1"
   ]
  },
  {
   "cell_type": "code",
   "execution_count": 2,
   "metadata": {
    "papermill": {
     "duration": 0.009356,
     "end_time": "2019-12-18T00:39:04.763355",
     "exception": false,
     "start_time": "2019-12-18T00:39:04.753999",
     "status": "completed"
    },
    "tags": [
     "injected-parameters"
    ]
   },
   "outputs": [],
   "source": [
    "# Parameters\n",
    "alpha = 0.6\n",
    "ratio = 0.1\n"
   ]
  },
  {
   "cell_type": "code",
   "execution_count": 3,
   "metadata": {
    "papermill": {
     "duration": 0.00923,
     "end_time": "2019-12-18T00:39:04.775676",
     "exception": false,
     "start_time": "2019-12-18T00:39:04.766446",
     "status": "completed"
    },
    "tags": []
   },
   "outputs": [
    {
     "name": "stdout",
     "output_type": "stream",
     "text": [
      "0.6 0.1\n"
     ]
    }
   ],
   "source": [
    "print(alpha, ratio)"
   ]
  },
  {
   "cell_type": "code",
   "execution_count": null,
   "metadata": {
    "papermill": {
     "duration": 0.003043,
     "end_time": "2019-12-18T00:39:04.782011",
     "exception": false,
     "start_time": "2019-12-18T00:39:04.778968",
     "status": "completed"
    },
    "tags": []
   },
   "outputs": [],
   "source": []
  }
 ],
 "metadata": {
  "celltoolbar": "Tags",
  "kernelspec": {
   "display_name": "Python 3",
   "language": "python",
   "name": "python3"
  },
  "language_info": {
   "codemirror_mode": {
    "name": "ipython",
    "version": 3
   },
   "file_extension": ".py",
   "mimetype": "text/x-python",
   "name": "python",
   "nbconvert_exporter": "python",
   "pygments_lexer": "ipython3",
   "version": "3.6.5"
  },
  "papermill": {
   "duration": 1.228895,
   "end_time": "2019-12-18T00:39:05.304365",
   "environment_variables": {},
   "exception": null,
   "input_path": "Untitled.ipynb",
   "output_path": "Untitled-output.ipynb",
   "parameters": {
    "alpha": 0.6,
    "ratio": 0.1
   },
   "start_time": "2019-12-18T00:39:04.075470",
   "version": "1.2.1"
  }
 },
 "nbformat": 4,
 "nbformat_minor": 2
}