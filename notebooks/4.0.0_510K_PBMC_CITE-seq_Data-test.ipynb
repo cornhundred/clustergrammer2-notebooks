{
 "cells": [
  {
   "cell_type": "markdown",
   "metadata": {},
   "source": [
    "# 0.1.0 Filter Raw Feature Data\n",
    "https://support.10xgenomics.com/single-cell-gene-expression/datasets/3.0.0/pbmc_10k_protein_v3"
   ]
  },
  {
   "cell_type": "code",
   "execution_count": 1,
   "metadata": {},
   "outputs": [],
   "source": [
    "import pandas as pd\n",
    "import numpy as np\n",
    "from copy import deepcopy\n",
    "\n",
    "import matplotlib.pyplot as plt\n",
    "%matplotlib inline "
   ]
  },
  {
   "cell_type": "code",
   "execution_count": 2,
   "metadata": {},
   "outputs": [
    {
     "name": "stdout",
     "output_type": "stream",
     "text": [
      ">> clustergrammer2 backend version 0.4.2\n"
     ]
    }
   ],
   "source": [
    "from clustergrammer2 import net"
   ]
  },
  {
   "cell_type": "code",
   "execution_count": 3,
   "metadata": {},
   "outputs": [],
   "source": [
    "import helper_functions as hf"
   ]
  },
  {
   "cell_type": "markdown",
   "metadata": {},
   "source": [
    "# To Do\n",
    "Need to parse features correctly, the ADT and GEX data are combined. I also need to add unique identifiers to genes that are not unique."
   ]
  },
  {
   "cell_type": "markdown",
   "metadata": {},
   "source": [
    "# Load Feature Dataset\n",
    "First save indexes of feature types (to break apart sparse matrix mat_csr), then make genes names unique, then export matrices for different features (might use a dictionary structure)."
   ]
  },
  {
   "cell_type": "markdown",
   "metadata": {},
   "source": [
    "### Load Barcodes\n",
    "Allow for tuple parsing"
   ]
  },
  {
   "cell_type": "code",
   "execution_count": 22,
   "metadata": {},
   "outputs": [],
   "source": [
    "inst_path = '../data/10k_pbmc_feature_v3-chem_v3.0.0-cr/filtered_feature_bc_matrix/'"
   ]
  },
  {
   "cell_type": "code",
   "execution_count": 23,
   "metadata": {},
   "outputs": [],
   "source": [
    "import gzip\n",
    "from scipy import io\n",
    "from scipy.sparse import csc_matrix\n",
    "def load_v3_comp_sparse_feat_matrix(inst_path):\n",
    "    # Read Barcodes\n",
    "    ###########################\n",
    "    barcodes_cats = False\n",
    "\n",
    "    # barcodes\n",
    "    filename = inst_path + 'barcodes.tsv.gz'\n",
    "    f = gzip.open(filename, 'rt')\n",
    "    lines = f.readlines()\n",
    "    f.close()\n",
    "\n",
    "    barcodes = []\n",
    "    for inst_bc in lines:\n",
    "        inst_bc = inst_bc.strip().split('\\t')\n",
    "\n",
    "        if barcodes_cats == False:\n",
    "            # remove dash from barcodes if necessary\n",
    "            if '-' in inst_bc[0]:\n",
    "                inst_bc[0] = inst_bc[0].split('-')[0]\n",
    "\n",
    "        barcodes.append(inst_bc[0])\n",
    "\n",
    "    # parse tuples if necessary\n",
    "    if barcodes_cats:\n",
    "        try:\n",
    "            barcodes = [make_tuple(x) for x in barcodes]\n",
    "        except:\n",
    "            pass\n",
    "\n",
    "    # Load Matrix\n",
    "    #################\n",
    "    mat = io.mmread(inst_path + 'matrix.mtx.gz')\n",
    "    mat_csr = mat.tocsr()\n",
    "\n",
    "    # Get Indexes of Feature Types\n",
    "    ##################################\n",
    "    filename = inst_path + 'features.tsv.gz'\n",
    "    f = gzip.open(filename, 'rt')\n",
    "    lines = f.readlines()\n",
    "    f.close()\n",
    "\n",
    "    feature_indexes = {}\n",
    "    feature_lines = {}\n",
    "    for index in range(len(lines)):\n",
    "\n",
    "        inst_line = lines[index].strip().split('\\t')    \n",
    "        inst_feat = inst_line[2].replace('Gene Expression', 'gex').replace('Antibody Capture', 'adt')\n",
    "\n",
    "\n",
    "        if inst_feat not in feature_indexes:\n",
    "            feature_indexes[inst_feat] = []\n",
    "\n",
    "        feature_indexes[inst_feat].append(index)\n",
    "\n",
    "    feature_data = {}\n",
    "\n",
    "    for inst_feat in feature_indexes:\n",
    "        feature_data[inst_feat] = {}\n",
    "        \n",
    "        feature_data[inst_feat]['barcodes'] = barcodes\n",
    "\n",
    "        inst_indexes = feature_indexes[inst_feat]\n",
    "\n",
    "        # Separate feature lists\n",
    "        ser_lines = pd.Series(lines)\n",
    "        ser_lines_found = ser_lines[inst_indexes]\n",
    "        lines_found = ser_lines_found.get_values().tolist()\n",
    "\n",
    "        # save feature lines\n",
    "        feature_lines[inst_feat] = lines_found\n",
    "\n",
    "        # save as compressed sparse column matrix (for barcode filtering)\n",
    "        mat_filt = mat_csr[inst_indexes, :].tocsc()\n",
    "\n",
    "        feature_data[inst_feat]['mat'] = mat_filt\n",
    "\n",
    "    # Make unique feature names\n",
    "    for inst_feat in feature_lines:\n",
    "        feat_lines = feature_lines[inst_feat]\n",
    "        feat_lines = [x.strip().split('\\t') for x in feat_lines]\n",
    "\n",
    "        # find non-unique initial feature names (add id later if necessary)\n",
    "        ini_names = [x[1] for x in feat_lines]\n",
    "\n",
    "        ini_name_count = pd.Series(ini_names).value_counts()\n",
    "        duplicate_names = ini_name_count[ini_name_count > 1].index.tolist()    \n",
    "\n",
    "        new_names = [x[1] if x[1] not in duplicate_names else x[1] + '_' + x[0] for x in feat_lines]\n",
    "        \n",
    "        # quick hack to clean up names\n",
    "        new_names = [x.replace('_TotalSeqB', '') for x in new_names]\n",
    "\n",
    "        feature_data[inst_feat]['features'] = new_names\n",
    "        \n",
    "    return feature_data"
   ]
  },
  {
   "cell_type": "code",
   "execution_count": 24,
   "metadata": {},
   "outputs": [],
   "source": [
    "def plot_umi_levels(feature_data, feature_type='gex', logy=True, logx=False, \n",
    "                    figsize=(10,5), min_umi=0, max_umi=1e8, zscore_features=False):\n",
    "    '''\n",
    "    This function takes a feature data format or dictionary of DataFrames and plots\n",
    "    UMI levels\n",
    "    '''\n",
    "    \n",
    "    if 'mat' in feature_data[feature_type]:\n",
    "        mat_csc = feature_data[feature_type]['mat']\n",
    "        \n",
    "        if zscore_features:\n",
    "            print('z-scoring feature_data')            \n",
    "            inst_df = pd.DataFrame(data=mat_csc.todense(), columns=feature_data[feature_type]['barcodes'])\n",
    "\n",
    "            net.load_df(inst_df)\n",
    "            net.normalize(axis='row', norm_type='zscore')\n",
    "            inst_df = net.export_df()                \n",
    "\n",
    "            # sort            \n",
    "            ser_sum = inst_df.sum(axis=0).sort_values(ascending=False)\n",
    "            \n",
    "        else:\n",
    "            # drop cells with fewer than threshold events\n",
    "            ser_sum = mat_csc.sum(axis=0)\n",
    "            arr_sum = np.asarray(ser_sum[0,:])\n",
    "\n",
    "            # sort\n",
    "            ser_sum = pd.Series(arr_sum[0], index=feature_data[feature_type]['barcodes']).sort_values(ascending=False)\n",
    "\n",
    "        # filter\n",
    "        ser_sum = ser_sum[ser_sum >= min_umi]\n",
    "        ser_sum = ser_sum[ser_sum <= max_umi]\n",
    "        \n",
    "    else:\n",
    "        inst_df = feature_data[feature_type]\n",
    "        \n",
    "        if zscore_features:\n",
    "            print('zscore features')\n",
    "            net.load_df(inst_df)\n",
    "            net.normalize(axis='row', norm_type='zscore')\n",
    "            inst_df = net.export_df()\n",
    "            \n",
    "        # sort\n",
    "        ser_sum = inst_df.sum(axis=0).sort_values(ascending=False)\n",
    "        \n",
    "        # filter\n",
    "        ser_sum = ser_sum[ser_sum >= min_umi]\n",
    "        ser_sum = ser_sum[ser_sum <= max_umi]    \n",
    "        \n",
    "    ser_sum.plot(logy=logy, logx=logx, figsize=figsize)\n",
    "    return ser_sum"
   ]
  },
  {
   "cell_type": "code",
   "execution_count": 25,
   "metadata": {},
   "outputs": [],
   "source": [
    "def filter_barcodes_by_umi(feature_data, feature_type, min_umi=0, max_umi=1e8,\n",
    "                                      make_sparse=True, zscore_features=False):\n",
    "\n",
    "    # feature data format\n",
    "    ########################\n",
    "    if 'mat' in feature_data[feature_type]:\n",
    "        mat_csc = feature_data[feature_type]['mat']\n",
    "        \n",
    "        if zscore_features:\n",
    "            print('*** warning, z-scoring not supported in feature_data format')\n",
    "\n",
    "        # drop barcodes with fewer than threshold UMI\n",
    "        ser_sum = mat_csc.sum(axis=0)\n",
    "        arr_sum = np.asarray(ser_sum[0,:])\n",
    "        ser_sum = pd.Series(arr_sum[0]) \n",
    "        ser_keep = ser_sum[ser_sum >= min_umi]\n",
    "        ser_keep = ser_keep[ser_keep <= max_umi]\n",
    "\n",
    "        # these indexes will be used to filter all features\n",
    "        keep_indexes = ser_keep.index.tolist()\n",
    "\n",
    "        # filter barcodes\n",
    "        barcodes = feature_data[feature_type]['barcodes']\n",
    "        ser_barcodes = pd.Series(barcodes)\n",
    "        barcodes_filt = ser_barcodes[keep_indexes].get_values()    \n",
    "\n",
    "        # return Dictionary of DataFrames\n",
    "        filtered_data = {}\n",
    "        for inst_feat in feature_data:\n",
    "\n",
    "            inst_mat = feature_data[inst_feat]['mat']\n",
    "            mat_filt = inst_mat[:, keep_indexes]\n",
    "            feature_names = feature_data[inst_feat]['features']\n",
    "\n",
    "            inst_data = {}\n",
    "            inst_data['mat'] = mat_filt\n",
    "            inst_data['barcodes'] = barcodes_filt\n",
    "            inst_data['features'] = feature_names\n",
    "\n",
    "            filtered_data[inst_feat] = inst_data\n",
    "            \n",
    "    else:\n",
    "        # drop barcodes with fewer than threshold UMI\n",
    "        inst_df = feature_data[feature_type]\n",
    "        \n",
    "        if zscore_features:\n",
    "            print('z-scoring features')\n",
    "            net.load_df(inst_df)\n",
    "            net.normalize(axis='row', norm_type='zscore')\n",
    "            inst_df = net.export_df()\n",
    "        \n",
    "        ser_sum = inst_df.sum(axis=0)\n",
    "        ser_keep = ser_sum[ser_sum >= min_umi]\n",
    "        ser_keep = ser_keep[ser_keep <= max_umi]\n",
    "        keep_cols = ser_keep.index.tolist()\n",
    "        \n",
    "        # filter data\n",
    "        filtered_data = {}\n",
    "        for inst_feat in feature_data:\n",
    "            \n",
    "            filtered_data[inst_feat] = feature_data[inst_feat][keep_cols]\n",
    "        \n",
    "    return filtered_data"
   ]
  },
  {
   "cell_type": "code",
   "execution_count": 26,
   "metadata": {},
   "outputs": [],
   "source": [
    "def convert_feature_data_to_df_dict(feature_data, make_sparse=True):\n",
    "    # return Dictionary of DataFrames\n",
    "    df = {}\n",
    "    for inst_feat in feature_data:\n",
    "        \n",
    "        inst_mat = feature_data[inst_feat]['mat']\n",
    "        feature_names = feature_data[inst_feat]['features']\n",
    "        barcodes = feature_data[inst_feat]['barcodes']\n",
    "\n",
    "        if make_sparse:\n",
    "            inst_data = pd.SparseDataFrame(data=inst_mat, index=feature_names, columns=barcodes, default_fill_value=0)\n",
    "        else:\n",
    "            inst_data = pd.DataFrame(data=inst_mat.todense(), index=feature_names, columns=barcodes)\n",
    "                     \n",
    "        df[inst_feat] = inst_data    \n",
    "        \n",
    "    return df"
   ]
  },
  {
   "cell_type": "code",
   "execution_count": 27,
   "metadata": {},
   "outputs": [],
   "source": [
    "def check_feature_data_size(feature_data):\n",
    "    for inst_feat in feature_data:\n",
    "        print(inst_feat)\n",
    "        print(len(feature_data[inst_feat]['features']), len(feature_data[inst_feat]['barcodes']))\n",
    "        print(feature_data[inst_feat]['mat'].shape, '\\n')"
   ]
  },
  {
   "cell_type": "markdown",
   "metadata": {},
   "source": [
    "### Load Data"
   ]
  },
  {
   "cell_type": "code",
   "execution_count": 28,
   "metadata": {},
   "outputs": [
    {
     "name": "stdout",
     "output_type": "stream",
     "text": [
      "CPU times: user 29.5 s, sys: 666 ms, total: 30.2 s\n",
      "Wall time: 29.8 s\n"
     ]
    }
   ],
   "source": [
    "%%time\n",
    "feature_data = load_v3_comp_sparse_feat_matrix(inst_path)\n",
    "# print(feature_data['gex']['mat'].shape)"
   ]
  },
  {
   "cell_type": "markdown",
   "metadata": {},
   "source": [
    "### Clean ADT Features"
   ]
  },
  {
   "cell_type": "code",
   "execution_count": 29,
   "metadata": {},
   "outputs": [],
   "source": [
    "inst_features = feature_data['adt']['features']\n",
    "keep_indexes = []\n",
    "keep_features = []\n",
    "for inst_index in range(len(inst_features)):\n",
    "    inst_feature = inst_features[inst_index]\n",
    "    if '_control' not in inst_feature:\n",
    "        keep_indexes.append(inst_index)\n",
    "        keep_features.append(inst_feature)\n",
    "\n",
    "feature_data['adt']['features'] = keep_features\n",
    "feature_data['adt']['mat'] = feature_data['adt']['mat'][keep_indexes,:]"
   ]
  },
  {
   "cell_type": "code",
   "execution_count": 30,
   "metadata": {},
   "outputs": [
    {
     "name": "stdout",
     "output_type": "stream",
     "text": [
      "gex\n",
      "33538 7865\n",
      "(33538, 7865) \n",
      "\n",
      "adt\n",
      "14 7865\n",
      "(14, 7865) \n",
      "\n"
     ]
    }
   ],
   "source": [
    "check_feature_data_size(feature_data)"
   ]
  },
  {
   "cell_type": "markdown",
   "metadata": {},
   "source": [
    "### GEX UMI UMI > 100"
   ]
  },
  {
   "cell_type": "code",
   "execution_count": 31,
   "metadata": {},
   "outputs": [
    {
     "data": {
      "image/png": "[encoded data removed]",
      "text/plain": [
       "<Figure size 720x360 with 1 Axes>"
      ]
     },
     "metadata": {},
     "output_type": "display_data"
    }
   ],
   "source": [
    "ser_sum = plot_umi_levels(feature_data, feature_type='gex', min_umi=100)"
   ]
  },
  {
   "cell_type": "markdown",
   "metadata": {},
   "source": [
    "### Filtering\n",
    "Will also drop barcodes with more than 10,000 UMI."
   ]
  },
  {
   "cell_type": "markdown",
   "metadata": {},
   "source": [
    "### Filter Barcodes Based on GEX UMI Sum"
   ]
  },
  {
   "cell_type": "code",
   "execution_count": 32,
   "metadata": {},
   "outputs": [
    {
     "name": "stdout",
     "output_type": "stream",
     "text": [
      "CPU times: user 149 ms, sys: 48.3 ms, total: 197 ms\n",
      "Wall time: 196 ms\n"
     ]
    }
   ],
   "source": [
    "%%time\n",
    "feature_filtered = filter_barcodes_by_umi(feature_data, 'gex', min_umi=100, max_umi=100000000)"
   ]
  },
  {
   "cell_type": "code",
   "execution_count": 33,
   "metadata": {},
   "outputs": [
    {
     "name": "stdout",
     "output_type": "stream",
     "text": [
      "gex\n",
      "33538 7865\n",
      "(33538, 7865) \n",
      "\n",
      "adt\n",
      "14 7865\n",
      "(14, 7865) \n",
      "\n"
     ]
    }
   ],
   "source": [
    "check_feature_data_size(feature_filtered)"
   ]
  },
  {
   "cell_type": "code",
   "execution_count": 34,
   "metadata": {},
   "outputs": [],
   "source": [
    "def filter_ribo_mito_from_gex(df_ini):\n",
    "    df = deepcopy(df_ini)\n",
    "    all_genes = df.index.tolist()\n",
    "\n",
    "    keep_genes = [x for x in all_genes if 'RPL' not in x]\n",
    "    keep_genes = [x for x in keep_genes if 'RPS' not in x]\n",
    "\n",
    "\n",
    "    df = df.loc[keep_genes]\n",
    "\n",
    "    # Removing Mitochondrial Genes\n",
    "    list_mito_genes = ['MTRNR2L11', 'MTRF1', 'MTRNR2L12', 'MTRNR2L13', 'MTRF1L', 'MTRNR2L6', 'MTRNR2L7',\n",
    "                    'MTRNR2L10', 'MTRNR2L8', 'MTRNR2L5', 'MTRNR2L1', 'MTRNR2L3', 'MTRNR2L4']\n",
    "\n",
    "\n",
    "    all_genes = df.index.tolist()\n",
    "    mito_genes = [x for x in all_genes if 'MT-' == x[:3] or \n",
    "                 x.split('_')[0] in list_mito_genes]\n",
    "\n",
    "\n",
    "    keep_genes = [x for x in all_genes if x not in mito_genes]\n",
    "    df = df.loc[keep_genes]\n",
    "    return df"
   ]
  },
  {
   "cell_type": "code",
   "execution_count": 35,
   "metadata": {},
   "outputs": [
    {
     "name": "stdout",
     "output_type": "stream",
     "text": [
      "adt (14, 7865)\n",
      "gex (33538, 7865)\n",
      "CPU times: user 387 ms, sys: 598 ms, total: 985 ms\n",
      "Wall time: 1.4 s\n"
     ]
    }
   ],
   "source": [
    "%%time\n",
    "df = convert_feature_data_to_df_dict(feature_filtered, make_sparse=False)\n",
    "print('adt', df['adt'].shape)\n",
    "print('gex', df['gex'].shape)"
   ]
  },
  {
   "cell_type": "markdown",
   "metadata": {},
   "source": [
    "### Drop ribo and mito genes"
   ]
  },
  {
   "cell_type": "code",
   "execution_count": 36,
   "metadata": {},
   "outputs": [
    {
     "name": "stdout",
     "output_type": "stream",
     "text": [
      "(33538, 7865)\n",
      "(33320, 7865)\n"
     ]
    }
   ],
   "source": [
    "print(df['gex'].shape)\n",
    "df['gex-nrm'] = filter_ribo_mito_from_gex(df['gex'])\n",
    "print(df['gex-nrm'].shape)"
   ]
  },
  {
   "cell_type": "markdown",
   "metadata": {},
   "source": [
    "# Cytobank Exporting\n",
    "-----------------------------------\n",
    "* Make barcodes rows, change to using numeric indexes\n",
    "* Make surface markers columns\n",
    "* Add GEX and UMI Sum as Columns\n",
    "* Add 250 variable genes (excluding ribo and mito) to matrix\n"
   ]
  },
  {
   "cell_type": "code",
   "execution_count": 37,
   "metadata": {},
   "outputs": [],
   "source": [
    "df['adt-cyto'] = df['adt'].transpose()\n",
    "df['adt-cyto'] = df['adt-cyto'].reset_index(drop=True)\n",
    "\n",
    "df['gex-cyto'] = df['gex-nrm'].transpose()\n",
    "df['gex-cyto'] = df['gex-cyto'].reset_index(drop=True)"
   ]
  },
  {
   "cell_type": "code",
   "execution_count": 38,
   "metadata": {},
   "outputs": [
    {
     "data": {
      "text/plain": [
       "(7865, 14)"
      ]
     },
     "execution_count": 38,
     "metadata": {},
     "output_type": "execute_result"
    }
   ],
   "source": [
    "df['adt-cyto'].shape"
   ]
  },
  {
   "cell_type": "code",
   "execution_count": 39,
   "metadata": {},
   "outputs": [
    {
     "data": {
      "text/plain": [
       "(7865, 33320)"
      ]
     },
     "execution_count": 39,
     "metadata": {},
     "output_type": "execute_result"
    }
   ],
   "source": [
    "df['gex-cyto'].shape"
   ]
  },
  {
   "cell_type": "markdown",
   "metadata": {},
   "source": [
    "### Calculate GEX and ADT Sum"
   ]
  },
  {
   "cell_type": "code",
   "execution_count": 40,
   "metadata": {},
   "outputs": [
    {
     "data": {
      "text/plain": [
       "(7865,)"
      ]
     },
     "execution_count": 40,
     "metadata": {},
     "output_type": "execute_result"
    }
   ],
   "source": [
    "ser_gex_sum = df['gex-cyto'].sum(axis=1)\n",
    "ser_gex_sum.name = 'der_gex-umi-sum'\n",
    "ser_gex_sum.shape"
   ]
  },
  {
   "cell_type": "code",
   "execution_count": 41,
   "metadata": {},
   "outputs": [
    {
     "data": {
      "text/plain": [
       "(7865,)"
      ]
     },
     "execution_count": 41,
     "metadata": {},
     "output_type": "execute_result"
    }
   ],
   "source": [
    "ser_adt_sum = df['adt-cyto'].sum(axis=1)\n",
    "ser_adt_sum.name = 'der_adt-umi-sum'\n",
    "ser_adt_sum.shape"
   ]
  },
  {
   "cell_type": "markdown",
   "metadata": {},
   "source": [
    "### Get Top 250 Variable Genes"
   ]
  },
  {
   "cell_type": "code",
   "execution_count": 42,
   "metadata": {},
   "outputs": [
    {
     "data": {
      "text/plain": [
       "(7865, 250)"
      ]
     },
     "execution_count": 42,
     "metadata": {},
     "output_type": "execute_result"
    }
   ],
   "source": [
    "net.load_df(df['gex-cyto'])\n",
    "net.filter_N_top(inst_rc='col', N_top=250, rank_type='var')\n",
    "df['gex-var'] = net.export_df()\n",
    "df['gex-var'].columns = ['gex_' + x for x in df['gex-var'].columns]\n",
    "df['gex-var'].shape"
   ]
  },
  {
   "cell_type": "code",
   "execution_count": 43,
   "metadata": {},
   "outputs": [
    {
     "data": {
      "text/html": [
       "<div>\n",
       "<style scoped>\n",
       "    .dataframe tbody tr th:only-of-type {\n",
       "        vertical-align: middle;\n",
       "    }\n",
       "\n",
       "    .dataframe tbody tr th {\n",
       "        vertical-align: top;\n",
       "    }\n",
       "\n",
       "    .dataframe thead th {\n",
       "        text-align: right;\n",
       "    }\n",
       "</style>\n",
       "<table border=\"1\" class=\"dataframe\">\n",
       "  <thead>\n",
       "    <tr style=\"text-align: right;\">\n",
       "      <th></th>\n",
       "      <th>gex_IGKC</th>\n",
       "      <th>gex_IGHA1</th>\n",
       "      <th>gex_IGLC2</th>\n",
       "      <th>gex_IGLC3</th>\n",
       "      <th>gex_IGHM</th>\n",
       "      <th>gex_JCHAIN</th>\n",
       "      <th>gex_IGHA2</th>\n",
       "      <th>gex_IGHG2</th>\n",
       "      <th>gex_MALAT1</th>\n",
       "      <th>gex_S100A9</th>\n",
       "      <th>...</th>\n",
       "      <th>gex_HMGN1</th>\n",
       "      <th>gex_NCF1</th>\n",
       "      <th>gex_ELOB</th>\n",
       "      <th>gex_EIF3E</th>\n",
       "      <th>gex_PTGDS</th>\n",
       "      <th>gex_HLA-DQA2</th>\n",
       "      <th>gex_AQP3</th>\n",
       "      <th>gex_ARPC5</th>\n",
       "      <th>gex_PGK1</th>\n",
       "      <th>gex_GZMK</th>\n",
       "    </tr>\n",
       "  </thead>\n",
       "  <tbody>\n",
       "    <tr>\n",
       "      <th>0</th>\n",
       "      <td>1</td>\n",
       "      <td>1</td>\n",
       "      <td>0</td>\n",
       "      <td>0</td>\n",
       "      <td>0</td>\n",
       "      <td>0</td>\n",
       "      <td>0</td>\n",
       "      <td>0</td>\n",
       "      <td>97</td>\n",
       "      <td>154</td>\n",
       "      <td>...</td>\n",
       "      <td>1</td>\n",
       "      <td>5</td>\n",
       "      <td>5</td>\n",
       "      <td>0</td>\n",
       "      <td>0</td>\n",
       "      <td>0</td>\n",
       "      <td>0</td>\n",
       "      <td>6</td>\n",
       "      <td>1</td>\n",
       "      <td>0</td>\n",
       "    </tr>\n",
       "    <tr>\n",
       "      <th>1</th>\n",
       "      <td>1</td>\n",
       "      <td>0</td>\n",
       "      <td>0</td>\n",
       "      <td>0</td>\n",
       "      <td>0</td>\n",
       "      <td>0</td>\n",
       "      <td>0</td>\n",
       "      <td>0</td>\n",
       "      <td>49</td>\n",
       "      <td>309</td>\n",
       "      <td>...</td>\n",
       "      <td>0</td>\n",
       "      <td>1</td>\n",
       "      <td>8</td>\n",
       "      <td>4</td>\n",
       "      <td>0</td>\n",
       "      <td>1</td>\n",
       "      <td>0</td>\n",
       "      <td>1</td>\n",
       "      <td>3</td>\n",
       "      <td>0</td>\n",
       "    </tr>\n",
       "    <tr>\n",
       "      <th>2</th>\n",
       "      <td>0</td>\n",
       "      <td>1</td>\n",
       "      <td>0</td>\n",
       "      <td>0</td>\n",
       "      <td>0</td>\n",
       "      <td>0</td>\n",
       "      <td>0</td>\n",
       "      <td>0</td>\n",
       "      <td>50</td>\n",
       "      <td>92</td>\n",
       "      <td>...</td>\n",
       "      <td>0</td>\n",
       "      <td>3</td>\n",
       "      <td>4</td>\n",
       "      <td>0</td>\n",
       "      <td>0</td>\n",
       "      <td>0</td>\n",
       "      <td>0</td>\n",
       "      <td>2</td>\n",
       "      <td>3</td>\n",
       "      <td>0</td>\n",
       "    </tr>\n",
       "    <tr>\n",
       "      <th>3</th>\n",
       "      <td>0</td>\n",
       "      <td>0</td>\n",
       "      <td>0</td>\n",
       "      <td>0</td>\n",
       "      <td>0</td>\n",
       "      <td>0</td>\n",
       "      <td>0</td>\n",
       "      <td>0</td>\n",
       "      <td>66</td>\n",
       "      <td>0</td>\n",
       "      <td>...</td>\n",
       "      <td>0</td>\n",
       "      <td>0</td>\n",
       "      <td>0</td>\n",
       "      <td>1</td>\n",
       "      <td>0</td>\n",
       "      <td>0</td>\n",
       "      <td>0</td>\n",
       "      <td>0</td>\n",
       "      <td>0</td>\n",
       "      <td>0</td>\n",
       "    </tr>\n",
       "    <tr>\n",
       "      <th>4</th>\n",
       "      <td>2</td>\n",
       "      <td>0</td>\n",
       "      <td>0</td>\n",
       "      <td>0</td>\n",
       "      <td>0</td>\n",
       "      <td>0</td>\n",
       "      <td>0</td>\n",
       "      <td>0</td>\n",
       "      <td>137</td>\n",
       "      <td>0</td>\n",
       "      <td>...</td>\n",
       "      <td>0</td>\n",
       "      <td>0</td>\n",
       "      <td>2</td>\n",
       "      <td>0</td>\n",
       "      <td>2</td>\n",
       "      <td>0</td>\n",
       "      <td>0</td>\n",
       "      <td>1</td>\n",
       "      <td>0</td>\n",
       "      <td>0</td>\n",
       "    </tr>\n",
       "  </tbody>\n",
       "</table>\n",
       "<p>5 rows × 250 columns</p>\n",
       "</div>"
      ],
      "text/plain": [
       "   gex_IGKC  gex_IGHA1  gex_IGLC2  gex_IGLC3  gex_IGHM  gex_JCHAIN  gex_IGHA2  \\\n",
       "0         1          1          0          0         0           0          0   \n",
       "1         1          0          0          0         0           0          0   \n",
       "2         0          1          0          0         0           0          0   \n",
       "3         0          0          0          0         0           0          0   \n",
       "4         2          0          0          0         0           0          0   \n",
       "\n",
       "   gex_IGHG2  gex_MALAT1  gex_S100A9    ...     gex_HMGN1  gex_NCF1  gex_ELOB  \\\n",
       "0          0          97         154    ...             1         5         5   \n",
       "1          0          49         309    ...             0         1         8   \n",
       "2          0          50          92    ...             0         3         4   \n",
       "3          0          66           0    ...             0         0         0   \n",
       "4          0         137           0    ...             0         0         2   \n",
       "\n",
       "   gex_EIF3E  gex_PTGDS  gex_HLA-DQA2  gex_AQP3  gex_ARPC5  gex_PGK1  gex_GZMK  \n",
       "0          0          0             0         0          6         1         0  \n",
       "1          4          0             1         0          1         3         0  \n",
       "2          0          0             0         0          2         3         0  \n",
       "3          1          0             0         0          0         0         0  \n",
       "4          0          2             0         0          1         0         0  \n",
       "\n",
       "[5 rows x 250 columns]"
      ]
     },
     "execution_count": 43,
     "metadata": {},
     "output_type": "execute_result"
    }
   ],
   "source": [
    "df['gex-var'].head()"
   ]
  },
  {
   "cell_type": "markdown",
   "metadata": {},
   "source": [
    "### Merge Cytobank DataFrame"
   ]
  },
  {
   "cell_type": "code",
   "execution_count": 44,
   "metadata": {},
   "outputs": [],
   "source": [
    "df['cyto-ini'] = deepcopy(df['adt-cyto'])\n",
    "df['cyto-ini']['der_gex-umi-sum'] = ser_gex_sum\n",
    "df['cyto-ini']['der_adt-umi-sum'] = ser_adt_sum"
   ]
  },
  {
   "cell_type": "code",
   "execution_count": 45,
   "metadata": {},
   "outputs": [
    {
     "data": {
      "text/html": [
       "<div>\n",
       "<style scoped>\n",
       "    .dataframe tbody tr th:only-of-type {\n",
       "        vertical-align: middle;\n",
       "    }\n",
       "\n",
       "    .dataframe tbody tr th {\n",
       "        vertical-align: top;\n",
       "    }\n",
       "\n",
       "    .dataframe thead th {\n",
       "        text-align: right;\n",
       "    }\n",
       "</style>\n",
       "<table border=\"1\" class=\"dataframe\">\n",
       "  <thead>\n",
       "    <tr style=\"text-align: right;\">\n",
       "      <th></th>\n",
       "      <th>CD3</th>\n",
       "      <th>CD4</th>\n",
       "      <th>CD8a</th>\n",
       "      <th>CD14</th>\n",
       "      <th>CD15</th>\n",
       "      <th>CD16</th>\n",
       "      <th>CD56</th>\n",
       "      <th>CD19</th>\n",
       "      <th>CD25</th>\n",
       "      <th>CD45RA</th>\n",
       "      <th>CD45RO</th>\n",
       "      <th>PD-1</th>\n",
       "      <th>TIGIT</th>\n",
       "      <th>CD127</th>\n",
       "      <th>der_gex-umi-sum</th>\n",
       "      <th>der_adt-umi-sum</th>\n",
       "    </tr>\n",
       "  </thead>\n",
       "  <tbody>\n",
       "    <tr>\n",
       "      <th>0</th>\n",
       "      <td>18</td>\n",
       "      <td>138</td>\n",
       "      <td>13</td>\n",
       "      <td>491</td>\n",
       "      <td>61</td>\n",
       "      <td>17</td>\n",
       "      <td>17</td>\n",
       "      <td>3</td>\n",
       "      <td>9</td>\n",
       "      <td>110</td>\n",
       "      <td>74</td>\n",
       "      <td>9</td>\n",
       "      <td>4</td>\n",
       "      <td>7</td>\n",
       "      <td>4696</td>\n",
       "      <td>971</td>\n",
       "    </tr>\n",
       "    <tr>\n",
       "      <th>1</th>\n",
       "      <td>30</td>\n",
       "      <td>119</td>\n",
       "      <td>19</td>\n",
       "      <td>472</td>\n",
       "      <td>102</td>\n",
       "      <td>155</td>\n",
       "      <td>248</td>\n",
       "      <td>3</td>\n",
       "      <td>5</td>\n",
       "      <td>125</td>\n",
       "      <td>156</td>\n",
       "      <td>9</td>\n",
       "      <td>9</td>\n",
       "      <td>8</td>\n",
       "      <td>5018</td>\n",
       "      <td>1460</td>\n",
       "    </tr>\n",
       "    <tr>\n",
       "      <th>2</th>\n",
       "      <td>18</td>\n",
       "      <td>207</td>\n",
       "      <td>10</td>\n",
       "      <td>1289</td>\n",
       "      <td>128</td>\n",
       "      <td>72</td>\n",
       "      <td>26</td>\n",
       "      <td>8</td>\n",
       "      <td>15</td>\n",
       "      <td>5268</td>\n",
       "      <td>28</td>\n",
       "      <td>20</td>\n",
       "      <td>11</td>\n",
       "      <td>12</td>\n",
       "      <td>2767</td>\n",
       "      <td>7112</td>\n",
       "    </tr>\n",
       "    <tr>\n",
       "      <th>3</th>\n",
       "      <td>18</td>\n",
       "      <td>11</td>\n",
       "      <td>17</td>\n",
       "      <td>20</td>\n",
       "      <td>124</td>\n",
       "      <td>1227</td>\n",
       "      <td>491</td>\n",
       "      <td>5</td>\n",
       "      <td>15</td>\n",
       "      <td>4743</td>\n",
       "      <td>28</td>\n",
       "      <td>25</td>\n",
       "      <td>59</td>\n",
       "      <td>16</td>\n",
       "      <td>901</td>\n",
       "      <td>6799</td>\n",
       "    </tr>\n",
       "    <tr>\n",
       "      <th>4</th>\n",
       "      <td>5</td>\n",
       "      <td>14</td>\n",
       "      <td>14</td>\n",
       "      <td>19</td>\n",
       "      <td>156</td>\n",
       "      <td>1873</td>\n",
       "      <td>458</td>\n",
       "      <td>4</td>\n",
       "      <td>16</td>\n",
       "      <td>4108</td>\n",
       "      <td>21</td>\n",
       "      <td>28</td>\n",
       "      <td>76</td>\n",
       "      <td>17</td>\n",
       "      <td>2027</td>\n",
       "      <td>6809</td>\n",
       "    </tr>\n",
       "  </tbody>\n",
       "</table>\n",
       "</div>"
      ],
      "text/plain": [
       "   CD3  CD4  CD8a  CD14  CD15  CD16  CD56  CD19  CD25  CD45RA  CD45RO  PD-1  \\\n",
       "0   18  138    13   491    61    17    17     3     9     110      74     9   \n",
       "1   30  119    19   472   102   155   248     3     5     125     156     9   \n",
       "2   18  207    10  1289   128    72    26     8    15    5268      28    20   \n",
       "3   18   11    17    20   124  1227   491     5    15    4743      28    25   \n",
       "4    5   14    14    19   156  1873   458     4    16    4108      21    28   \n",
       "\n",
       "   TIGIT  CD127  der_gex-umi-sum  der_adt-umi-sum  \n",
       "0      4      7             4696              971  \n",
       "1      9      8             5018             1460  \n",
       "2     11     12             2767             7112  \n",
       "3     59     16              901             6799  \n",
       "4     76     17             2027             6809  "
      ]
     },
     "execution_count": 45,
     "metadata": {},
     "output_type": "execute_result"
    }
   ],
   "source": [
    "df['cyto-ini'].head()"
   ]
  },
  {
   "cell_type": "code",
   "execution_count": 46,
   "metadata": {},
   "outputs": [
    {
     "data": {
      "text/plain": [
       "(7865, 266)"
      ]
     },
     "execution_count": 46,
     "metadata": {},
     "output_type": "execute_result"
    }
   ],
   "source": [
    "df['cyto'] = pd.concat([df['cyto-ini'], df['gex-var']], axis=1)\n",
    "df['cyto'].shape"
   ]
  },
  {
   "cell_type": "code",
   "execution_count": 29,
   "metadata": {},
   "outputs": [
    {
     "data": {
      "text/html": [
       "<div>\n",
       "<style scoped>\n",
       "    .dataframe tbody tr th:only-of-type {\n",
       "        vertical-align: middle;\n",
       "    }\n",
       "\n",
       "    .dataframe tbody tr th {\n",
       "        vertical-align: top;\n",
       "    }\n",
       "\n",
       "    .dataframe thead th {\n",
       "        text-align: right;\n",
       "    }\n",
       "</style>\n",
       "<table border=\"1\" class=\"dataframe\">\n",
       "  <thead>\n",
       "    <tr style=\"text-align: right;\">\n",
       "      <th></th>\n",
       "      <th>CD3</th>\n",
       "      <th>CD4</th>\n",
       "      <th>CD8a</th>\n",
       "      <th>CD14</th>\n",
       "      <th>CD15</th>\n",
       "      <th>CD16</th>\n",
       "      <th>CD56</th>\n",
       "      <th>CD19</th>\n",
       "      <th>CD25</th>\n",
       "      <th>CD45RA</th>\n",
       "      <th>...</th>\n",
       "      <th>gex_UBB</th>\n",
       "      <th>gex_COX7B</th>\n",
       "      <th>gex_FKBP11</th>\n",
       "      <th>gex_NCF1</th>\n",
       "      <th>gex_HMGN1</th>\n",
       "      <th>gex_CD3E</th>\n",
       "      <th>gex_TMEM258</th>\n",
       "      <th>gex_PGK1</th>\n",
       "      <th>gex_FOSB</th>\n",
       "      <th>gex_PRELID1</th>\n",
       "    </tr>\n",
       "  </thead>\n",
       "  <tbody>\n",
       "    <tr>\n",
       "      <th>0</th>\n",
       "      <td>18</td>\n",
       "      <td>138</td>\n",
       "      <td>13</td>\n",
       "      <td>491</td>\n",
       "      <td>61</td>\n",
       "      <td>17</td>\n",
       "      <td>17</td>\n",
       "      <td>3</td>\n",
       "      <td>9</td>\n",
       "      <td>110</td>\n",
       "      <td>...</td>\n",
       "      <td>1</td>\n",
       "      <td>2</td>\n",
       "      <td>0</td>\n",
       "      <td>5</td>\n",
       "      <td>1</td>\n",
       "      <td>0</td>\n",
       "      <td>0</td>\n",
       "      <td>1</td>\n",
       "      <td>2</td>\n",
       "      <td>2</td>\n",
       "    </tr>\n",
       "    <tr>\n",
       "      <th>1</th>\n",
       "      <td>0</td>\n",
       "      <td>0</td>\n",
       "      <td>0</td>\n",
       "      <td>0</td>\n",
       "      <td>0</td>\n",
       "      <td>0</td>\n",
       "      <td>0</td>\n",
       "      <td>0</td>\n",
       "      <td>0</td>\n",
       "      <td>0</td>\n",
       "      <td>...</td>\n",
       "      <td>0</td>\n",
       "      <td>0</td>\n",
       "      <td>0</td>\n",
       "      <td>0</td>\n",
       "      <td>0</td>\n",
       "      <td>0</td>\n",
       "      <td>0</td>\n",
       "      <td>0</td>\n",
       "      <td>0</td>\n",
       "      <td>0</td>\n",
       "    </tr>\n",
       "    <tr>\n",
       "      <th>2</th>\n",
       "      <td>30</td>\n",
       "      <td>119</td>\n",
       "      <td>19</td>\n",
       "      <td>472</td>\n",
       "      <td>102</td>\n",
       "      <td>155</td>\n",
       "      <td>248</td>\n",
       "      <td>3</td>\n",
       "      <td>5</td>\n",
       "      <td>125</td>\n",
       "      <td>...</td>\n",
       "      <td>0</td>\n",
       "      <td>2</td>\n",
       "      <td>0</td>\n",
       "      <td>1</td>\n",
       "      <td>0</td>\n",
       "      <td>0</td>\n",
       "      <td>3</td>\n",
       "      <td>3</td>\n",
       "      <td>3</td>\n",
       "      <td>3</td>\n",
       "    </tr>\n",
       "    <tr>\n",
       "      <th>3</th>\n",
       "      <td>18</td>\n",
       "      <td>207</td>\n",
       "      <td>10</td>\n",
       "      <td>1289</td>\n",
       "      <td>128</td>\n",
       "      <td>72</td>\n",
       "      <td>26</td>\n",
       "      <td>8</td>\n",
       "      <td>15</td>\n",
       "      <td>5268</td>\n",
       "      <td>...</td>\n",
       "      <td>1</td>\n",
       "      <td>1</td>\n",
       "      <td>0</td>\n",
       "      <td>3</td>\n",
       "      <td>0</td>\n",
       "      <td>0</td>\n",
       "      <td>2</td>\n",
       "      <td>3</td>\n",
       "      <td>7</td>\n",
       "      <td>1</td>\n",
       "    </tr>\n",
       "    <tr>\n",
       "      <th>4</th>\n",
       "      <td>18</td>\n",
       "      <td>11</td>\n",
       "      <td>17</td>\n",
       "      <td>20</td>\n",
       "      <td>124</td>\n",
       "      <td>1227</td>\n",
       "      <td>491</td>\n",
       "      <td>5</td>\n",
       "      <td>15</td>\n",
       "      <td>4743</td>\n",
       "      <td>...</td>\n",
       "      <td>0</td>\n",
       "      <td>0</td>\n",
       "      <td>0</td>\n",
       "      <td>0</td>\n",
       "      <td>0</td>\n",
       "      <td>1</td>\n",
       "      <td>0</td>\n",
       "      <td>0</td>\n",
       "      <td>0</td>\n",
       "      <td>0</td>\n",
       "    </tr>\n",
       "  </tbody>\n",
       "</table>\n",
       "<p>5 rows × 266 columns</p>\n",
       "</div>"
      ],
      "text/plain": [
       "   CD3  CD4  CD8a  CD14  CD15  CD16  CD56  CD19  CD25  CD45RA     ...       \\\n",
       "0   18  138    13   491    61    17    17     3     9     110     ...        \n",
       "1    0    0     0     0     0     0     0     0     0       0     ...        \n",
       "2   30  119    19   472   102   155   248     3     5     125     ...        \n",
       "3   18  207    10  1289   128    72    26     8    15    5268     ...        \n",
       "4   18   11    17    20   124  1227   491     5    15    4743     ...        \n",
       "\n",
       "   gex_UBB  gex_COX7B  gex_FKBP11  gex_NCF1  gex_HMGN1  gex_CD3E  gex_TMEM258  \\\n",
       "0        1          2           0         5          1         0            0   \n",
       "1        0          0           0         0          0         0            0   \n",
       "2        0          2           0         1          0         0            3   \n",
       "3        1          1           0         3          0         0            2   \n",
       "4        0          0           0         0          0         1            0   \n",
       "\n",
       "   gex_PGK1  gex_FOSB  gex_PRELID1  \n",
       "0         1         2            2  \n",
       "1         0         0            0  \n",
       "2         3         3            3  \n",
       "3         3         7            1  \n",
       "4         0         0            0  \n",
       "\n",
       "[5 rows x 266 columns]"
      ]
     },
     "execution_count": 29,
     "metadata": {},
     "output_type": "execute_result"
    }
   ],
   "source": [
    "df['cyto'].head()"
   ]
  },
  {
   "cell_type": "code",
   "execution_count": 47,
   "metadata": {},
   "outputs": [],
   "source": [
    "# base_path = '../../data/big_data/5k_pbmc_raw_feature_v3-chem_v3.0.2-cr/cytobank_export/'\n",
    "# df['cyto'].to_csv(base_path + 'adt_umi-sum_250-var-gex.csv')"
   ]
  },
  {
   "cell_type": "markdown",
   "metadata": {},
   "source": [
    "### Save Cytobank Export Data with and without labels"
   ]
  },
  {
   "cell_type": "code",
   "execution_count": null,
   "metadata": {},
   "outputs": [],
   "source": []
  },
  {
   "cell_type": "code",
   "execution_count": null,
   "metadata": {},
   "outputs": [],
   "source": []
  },
  {
   "cell_type": "code",
   "execution_count": null,
   "metadata": {},
   "outputs": [],
   "source": []
  },
  {
   "cell_type": "markdown",
   "metadata": {},
   "source": [
    "### Save CytoBank Compatible Data"
   ]
  },
  {
   "cell_type": "code",
   "execution_count": 31,
   "metadata": {},
   "outputs": [],
   "source": [
    "base_path = '../../data/big_data/5k_pbmc_raw_feature_v3-chem_v3.0.2-cr/cytobank_export/'"
   ]
  },
  {
   "cell_type": "code",
   "execution_count": 32,
   "metadata": {},
   "outputs": [],
   "source": [
    "for inst_type in ['adt']:\n",
    "    df_mat = pd.DataFrame(feature_filtered[inst_type]['mat'].todense())\n",
    "    df_mat.to_csv(base_path + inst_type + '_data.csv')\n",
    "    df_mat.transpose().to_csv(base_path + inst_type + '-t_data.csv')\n",
    "    \n",
    "    pd.DataFrame(feature_filtered[inst_type]['features']).to_csv(base_path + inst_type + '_features.csv')\n",
    "    pd.DataFrame(feature_filtered[inst_type]['barcodes']).to_csv(base_path + inst_type + '_barcodes.csv')"
   ]
  },
  {
   "cell_type": "markdown",
   "metadata": {},
   "source": [
    "### ADT Levels Z-scored"
   ]
  },
  {
   "cell_type": "code",
   "execution_count": 48,
   "metadata": {},
   "outputs": [
    {
     "name": "stdout",
     "output_type": "stream",
     "text": [
      "zscore features\n",
      "(7767,)\n"
     ]
    },
    {
     "data": {
      "image/png": "[encoded data removed]",
      "text/plain": [
       "<Figure size 720x360 with 1 Axes>"
      ]
     },
     "metadata": {},
     "output_type": "display_data"
    }
   ],
   "source": [
    "ser_sum = plot_umi_levels(df, feature_type='adt', zscore_features=True, logy=False, \n",
    "                          max_umi=30, min_umi=-6)\n",
    "print(ser_sum.shape)"
   ]
  },
  {
   "cell_type": "markdown",
   "metadata": {},
   "source": [
    "Set max sum Z-scored UMI level to 20 and min to -4"
   ]
  },
  {
   "cell_type": "code",
   "execution_count": 55,
   "metadata": {},
   "outputs": [
    {
     "name": "stdout",
     "output_type": "stream",
     "text": [
      "z-scoring features\n"
     ]
    },
    {
     "ename": "KeyError",
     "evalue": "\"['AAACCCAGTACCGCGT' 'AAACCCAGTATCGAAA' 'AAACCCAGTCGTCATA' ...\\n 'TTTGTTGGTTGCATGT' 'TTTGTTGTCGAGTGAG' 'TTTGTTGTCGTTCAGA'] not in index\"",
     "output_type": "error",
     "traceback": [
      "\u001b[0;31m---------------------------------------------------------------------------\u001b[0m",
      "\u001b[0;31mKeyError\u001b[0m                                  Traceback (most recent call last)",
      "\u001b[0;32m<timed exec>\u001b[0m in \u001b[0;36m<module>\u001b[0;34m()\u001b[0m\n",
      "\u001b[0;32m<ipython-input-25-2a98bd7d76ea>\u001b[0m in \u001b[0;36mfilter_barcodes_by_umi\u001b[0;34m(feature_data, feature_type, min_umi, max_umi, make_sparse, zscore_features)\u001b[0m\n\u001b[1;32m     59\u001b[0m         \u001b[0;32mfor\u001b[0m \u001b[0minst_feat\u001b[0m \u001b[0;32min\u001b[0m \u001b[0mfeature_data\u001b[0m\u001b[0;34m:\u001b[0m\u001b[0;34m\u001b[0m\u001b[0m\n\u001b[1;32m     60\u001b[0m \u001b[0;34m\u001b[0m\u001b[0m\n\u001b[0;32m---> 61\u001b[0;31m             \u001b[0mfiltered_data\u001b[0m\u001b[0;34m[\u001b[0m\u001b[0minst_feat\u001b[0m\u001b[0;34m]\u001b[0m \u001b[0;34m=\u001b[0m \u001b[0mfeature_data\u001b[0m\u001b[0;34m[\u001b[0m\u001b[0minst_feat\u001b[0m\u001b[0;34m]\u001b[0m\u001b[0;34m[\u001b[0m\u001b[0mkeep_cols\u001b[0m\u001b[0;34m]\u001b[0m\u001b[0;34m\u001b[0m\u001b[0m\n\u001b[0m\u001b[1;32m     62\u001b[0m \u001b[0;34m\u001b[0m\u001b[0m\n\u001b[1;32m     63\u001b[0m     \u001b[0;32mreturn\u001b[0m \u001b[0mfiltered_data\u001b[0m\u001b[0;34m\u001b[0m\u001b[0m\n",
      "\u001b[0;32m~/anaconda3/lib/python3.6/site-packages/pandas/core/frame.py\u001b[0m in \u001b[0;36m__getitem__\u001b[0;34m(self, key)\u001b[0m\n\u001b[1;32m   2677\u001b[0m         \u001b[0;32mif\u001b[0m \u001b[0misinstance\u001b[0m\u001b[0;34m(\u001b[0m\u001b[0mkey\u001b[0m\u001b[0;34m,\u001b[0m \u001b[0;34m(\u001b[0m\u001b[0mSeries\u001b[0m\u001b[0;34m,\u001b[0m \u001b[0mnp\u001b[0m\u001b[0;34m.\u001b[0m\u001b[0mndarray\u001b[0m\u001b[0;34m,\u001b[0m \u001b[0mIndex\u001b[0m\u001b[0;34m,\u001b[0m \u001b[0mlist\u001b[0m\u001b[0;34m)\u001b[0m\u001b[0;34m)\u001b[0m\u001b[0;34m:\u001b[0m\u001b[0;34m\u001b[0m\u001b[0m\n\u001b[1;32m   2678\u001b[0m             \u001b[0;31m# either boolean or fancy integer index\u001b[0m\u001b[0;34m\u001b[0m\u001b[0;34m\u001b[0m\u001b[0m\n\u001b[0;32m-> 2679\u001b[0;31m             \u001b[0;32mreturn\u001b[0m \u001b[0mself\u001b[0m\u001b[0;34m.\u001b[0m\u001b[0m_getitem_array\u001b[0m\u001b[0;34m(\u001b[0m\u001b[0mkey\u001b[0m\u001b[0;34m)\u001b[0m\u001b[0;34m\u001b[0m\u001b[0m\n\u001b[0m\u001b[1;32m   2680\u001b[0m         \u001b[0;32melif\u001b[0m \u001b[0misinstance\u001b[0m\u001b[0;34m(\u001b[0m\u001b[0mkey\u001b[0m\u001b[0;34m,\u001b[0m \u001b[0mDataFrame\u001b[0m\u001b[0;34m)\u001b[0m\u001b[0;34m:\u001b[0m\u001b[0;34m\u001b[0m\u001b[0m\n\u001b[1;32m   2681\u001b[0m             \u001b[0;32mreturn\u001b[0m \u001b[0mself\u001b[0m\u001b[0;34m.\u001b[0m\u001b[0m_getitem_frame\u001b[0m\u001b[0;34m(\u001b[0m\u001b[0mkey\u001b[0m\u001b[0;34m)\u001b[0m\u001b[0;34m\u001b[0m\u001b[0m\n",
      "\u001b[0;32m~/anaconda3/lib/python3.6/site-packages/pandas/core/frame.py\u001b[0m in \u001b[0;36m_getitem_array\u001b[0;34m(self, key)\u001b[0m\n\u001b[1;32m   2721\u001b[0m             \u001b[0;32mreturn\u001b[0m \u001b[0mself\u001b[0m\u001b[0;34m.\u001b[0m\u001b[0m_take\u001b[0m\u001b[0;34m(\u001b[0m\u001b[0mindexer\u001b[0m\u001b[0;34m,\u001b[0m \u001b[0maxis\u001b[0m\u001b[0;34m=\u001b[0m\u001b[0;36m0\u001b[0m\u001b[0;34m)\u001b[0m\u001b[0;34m\u001b[0m\u001b[0m\n\u001b[1;32m   2722\u001b[0m         \u001b[0;32melse\u001b[0m\u001b[0;34m:\u001b[0m\u001b[0;34m\u001b[0m\u001b[0m\n\u001b[0;32m-> 2723\u001b[0;31m             \u001b[0mindexer\u001b[0m \u001b[0;34m=\u001b[0m \u001b[0mself\u001b[0m\u001b[0;34m.\u001b[0m\u001b[0mloc\u001b[0m\u001b[0;34m.\u001b[0m\u001b[0m_convert_to_indexer\u001b[0m\u001b[0;34m(\u001b[0m\u001b[0mkey\u001b[0m\u001b[0;34m,\u001b[0m \u001b[0maxis\u001b[0m\u001b[0;34m=\u001b[0m\u001b[0;36m1\u001b[0m\u001b[0;34m)\u001b[0m\u001b[0;34m\u001b[0m\u001b[0m\n\u001b[0m\u001b[1;32m   2724\u001b[0m             \u001b[0;32mreturn\u001b[0m \u001b[0mself\u001b[0m\u001b[0;34m.\u001b[0m\u001b[0m_take\u001b[0m\u001b[0;34m(\u001b[0m\u001b[0mindexer\u001b[0m\u001b[0;34m,\u001b[0m \u001b[0maxis\u001b[0m\u001b[0;34m=\u001b[0m\u001b[0;36m1\u001b[0m\u001b[0;34m)\u001b[0m\u001b[0;34m\u001b[0m\u001b[0m\n\u001b[1;32m   2725\u001b[0m \u001b[0;34m\u001b[0m\u001b[0m\n",
      "\u001b[0;32m~/anaconda3/lib/python3.6/site-packages/pandas/core/indexing.py\u001b[0m in \u001b[0;36m_convert_to_indexer\u001b[0;34m(self, obj, axis, is_setter)\u001b[0m\n\u001b[1;32m   1325\u001b[0m                 \u001b[0;32mif\u001b[0m \u001b[0mmask\u001b[0m\u001b[0;34m.\u001b[0m\u001b[0many\u001b[0m\u001b[0;34m(\u001b[0m\u001b[0;34m)\u001b[0m\u001b[0;34m:\u001b[0m\u001b[0;34m\u001b[0m\u001b[0m\n\u001b[1;32m   1326\u001b[0m                     raise KeyError('{mask} not in index'\n\u001b[0;32m-> 1327\u001b[0;31m                                    .format(mask=objarr[mask]))\n\u001b[0m\u001b[1;32m   1328\u001b[0m \u001b[0;34m\u001b[0m\u001b[0m\n\u001b[1;32m   1329\u001b[0m                 \u001b[0;32mreturn\u001b[0m \u001b[0mcom\u001b[0m\u001b[0;34m.\u001b[0m\u001b[0m_values_from_object\u001b[0m\u001b[0;34m(\u001b[0m\u001b[0mindexer\u001b[0m\u001b[0;34m)\u001b[0m\u001b[0;34m\u001b[0m\u001b[0m\n",
      "\u001b[0;31mKeyError\u001b[0m: \"['AAACCCAGTACCGCGT' 'AAACCCAGTATCGAAA' 'AAACCCAGTCGTCATA' ...\\n 'TTTGTTGGTTGCATGT' 'TTTGTTGTCGAGTGAG' 'TTTGTTGTCGTTCAGA'] not in index\""
     ]
    }
   ],
   "source": [
    "%%time\n",
    "df = filter_barcodes_by_umi(df, 'adt', min_umi=-4, max_umi=20, zscore_features=True, make_sparse=False)"
   ]
  },
  {
   "cell_type": "code",
   "execution_count": 50,
   "metadata": {},
   "outputs": [
    {
     "data": {
      "text/plain": [
       "(14, 7865)"
      ]
     },
     "execution_count": 50,
     "metadata": {},
     "output_type": "execute_result"
    }
   ],
   "source": [
    "df['adt'].shape"
   ]
  },
  {
   "cell_type": "code",
   "execution_count": 51,
   "metadata": {},
   "outputs": [
    {
     "data": {
      "text/plain": [
       "(33538, 7865)"
      ]
     },
     "execution_count": 51,
     "metadata": {},
     "output_type": "execute_result"
    }
   ],
   "source": [
    "df['gex'].shape"
   ]
  },
  {
   "cell_type": "code",
   "execution_count": 52,
   "metadata": {},
   "outputs": [],
   "source": [
    "df['adt-ash'] = np.arcsinh(df['adt']/5)\n",
    "df['adt-ash'].shape\n",
    "df['adt-ash'].columns = [(x,) for x in df['adt-ash'].columns]"
   ]
  },
  {
   "cell_type": "code",
   "execution_count": 53,
   "metadata": {},
   "outputs": [
    {
     "data": {
      "application/vnd.jupyter.widget-view+json": {
       "model_id": "2f480d681de848f88c7a1a839b40c11e",
       "version_major": 2,
       "version_minor": 0
      },
      "text/plain": [
       "ExampleWidget(network='{\"row_nodes\": [{\"name\": \"CD3\", \"ini\": 14, \"clust\": 12, \"rank\": 12, \"rankvar\": 13, \"grou…"
      ]
     },
     "metadata": {},
     "output_type": "display_data"
    }
   ],
   "source": [
    "net.load_df(df['adt-ash'])\n",
    "net.cluster()\n",
    "net.dendro_cats(axis='col', dendro_level=4)\n",
    "net.cluster()\n",
    "net.widget()"
   ]
  },
  {
   "cell_type": "code",
   "execution_count": 54,
   "metadata": {
    "scrolled": false
   },
   "outputs": [
    {
     "data": {
      "application/vnd.jupyter.widget-view+json": {
       "model_id": "9b422376336542ae8c6404eea5bdc70e",
       "version_major": 2,
       "version_minor": 0
      },
      "text/plain": [
       "ExampleWidget(network='{\"row_nodes\": [{\"name\": \"CD3\", \"ini\": 14, \"clust\": 9, \"rank\": 11, \"rankvar\": 9, \"group\"…"
      ]
     },
     "metadata": {},
     "output_type": "display_data"
    }
   ],
   "source": [
    "net.load_df(df['adt-ash'])\n",
    "net.normalize(axis='row', norm_type='zscore')\n",
    "net.cluster()\n",
    "net.dendro_cats(axis='col', dendro_level=4)\n",
    "net.cluster()\n",
    "net.widget()"
   ]
  },
  {
   "cell_type": "markdown",
   "metadata": {},
   "source": [
    "## Cell Types\n",
    "\n",
    "1: CD8 T Cells\n",
    "\n",
    "2: CD4+ CD45RO+ T Cells\n",
    "\n",
    "3: CD4+ CD45RA+ T Cells \n",
    "\n",
    "4: Myeloid (CD14)\n",
    "\n",
    "5: CD15+ CD16+\n",
    "\n",
    "6: NK Cells (CD56, CD16)\n",
    "\n",
    "7: B Cells (CD19)\n",
    "\n",
    "CD15 granulocyte, mcarophage monocyte"
   ]
  },
  {
   "cell_type": "code",
   "execution_count": 40,
   "metadata": {},
   "outputs": [],
   "source": [
    "df['adt-cat'] = net.export_df()\n",
    "df['adt-ash-cat'] = deepcopy(df['adt-cat'])\n",
    "df['adt-ash-cat'].columns = df['adt-cat'].columns.tolist()"
   ]
  },
  {
   "cell_type": "code",
   "execution_count": 41,
   "metadata": {},
   "outputs": [
    {
     "data": {
      "application/vnd.jupyter.widget-view+json": {
       "model_id": "37b19cb5b6234f9da04470328468f9d2",
       "version_major": 2,
       "version_minor": 0
      },
      "text/plain": [
       "ExampleWidget(network='{\"row_nodes\": [{\"name\": \"CD3\", \"ini\": 14, \"clust\": 12, \"rank\": 8, \"rankvar\": 0, \"group\"…"
      ]
     },
     "metadata": {},
     "output_type": "display_data"
    }
   ],
   "source": [
    "net.load_df(df['adt-ash-cat'])\n",
    "net.widget()"
   ]
  },
  {
   "cell_type": "code",
   "execution_count": 42,
   "metadata": {},
   "outputs": [
    {
     "name": "stdout",
     "output_type": "stream",
     "text": [
      "<class 'pandas.core.frame.DataFrame'>\n",
      "Index: 33538 entries, MIR1302-2HG to FAM231C\n",
      "Columns: 9679 entries, AAACCCAAGATTGTGA to TTTGTTGTCGTTCAGA\n",
      "dtypes: int64(9679)\n",
      "memory usage: 2.4+ GB\n"
     ]
    }
   ],
   "source": [
    "df['gex'].info()"
   ]
  },
  {
   "cell_type": "code",
   "execution_count": 43,
   "metadata": {},
   "outputs": [
    {
     "name": "stdout",
     "output_type": "stream",
     "text": [
      "<class 'pandas.core.frame.DataFrame'>\n",
      "Index: 14 entries, CD3 to CD127\n",
      "Columns: 9679 entries, AAACCCAAGATTGTGA to TTTGTTGTCGTTCAGA\n",
      "dtypes: int64(9679)\n",
      "memory usage: 1.0+ MB\n"
     ]
    }
   ],
   "source": [
    "df['adt'].info()"
   ]
  },
  {
   "cell_type": "markdown",
   "metadata": {},
   "source": [
    "### Transfer Categories"
   ]
  },
  {
   "cell_type": "code",
   "execution_count": 44,
   "metadata": {},
   "outputs": [
    {
     "data": {
      "text/plain": [
       "[('AAACCCAAGATTGTGA', 'Group 4: cat-5'),\n",
       " ('AAACCCAAGGCCTGCT', 'Group 4: cat-1'),\n",
       " ('AAACCCACATCGGTTA', 'Group 4: cat-5')]"
      ]
     },
     "execution_count": 44,
     "metadata": {},
     "output_type": "execute_result"
    }
   ],
   "source": [
    "\n",
    "cat_cols = df['adt-cat'].columns.tolist()\n",
    "cat_cols[:3]"
   ]
  },
  {
   "cell_type": "code",
   "execution_count": 45,
   "metadata": {},
   "outputs": [],
   "source": [
    "df['gex-cat'] = deepcopy(df['gex'])\n",
    "df['gex-cat'].columns = cat_cols"
   ]
  },
  {
   "cell_type": "code",
   "execution_count": 46,
   "metadata": {},
   "outputs": [
    {
     "data": {
      "application/vnd.jupyter.widget-view+json": {
       "model_id": "29a8c8dbfe3d40c795d1d734beb69102",
       "version_major": 2,
       "version_minor": 0
      },
      "text/plain": [
       "ExampleWidget(network='{\"row_nodes\": [{\"name\": \"IGKC\", \"ini\": 100, \"clust\": 26, \"rank\": 48, \"rankvar\": 20, \"gr…"
      ]
     },
     "metadata": {},
     "output_type": "display_data"
    }
   ],
   "source": [
    "net.load_df(df['gex-cat'])\n",
    "net.filter_N_top(inst_rc='row', rank_type='var', N_top=100)\n",
    "net.normalize(axis='row', norm_type='zscore')\n",
    "net.widget()"
   ]
  },
  {
   "cell_type": "code",
   "execution_count": null,
   "metadata": {},
   "outputs": [],
   "source": []
  }
 ],
 "metadata": {
  "kernelspec": {
   "display_name": "Python 3",
   "language": "python",
   "name": "python3"
  },
  "language_info": {
   "codemirror_mode": {
    "name": "ipython",
    "version": 3
   },
   "file_extension": ".py",
   "mimetype": "text/x-python",
   "name": "python",
   "nbconvert_exporter": "python",
   "pygments_lexer": "ipython3",
   "version": "3.6.5"
  }
 },
 "nbformat": 4,
 "nbformat_minor": 2
}
