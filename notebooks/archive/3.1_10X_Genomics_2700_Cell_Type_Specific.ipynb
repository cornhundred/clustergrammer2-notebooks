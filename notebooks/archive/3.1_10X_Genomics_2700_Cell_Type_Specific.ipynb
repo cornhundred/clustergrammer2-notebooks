{
 "cells": [
  {
   "cell_type": "markdown",
   "metadata": {},
   "source": [
    "# 3.1 10X Genomics 2,700 Cell Type Specific "
   ]
  },
  {
   "cell_type": "code",
   "execution_count": 1,
   "metadata": {},
   "outputs": [
    {
     "name": "stdout",
     "output_type": "stream",
     "text": [
      "clustergrammer2 backend version 0.2.9\n"
     ]
    }
   ],
   "source": [
    "from clustergrammer2 import net\n",
    "\n",
    "df = {}\n",
    "import clustergrammer_groupby as cby\n",
    "import gene_exp_10x"
   ]
  },
  {
   "cell_type": "code",
   "execution_count": 2,
   "metadata": {},
   "outputs": [],
   "source": [
    "from sklearn.metrics import f1_score\n",
    "import pandas as pd\n",
    "import numpy as np\n",
    "from copy import deepcopy\n",
    "\n",
    "import matplotlib.pyplot as plt\n",
    "%matplotlib inline "
   ]
  },
  {
   "cell_type": "code",
   "execution_count": 3,
   "metadata": {},
   "outputs": [],
   "source": [
    "def calc_mean_var_disp(df_inst):\n",
    "    mean_arr = []\n",
    "    var_arr = []\n",
    "    mean_names = []\n",
    "    for inst_gene in df_inst.index.tolist():\n",
    "        mean_arr.append( df_inst.loc[inst_gene].mean() )\n",
    "        var_arr.append(df_inst.loc[inst_gene].var())\n",
    "        mean_names.append(inst_gene)\n",
    "\n",
    "    ser_mean = pd.Series(data=mean_arr, index=mean_names)\n",
    "    ser_var = pd.Series(data=var_arr, index=mean_names)    \n",
    "    return ser_mean, ser_var"
   ]
  },
  {
   "cell_type": "code",
   "execution_count": 4,
   "metadata": {},
   "outputs": [],
   "source": [
    "def cell_umi_count(df):\n",
    "    sum_arr = []\n",
    "    sum_names = []\n",
    "    for inst_cell in df:\n",
    "        sum_arr.append( df[inst_cell].sum() )\n",
    "        sum_names.append(inst_cell)\n",
    "    \n",
    "    ser_sum = pd.Series(data=sum_arr, index=sum_names)\n",
    "    return ser_sum"
   ]
  },
  {
   "cell_type": "markdown",
   "metadata": {},
   "source": [
    "### Load Data"
   ]
  },
  {
   "cell_type": "code",
   "execution_count": 5,
   "metadata": {},
   "outputs": [
    {
     "data": {
      "text/plain": [
       "(32738, 2700)"
      ]
     },
     "execution_count": 5,
     "metadata": {},
     "output_type": "execute_result"
    }
   ],
   "source": [
    "df = gene_exp_10x.load_gene_exp_to_df('../data/pbmc3k_filtered_gene_bc_matrices/hg19/')\n",
    "df.shape"
   ]
  },
  {
   "cell_type": "markdown",
   "metadata": {},
   "source": [
    "### Remove Ribosomal and Mitochondrial Genes"
   ]
  },
  {
   "cell_type": "code",
   "execution_count": 6,
   "metadata": {},
   "outputs": [
    {
     "name": "stdout",
     "output_type": "stream",
     "text": [
      "32738\n",
      "32546\n",
      "['MTRNR2L11', 'MTRNR2L12', 'MTRNR2L13', 'MTRF1L', 'MTRNR2L6', 'MTRNR2L10', 'MTRNR2L7', 'MTRNR2L5', 'MTRNR2L8', 'MTRF1', 'MTRNR2L4', 'MTRNR2L1', 'MTRNR2L3', 'MT-ND1', 'MT-ND2', 'MT-CO1', 'MT-CO2', 'MT-ATP8', 'MT-ATP6', 'MT-CO3', 'MT-ND3', 'MT-ND4L', 'MT-ND4', 'MT-ND5', 'MT-ND6', 'MT-CYB']\n"
     ]
    }
   ],
   "source": [
    "all_genes = df.index.tolist()\n",
    "print(len(all_genes))\n",
    "keep_genes = [x for x in all_genes if 'RPL' not in x]\n",
    "keep_genes = [x for x in keep_genes if 'RPS' not in x]\n",
    "print(len(keep_genes))\n",
    "\n",
    "df = df.loc[keep_genes]\n",
    "df.shape\n",
    "\n",
    "# Removing Mitochondrial Genes\n",
    "list_mito_genes = ['MTRNR2L11', 'MTRF1', 'MTRNR2L12', 'MTRNR2L13', 'MTRF1L', 'MTRNR2L6', 'MTRNR2L7',\n",
    "                'MTRNR2L10', 'MTRNR2L8', 'MTRNR2L5', 'MTRNR2L1', 'MTRNR2L3', 'MTRNR2L4']\n",
    "\n",
    "all_genes = df.index.tolist()\n",
    "mito_genes = [x for x in all_genes if 'MT-' == x[:3] or \n",
    "             x.split('_')[0] in list_mito_genes]\n",
    "print(mito_genes)\n",
    "\n",
    "keep_genes = [x for x in all_genes if x not in mito_genes]\n",
    "df = df.loc[keep_genes]"
   ]
  },
  {
   "cell_type": "markdown",
   "metadata": {},
   "source": [
    "### UMI Normalize GEX Data"
   ]
  },
  {
   "cell_type": "code",
   "execution_count": 7,
   "metadata": {},
   "outputs": [
    {
     "name": "stdout",
     "output_type": "stream",
     "text": [
      "(32520, 2700)\n",
      "AAACATACAACCAC    1.0\n",
      "AAACATTGAGCTAC    1.0\n",
      "AAACATTGATCAGC    1.0\n",
      "AAACCGTGCTTCCG    1.0\n",
      "AAACCGTGTATGCG    1.0\n",
      "dtype: float64\n"
     ]
    }
   ],
   "source": [
    "ser_sum = cell_umi_count(df)\n",
    "df = df.div(ser_sum)\n",
    "print(df.shape)\n",
    "print(df.sum().head())"
   ]
  },
  {
   "cell_type": "markdown",
   "metadata": {},
   "source": [
    "### Add CIBERSORT Cell Type Predictions"
   ]
  },
  {
   "cell_type": "code",
   "execution_count": 8,
   "metadata": {},
   "outputs": [],
   "source": [
    "# load json to dict\n",
    "def load_to_dict( filename ):\n",
    "  import json\n",
    "  # load\n",
    "  f = open(filename,'r')\n",
    "  inst_dict = json.load(f)\n",
    "  f.close()\n",
    "  return inst_dict"
   ]
  },
  {
   "cell_type": "code",
   "execution_count": 9,
   "metadata": {},
   "outputs": [],
   "source": [
    "ct_type = load_to_dict('../data/pbmc3k_cibersort_ct_predict.json')"
   ]
  },
  {
   "cell_type": "code",
   "execution_count": 10,
   "metadata": {},
   "outputs": [],
   "source": [
    "cols = df.columns.tolist()\n",
    "new_cols = [(x, ct_type[x]) for x in cols]\n",
    "df.columns = new_cols"
   ]
  },
  {
   "cell_type": "code",
   "execution_count": 11,
   "metadata": {},
   "outputs": [
    {
     "data": {
      "text/html": [
       "<div>\n",
       "<style scoped>\n",
       "    .dataframe tbody tr th:only-of-type {\n",
       "        vertical-align: middle;\n",
       "    }\n",
       "\n",
       "    .dataframe tbody tr th {\n",
       "        vertical-align: top;\n",
       "    }\n",
       "\n",
       "    .dataframe thead th {\n",
       "        text-align: right;\n",
       "    }\n",
       "</style>\n",
       "<table border=\"1\" class=\"dataframe\">\n",
       "  <thead>\n",
       "    <tr style=\"text-align: right;\">\n",
       "      <th></th>\n",
       "      <th>(AAACATACAACCAC, Cell Type: T cells CD8)</th>\n",
       "      <th>(AAACATTGAGCTAC, Cell Type: B cells memory)</th>\n",
       "      <th>(AAACATTGATCAGC, Cell Type: T cells follicular helper)</th>\n",
       "      <th>(AAACCGTGCTTCCG, Cell Type: Monocytes)</th>\n",
       "      <th>(AAACCGTGTATGCG, Cell Type: NK cells activated)</th>\n",
       "      <th>(AAACGCACTGGTAC, Cell Type: T cells regulatory (Tregs))</th>\n",
       "      <th>(AAACGCTGACCAGT, Cell Type: Dendritic cells resting)</th>\n",
       "      <th>(AAACGCTGGTTCTT, Cell Type: T cells gamma delta)</th>\n",
       "      <th>(AAACGCTGTAGCCA, Cell Type: T cells CD4 memory resting)</th>\n",
       "      <th>(AAACGCTGTTTCTG, Cell Type: Neutrophils)</th>\n",
       "      <th>...</th>\n",
       "      <th>(TTTCAGTGTCACGA, Cell Type: B cells naive)</th>\n",
       "      <th>(TTTCAGTGTCTATC, Cell Type: Macrophages M2)</th>\n",
       "      <th>(TTTCAGTGTGCAGT, Cell Type: B cells memory)</th>\n",
       "      <th>(TTTCCAGAGGTGAG, Cell Type: T cells follicular helper)</th>\n",
       "      <th>(TTTCGAACACCTGA, Cell Type: T cells regulatory (Tregs))</th>\n",
       "      <th>(TTTCGAACTCTCAT, Cell Type: Monocytes)</th>\n",
       "      <th>(TTTCTACTGAGGCA, Cell Type: Plasma cells)</th>\n",
       "      <th>(TTTCTACTTCCTCG, Cell Type: B cells naive)</th>\n",
       "      <th>(TTTGCATGAGAGGC, Cell Type: B cells naive)</th>\n",
       "      <th>(TTTGCATGCCTCAC, Cell Type: T cells CD4 naive)</th>\n",
       "    </tr>\n",
       "  </thead>\n",
       "  <tbody>\n",
       "    <tr>\n",
       "      <th>MIR1302-10</th>\n",
       "      <td>0.0</td>\n",
       "      <td>0.0</td>\n",
       "      <td>0.0</td>\n",
       "      <td>0.0</td>\n",
       "      <td>0.0</td>\n",
       "      <td>0.0</td>\n",
       "      <td>0.0</td>\n",
       "      <td>0.0</td>\n",
       "      <td>0.0</td>\n",
       "      <td>0.0</td>\n",
       "      <td>...</td>\n",
       "      <td>0.0</td>\n",
       "      <td>0.0</td>\n",
       "      <td>0.0</td>\n",
       "      <td>0.0</td>\n",
       "      <td>0.0</td>\n",
       "      <td>0.0</td>\n",
       "      <td>0.0</td>\n",
       "      <td>0.0</td>\n",
       "      <td>0.0</td>\n",
       "      <td>0.0</td>\n",
       "    </tr>\n",
       "    <tr>\n",
       "      <th>FAM138A</th>\n",
       "      <td>0.0</td>\n",
       "      <td>0.0</td>\n",
       "      <td>0.0</td>\n",
       "      <td>0.0</td>\n",
       "      <td>0.0</td>\n",
       "      <td>0.0</td>\n",
       "      <td>0.0</td>\n",
       "      <td>0.0</td>\n",
       "      <td>0.0</td>\n",
       "      <td>0.0</td>\n",
       "      <td>...</td>\n",
       "      <td>0.0</td>\n",
       "      <td>0.0</td>\n",
       "      <td>0.0</td>\n",
       "      <td>0.0</td>\n",
       "      <td>0.0</td>\n",
       "      <td>0.0</td>\n",
       "      <td>0.0</td>\n",
       "      <td>0.0</td>\n",
       "      <td>0.0</td>\n",
       "      <td>0.0</td>\n",
       "    </tr>\n",
       "    <tr>\n",
       "      <th>OR4F5</th>\n",
       "      <td>0.0</td>\n",
       "      <td>0.0</td>\n",
       "      <td>0.0</td>\n",
       "      <td>0.0</td>\n",
       "      <td>0.0</td>\n",
       "      <td>0.0</td>\n",
       "      <td>0.0</td>\n",
       "      <td>0.0</td>\n",
       "      <td>0.0</td>\n",
       "      <td>0.0</td>\n",
       "      <td>...</td>\n",
       "      <td>0.0</td>\n",
       "      <td>0.0</td>\n",
       "      <td>0.0</td>\n",
       "      <td>0.0</td>\n",
       "      <td>0.0</td>\n",
       "      <td>0.0</td>\n",
       "      <td>0.0</td>\n",
       "      <td>0.0</td>\n",
       "      <td>0.0</td>\n",
       "      <td>0.0</td>\n",
       "    </tr>\n",
       "    <tr>\n",
       "      <th>RP11-34P13.7</th>\n",
       "      <td>0.0</td>\n",
       "      <td>0.0</td>\n",
       "      <td>0.0</td>\n",
       "      <td>0.0</td>\n",
       "      <td>0.0</td>\n",
       "      <td>0.0</td>\n",
       "      <td>0.0</td>\n",
       "      <td>0.0</td>\n",
       "      <td>0.0</td>\n",
       "      <td>0.0</td>\n",
       "      <td>...</td>\n",
       "      <td>0.0</td>\n",
       "      <td>0.0</td>\n",
       "      <td>0.0</td>\n",
       "      <td>0.0</td>\n",
       "      <td>0.0</td>\n",
       "      <td>0.0</td>\n",
       "      <td>0.0</td>\n",
       "      <td>0.0</td>\n",
       "      <td>0.0</td>\n",
       "      <td>0.0</td>\n",
       "    </tr>\n",
       "    <tr>\n",
       "      <th>RP11-34P13.8</th>\n",
       "      <td>0.0</td>\n",
       "      <td>0.0</td>\n",
       "      <td>0.0</td>\n",
       "      <td>0.0</td>\n",
       "      <td>0.0</td>\n",
       "      <td>0.0</td>\n",
       "      <td>0.0</td>\n",
       "      <td>0.0</td>\n",
       "      <td>0.0</td>\n",
       "      <td>0.0</td>\n",
       "      <td>...</td>\n",
       "      <td>0.0</td>\n",
       "      <td>0.0</td>\n",
       "      <td>0.0</td>\n",
       "      <td>0.0</td>\n",
       "      <td>0.0</td>\n",
       "      <td>0.0</td>\n",
       "      <td>0.0</td>\n",
       "      <td>0.0</td>\n",
       "      <td>0.0</td>\n",
       "      <td>0.0</td>\n",
       "    </tr>\n",
       "  </tbody>\n",
       "</table>\n",
       "<p>5 rows × 2700 columns</p>\n",
       "</div>"
      ],
      "text/plain": [
       "              (AAACATACAACCAC, Cell Type: T cells CD8)  \\\n",
       "MIR1302-10                                         0.0   \n",
       "FAM138A                                            0.0   \n",
       "OR4F5                                              0.0   \n",
       "RP11-34P13.7                                       0.0   \n",
       "RP11-34P13.8                                       0.0   \n",
       "\n",
       "              (AAACATTGAGCTAC, Cell Type: B cells memory)  \\\n",
       "MIR1302-10                                            0.0   \n",
       "FAM138A                                               0.0   \n",
       "OR4F5                                                 0.0   \n",
       "RP11-34P13.7                                          0.0   \n",
       "RP11-34P13.8                                          0.0   \n",
       "\n",
       "              (AAACATTGATCAGC, Cell Type: T cells follicular helper)  \\\n",
       "MIR1302-10                                                  0.0        \n",
       "FAM138A                                                     0.0        \n",
       "OR4F5                                                       0.0        \n",
       "RP11-34P13.7                                                0.0        \n",
       "RP11-34P13.8                                                0.0        \n",
       "\n",
       "              (AAACCGTGCTTCCG, Cell Type: Monocytes)  \\\n",
       "MIR1302-10                                       0.0   \n",
       "FAM138A                                          0.0   \n",
       "OR4F5                                            0.0   \n",
       "RP11-34P13.7                                     0.0   \n",
       "RP11-34P13.8                                     0.0   \n",
       "\n",
       "              (AAACCGTGTATGCG, Cell Type: NK cells activated)  \\\n",
       "MIR1302-10                                                0.0   \n",
       "FAM138A                                                   0.0   \n",
       "OR4F5                                                     0.0   \n",
       "RP11-34P13.7                                              0.0   \n",
       "RP11-34P13.8                                              0.0   \n",
       "\n",
       "              (AAACGCACTGGTAC, Cell Type: T cells regulatory (Tregs))  \\\n",
       "MIR1302-10                                                  0.0         \n",
       "FAM138A                                                     0.0         \n",
       "OR4F5                                                       0.0         \n",
       "RP11-34P13.7                                                0.0         \n",
       "RP11-34P13.8                                                0.0         \n",
       "\n",
       "              (AAACGCTGACCAGT, Cell Type: Dendritic cells resting)  \\\n",
       "MIR1302-10                                                  0.0      \n",
       "FAM138A                                                     0.0      \n",
       "OR4F5                                                       0.0      \n",
       "RP11-34P13.7                                                0.0      \n",
       "RP11-34P13.8                                                0.0      \n",
       "\n",
       "              (AAACGCTGGTTCTT, Cell Type: T cells gamma delta)  \\\n",
       "MIR1302-10                                                 0.0   \n",
       "FAM138A                                                    0.0   \n",
       "OR4F5                                                      0.0   \n",
       "RP11-34P13.7                                               0.0   \n",
       "RP11-34P13.8                                               0.0   \n",
       "\n",
       "              (AAACGCTGTAGCCA, Cell Type: T cells CD4 memory resting)  \\\n",
       "MIR1302-10                                                  0.0         \n",
       "FAM138A                                                     0.0         \n",
       "OR4F5                                                       0.0         \n",
       "RP11-34P13.7                                                0.0         \n",
       "RP11-34P13.8                                                0.0         \n",
       "\n",
       "              (AAACGCTGTTTCTG, Cell Type: Neutrophils)  \\\n",
       "MIR1302-10                                         0.0   \n",
       "FAM138A                                            0.0   \n",
       "OR4F5                                              0.0   \n",
       "RP11-34P13.7                                       0.0   \n",
       "RP11-34P13.8                                       0.0   \n",
       "\n",
       "                                   ...                        \\\n",
       "MIR1302-10                         ...                         \n",
       "FAM138A                            ...                         \n",
       "OR4F5                              ...                         \n",
       "RP11-34P13.7                       ...                         \n",
       "RP11-34P13.8                       ...                         \n",
       "\n",
       "              (TTTCAGTGTCACGA, Cell Type: B cells naive)  \\\n",
       "MIR1302-10                                           0.0   \n",
       "FAM138A                                              0.0   \n",
       "OR4F5                                                0.0   \n",
       "RP11-34P13.7                                         0.0   \n",
       "RP11-34P13.8                                         0.0   \n",
       "\n",
       "              (TTTCAGTGTCTATC, Cell Type: Macrophages M2)  \\\n",
       "MIR1302-10                                            0.0   \n",
       "FAM138A                                               0.0   \n",
       "OR4F5                                                 0.0   \n",
       "RP11-34P13.7                                          0.0   \n",
       "RP11-34P13.8                                          0.0   \n",
       "\n",
       "              (TTTCAGTGTGCAGT, Cell Type: B cells memory)  \\\n",
       "MIR1302-10                                            0.0   \n",
       "FAM138A                                               0.0   \n",
       "OR4F5                                                 0.0   \n",
       "RP11-34P13.7                                          0.0   \n",
       "RP11-34P13.8                                          0.0   \n",
       "\n",
       "              (TTTCCAGAGGTGAG, Cell Type: T cells follicular helper)  \\\n",
       "MIR1302-10                                                  0.0        \n",
       "FAM138A                                                     0.0        \n",
       "OR4F5                                                       0.0        \n",
       "RP11-34P13.7                                                0.0        \n",
       "RP11-34P13.8                                                0.0        \n",
       "\n",
       "              (TTTCGAACACCTGA, Cell Type: T cells regulatory (Tregs))  \\\n",
       "MIR1302-10                                                  0.0         \n",
       "FAM138A                                                     0.0         \n",
       "OR4F5                                                       0.0         \n",
       "RP11-34P13.7                                                0.0         \n",
       "RP11-34P13.8                                                0.0         \n",
       "\n",
       "              (TTTCGAACTCTCAT, Cell Type: Monocytes)  \\\n",
       "MIR1302-10                                       0.0   \n",
       "FAM138A                                          0.0   \n",
       "OR4F5                                            0.0   \n",
       "RP11-34P13.7                                     0.0   \n",
       "RP11-34P13.8                                     0.0   \n",
       "\n",
       "              (TTTCTACTGAGGCA, Cell Type: Plasma cells)  \\\n",
       "MIR1302-10                                          0.0   \n",
       "FAM138A                                             0.0   \n",
       "OR4F5                                               0.0   \n",
       "RP11-34P13.7                                        0.0   \n",
       "RP11-34P13.8                                        0.0   \n",
       "\n",
       "              (TTTCTACTTCCTCG, Cell Type: B cells naive)  \\\n",
       "MIR1302-10                                           0.0   \n",
       "FAM138A                                              0.0   \n",
       "OR4F5                                                0.0   \n",
       "RP11-34P13.7                                         0.0   \n",
       "RP11-34P13.8                                         0.0   \n",
       "\n",
       "              (TTTGCATGAGAGGC, Cell Type: B cells naive)  \\\n",
       "MIR1302-10                                           0.0   \n",
       "FAM138A                                              0.0   \n",
       "OR4F5                                                0.0   \n",
       "RP11-34P13.7                                         0.0   \n",
       "RP11-34P13.8                                         0.0   \n",
       "\n",
       "              (TTTGCATGCCTCAC, Cell Type: T cells CD4 naive)  \n",
       "MIR1302-10                                               0.0  \n",
       "FAM138A                                                  0.0  \n",
       "OR4F5                                                    0.0  \n",
       "RP11-34P13.7                                             0.0  \n",
       "RP11-34P13.8                                             0.0  \n",
       "\n",
       "[5 rows x 2700 columns]"
      ]
     },
     "execution_count": 11,
     "metadata": {},
     "output_type": "execute_result"
    }
   ],
   "source": [
    "df.head()"
   ]
  },
  {
   "cell_type": "markdown",
   "metadata": {},
   "source": [
    "### Filter for Specific Cell Type"
   ]
  },
  {
   "cell_type": "code",
   "execution_count": 12,
   "metadata": {},
   "outputs": [],
   "source": [
    "specific_cell_type = 'NK'"
   ]
  },
  {
   "cell_type": "code",
   "execution_count": 13,
   "metadata": {},
   "outputs": [
    {
     "name": "stdout",
     "output_type": "stream",
     "text": [
      "2700\n",
      "257\n"
     ]
    }
   ],
   "source": [
    "cols = df.columns.tolist()\n",
    "print(len(cols))\n",
    "keep_cols = [x for x in cols if specific_cell_type in x[1]]\n",
    "print(len(keep_cols))\n",
    "df = df[keep_cols]"
   ]
  },
  {
   "cell_type": "markdown",
   "metadata": {},
   "source": [
    "### Find top expressing genes"
   ]
  },
  {
   "cell_type": "code",
   "execution_count": 14,
   "metadata": {},
   "outputs": [],
   "source": [
    "ser_mean, ser_var = calc_mean_var_disp(df)\n",
    "\n",
    "num_keep_umi = 10000\n",
    "num_top_var = 250\n",
    "\n",
    "# filter for top expressing genes\n",
    "keep_mean = ser_mean.sort_values(ascending=False)[:num_keep_umi].index.tolist()\n",
    "\n",
    "\n",
    "df = df.loc[keep_mean]\n",
    "\n",
    "ser_keep_var = ser_var[keep_mean]\n",
    "# filter for top variance based\n",
    "keep_var = ser_keep_var.sort_values(ascending=False).index.tolist()[:num_top_var]"
   ]
  },
  {
   "cell_type": "code",
   "execution_count": 15,
   "metadata": {},
   "outputs": [
    {
     "data": {
      "text/plain": [
       "(250, 257)"
      ]
     },
     "execution_count": 15,
     "metadata": {},
     "output_type": "execute_result"
    }
   ],
   "source": [
    "df.loc[keep_var].shape"
   ]
  },
  {
   "cell_type": "code",
   "execution_count": 16,
   "metadata": {},
   "outputs": [
    {
     "data": {
      "application/vnd.jupyter.widget-view+json": {
       "model_id": "563eda1b0f874c8e89299ff3e7f39071",
       "version_major": 2,
       "version_minor": 0
      },
      "text/plain": [
       "ExampleWidget(network='{\"row_nodes\": [{\"name\": \"MALAT1\", \"ini\": 250, \"clust\": 37, \"rank\": 195, \"rankvar\": 195,…"
      ]
     },
     "metadata": {},
     "output_type": "display_data"
    }
   ],
   "source": [
    "net.load_df(df.loc[keep_var])\n",
    "net.normalize(axis='row', norm_type='zscore')\n",
    "net.clip(-5, 5)\n",
    "net.widget()"
   ]
  },
  {
   "cell_type": "code",
   "execution_count": null,
   "metadata": {},
   "outputs": [],
   "source": []
  }
 ],
 "metadata": {
  "kernelspec": {
   "display_name": "Python 3",
   "language": "python",
   "name": "python3"
  },
  "language_info": {
   "codemirror_mode": {
    "name": "ipython",
    "version": 3
   },
   "file_extension": ".py",
   "mimetype": "text/x-python",
   "name": "python",
   "nbconvert_exporter": "python",
   "pygments_lexer": "ipython3",
   "version": "3.6.6"
  }
 },
 "nbformat": 4,
 "nbformat_minor": 2
}
