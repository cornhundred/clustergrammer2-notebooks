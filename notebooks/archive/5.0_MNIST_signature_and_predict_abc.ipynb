{
 "cells": [
  {
   "cell_type": "markdown",
   "metadata": {},
   "source": [
    "# 5.0 MNIST\n",
    "We are getting ~80 correct predictions. This might be because the ten digit signatures are insufficient to capture the different variation of each digit. We might try to define the different flavors of each digit using a round of k-means clustering and labeling in the training dataset then a \"narrow\" signature definition, then prediction on the test dataset using this narrow set of signatures. Also, visualization of these digits as images will be useful. We can also carry over the similarity score as a value based category or use it to generate a ROC curve. "
   ]
  },
  {
   "cell_type": "code",
   "execution_count": 1,
   "metadata": {},
   "outputs": [
    {
     "name": "stdout",
     "output_type": "stream",
     "text": [
      "clustergrammer2 backend version 0.2.9\n"
     ]
    }
   ],
   "source": [
    "from clustergrammer2 import net\n",
    "df = {}"
   ]
  },
  {
   "cell_type": "code",
   "execution_count": 2,
   "metadata": {},
   "outputs": [],
   "source": [
    "import clustergrammer_groupby as cby\n",
    "from copy import deepcopy\n",
    "import random\n",
    "random.seed(99)"
   ]
  },
  {
   "cell_type": "code",
   "execution_count": 3,
   "metadata": {},
   "outputs": [],
   "source": [
    "import pandas as pd"
   ]
  },
  {
   "cell_type": "code",
   "execution_count": 4,
   "metadata": {},
   "outputs": [
    {
     "data": {
      "text/plain": [
       "(784, 70000)"
      ]
     },
     "execution_count": 4,
     "metadata": {},
     "output_type": "execute_result"
    }
   ],
   "source": [
    "net.load_file('../data/big_data/MNIST_row_labels.txt')\n",
    "df['mnist'] = net.export_df()\n",
    "df['mnist'].shape"
   ]
  },
  {
   "cell_type": "code",
   "execution_count": 5,
   "metadata": {},
   "outputs": [
    {
     "name": "stdout",
     "output_type": "stream",
     "text": [
      "('Zero-0', 'Digit: Zero')\n"
     ]
    }
   ],
   "source": [
    "cols = df['mnist'].columns.tolist()\n",
    "new_cols = [(x, 'Digit: ' + x.split('-')[0]) for x in cols]\n",
    "df['mnist-cat'] = deepcopy(df['mnist'])\n",
    "df['mnist-cat'].columns = new_cols\n",
    "print(new_cols[0])"
   ]
  },
  {
   "cell_type": "markdown",
   "metadata": {},
   "source": [
    "### Make Train and Predict"
   ]
  },
  {
   "cell_type": "code",
   "execution_count": 6,
   "metadata": {},
   "outputs": [
    {
     "name": "stdout",
     "output_type": "stream",
     "text": [
      "(784, 35000) (784, 35000)\n"
     ]
    }
   ],
   "source": [
    "cols = df['mnist-cat'].columns.tolist()\n",
    "random.shuffle(cols)\n",
    "df['mnist-train'] = df['mnist-cat'][cols[:35000]]\n",
    "df['mnist-test'] = df['mnist-cat'][cols[35000:]]\n",
    "print(df['mnist-train'].shape, df['mnist-test'].shape)\n",
    "\n",
    "net.load_df(df['mnist-train'])\n",
    "net.normalize(axis='row', norm_type='zscore')\n",
    "df['mnist-train-z'] = net.export_df()\n",
    "\n",
    "net.load_df(df['mnist-test'])\n",
    "net.normalize(axis='row', norm_type='zscore')\n",
    "df['mnist-test-z'] = net.export_df()"
   ]
  },
  {
   "cell_type": "code",
   "execution_count": 7,
   "metadata": {},
   "outputs": [],
   "source": [
    "def set_cat_colors(cat_color, axis, cat_index, cat_title=False):\n",
    "    for inst_ct in cat_color:\n",
    "        if cat_title != False:\n",
    "            cat_name = cat_title + ': ' + inst_ct\n",
    "        else:\n",
    "            cat_name = inst_ct\n",
    "            \n",
    "        inst_color = cat_color[inst_ct]\n",
    "        net.set_cat_color(axis=axis, cat_index=cat_index, cat_name=cat_name, inst_color=inst_color)"
   ]
  },
  {
   "cell_type": "markdown",
   "metadata": {},
   "source": [
    "# Make Signatures"
   ]
  },
  {
   "cell_type": "markdown",
   "metadata": {},
   "source": [
    "### Make Very Narrow Digit Categories"
   ]
  },
  {
   "cell_type": "code",
   "execution_count": 25,
   "metadata": {},
   "outputs": [
    {
     "data": {
      "text/plain": [
       "(784, 35000)"
      ]
     },
     "execution_count": 25,
     "metadata": {},
     "output_type": "execute_result"
    }
   ],
   "source": [
    "df['mnist-train'].shape"
   ]
  },
  {
   "cell_type": "code",
   "execution_count": 27,
   "metadata": {},
   "outputs": [],
   "source": [
    "num_clusters = 10"
   ]
  },
  {
   "cell_type": "code",
   "execution_count": 28,
   "metadata": {},
   "outputs": [],
   "source": [
    "cols = df['mnist-train'].columns.tolist()\n",
    "all_digits = sorted(list(set([x[1].split(': ')[1] for x in cols])))"
   ]
  },
  {
   "cell_type": "code",
   "execution_count": 44,
   "metadata": {},
   "outputs": [
    {
     "name": "stdout",
     "output_type": "stream",
     "text": [
      "(784, 3429)\n",
      "(784, 3144)\n",
      "(784, 3417)\n",
      "(784, 3532)\n",
      "(784, 3944)\n",
      "(784, 3540)\n",
      "(784, 3431)\n",
      "(784, 3567)\n",
      "(784, 3477)\n",
      "(784, 3519)\n"
     ]
    },
    {
     "data": {
      "text/plain": [
       "(784, 35000)"
      ]
     },
     "execution_count": 44,
     "metadata": {},
     "output_type": "execute_result"
    }
   ],
   "source": [
    "df_list = []\n",
    "for inst_digit in all_digits:\n",
    "    \n",
    "    cols = df['mnist-train'].columns.tolist()\n",
    "    keep_cols = [x for x in cols if x[1].split(': ')[1] == inst_digit]\n",
    "    inst_df = df['mnist-train'][keep_cols]\n",
    "    print(inst_df.shape)\n",
    "    \n",
    "    net.load_df(inst_df)\n",
    "    ds_info = list(net.downsample(axis='col', num_samples=num_clusters, ds_type='kmeans', random_state=99))\n",
    "    ds_info = [str(x) for x in ds_info]\n",
    "\n",
    "    cols = inst_df.columns.tolist()\n",
    "    new_cols = []\n",
    "    for index in range(len(cols)):\n",
    "        inst_col = cols[index]\n",
    "        inst_cluster = ds_info[index]\n",
    "        new_col = (inst_col[0], inst_col[1] + '-' + inst_cluster)\n",
    "        new_cols.append(new_col)\n",
    "\n",
    "    inst_df.columns = new_cols\n",
    "    df_list.append(inst_df)\n",
    "    \n",
    "df['mnist-train-vn'] = pd.concat(df_list, axis=1)\n",
    "df['mnist-train-vn'].shape"
   ]
  },
  {
   "cell_type": "code",
   "execution_count": 57,
   "metadata": {},
   "outputs": [],
   "source": [
    "def make_narrow_cats(df, narrow_clusters, cat_index=1):\n",
    "    df_list = []\n",
    "    \n",
    "    cols = df.columns.tolist()\n",
    "    all_cats = sorted(list(set([x[cat_index].split(': ')[1] for x in cols])))\n",
    "\n",
    "    for inst_cat in all_cats:\n",
    "\n",
    "        cols = df.columns.tolist()\n",
    "        keep_cols = [x for x in cols if x[1].split(': ')[1] == inst_cat]\n",
    "        inst_df = df[keep_cols]        \n",
    "\n",
    "        net.load_df(inst_df)\n",
    "        if narrow_clusters > inst_df.shape[1]:\n",
    "            narrow_clusters = inst_df.shape[1]\n",
    "            \n",
    "        ds_info = list(net.downsample(axis='col', num_samples=narrow_clusters, ds_type='kmeans', random_state=99))\n",
    "        ds_info = [str(x) for x in ds_info]\n",
    "\n",
    "        cols = inst_df.columns.tolist()\n",
    "        new_cols = []\n",
    "        for index in range(len(cols)):\n",
    "            inst_col = cols[index]\n",
    "            inst_cluster = ds_info[index]\n",
    "            new_col = (inst_col[0], inst_col[1] + '-C' + inst_cluster)\n",
    "            new_cols.append(new_col)\n",
    "\n",
    "        inst_df.columns = new_cols\n",
    "        df_list.append(inst_df)\n",
    "\n",
    "    df_nc = pd.concat(df_list, axis=1)\n",
    "\n",
    "    return df_nc"
   ]
  },
  {
   "cell_type": "code",
   "execution_count": 59,
   "metadata": {},
   "outputs": [
    {
     "name": "stdout",
     "output_type": "stream",
     "text": [
      "narrowed (784, 35000)\n"
     ]
    }
   ],
   "source": [
    "df['mnist-train-vn'] = make_narrow_cats(df['mnist-train'], 10)"
   ]
  },
  {
   "cell_type": "code",
   "execution_count": 60,
   "metadata": {},
   "outputs": [
    {
     "data": {
      "text/plain": [
       "('Eight-1719', 'Digit: Eight-C8')"
      ]
     },
     "execution_count": 60,
     "metadata": {},
     "output_type": "execute_result"
    }
   ],
   "source": [
    "df['mnist-train-vn'].columns.tolist()[0]"
   ]
  },
  {
   "cell_type": "code",
   "execution_count": 30,
   "metadata": {},
   "outputs": [
    {
     "data": {
      "text/plain": [
       "('Eight-1719', 'Digit: Eight-C8')"
      ]
     },
     "execution_count": 30,
     "metadata": {},
     "output_type": "execute_result"
    }
   ],
   "source": [
    "df['mnist-train-vn'].columns.tolist()[0]"
   ]
  },
  {
   "cell_type": "markdown",
   "metadata": {},
   "source": [
    "## Make Narrow Digit Signatures"
   ]
  },
  {
   "cell_type": "code",
   "execution_count": 61,
   "metadata": {},
   "outputs": [
    {
     "name": "stdout",
     "output_type": "stream",
     "text": [
      "(471, 100)\n"
     ]
    }
   ],
   "source": [
    "pval_cutoff = 0.00001\n",
    "num_top_dims = 50\n",
    "\n",
    "df['sig'], keep_genes_dict, df_gene_pval, fold_info = cby.generate_signatures(\n",
    "                                                                     df['mnist-train-vn'],\n",
    "                                                                     'Digit', num_top_dims=num_top_dims)\n",
    "print(df['sig'].shape)"
   ]
  },
  {
   "cell_type": "markdown",
   "metadata": {},
   "source": [
    "# Predict Digit Type Using Signatures"
   ]
  },
  {
   "cell_type": "markdown",
   "metadata": {},
   "source": [
    "### Predict using Narrow Signatures"
   ]
  },
  {
   "cell_type": "code",
   "execution_count": 62,
   "metadata": {},
   "outputs": [
    {
     "data": {
      "text/plain": [
       "('Four-709', 'Digit: Four')"
      ]
     },
     "execution_count": 62,
     "metadata": {},
     "output_type": "execute_result"
    }
   ],
   "source": [
    "df['mnist-test'].columns.tolist()[0]"
   ]
  },
  {
   "cell_type": "markdown",
   "metadata": {},
   "source": [
    "### Predict on Training Data"
   ]
  },
  {
   "cell_type": "code",
   "execution_count": 63,
   "metadata": {},
   "outputs": [
    {
     "name": "stdout",
     "output_type": "stream",
     "text": [
      "Predict:  0.927514285714\n"
     ]
    },
    {
     "data": {
      "text/plain": [
       "One      0.986055\n",
       "Six      0.971145\n",
       "Zero     0.970446\n",
       "Two      0.933276\n",
       "Nine     0.906852\n",
       "Seven    0.905367\n",
       "Three    0.901878\n",
       "Five     0.901399\n",
       "Eight    0.897929\n",
       "Four     0.890840\n",
       "dtype: float64"
      ]
     },
     "execution_count": 63,
     "metadata": {},
     "output_type": "execute_result"
    }
   ],
   "source": [
    "# Predict\n",
    "##################\n",
    "df_pred_cat, df_sig_sim, y_info = cby.predict_cats_from_sigs(df['mnist-train'], df['sig'], truth_level=1,\n",
    "                                                                   predict_level='Pred Digit', unknown_thresh=0.0)\n",
    "\n",
    "\n",
    "y_info = {}\n",
    "cols = df_pred_cat.columns.tolist()\n",
    "\n",
    "# broaden predicted categories\n",
    "y_info['true'] = [x[1].split(': ')[1] for x in cols]\n",
    "y_info['pred'] = [x[2].split(': ')[1].split('-C')[0] for x in cols]\n",
    "\n",
    "df_conf, population, ser_correct, fraction_correct = cby.confusion_matrix_and_correct_series(y_info)\n",
    "print('Predict: ', fraction_correct)\n",
    "ser_correct.sort_values(ascending=False)"
   ]
  },
  {
   "cell_type": "markdown",
   "metadata": {},
   "source": [
    "### Predict on Test Data"
   ]
  },
  {
   "cell_type": "code",
   "execution_count": 65,
   "metadata": {},
   "outputs": [
    {
     "name": "stdout",
     "output_type": "stream",
     "text": [
      "('Four-709', 'Digit: Four', 'Pred Digit: Nine')\n",
      "Predict:  0.923628571429\n"
     ]
    },
    {
     "data": {
      "text/plain": [
       "One      0.983219\n",
       "Zero     0.968972\n",
       "Six      0.968360\n",
       "Two      0.929974\n",
       "Four     0.901967\n",
       "Nine     0.901051\n",
       "Eight    0.898999\n",
       "Five     0.893973\n",
       "Seven    0.893152\n",
       "Three    0.889759\n",
       "dtype: float64"
      ]
     },
     "execution_count": 65,
     "metadata": {},
     "output_type": "execute_result"
    }
   ],
   "source": [
    "# Predict\n",
    "##################\n",
    "df_pred_cat, df_sig_sim, y_info = cby.predict_cats_from_sigs(df['mnist-test'], df['sig'], truth_level=1,\n",
    "                                                                   predict_level='Pred Digit', unknown_thresh=0.0)\n",
    "\n",
    "\n",
    "y_info = {}\n",
    "cols = df_pred_cat.columns.tolist()\n",
    "new_cols = [(x[0], x[1], x[2].split('-')[0]) for x in cols]\n",
    "\n",
    "print(new_cols[0])\n",
    "\n",
    "df['mnist-pred'] = deepcopy(df['mnist-test'])\n",
    "df['mnist-pred'].columns = new_cols\n",
    "\n",
    "y_info['true'] = [x[1].split(': ')[1] for x in cols]\n",
    "y_info['pred'] = [x[2].split(': ')[1].split('-')[0] for x in cols]\n",
    "\n",
    "\n",
    "df_conf, population, ser_correct, fraction_correct = cby.confusion_matrix_and_correct_series(y_info)\n",
    "print('Predict: ', fraction_correct)\n",
    "ser_correct.sort_values(ascending=False)"
   ]
  },
  {
   "cell_type": "code",
   "execution_count": 35,
   "metadata": {},
   "outputs": [
    {
     "data": {
      "text/plain": [
       "('Four-709', 'Digit: Four', 'Pred Digit: Nine')"
      ]
     },
     "execution_count": 35,
     "metadata": {},
     "output_type": "execute_result"
    }
   ],
   "source": [
    "new_cols[0]"
   ]
  },
  {
   "cell_type": "code",
   "execution_count": 36,
   "metadata": {},
   "outputs": [],
   "source": [
    "def set_cat_colors(cat_color, axis, cat_index, cat_title=False):\n",
    "    for inst_ct in cat_color:\n",
    "        if cat_title != False:\n",
    "            cat_name = cat_title + ': ' + inst_ct\n",
    "        else:\n",
    "            cat_name = inst_ct\n",
    "            \n",
    "        inst_color = cat_color[inst_ct]\n",
    "        net.set_cat_color(axis=axis, cat_index=cat_index, cat_name=cat_name, inst_color=inst_color)"
   ]
  },
  {
   "cell_type": "code",
   "execution_count": 37,
   "metadata": {},
   "outputs": [],
   "source": [
    "cat_color = {}    \n",
    "cat_color['Zero'] = 'white'\n",
    "cat_color['One'] = '#6f4e37'\n",
    "cat_color['Two'] = 'blue'\n",
    "cat_color['Three'] = 'black'\n",
    "cat_color['Four'] = 'red'\n",
    "cat_color['Five'] = 'yellow'\n",
    "cat_color['Six'] = 'purple'\n",
    "cat_color['Seven'] = '#FFA500'\n",
    "cat_color['Eight'] = '#1e90ff'\n",
    "cat_color['Nine'] = '#ff7518'\n",
    "\n",
    "set_cat_colors(cat_color, axis='col', cat_index=1, cat_title='Digit')\n",
    "set_cat_colors(cat_color, axis='col', cat_index=2, cat_title='Pred Digit')"
   ]
  },
  {
   "cell_type": "code",
   "execution_count": 39,
   "metadata": {},
   "outputs": [
    {
     "data": {
      "application/vnd.jupyter.widget-view+json": {
       "model_id": "b969ceeafcb143b19d44a7b1a11e37fc",
       "version_major": 2,
       "version_minor": 0
      },
      "text/plain": [
       "ExampleWidget(network='{\"row_nodes\": [{\"name\": \"pos_13-14\", \"ini\": 250, \"clust\": 117, \"rank\": 193, \"rankvar\": …"
      ]
     },
     "metadata": {},
     "output_type": "display_data"
    }
   ],
   "source": [
    "net.load_df(df['mnist-pred'])\n",
    "net.random_sample(axis='col', num_samples=2000, random_state=99)\n",
    "net.filter_N_top(inst_rc='row', N_top=250, rank_type='var')\n",
    "net.load_df(net.export_df().round(2))\n",
    "net.widget()"
   ]
  },
  {
   "cell_type": "code",
   "execution_count": null,
   "metadata": {},
   "outputs": [],
   "source": []
  },
  {
   "cell_type": "code",
   "execution_count": null,
   "metadata": {},
   "outputs": [],
   "source": []
  }
 ],
 "metadata": {
  "kernelspec": {
   "display_name": "Python 3",
   "language": "python",
   "name": "python3"
  },
  "language_info": {
   "codemirror_mode": {
    "name": "ipython",
    "version": 3
   },
   "file_extension": ".py",
   "mimetype": "text/x-python",
   "name": "python",
   "nbconvert_exporter": "python",
   "pygments_lexer": "ipython3",
   "version": "3.6.6"
  }
 },
 "nbformat": 4,
 "nbformat_minor": 2
}
