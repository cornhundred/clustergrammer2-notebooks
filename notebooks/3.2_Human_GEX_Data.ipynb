{
 "cells": [
  {
   "cell_type": "markdown",
   "metadata": {},
   "source": [
    "# 3.2 Human GEX Data"
   ]
  },
  {
   "cell_type": "code",
   "execution_count": 1,
   "metadata": {},
   "outputs": [
    {
     "name": "stdout",
     "output_type": "stream",
     "text": [
      "clustergrammer2 backend version 0.2.7\n"
     ]
    }
   ],
   "source": [
    "from clustergrammer2 import net\n",
    "df = {}\n",
    "\n",
    "import numpy as np\n",
    "import pandas as pd"
   ]
  },
  {
   "cell_type": "code",
   "execution_count": 23,
   "metadata": {},
   "outputs": [],
   "source": [
    "import matplotlib.pyplot as plt"
   ]
  },
  {
   "cell_type": "code",
   "execution_count": 19,
   "metadata": {},
   "outputs": [],
   "source": [
    "from copy import deepcopy\n",
    "from scipy.spatial.distance import pdist\n",
    "import itertools as it"
   ]
  },
  {
   "cell_type": "code",
   "execution_count": 3,
   "metadata": {},
   "outputs": [
    {
     "data": {
      "text/plain": [
       "(20400, 7339)"
      ]
     },
     "execution_count": 3,
     "metadata": {},
     "output_type": "execute_result"
    }
   ],
   "source": [
    "filename = '../data/CITE-seq_data/GSE100866_CBMC_8K_13AB_10X-RNA_umi_HUMAN.csv.gz'\n",
    "df['gex-ini'] = pd.read_csv(filename, compression='gzip', index_col=0)\n",
    "df['gex-ini'].shape"
   ]
  },
  {
   "cell_type": "code",
   "execution_count": 4,
   "metadata": {},
   "outputs": [
    {
     "data": {
      "text/plain": [
       "(10, 7265)"
      ]
     },
     "execution_count": 4,
     "metadata": {},
     "output_type": "execute_result"
    }
   ],
   "source": [
    "net.load_file('../data/CITE-seq_data/adt_ashz_trim_cats.txt')\n",
    "df['adt-ini'] = net.export_df()\n",
    "df['adt-ini'].shape"
   ]
  },
  {
   "cell_type": "code",
   "execution_count": 5,
   "metadata": {},
   "outputs": [
    {
     "name": "stdout",
     "output_type": "stream",
     "text": [
      "7265\n"
     ]
    }
   ],
   "source": [
    "cols = df['adt-ini'].columns.tolist()\n",
    "keep_cells = [x[0] for x in cols]\n",
    "print(len(keep_cells))"
   ]
  },
  {
   "cell_type": "markdown",
   "metadata": {},
   "source": [
    "#### Remove HUMAN prefix from genes"
   ]
  },
  {
   "cell_type": "code",
   "execution_count": 6,
   "metadata": {},
   "outputs": [],
   "source": [
    "rows = df['gex-ini'].index.tolist()\n",
    "new_rows = [x.replace('HUMAN_','') for x in rows]\n",
    "df['gex-ini'].index = new_rows"
   ]
  },
  {
   "cell_type": "markdown",
   "metadata": {},
   "source": [
    "### Filter for trimmed cells only and arcsinh transform"
   ]
  },
  {
   "cell_type": "code",
   "execution_count": 7,
   "metadata": {},
   "outputs": [],
   "source": [
    "df['gex-trim'] = df['gex-ini'][keep_cells]\n",
    "df['gex-trim'] = np.arcsinh(df['gex-trim']/5)"
   ]
  },
  {
   "cell_type": "markdown",
   "metadata": {},
   "source": [
    "#### Drop ribosomal and mitochondrial genes"
   ]
  },
  {
   "cell_type": "code",
   "execution_count": 9,
   "metadata": {},
   "outputs": [
    {
     "name": "stdout",
     "output_type": "stream",
     "text": [
      "(20400, 7265)\n",
      "20400\n",
      "20223\n",
      "['MT-ATP6', 'MT-ATP8', 'MT-CO1', 'MT-CO2', 'MT-CO3', 'MT-CYB', 'MT-ND1', 'MT-ND2', 'MT-ND3', 'MT-ND4', 'MT-ND4L', 'MT-ND5', 'MT-ND6', 'MT-RNR1', 'MT-RNR2', 'MT-TD', 'MT-TF', 'MT-TG', 'MT-TH', 'MT-TI', 'MT-TL1', 'MT-TP', 'MT-TT', 'MT-TW', 'MTRF1', 'MTRF1L', 'MTRNR2L1', 'MTRNR2L10', 'MTRNR2L11', 'MTRNR2L12', 'MTRNR2L3', 'MTRNR2L4', 'MTRNR2L5', 'MTRNR2L6', 'MTRNR2L7', 'MTRNR2L8']\n",
      "(20187, 7265)\n"
     ]
    }
   ],
   "source": [
    "print(df['gex-trim'].shape)\n",
    "df['gex'] = deepcopy(df['gex-trim'])\n",
    "all_genes = df['gex'].index.tolist()\n",
    "print(len(all_genes))\n",
    "keep_genes = [x for x in all_genes if 'RPL' not in x]\n",
    "keep_genes = [x for x in keep_genes if 'RPS' not in x]\n",
    "print(len(keep_genes))\n",
    "\n",
    "df['gex'] = df['gex'].loc[keep_genes]\n",
    "df['gex'].shape\n",
    "\n",
    "# Removing Mitochondrial Genes\n",
    "list_mito_genes = ['MTRNR2L11', 'MTRF1', 'MTRNR2L12', 'MTRNR2L13', 'MTRF1L', 'MTRNR2L6', 'MTRNR2L7',\n",
    "                'MTRNR2L10', 'MTRNR2L8', 'MTRNR2L5', 'MTRNR2L1', 'MTRNR2L3', 'MTRNR2L4']\n",
    "\n",
    "all_genes = df['gex'].index.tolist()\n",
    "mito_genes = [x for x in all_genes if 'MT-' == x[:3] or \n",
    "             x.split('_')[0] in list_mito_genes]\n",
    "\n",
    "print(mito_genes)\n",
    "\n",
    "keep_genes = [x for x in all_genes if x not in mito_genes]\n",
    "df['gex'] = df['gex'].loc[keep_genes]\n",
    "print(df['gex'].shape)\n",
    "\n",
    "# transfer categories\n",
    "cols = df['adt-ini'].columns.tolist()\n",
    "ct_dict = {}\n",
    "for inst_col in cols:\n",
    "    ct_dict[inst_col[0]] = inst_col[1]\n",
    "    \n",
    "cols = df['gex'].columns.tolist()\n",
    "new_cols = [(x, 'Cell Type: ' + ct_dict[x]) for x in cols]\n",
    "df['gex'].columns = new_cols    \n",
    "\n",
    "# normalize by UMI count\n",
    "barcode_umi_sum = df['gex'].sum()\n",
    "df['gex-umi'] = deepcopy(df['gex'].div(b\n",
    "                                       arcode_umi_sum))"
   ]
  },
  {
   "cell_type": "markdown",
   "metadata": {},
   "source": [
    "#### Keep top 5K genes by sum"
   ]
  },
  {
   "cell_type": "code",
   "execution_count": 10,
   "metadata": {},
   "outputs": [
    {
     "data": {
      "text/plain": [
       "(5000, 7265)"
      ]
     },
     "execution_count": 10,
     "metadata": {},
     "output_type": "execute_result"
    }
   ],
   "source": [
    "ser_sum = df['gex'].sum(axis=1).sort_values(ascending=False)\n",
    "keep_genes = ser_sum.index.tolist()[:5000]\n",
    "df['gex-filt'] = df['gex'].loc[keep_genes]\n",
    "df['gex-filt'].shape"
   ]
  },
  {
   "cell_type": "code",
   "execution_count": 14,
   "metadata": {},
   "outputs": [
    {
     "data": {
      "text/plain": [
       "(5000, 7265)"
      ]
     },
     "execution_count": 14,
     "metadata": {},
     "output_type": "execute_result"
    }
   ],
   "source": [
    "ser_sum = df['gex-umi'].sum(axis=1).sort_values(ascending=False)\n",
    "keep_genes = ser_sum.index.tolist()[:5000]\n",
    "df['gex-umi-filt'] = df['gex-umi'].loc[keep_genes]\n",
    "df['gex-umi-filt'].shape"
   ]
  },
  {
   "cell_type": "code",
   "execution_count": 18,
   "metadata": {},
   "outputs": [
    {
     "name": "stdout",
     "output_type": "stream",
     "text": [
      "(10, 7265)\n",
      "(5000, 7265)\n",
      "(5000, 7265)\n"
     ]
    }
   ],
   "source": [
    "print(df['adt-ini'].shape)\n",
    "print(df['gex-filt'].shape)\n",
    "print(df['gex-filt-umi'].shape)"
   ]
  },
  {
   "cell_type": "markdown",
   "metadata": {},
   "source": [
    "### Compare Sample-Sample Similarity Across Datasets"
   ]
  },
  {
   "cell_type": "code",
   "execution_count": 31,
   "metadata": {},
   "outputs": [],
   "source": [
    "def corr_datasets(name_1, name_2):\n",
    "    dist_arr_1 = pdist(df[name_1].transpose(), metric='cosine')\n",
    "    ser_dist_1 = pd.Series(data=dist_arr_1, name=name_1)\n",
    "\n",
    "    dist_arr_2 = pdist(df[name_2].transpose(), metric='cosine')\n",
    "    ser_dist_2 = pd.Series(data=dist_arr_2, name=name_2)\n",
    "    df_dist = pd.concat([ser_dist_1, ser_dist_2], axis=1)\n",
    "\n",
    "    inst_corr = 1 - pdist(df_dist.transpose(), metric='correlation')\n",
    "    print(name_1, 'vs', name_2, inst_corr[0])"
   ]
  },
  {
   "cell_type": "markdown",
   "metadata": {},
   "source": [
    "#### ADT vs GEX"
   ]
  },
  {
   "cell_type": "code",
   "execution_count": 32,
   "metadata": {},
   "outputs": [
    {
     "name": "stdout",
     "output_type": "stream",
     "text": [
      "adt-ini vs gex-filt 0.670118808363\n"
     ]
    }
   ],
   "source": [
    "corr_datasets('adt-ini', 'gex-filt')"
   ]
  },
  {
   "cell_type": "markdown",
   "metadata": {},
   "source": [
    "#### ADT GEX vs UMI"
   ]
  },
  {
   "cell_type": "code",
   "execution_count": 33,
   "metadata": {},
   "outputs": [
    {
     "name": "stdout",
     "output_type": "stream",
     "text": [
      "adt-ini vs gex-filt-umi 0.669929648801\n"
     ]
    }
   ],
   "source": [
    "corr_datasets('adt-ini', 'gex-filt-umi')"
   ]
  },
  {
   "cell_type": "code",
   "execution_count": 30,
   "metadata": {},
   "outputs": [
    {
     "data": {
      "text/plain": [
       "0.66992964880080408"
      ]
     },
     "execution_count": 30,
     "metadata": {},
     "output_type": "execute_result"
    }
   ],
   "source": [
    "corr_datasets('adt-ini', 'gex-filt-umi')"
   ]
  },
  {
   "cell_type": "markdown",
   "metadata": {},
   "source": [
    "##### Make Z-scored versions of the data"
   ]
  },
  {
   "cell_type": "code",
   "execution_count": null,
   "metadata": {},
   "outputs": [],
   "source": [
    "# # z-scored ADT\n",
    "# net.load_df(df['adt-ini'])\n",
    "# net.normalize(axis='row', norm_type='zscore')\n",
    "# df['adt-z'] = net.export_df()\n",
    "\n",
    "df['adt-z'] = df['adt-ini']\n",
    "\n",
    "# Z-scored 5K gex\n",
    "net.load_df(df['gex-filt'])\n",
    "net.normalize(axis='row', norm_type='zscore')\n",
    "df['gex-5K-z'] = net.export_df()\n",
    "\n",
    "# Z-scored 5KV-UMI gex\n",
    "net.load_df(df['gex-filt-umi'])\n",
    "net.normalize(axis='row', norm_type='zscore')\n",
    "df['gex-5K-umi-z'] = net.export_df()\n",
    "\n",
    "# Z-scored 5K-1K gex\n",
    "net.load_df(df['gex-filt'])\n",
    "net.filter_N_top(inst_rc='row', N_top=1000, rank_type='var')\n",
    "net.normalize(axis='row', norm_type='zscore')\n",
    "df['gex-5K-1K-z'] = net.export_df()\n",
    "\n",
    "# Z-scored 5KV-1K-UMI gex\n",
    "net.load_df(df['gex-filt-umi'])\n",
    "net.filter_N_top(inst_rc='row', N_top=1000, rank_type='var')\n",
    "net.normalize(axis='row', norm_type='zscore')\n",
    "df['gex-5K-1K-umi-z'] = net.export_df()\n",
    "\n",
    "# Z-scored 5K-1H gex\n",
    "net.load_df(df['gex-filt'])\n",
    "net.filter_N_top(inst_rc='row', N_top=100, rank_type='var')\n",
    "net.normalize(axis='row', norm_type='zscore')\n",
    "df['gex-5K-1H-z'] = net.export_df()\n",
    "\n",
    "# Z-scored 5KV-1H-UMI gex\n",
    "net.load_df(df['gex-filt-umi'])\n",
    "net.filter_N_top(inst_rc='row', N_top=100, rank_type='var')\n",
    "net.normalize(axis='row', norm_type='zscore')\n",
    "df['gex-5K-1H-umi-z'] = net.export_df()\n",
    "\n",
    "# Z-scored 5K-50 gex\n",
    "net.load_df(df['gex-filt'])\n",
    "net.filter_N_top(inst_rc='row', N_top=50, rank_type='var')\n",
    "net.normalize(axis='row', norm_type='zscore')\n",
    "df['gex-5K-50-z'] = net.export_df()\n",
    "\n",
    "# Z-scored 5KV-50-UMI gex\n",
    "net.load_df(df['gex-filt-umi'])\n",
    "net.filter_N_top(inst_rc='row', N_top=50, rank_type='var')\n",
    "net.normalize(axis='row', norm_type='zscore')\n",
    "df['gex-5K-50-umi-z'] = net.export_df()"
   ]
  },
  {
   "cell_type": "code",
   "execution_count": null,
   "metadata": {},
   "outputs": [],
   "source": [
    "corr_datasets('adt-z', 'gex-5K-z')\n",
    "corr_datasets('adt-z', 'gex-5K-umi-z')"
   ]
  },
  {
   "cell_type": "code",
   "execution_count": 44,
   "metadata": {},
   "outputs": [
    {
     "name": "stdout",
     "output_type": "stream",
     "text": [
      "adt-z vs gex-5K-1K-z 0.630417530262\n",
      "adt-z vs gex-5K-1K-umi-z 0.706515334859\n"
     ]
    }
   ],
   "source": [
    "corr_datasets('adt-z', 'gex-5K-1K-z')\n",
    "corr_datasets('adt-z', 'gex-5K-1K-umi-z')"
   ]
  },
  {
   "cell_type": "code",
   "execution_count": 45,
   "metadata": {},
   "outputs": [
    {
     "name": "stdout",
     "output_type": "stream",
     "text": [
      "adt-z vs gex-5K-1H-z 0.685659326402\n",
      "adt-z vs gex-5K-1H-umi-z 0.729042130795\n"
     ]
    }
   ],
   "source": [
    "corr_datasets('adt-z', 'gex-5K-1H-z')\n",
    "corr_datasets('adt-z', 'gex-5K-1H-umi-z')"
   ]
  },
  {
   "cell_type": "code",
   "execution_count": null,
   "metadata": {},
   "outputs": [],
   "source": [
    "corr_datasets('adt-z', 'gex-5K-50-z')\n",
    "corr_datasets('adt-z', 'gex-5K-50-umi-z')"
   ]
  },
  {
   "cell_type": "code",
   "execution_count": 42,
   "metadata": {},
   "outputs": [
    {
     "data": {
      "application/vnd.jupyter.widget-view+json": {
       "model_id": "5410be10037d4332bb1cacb2206c6be4",
       "version_major": 2,
       "version_minor": 0
      },
      "text/plain": [
       "ExampleWidget(network='{\"row_nodes\": [{\"name\": \"CD3\", \"ini\": 10, \"clust\": 1, \"rank\": 4, \"rankvar\": 2, \"group\":…"
      ]
     },
     "metadata": {},
     "output_type": "display_data"
    }
   ],
   "source": [
    "net.load_df(df['adt-ini'])\n",
    "# net.filter_N_top(inst_rc='row', N_top=100, rank_type='var')\n",
    "# net.normalize(axis='row', norm_type='zscore')\n",
    "net.widget()"
   ]
  },
  {
   "cell_type": "code",
   "execution_count": 12,
   "metadata": {},
   "outputs": [],
   "source": [
    "# net.load_df(df['gex-cat-filt'])\n",
    "# net.filter_N_top(inst_rc='row', N_top=100, rank_type='var')\n",
    "# net.normalize(axis='row', norm_type='zscore')\n",
    "# net.widget()"
   ]
  },
  {
   "cell_type": "code",
   "execution_count": null,
   "metadata": {},
   "outputs": [],
   "source": []
  },
  {
   "cell_type": "code",
   "execution_count": null,
   "metadata": {},
   "outputs": [],
   "source": []
  }
 ],
 "metadata": {
  "kernelspec": {
   "display_name": "Python 3",
   "language": "python",
   "name": "python3"
  },
  "language_info": {
   "codemirror_mode": {
    "name": "ipython",
    "version": 3
   },
   "file_extension": ".py",
   "mimetype": "text/x-python",
   "name": "python",
   "nbconvert_exporter": "python",
   "pygments_lexer": "ipython3",
   "version": "3.6.6"
  }
 },
 "nbformat": 4,
 "nbformat_minor": 2
}
