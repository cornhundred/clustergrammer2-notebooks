{
 "cells": [
  {
   "cell_type": "markdown",
   "metadata": {},
   "source": [
    "# 5.0 MNIST"
   ]
  },
  {
   "cell_type": "code",
   "execution_count": 1,
   "metadata": {},
   "outputs": [
    {
     "name": "stdout",
     "output_type": "stream",
     "text": [
      "clustergrammer2 backend version 0.2.9\n"
     ]
    }
   ],
   "source": [
    "from clustergrammer2 import net\n",
    "df = {}"
   ]
  },
  {
   "cell_type": "code",
   "execution_count": null,
   "metadata": {},
   "outputs": [],
   "source": [
    "import clustergrammer_groupby as cby\n",
    "from copy import deepcopy\n",
    "import random\n",
    "random.seed(99)"
   ]
  },
  {
   "cell_type": "code",
   "execution_count": null,
   "metadata": {},
   "outputs": [],
   "source": [
    "net.load_file('../data/big_data/MNIST_row_labels.txt')\n",
    "df['mnist'] = net.export_df()\n",
    "df['mnist'].shape"
   ]
  },
  {
   "cell_type": "code",
   "execution_count": null,
   "metadata": {},
   "outputs": [],
   "source": [
    "cols = df['mnist'].columns.tolist()\n",
    "new_cols = [(x, 'Digit: ' + x.split('-')[0]) for x in cols]\n",
    "df['mnist-cat'] = deepcopy(df['mnist'])\n",
    "df['mnist-cat'].columns = new_cols\n",
    "print(new_cols[0])"
   ]
  },
  {
   "cell_type": "markdown",
   "metadata": {},
   "source": [
    "### Make Train and Predict"
   ]
  },
  {
   "cell_type": "code",
   "execution_count": null,
   "metadata": {},
   "outputs": [],
   "source": [
    "cols = df['mnist-cat'].columns.tolist()\n",
    "random.shuffle(cols)\n",
    "df['mnist-train'] = df['mnist-cat'][cols[:35000]]\n",
    "df['mnist-pred'] = df['mnist-cat'][cols[35000:]]\n",
    "print(df['mnist-train'].shape, df['mnist-pred'].shape)"
   ]
  },
  {
   "cell_type": "markdown",
   "metadata": {},
   "source": [
    "### Make Z-scored Data"
   ]
  },
  {
   "cell_type": "code",
   "execution_count": null,
   "metadata": {},
   "outputs": [],
   "source": [
    "net.load_df(df['mnist-train'])\n",
    "net.normalize(axis='row', norm_type='zscore')\n",
    "df['mnist-train-z'] = net.export_df()"
   ]
  },
  {
   "cell_type": "code",
   "execution_count": null,
   "metadata": {},
   "outputs": [],
   "source": [
    "net.load_df(df['mnist-pred'])\n",
    "net.normalize(axis='row', norm_type='zscore')\n",
    "df['mnist-pred-z'] = net.export_df()"
   ]
  },
  {
   "cell_type": "markdown",
   "metadata": {},
   "source": [
    "### Make Signatures"
   ]
  },
  {
   "cell_type": "code",
   "execution_count": null,
   "metadata": {},
   "outputs": [],
   "source": [
    "pval_cutoff = 0.00001\n",
    "num_top_dims = 50"
   ]
  },
  {
   "cell_type": "code",
   "execution_count": null,
   "metadata": {},
   "outputs": [],
   "source": [
    "df['sig'], keep_genes_dict, df_gene_pval, fold_info = cby.generate_signatures(df['mnist-train'],\n",
    "                                                                     'Digit', num_top_dims=num_top_dims)\n",
    "df['sig'].shape"
   ]
  },
  {
   "cell_type": "code",
   "execution_count": null,
   "metadata": {},
   "outputs": [],
   "source": [
    "df['sig-z'], keep_genes_dict, df_gene_pval, fold_info = cby.generate_signatures(df['mnist-train-z'],\n",
    "                                                                     'Digit', num_top_dims=num_top_dims)\n",
    "df['sig-z'].shape"
   ]
  },
  {
   "cell_type": "code",
   "execution_count": null,
   "metadata": {},
   "outputs": [],
   "source": [
    "net.load_df(df['sig'])\n",
    "net.widget()"
   ]
  },
  {
   "cell_type": "code",
   "execution_count": null,
   "metadata": {},
   "outputs": [],
   "source": [
    "net.load_df(df['sig-z'])\n",
    "net.widget()"
   ]
  },
  {
   "cell_type": "markdown",
   "metadata": {},
   "source": [
    "# Predict Digit Type Using Signatures"
   ]
  },
  {
   "cell_type": "markdown",
   "metadata": {},
   "source": [
    "### Raw Data"
   ]
  },
  {
   "cell_type": "code",
   "execution_count": null,
   "metadata": {},
   "outputs": [],
   "source": [
    "# Predict\n",
    "##################\n",
    "df_pred_cat, df_sig_sim, y_info = cby.predict_cats_from_sigs(df['mnist-pred'], df['sig'], truth_level=1,\n",
    "                                                                   predict_level='Pred Digit', unknown_thresh=0.0)\n",
    "\n",
    "df_conf, population, ser_correct, fraction_correct = cby.confusion_matrix_and_correct_series(y_info)\n",
    "print('Predict: ', fraction_correct)\n",
    "\n",
    "df_conf, population, ser_correct, fraction_correct = cby.confusion_matrix_and_correct_series(y_info)\n",
    "print('\\nbroad cell type: ', fraction_correct, '\\n')\n",
    "print(ser_correct.sort_values(ascending=False))"
   ]
  },
  {
   "cell_type": "code",
   "execution_count": null,
   "metadata": {},
   "outputs": [],
   "source": [
    "df_pred_cat.shape"
   ]
  },
  {
   "cell_type": "code",
   "execution_count": null,
   "metadata": {},
   "outputs": [],
   "source": [
    "net.load_df(df_pred_cat)\n",
    "net.random_sample(axis='col', num_samples=2500, random_state=100)\n",
    "net.widget()"
   ]
  },
  {
   "cell_type": "markdown",
   "metadata": {},
   "source": [
    "### Z-scored Data"
   ]
  },
  {
   "cell_type": "code",
   "execution_count": null,
   "metadata": {},
   "outputs": [],
   "source": [
    "# Predict\n",
    "##################\n",
    "df_pred_cat, df_sig_sim, y_info = cby.predict_cats_from_sigs(df['mnist-pred-z'], df['sig-z'], truth_level=1,\n",
    "                                                                   predict_level='Pred Digit', unknown_thresh=0.0)\n",
    "\n",
    "df_conf, population, ser_correct, fraction_correct = cby.confusion_matrix_and_correct_series(y_info)\n",
    "print('Predict: ', fraction_correct)\n",
    "\n",
    "df_conf, population, ser_correct, fraction_correct = cby.confusion_matrix_and_correct_series(y_info)\n",
    "print('\\nbroad cell type: ', fraction_correct, '\\n')\n",
    "print(ser_correct.sort_values(ascending=False))"
   ]
  },
  {
   "cell_type": "code",
   "execution_count": null,
   "metadata": {},
   "outputs": [],
   "source": []
  }
 ],
 "metadata": {
  "kernelspec": {
   "display_name": "Python 3",
   "language": "python",
   "name": "python3"
  },
  "language_info": {
   "codemirror_mode": {
    "name": "ipython",
    "version": 3
   },
   "file_extension": ".py",
   "mimetype": "text/x-python",
   "name": "python",
   "nbconvert_exporter": "python",
   "pygments_lexer": "ipython3",
   "version": "3.6.6"
  }
 },
 "nbformat": 4,
 "nbformat_minor": 2
}
