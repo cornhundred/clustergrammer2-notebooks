{
 "cells": [
  {
   "cell_type": "markdown",
   "metadata": {},
   "source": [
    "# 5.0 MNIST\n",
    "We are getting ~80 correct predictions. This might be because the ten digit signatures are insufficient to capture the different variation of each digit. We might try to define the different flavors of each digit using a round of k-means clustering and labeling in the training dataset then a \"narrow\" signature definition, then prediction on the test dataset using this narrow set of signatures. Also, visualization of these digits as images will be useful. We can also carry over the similarity score as a value based category or use it to generate a ROC curve. "
   ]
  },
  {
   "cell_type": "code",
   "execution_count": 1,
   "metadata": {},
   "outputs": [
    {
     "name": "stdout",
     "output_type": "stream",
     "text": [
      "clustergrammer2 backend version 0.2.9\n"
     ]
    }
   ],
   "source": [
    "from clustergrammer2 import net\n",
    "df = {}"
   ]
  },
  {
   "cell_type": "code",
   "execution_count": 2,
   "metadata": {},
   "outputs": [],
   "source": [
    "import clustergrammer_groupby as cby\n",
    "from copy import deepcopy\n",
    "import random\n",
    "random.seed(99)"
   ]
  },
  {
   "cell_type": "code",
   "execution_count": 3,
   "metadata": {},
   "outputs": [
    {
     "data": {
      "text/plain": [
       "(784, 70000)"
      ]
     },
     "execution_count": 3,
     "metadata": {},
     "output_type": "execute_result"
    }
   ],
   "source": [
    "net.load_file('../data/big_data/MNIST_row_labels.txt')\n",
    "df['mnist'] = net.export_df()\n",
    "df['mnist'].shape"
   ]
  },
  {
   "cell_type": "code",
   "execution_count": 4,
   "metadata": {},
   "outputs": [
    {
     "name": "stdout",
     "output_type": "stream",
     "text": [
      "('Zero-0', 'Digit: Zero')\n"
     ]
    }
   ],
   "source": [
    "cols = df['mnist'].columns.tolist()\n",
    "new_cols = [(x, 'Digit: ' + x.split('-')[0]) for x in cols]\n",
    "df['mnist-cat'] = deepcopy(df['mnist'])\n",
    "df['mnist-cat'].columns = new_cols\n",
    "print(new_cols[0])"
   ]
  },
  {
   "cell_type": "markdown",
   "metadata": {},
   "source": [
    "### Make Train and Predict"
   ]
  },
  {
   "cell_type": "code",
   "execution_count": 5,
   "metadata": {},
   "outputs": [
    {
     "name": "stdout",
     "output_type": "stream",
     "text": [
      "(784, 35000) (784, 35000)\n"
     ]
    }
   ],
   "source": [
    "cols = df['mnist-cat'].columns.tolist()\n",
    "random.shuffle(cols)\n",
    "df['mnist-train'] = df['mnist-cat'][cols[:35000]]\n",
    "df['mnist-pred'] = df['mnist-cat'][cols[35000:]]\n",
    "print(df['mnist-train'].shape, df['mnist-pred'].shape)\n",
    "\n",
    "net.load_df(df['mnist-train'])\n",
    "net.normalize(axis='row', norm_type='zscore')\n",
    "df['mnist-train-z'] = net.export_df()\n",
    "\n",
    "net.load_df(df['mnist-pred'])\n",
    "net.normalize(axis='row', norm_type='zscore')\n",
    "df['mnist-pred-z'] = net.export_df()"
   ]
  },
  {
   "cell_type": "markdown",
   "metadata": {},
   "source": [
    "### Make Signatures"
   ]
  },
  {
   "cell_type": "code",
   "execution_count": 7,
   "metadata": {},
   "outputs": [
    {
     "name": "stdout",
     "output_type": "stream",
     "text": [
      " (276, 10)\n"
     ]
    },
    {
     "name": "stderr",
     "output_type": "stream",
     "text": [
      "/Users/nickfernandez/anaconda3/envs/py36lab/lib/python3.6/site-packages/scipy/stats/_distn_infrastructure.py:879: RuntimeWarning: invalid value encountered in greater\n",
      "  return (self.a < x) & (x < self.b)\n",
      "/Users/nickfernandez/anaconda3/envs/py36lab/lib/python3.6/site-packages/scipy/stats/_distn_infrastructure.py:879: RuntimeWarning: invalid value encountered in less\n",
      "  return (self.a < x) & (x < self.b)\n",
      "/Users/nickfernandez/anaconda3/envs/py36lab/lib/python3.6/site-packages/scipy/stats/_distn_infrastructure.py:1821: RuntimeWarning: invalid value encountered in less_equal\n",
      "  cond2 = cond0 & (x <= self.a)\n"
     ]
    },
    {
     "name": "stdout",
     "output_type": "stream",
     "text": [
      "-z (276, 10)\n"
     ]
    }
   ],
   "source": [
    "pval_cutoff = 0.00001\n",
    "num_top_dims = 50\n",
    "for inst_norm in ['', '-z']:\n",
    "    df['sig' + inst_norm], keep_genes_dict, df_gene_pval, fold_info = cby.generate_signatures(\n",
    "                                                                         df['mnist-train' + inst_norm],\n",
    "                                                                         'Digit', num_top_dims=num_top_dims)\n",
    "    print(inst_norm, df['sig' + inst_norm].shape)"
   ]
  },
  {
   "cell_type": "code",
   "execution_count": 8,
   "metadata": {},
   "outputs": [],
   "source": [
    "def set_cat_colors(cat_color, axis, cat_index, cat_title=False):\n",
    "    for inst_ct in cat_color:\n",
    "        if cat_title != False:\n",
    "            cat_name = cat_title + ': ' + inst_ct\n",
    "        else:\n",
    "            cat_name = inst_ct\n",
    "            \n",
    "        inst_color = cat_color[inst_ct]\n",
    "        net.set_cat_color(axis=axis, cat_index=cat_index, cat_name=cat_name, inst_color=inst_color)"
   ]
  },
  {
   "cell_type": "code",
   "execution_count": 9,
   "metadata": {},
   "outputs": [
    {
     "data": {
      "text/plain": [
       "{'Eight': '#393b79',\n",
       " 'Five': '#ff7f0e',\n",
       " 'Four': 'blue',\n",
       " 'Nine': 'grey',\n",
       " 'One': 'black',\n",
       " 'Seven': 'red',\n",
       " 'Six': '#FFDB58',\n",
       " 'Three': '#e377c2',\n",
       " 'Two': '#2ca02c',\n",
       " 'Zero': 'yellow'}"
      ]
     },
     "execution_count": 9,
     "metadata": {},
     "output_type": "execute_result"
    }
   ],
   "source": [
    "net.load_df(df['sig'])\n",
    "net.cluster()\n",
    "tmp_cat_color = deepcopy(net.viz['cat_colors']['col']['cat-0'])\n",
    "cat_color = {}\n",
    "for inst_key in tmp_cat_color:\n",
    "    cat_color[inst_key.split(': ')[1]] = tmp_cat_color[inst_key]\n",
    "    \n",
    "cat_color['Zero'] = 'yellow'\n",
    "cat_color['Four'] = 'blue'\n",
    "cat_color['Seven'] = 'red'\n",
    "cat_color['Nine'] = 'grey'\n",
    "cat_color['One'] = 'black'\n",
    "cat_color  "
   ]
  },
  {
   "cell_type": "code",
   "execution_count": 10,
   "metadata": {},
   "outputs": [],
   "source": [
    "set_cat_colors(cat_color, axis='col', cat_index=1, cat_title='Digit')"
   ]
  },
  {
   "cell_type": "code",
   "execution_count": 11,
   "metadata": {},
   "outputs": [
    {
     "data": {
      "application/vnd.jupyter.widget-view+json": {
       "model_id": "2e7450d01a7a4fe2a3f51db4c36ebfb6",
       "version_major": 2,
       "version_minor": 0
      },
      "text/plain": [
       "ExampleWidget(network='{\"row_nodes\": [{\"name\": \"pos_10-10\", \"ini\": 276, \"clust\": 234, \"rank\": 218, \"rankvar\": …"
      ]
     },
     "metadata": {},
     "output_type": "display_data"
    }
   ],
   "source": [
    "net.load_df(df['sig'])\n",
    "net.widget()"
   ]
  },
  {
   "cell_type": "code",
   "execution_count": 12,
   "metadata": {},
   "outputs": [
    {
     "data": {
      "application/vnd.jupyter.widget-view+json": {
       "model_id": "98199c46f16d4720ab8be42a1be18409",
       "version_major": 2,
       "version_minor": 0
      },
      "text/plain": [
       "ExampleWidget(network='{\"row_nodes\": [{\"name\": \"pos_10-10\", \"ini\": 276, \"clust\": 60, \"rank\": 264, \"rankvar\": 1…"
      ]
     },
     "metadata": {},
     "output_type": "display_data"
    }
   ],
   "source": [
    "net.load_df(df['sig-z'])\n",
    "net.widget()"
   ]
  },
  {
   "cell_type": "markdown",
   "metadata": {},
   "source": [
    "# Predict Digit Type Using Signatures"
   ]
  },
  {
   "cell_type": "markdown",
   "metadata": {},
   "source": [
    "### Raw Data"
   ]
  },
  {
   "cell_type": "code",
   "execution_count": 13,
   "metadata": {},
   "outputs": [
    {
     "name": "stdout",
     "output_type": "stream",
     "text": [
      "Predict:  0.813285714286\n",
      "\n",
      "broad cell type:  0.813285714286 \n",
      "\n",
      "One      0.929062\n",
      "Zero     0.901891\n",
      "Six      0.884470\n",
      "Seven    0.819078\n",
      "Four     0.806868\n",
      "Three    0.795187\n",
      "Two      0.789069\n",
      "Nine     0.784588\n",
      "Eight    0.749117\n",
      "Five     0.644683\n",
      "dtype: float64\n"
     ]
    }
   ],
   "source": [
    "# Predict\n",
    "##################\n",
    "df_pred_cat, df_sig_sim, y_info = cby.predict_cats_from_sigs(df['mnist-pred'], df['sig'], truth_level=1,\n",
    "                                                                   predict_level='Pred Digit', unknown_thresh=0.0)\n",
    "\n",
    "df_conf, population, ser_correct, fraction_correct = cby.confusion_matrix_and_correct_series(y_info)\n",
    "print('Predict: ', fraction_correct)\n",
    "\n",
    "df_conf, population, ser_correct, fraction_correct = cby.confusion_matrix_and_correct_series(y_info)\n",
    "print('\\nbroad cell type: ', fraction_correct, '\\n')\n",
    "print(ser_correct.sort_values(ascending=False))"
   ]
  },
  {
   "cell_type": "code",
   "execution_count": 14,
   "metadata": {},
   "outputs": [
    {
     "data": {
      "text/plain": [
       "(276, 35000)"
      ]
     },
     "execution_count": 14,
     "metadata": {},
     "output_type": "execute_result"
    }
   ],
   "source": [
    "df_pred_cat.shape"
   ]
  },
  {
   "cell_type": "code",
   "execution_count": 15,
   "metadata": {},
   "outputs": [],
   "source": [
    "net.load_df(df_pred_cat)\n",
    "set_cat_colors(cat_color, axis='col', cat_index=2, cat_title='Pred Digit')"
   ]
  },
  {
   "cell_type": "code",
   "execution_count": 16,
   "metadata": {},
   "outputs": [
    {
     "data": {
      "application/vnd.jupyter.widget-view+json": {
       "model_id": "72e2d82fd0ce438faa24c890983cec57",
       "version_major": 2,
       "version_minor": 0
      },
      "text/plain": [
       "ExampleWidget(network='{\"row_nodes\": [{\"name\": \"pos_4-12\", \"ini\": 276, \"clust\": 23, \"rank\": 56, \"rankvar\": 54,…"
      ]
     },
     "metadata": {},
     "output_type": "display_data"
    }
   ],
   "source": [
    "net.load_df(df_pred_cat)\n",
    "net.random_sample(axis='col', num_samples=2500, random_state=100)\n",
    "net.widget()"
   ]
  },
  {
   "cell_type": "markdown",
   "metadata": {},
   "source": [
    "### Z-scored Data"
   ]
  },
  {
   "cell_type": "code",
   "execution_count": 17,
   "metadata": {},
   "outputs": [
    {
     "name": "stdout",
     "output_type": "stream",
     "text": [
      "Predict:  0.790514285714\n",
      "\n",
      "broad cell type:  0.790514285714 \n",
      "\n",
      "One      0.964404\n",
      "Zero     0.904255\n",
      "Six      0.837446\n",
      "Seven    0.835332\n",
      "Four     0.793367\n",
      "Three    0.773923\n",
      "Two      0.750071\n",
      "Nine     0.739054\n",
      "Eight    0.662544\n",
      "Five     0.602398\n",
      "dtype: float64\n"
     ]
    }
   ],
   "source": [
    "# Predict\n",
    "##################\n",
    "df_pred_cat, df_sig_sim, y_info = cby.predict_cats_from_sigs(df['mnist-pred-z'], df['sig-z'], truth_level=1,\n",
    "                                                                   predict_level='Pred Digit', unknown_thresh=0.0)\n",
    "\n",
    "df_sig_sim.columns = df_pred_cat.columns.tolist()\n",
    "df_conf, population, ser_correct, fraction_correct = cby.confusion_matrix_and_correct_series(y_info)\n",
    "print('Predict: ', fraction_correct)\n",
    "\n",
    "df_conf, population, ser_correct, fraction_correct = cby.confusion_matrix_and_correct_series(y_info)\n",
    "print('\\nbroad cell type: ', fraction_correct, '\\n')\n",
    "print(ser_correct.sort_values(ascending=False))"
   ]
  },
  {
   "cell_type": "code",
   "execution_count": 18,
   "metadata": {},
   "outputs": [
    {
     "data": {
      "text/plain": [
       "(10, 10)"
      ]
     },
     "execution_count": 18,
     "metadata": {},
     "output_type": "execute_result"
    }
   ],
   "source": [
    "df_conf.shape"
   ]
  },
  {
   "cell_type": "code",
   "execution_count": 19,
   "metadata": {},
   "outputs": [],
   "source": [
    "# net.load_df(df_conf)\n",
    "# net.widget()"
   ]
  },
  {
   "cell_type": "code",
   "execution_count": 20,
   "metadata": {},
   "outputs": [
    {
     "data": {
      "text/plain": [
       "(10, 35000)"
      ]
     },
     "execution_count": 20,
     "metadata": {},
     "output_type": "execute_result"
    }
   ],
   "source": [
    "df_sig_sim.shape"
   ]
  },
  {
   "cell_type": "markdown",
   "metadata": {},
   "source": [
    "# Coarse Grained Digits\n",
    "At the coarse grained level we appear to be able to distinguish\n",
    "* Three-Five-Eight\n",
    "* One\n",
    "* Zero-Two-Six\n",
    "* Four-Seven-Nine"
   ]
  },
  {
   "cell_type": "code",
   "execution_count": 21,
   "metadata": {},
   "outputs": [
    {
     "data": {
      "application/vnd.jupyter.widget-view+json": {
       "model_id": "fb0ad5c198f54bc88812928229b20a1f",
       "version_major": 2,
       "version_minor": 0
      },
      "text/plain": [
       "ExampleWidget(network='{\"row_nodes\": [{\"name\": \"Eight\", \"ini\": 10, \"clust\": 7, \"rank\": 5, \"rankvar\": 1, \"cat-0…"
      ]
     },
     "metadata": {},
     "output_type": "display_data"
    }
   ],
   "source": [
    "net.load_df(df_sig_sim)\n",
    "net.random_sample(axis='col', num_samples=2500, random_state=99)\n",
    "net.load_df(net.export_df().round(2))\n",
    "net.widget()"
   ]
  },
  {
   "cell_type": "code",
   "execution_count": 22,
   "metadata": {},
   "outputs": [
    {
     "data": {
      "application/vnd.jupyter.widget-view+json": {
       "model_id": "ce1b30a8d13f420d8d07fbc4052481dc",
       "version_major": 2,
       "version_minor": 0
      },
      "text/plain": [
       "ExampleWidget(network='{\"row_nodes\": [{\"name\": \"pos_4-12\", \"ini\": 276, \"clust\": 92, \"rank\": 45, \"rankvar\": 26,…"
      ]
     },
     "metadata": {},
     "output_type": "display_data"
    }
   ],
   "source": [
    "net.load_df(df_pred_cat)\n",
    "net.random_sample(axis='col', num_samples=2500, random_state=99)\n",
    "net.load_df(net.export_df().round(2))\n",
    "net.widget()"
   ]
  },
  {
   "cell_type": "markdown",
   "metadata": {},
   "source": [
    "# Experiment Three-Five-Eight"
   ]
  },
  {
   "cell_type": "code",
   "execution_count": 70,
   "metadata": {},
   "outputs": [
    {
     "name": "stdout",
     "output_type": "stream",
     "text": [
      "(784, 35000) (784, 35000)\n",
      "Three-Five-Eight (784, 10065)\n",
      "Four-Seven-Nine (784, 10585)\n",
      "Zero-Two-Six (784, 10410)\n",
      " (127, 3)\n"
     ]
    },
    {
     "name": "stderr",
     "output_type": "stream",
     "text": [
      "/Users/nickfernandez/anaconda3/envs/py36lab/lib/python3.6/site-packages/scipy/stats/_distn_infrastructure.py:879: RuntimeWarning: invalid value encountered in greater\n",
      "  return (self.a < x) & (x < self.b)\n",
      "/Users/nickfernandez/anaconda3/envs/py36lab/lib/python3.6/site-packages/scipy/stats/_distn_infrastructure.py:879: RuntimeWarning: invalid value encountered in less\n",
      "  return (self.a < x) & (x < self.b)\n",
      "/Users/nickfernandez/anaconda3/envs/py36lab/lib/python3.6/site-packages/scipy/stats/_distn_infrastructure.py:1821: RuntimeWarning: invalid value encountered in less_equal\n",
      "  cond2 = cond0 & (x <= self.a)\n"
     ]
    },
    {
     "name": "stdout",
     "output_type": "stream",
     "text": [
      "-z (124, 3)\n"
     ]
    }
   ],
   "source": [
    "cols = df['mnist-cat'].columns.tolist()\n",
    "\n",
    "keep_digits = {}\n",
    "keep_digits['Three-Five-Eight'] = ['Three', 'Five', 'Eight']\n",
    "keep_digits['Four-Seven-Nine'] = ['Four', 'Seven', 'Nine']\n",
    "keep_digits['Zero-Two-Six'] = ['Zero', 'Two', 'Six']\n",
    "\n",
    "random.shuffle(cols)\n",
    "\n",
    "df['mnist-train'] = df['mnist-cat'][cols[:35000]]\n",
    "df['mnist-pred'] = df['mnist-cat'][cols[35000:]]\n",
    "print(df['mnist-train'].shape, df['mnist-pred'].shape)\n",
    "\n",
    "for inst_group in keep_digits:\n",
    "    cols = df['mnist-train']\n",
    "    keep_cols = [x for x in cols if x[1].split(': ')[1] in keep_digits[inst_group]]\n",
    "    df[inst_group] = df['mnist-train'][keep_cols]\n",
    "    print(inst_group, df[inst_group].shape)\n",
    "    \n",
    "    net.load_df(df[inst_group])\n",
    "    net.normalize(axis='row', norm_type='zscore')\n",
    "    df[inst_group + '-z'] = net.export_df()"
   ]
  },
  {
   "cell_type": "markdown",
   "metadata": {},
   "source": [
    "### Generate Signatures"
   ]
  },
  {
   "cell_type": "code",
   "execution_count": 76,
   "metadata": {},
   "outputs": [
    {
     "name": "stdout",
     "output_type": "stream",
     "text": [
      "Three-Five-Eight (105, 3)\n"
     ]
    },
    {
     "name": "stderr",
     "output_type": "stream",
     "text": [
      "/Users/nickfernandez/anaconda3/envs/py36lab/lib/python3.6/site-packages/scipy/stats/_distn_infrastructure.py:879: RuntimeWarning: invalid value encountered in greater\n",
      "  return (self.a < x) & (x < self.b)\n",
      "/Users/nickfernandez/anaconda3/envs/py36lab/lib/python3.6/site-packages/scipy/stats/_distn_infrastructure.py:879: RuntimeWarning: invalid value encountered in less\n",
      "  return (self.a < x) & (x < self.b)\n",
      "/Users/nickfernandez/anaconda3/envs/py36lab/lib/python3.6/site-packages/scipy/stats/_distn_infrastructure.py:1821: RuntimeWarning: invalid value encountered in less_equal\n",
      "  cond2 = cond0 & (x <= self.a)\n"
     ]
    },
    {
     "name": "stdout",
     "output_type": "stream",
     "text": [
      "Three-Five-Eight-z (105, 3)\n",
      "Four-Seven-Nine (98, 3)\n",
      "Four-Seven-Nine-z (98, 3)\n",
      "Zero-Two-Six (120, 3)\n",
      "Zero-Two-Six-z (123, 3)\n"
     ]
    }
   ],
   "source": [
    "# Generate Signatures\n",
    "pval_cutoff = 1e-10\n",
    "num_top_dims=50\n",
    "\n",
    "for inst_group in keep_digits:\n",
    "\n",
    "    for inst_norm in ['', '-z']:\n",
    "        df['sig-' + inst_group + '-' + inst_norm], keep_genes_dict, df_gene_pval, fold_info = cby.generate_signatures(\n",
    "                                                                             df[inst_group + inst_norm],\n",
    "                                                                             'Digit', pval_cutoff=pval_cutoff, \n",
    "                                                                              num_top_dims=num_top_dims)\n",
    "        print(inst_group + inst_norm, df['sig-' + inst_group + '-' + inst_norm].shape)    "
   ]
  },
  {
   "cell_type": "code",
   "execution_count": 38,
   "metadata": {},
   "outputs": [
    {
     "name": "stdout",
     "output_type": "stream",
     "text": [
      "Predict:  0.909090909091\n",
      "Zero    0.934527\n",
      "Six     0.923233\n",
      "Two     0.870508\n",
      "dtype: float64\n"
     ]
    }
   ],
   "source": [
    "# Predict\n",
    "##################\n",
    "df_pred_cat, df_sig_sim, y_info = cby.predict_cats_from_sigs(df['mnist-pred-358-z'], df['sig-z'], truth_level=1,\n",
    "                                                                   predict_level='Pred Digit', unknown_thresh=0.0)\n",
    "\n",
    "df_conf, population, ser_correct, fraction_correct = cby.confusion_matrix_and_correct_series(y_info)\n",
    "print('Predict: ', fraction_correct)\n",
    "\n",
    "df_conf, population, ser_correct, fraction_correct = cby.confusion_matrix_and_correct_series(y_info)\n",
    "print(ser_correct.sort_values(ascending=False))"
   ]
  },
  {
   "cell_type": "code",
   "execution_count": 39,
   "metadata": {},
   "outputs": [
    {
     "data": {
      "text/plain": [
       "(124, 10351)"
      ]
     },
     "execution_count": 39,
     "metadata": {},
     "output_type": "execute_result"
    }
   ],
   "source": [
    "df_pred_cat.shape"
   ]
  },
  {
   "cell_type": "code",
   "execution_count": 40,
   "metadata": {},
   "outputs": [
    {
     "data": {
      "application/vnd.jupyter.widget-view+json": {
       "model_id": "ef855c6169ca4570adf8a37a331f200d",
       "version_major": 2,
       "version_minor": 0
      },
      "text/plain": [
       "ExampleWidget(network='{\"row_nodes\": [{\"name\": \"pos_21-5\", \"ini\": 124, \"clust\": 105, \"rank\": 45, \"rankvar\": 11…"
      ]
     },
     "metadata": {},
     "output_type": "display_data"
    }
   ],
   "source": [
    "net.load_df(df_pred_cat)\n",
    "net.random_sample(axis='col', num_samples=2500, random_state=99)\n",
    "net.load_df(net.export_df().round(2))\n",
    "net.widget()"
   ]
  },
  {
   "cell_type": "markdown",
   "metadata": {},
   "source": [
    "# Experiment Merging Categories"
   ]
  },
  {
   "cell_type": "code",
   "execution_count": 54,
   "metadata": {},
   "outputs": [
    {
     "name": "stdout",
     "output_type": "stream",
     "text": [
      "(784, 35000) (784, 35000)\n",
      "(784, 35000)\n",
      "(784, 35000)\n"
     ]
    }
   ],
   "source": [
    "cols = df['mnist-cat'].columns.tolist()\n",
    "merge_358 = ['Three', 'Five', 'Eight']\n",
    "merge_479 = ['Four', 'Seven', 'Nine']\n",
    "merge_026 = ['Zero', 'Two', 'Six']\n",
    "\n",
    "random.shuffle(cols)\n",
    "\n",
    "df['mnist-train'] = df['mnist-cat'][cols[:35000]]\n",
    "df['mnist-pred'] = df['mnist-cat'][cols[35000:]]\n",
    "print(df['mnist-train'].shape, df['mnist-pred'].shape)\n",
    "\n",
    "for inst_data in ['mnist-train', 'mnist-pred']:\n",
    "    cols = df[inst_data]\n",
    "    new_cols = []\n",
    "    for inst_col in cols:\n",
    "        inst_cat = inst_col[1].split(': ')[1]\n",
    "        \n",
    "        if inst_cat in merge_358:\n",
    "            inst_cat = 'Three-Five-Eight'\n",
    "            \n",
    "        if inst_cat in merge_479:\n",
    "            inst_cat = 'Four-Seven-Nine' \n",
    "            \n",
    "        if inst_cat in merge_026:\n",
    "            inst_cat = 'Zero-Two-Six'\n",
    "            \n",
    "        new_col = (inst_col[0], 'Coarse: ' + inst_cat, inst_col[1])\n",
    "        new_cols.append(new_col)\n",
    "    \n",
    "    df[inst_data + '-coarse'] = deepcopy(df[inst_data])\n",
    "    df[inst_data + '-coarse'].columns = new_cols\n",
    "    print(df[inst_data + '-coarse'].shape)\n",
    "    \n",
    "    net.load_df(df[inst_data + '-coarse'])\n",
    "    net.normalize(axis='row', norm_type='zscore')\n",
    "    df[inst_data + '-coarse-z'] = net.export_df()"
   ]
  },
  {
   "cell_type": "code",
   "execution_count": 55,
   "metadata": {},
   "outputs": [
    {
     "data": {
      "text/html": [
       "<div>\n",
       "<style scoped>\n",
       "    .dataframe tbody tr th:only-of-type {\n",
       "        vertical-align: middle;\n",
       "    }\n",
       "\n",
       "    .dataframe tbody tr th {\n",
       "        vertical-align: top;\n",
       "    }\n",
       "\n",
       "    .dataframe thead th {\n",
       "        text-align: right;\n",
       "    }\n",
       "</style>\n",
       "<table border=\"1\" class=\"dataframe\">\n",
       "  <thead>\n",
       "    <tr style=\"text-align: right;\">\n",
       "      <th></th>\n",
       "      <th>(Zero-6747, Coarse: Zero-Two-Six, Digit: Zero)</th>\n",
       "      <th>(Eight-1066, Coarse: Three-Five-Eight, Digit: Eight)</th>\n",
       "      <th>(Five-6187, Coarse: Three-Five-Eight, Digit: Five)</th>\n",
       "      <th>(Four-3398, Coarse: Four-Seven-Nine, Digit: Four)</th>\n",
       "      <th>(Six-240, Coarse: Zero-Two-Six, Digit: Six)</th>\n",
       "      <th>(Six-5406, Coarse: Zero-Two-Six, Digit: Six)</th>\n",
       "      <th>(Six-1999, Coarse: Zero-Two-Six, Digit: Six)</th>\n",
       "      <th>(Three-5786, Coarse: Three-Five-Eight, Digit: Three)</th>\n",
       "      <th>(Two-3474, Coarse: Zero-Two-Six, Digit: Two)</th>\n",
       "      <th>(Two-1831, Coarse: Zero-Two-Six, Digit: Two)</th>\n",
       "      <th>...</th>\n",
       "      <th>(Zero-1263, Coarse: Zero-Two-Six, Digit: Zero)</th>\n",
       "      <th>(Six-5491, Coarse: Zero-Two-Six, Digit: Six)</th>\n",
       "      <th>(Seven-6341, Coarse: Four-Seven-Nine, Digit: Seven)</th>\n",
       "      <th>(Four-5211, Coarse: Four-Seven-Nine, Digit: Four)</th>\n",
       "      <th>(Five-676, Coarse: Three-Five-Eight, Digit: Five)</th>\n",
       "      <th>(Zero-6892, Coarse: Zero-Two-Six, Digit: Zero)</th>\n",
       "      <th>(Nine-6210, Coarse: Four-Seven-Nine, Digit: Nine)</th>\n",
       "      <th>(Six-3380, Coarse: Zero-Two-Six, Digit: Six)</th>\n",
       "      <th>(Nine-6503, Coarse: Four-Seven-Nine, Digit: Nine)</th>\n",
       "      <th>(Two-3294, Coarse: Zero-Two-Six, Digit: Two)</th>\n",
       "    </tr>\n",
       "  </thead>\n",
       "  <tbody>\n",
       "    <tr>\n",
       "      <th>pos_0-0</th>\n",
       "      <td>0</td>\n",
       "      <td>0</td>\n",
       "      <td>0</td>\n",
       "      <td>0</td>\n",
       "      <td>0</td>\n",
       "      <td>0</td>\n",
       "      <td>0</td>\n",
       "      <td>0</td>\n",
       "      <td>0</td>\n",
       "      <td>0</td>\n",
       "      <td>...</td>\n",
       "      <td>0</td>\n",
       "      <td>0</td>\n",
       "      <td>0</td>\n",
       "      <td>0</td>\n",
       "      <td>0</td>\n",
       "      <td>0</td>\n",
       "      <td>0</td>\n",
       "      <td>0</td>\n",
       "      <td>0</td>\n",
       "      <td>0</td>\n",
       "    </tr>\n",
       "    <tr>\n",
       "      <th>pos_0-1</th>\n",
       "      <td>0</td>\n",
       "      <td>0</td>\n",
       "      <td>0</td>\n",
       "      <td>0</td>\n",
       "      <td>0</td>\n",
       "      <td>0</td>\n",
       "      <td>0</td>\n",
       "      <td>0</td>\n",
       "      <td>0</td>\n",
       "      <td>0</td>\n",
       "      <td>...</td>\n",
       "      <td>0</td>\n",
       "      <td>0</td>\n",
       "      <td>0</td>\n",
       "      <td>0</td>\n",
       "      <td>0</td>\n",
       "      <td>0</td>\n",
       "      <td>0</td>\n",
       "      <td>0</td>\n",
       "      <td>0</td>\n",
       "      <td>0</td>\n",
       "    </tr>\n",
       "    <tr>\n",
       "      <th>pos_0-2</th>\n",
       "      <td>0</td>\n",
       "      <td>0</td>\n",
       "      <td>0</td>\n",
       "      <td>0</td>\n",
       "      <td>0</td>\n",
       "      <td>0</td>\n",
       "      <td>0</td>\n",
       "      <td>0</td>\n",
       "      <td>0</td>\n",
       "      <td>0</td>\n",
       "      <td>...</td>\n",
       "      <td>0</td>\n",
       "      <td>0</td>\n",
       "      <td>0</td>\n",
       "      <td>0</td>\n",
       "      <td>0</td>\n",
       "      <td>0</td>\n",
       "      <td>0</td>\n",
       "      <td>0</td>\n",
       "      <td>0</td>\n",
       "      <td>0</td>\n",
       "    </tr>\n",
       "    <tr>\n",
       "      <th>pos_0-3</th>\n",
       "      <td>0</td>\n",
       "      <td>0</td>\n",
       "      <td>0</td>\n",
       "      <td>0</td>\n",
       "      <td>0</td>\n",
       "      <td>0</td>\n",
       "      <td>0</td>\n",
       "      <td>0</td>\n",
       "      <td>0</td>\n",
       "      <td>0</td>\n",
       "      <td>...</td>\n",
       "      <td>0</td>\n",
       "      <td>0</td>\n",
       "      <td>0</td>\n",
       "      <td>0</td>\n",
       "      <td>0</td>\n",
       "      <td>0</td>\n",
       "      <td>0</td>\n",
       "      <td>0</td>\n",
       "      <td>0</td>\n",
       "      <td>0</td>\n",
       "    </tr>\n",
       "    <tr>\n",
       "      <th>pos_0-4</th>\n",
       "      <td>0</td>\n",
       "      <td>0</td>\n",
       "      <td>0</td>\n",
       "      <td>0</td>\n",
       "      <td>0</td>\n",
       "      <td>0</td>\n",
       "      <td>0</td>\n",
       "      <td>0</td>\n",
       "      <td>0</td>\n",
       "      <td>0</td>\n",
       "      <td>...</td>\n",
       "      <td>0</td>\n",
       "      <td>0</td>\n",
       "      <td>0</td>\n",
       "      <td>0</td>\n",
       "      <td>0</td>\n",
       "      <td>0</td>\n",
       "      <td>0</td>\n",
       "      <td>0</td>\n",
       "      <td>0</td>\n",
       "      <td>0</td>\n",
       "    </tr>\n",
       "  </tbody>\n",
       "</table>\n",
       "<p>5 rows × 35000 columns</p>\n",
       "</div>"
      ],
      "text/plain": [
       "         (Zero-6747, Coarse: Zero-Two-Six, Digit: Zero)  \\\n",
       "pos_0-0                                               0   \n",
       "pos_0-1                                               0   \n",
       "pos_0-2                                               0   \n",
       "pos_0-3                                               0   \n",
       "pos_0-4                                               0   \n",
       "\n",
       "         (Eight-1066, Coarse: Three-Five-Eight, Digit: Eight)  \\\n",
       "pos_0-0                                                  0      \n",
       "pos_0-1                                                  0      \n",
       "pos_0-2                                                  0      \n",
       "pos_0-3                                                  0      \n",
       "pos_0-4                                                  0      \n",
       "\n",
       "         (Five-6187, Coarse: Three-Five-Eight, Digit: Five)  \\\n",
       "pos_0-0                                                  0    \n",
       "pos_0-1                                                  0    \n",
       "pos_0-2                                                  0    \n",
       "pos_0-3                                                  0    \n",
       "pos_0-4                                                  0    \n",
       "\n",
       "         (Four-3398, Coarse: Four-Seven-Nine, Digit: Four)  \\\n",
       "pos_0-0                                                  0   \n",
       "pos_0-1                                                  0   \n",
       "pos_0-2                                                  0   \n",
       "pos_0-3                                                  0   \n",
       "pos_0-4                                                  0   \n",
       "\n",
       "         (Six-240, Coarse: Zero-Two-Six, Digit: Six)  \\\n",
       "pos_0-0                                            0   \n",
       "pos_0-1                                            0   \n",
       "pos_0-2                                            0   \n",
       "pos_0-3                                            0   \n",
       "pos_0-4                                            0   \n",
       "\n",
       "         (Six-5406, Coarse: Zero-Two-Six, Digit: Six)  \\\n",
       "pos_0-0                                             0   \n",
       "pos_0-1                                             0   \n",
       "pos_0-2                                             0   \n",
       "pos_0-3                                             0   \n",
       "pos_0-4                                             0   \n",
       "\n",
       "         (Six-1999, Coarse: Zero-Two-Six, Digit: Six)  \\\n",
       "pos_0-0                                             0   \n",
       "pos_0-1                                             0   \n",
       "pos_0-2                                             0   \n",
       "pos_0-3                                             0   \n",
       "pos_0-4                                             0   \n",
       "\n",
       "         (Three-5786, Coarse: Three-Five-Eight, Digit: Three)  \\\n",
       "pos_0-0                                                  0      \n",
       "pos_0-1                                                  0      \n",
       "pos_0-2                                                  0      \n",
       "pos_0-3                                                  0      \n",
       "pos_0-4                                                  0      \n",
       "\n",
       "         (Two-3474, Coarse: Zero-Two-Six, Digit: Two)  \\\n",
       "pos_0-0                                             0   \n",
       "pos_0-1                                             0   \n",
       "pos_0-2                                             0   \n",
       "pos_0-3                                             0   \n",
       "pos_0-4                                             0   \n",
       "\n",
       "         (Two-1831, Coarse: Zero-Two-Six, Digit: Two)  \\\n",
       "pos_0-0                                             0   \n",
       "pos_0-1                                             0   \n",
       "pos_0-2                                             0   \n",
       "pos_0-3                                             0   \n",
       "pos_0-4                                             0   \n",
       "\n",
       "                             ...                       \\\n",
       "pos_0-0                      ...                        \n",
       "pos_0-1                      ...                        \n",
       "pos_0-2                      ...                        \n",
       "pos_0-3                      ...                        \n",
       "pos_0-4                      ...                        \n",
       "\n",
       "         (Zero-1263, Coarse: Zero-Two-Six, Digit: Zero)  \\\n",
       "pos_0-0                                               0   \n",
       "pos_0-1                                               0   \n",
       "pos_0-2                                               0   \n",
       "pos_0-3                                               0   \n",
       "pos_0-4                                               0   \n",
       "\n",
       "         (Six-5491, Coarse: Zero-Two-Six, Digit: Six)  \\\n",
       "pos_0-0                                             0   \n",
       "pos_0-1                                             0   \n",
       "pos_0-2                                             0   \n",
       "pos_0-3                                             0   \n",
       "pos_0-4                                             0   \n",
       "\n",
       "         (Seven-6341, Coarse: Four-Seven-Nine, Digit: Seven)  \\\n",
       "pos_0-0                                                  0     \n",
       "pos_0-1                                                  0     \n",
       "pos_0-2                                                  0     \n",
       "pos_0-3                                                  0     \n",
       "pos_0-4                                                  0     \n",
       "\n",
       "         (Four-5211, Coarse: Four-Seven-Nine, Digit: Four)  \\\n",
       "pos_0-0                                                  0   \n",
       "pos_0-1                                                  0   \n",
       "pos_0-2                                                  0   \n",
       "pos_0-3                                                  0   \n",
       "pos_0-4                                                  0   \n",
       "\n",
       "         (Five-676, Coarse: Three-Five-Eight, Digit: Five)  \\\n",
       "pos_0-0                                                  0   \n",
       "pos_0-1                                                  0   \n",
       "pos_0-2                                                  0   \n",
       "pos_0-3                                                  0   \n",
       "pos_0-4                                                  0   \n",
       "\n",
       "         (Zero-6892, Coarse: Zero-Two-Six, Digit: Zero)  \\\n",
       "pos_0-0                                               0   \n",
       "pos_0-1                                               0   \n",
       "pos_0-2                                               0   \n",
       "pos_0-3                                               0   \n",
       "pos_0-4                                               0   \n",
       "\n",
       "         (Nine-6210, Coarse: Four-Seven-Nine, Digit: Nine)  \\\n",
       "pos_0-0                                                  0   \n",
       "pos_0-1                                                  0   \n",
       "pos_0-2                                                  0   \n",
       "pos_0-3                                                  0   \n",
       "pos_0-4                                                  0   \n",
       "\n",
       "         (Six-3380, Coarse: Zero-Two-Six, Digit: Six)  \\\n",
       "pos_0-0                                             0   \n",
       "pos_0-1                                             0   \n",
       "pos_0-2                                             0   \n",
       "pos_0-3                                             0   \n",
       "pos_0-4                                             0   \n",
       "\n",
       "         (Nine-6503, Coarse: Four-Seven-Nine, Digit: Nine)  \\\n",
       "pos_0-0                                                  0   \n",
       "pos_0-1                                                  0   \n",
       "pos_0-2                                                  0   \n",
       "pos_0-3                                                  0   \n",
       "pos_0-4                                                  0   \n",
       "\n",
       "         (Two-3294, Coarse: Zero-Two-Six, Digit: Two)  \n",
       "pos_0-0                                             0  \n",
       "pos_0-1                                             0  \n",
       "pos_0-2                                             0  \n",
       "pos_0-3                                             0  \n",
       "pos_0-4                                             0  \n",
       "\n",
       "[5 rows x 35000 columns]"
      ]
     },
     "execution_count": 55,
     "metadata": {},
     "output_type": "execute_result"
    }
   ],
   "source": [
    "df['mnist-train-coarse'].head()"
   ]
  },
  {
   "cell_type": "code",
   "execution_count": 56,
   "metadata": {},
   "outputs": [
    {
     "name": "stdout",
     "output_type": "stream",
     "text": [
      " (152, 4)\n"
     ]
    },
    {
     "name": "stderr",
     "output_type": "stream",
     "text": [
      "/Users/nickfernandez/anaconda3/envs/py36lab/lib/python3.6/site-packages/scipy/stats/_distn_infrastructure.py:879: RuntimeWarning: invalid value encountered in greater\n",
      "  return (self.a < x) & (x < self.b)\n",
      "/Users/nickfernandez/anaconda3/envs/py36lab/lib/python3.6/site-packages/scipy/stats/_distn_infrastructure.py:879: RuntimeWarning: invalid value encountered in less\n",
      "  return (self.a < x) & (x < self.b)\n",
      "/Users/nickfernandez/anaconda3/envs/py36lab/lib/python3.6/site-packages/scipy/stats/_distn_infrastructure.py:1821: RuntimeWarning: invalid value encountered in less_equal\n",
      "  cond2 = cond0 & (x <= self.a)\n"
     ]
    },
    {
     "name": "stdout",
     "output_type": "stream",
     "text": [
      "-z (152, 4)\n"
     ]
    }
   ],
   "source": [
    "pval_cutoff = 0.00001\n",
    "num_top_dims = 50\n",
    "for inst_norm in ['', '-z']:\n",
    "    df['sig' + inst_norm], keep_genes_dict, df_gene_pval, fold_info = cby.generate_signatures(\n",
    "                                                                         df['mnist-train-coarse' + inst_norm],\n",
    "                                                                         'Coarse', num_top_dims=num_top_dims)\n",
    "    print(inst_norm, df['sig' + inst_norm].shape)"
   ]
  },
  {
   "cell_type": "code",
   "execution_count": 57,
   "metadata": {},
   "outputs": [
    {
     "name": "stdout",
     "output_type": "stream",
     "text": [
      "Predict:  0.831628571429\n",
      "\n",
      "broad cell type:  0.831628571429 \n",
      "\n",
      "One                 0.942092\n",
      "Four-Seven-Nine     0.881646\n",
      "Three-Five-Eight    0.820329\n",
      "Zero-Two-Six        0.749515\n",
      "dtype: float64\n"
     ]
    }
   ],
   "source": [
    "# Predict\n",
    "##################\n",
    "df_pred_cat, df_sig_sim, y_info = cby.predict_cats_from_sigs(df['mnist-pred-coarse'], df['sig'], truth_level=1,\n",
    "                                                                   predict_level='Pred Digit', unknown_thresh=0.0)\n",
    "\n",
    "df_conf, population, ser_correct, fraction_correct = cby.confusion_matrix_and_correct_series(y_info)\n",
    "print('Predict: ', fraction_correct)\n",
    "\n",
    "df_conf, population, ser_correct, fraction_correct = cby.confusion_matrix_and_correct_series(y_info)\n",
    "print('\\nbroad cell type: ', fraction_correct, '\\n')\n",
    "print(ser_correct.sort_values(ascending=False))"
   ]
  },
  {
   "cell_type": "code",
   "execution_count": 61,
   "metadata": {},
   "outputs": [],
   "source": [
    "cat_color['Three-Five-Eight'] = 'red'\n",
    "cat_color['Four-Seven-Nine'] = 'blue'\n",
    "cat_color['Zero-Two-Six'] = 'yellow'"
   ]
  },
  {
   "cell_type": "code",
   "execution_count": 64,
   "metadata": {},
   "outputs": [],
   "source": [
    "net.load_df(df_pred_cat)\n",
    "set_cat_colors(cat_color, axis='col', cat_index=1, cat_title='Coarse')\n",
    "set_cat_colors(cat_color, axis='col', cat_index=3, cat_title='Pred Digit')"
   ]
  },
  {
   "cell_type": "code",
   "execution_count": 65,
   "metadata": {},
   "outputs": [
    {
     "data": {
      "application/vnd.jupyter.widget-view+json": {
       "model_id": "3a088cdd36af4d9689352e37b726a24c",
       "version_major": 2,
       "version_minor": 0
      },
      "text/plain": [
       "ExampleWidget(network='{\"row_nodes\": [{\"name\": \"pos_16-20\", \"ini\": 152, \"clust\": 111, \"rank\": 48, \"rankvar\": 5…"
      ]
     },
     "metadata": {},
     "output_type": "display_data"
    }
   ],
   "source": [
    "net.load_df(df_pred_cat)\n",
    "net.random_sample(axis='col', num_samples=2500, random_state=99)\n",
    "net.load_df(net.export_df().round(2))\n",
    "net.widget()"
   ]
  },
  {
   "cell_type": "code",
   "execution_count": null,
   "metadata": {},
   "outputs": [],
   "source": []
  }
 ],
 "metadata": {
  "kernelspec": {
   "display_name": "Python 3",
   "language": "python",
   "name": "python3"
  },
  "language_info": {
   "codemirror_mode": {
    "name": "ipython",
    "version": 3
   },
   "file_extension": ".py",
   "mimetype": "text/x-python",
   "name": "python",
   "nbconvert_exporter": "python",
   "pygments_lexer": "ipython3",
   "version": "3.6.6"
  }
 },
 "nbformat": 4,
 "nbformat_minor": 2
}
