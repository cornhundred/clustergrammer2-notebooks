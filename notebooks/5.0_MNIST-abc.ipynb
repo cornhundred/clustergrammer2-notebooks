{
 "cells": [
  {
   "cell_type": "markdown",
   "metadata": {},
   "source": [
    "# 5.0 MNIST\n",
    "We are getting ~80 correct predictions. This might be because the ten digit signatures are insufficient to capture the different variation of each digit. We might try to define the different flavors of each digit using a round of k-means clustering and labeling in the training dataset then a \"narrow\" signature definition, then prediction on the test dataset using this narrow set of signatures. Also, visualization of these digits as images will be useful. We can also carry over the similarity score as a value based category or use it to generate a ROC curve. "
   ]
  },
  {
   "cell_type": "code",
   "execution_count": 1,
   "metadata": {},
   "outputs": [
    {
     "name": "stdout",
     "output_type": "stream",
     "text": [
      "clustergrammer2 backend version 0.2.9\n"
     ]
    }
   ],
   "source": [
    "from clustergrammer2 import net\n",
    "df = {}"
   ]
  },
  {
   "cell_type": "code",
   "execution_count": 2,
   "metadata": {},
   "outputs": [],
   "source": [
    "import clustergrammer_groupby as cby\n",
    "from copy import deepcopy\n",
    "import random\n",
    "random.seed(99)"
   ]
  },
  {
   "cell_type": "code",
   "execution_count": 3,
   "metadata": {},
   "outputs": [],
   "source": [
    "import pandas as pd"
   ]
  },
  {
   "cell_type": "code",
   "execution_count": 4,
   "metadata": {},
   "outputs": [
    {
     "data": {
      "text/plain": [
       "(784, 70000)"
      ]
     },
     "execution_count": 4,
     "metadata": {},
     "output_type": "execute_result"
    }
   ],
   "source": [
    "net.load_file('../data/big_data/MNIST_row_labels.txt')\n",
    "df['mnist'] = net.export_df()\n",
    "df['mnist'].shape"
   ]
  },
  {
   "cell_type": "code",
   "execution_count": 5,
   "metadata": {},
   "outputs": [
    {
     "name": "stdout",
     "output_type": "stream",
     "text": [
      "('Zero-0', 'Digit: Zero')\n"
     ]
    }
   ],
   "source": [
    "cols = df['mnist'].columns.tolist()\n",
    "new_cols = [(x, 'Digit: ' + x.split('-')[0]) for x in cols]\n",
    "df['mnist-cat'] = deepcopy(df['mnist'])\n",
    "df['mnist-cat'].columns = new_cols\n",
    "print(new_cols[0])"
   ]
  },
  {
   "cell_type": "markdown",
   "metadata": {},
   "source": [
    "### Make Train and Predict"
   ]
  },
  {
   "cell_type": "code",
   "execution_count": 6,
   "metadata": {},
   "outputs": [
    {
     "name": "stdout",
     "output_type": "stream",
     "text": [
      "(784, 35000) (784, 35000)\n"
     ]
    }
   ],
   "source": [
    "cols = df['mnist-cat'].columns.tolist()\n",
    "random.shuffle(cols)\n",
    "df['mnist-train'] = df['mnist-cat'][cols[:35000]]\n",
    "df['mnist-pred'] = df['mnist-cat'][cols[35000:]]\n",
    "print(df['mnist-train'].shape, df['mnist-pred'].shape)\n",
    "\n",
    "net.load_df(df['mnist-train'])\n",
    "net.normalize(axis='row', norm_type='zscore')\n",
    "df['mnist-train-z'] = net.export_df()\n",
    "\n",
    "net.load_df(df['mnist-pred'])\n",
    "net.normalize(axis='row', norm_type='zscore')\n",
    "df['mnist-pred-z'] = net.export_df()"
   ]
  },
  {
   "cell_type": "code",
   "execution_count": 7,
   "metadata": {},
   "outputs": [],
   "source": [
    "def set_cat_colors(cat_color, axis, cat_index, cat_title=False):\n",
    "    for inst_ct in cat_color:\n",
    "        if cat_title != False:\n",
    "            cat_name = cat_title + ': ' + inst_ct\n",
    "        else:\n",
    "            cat_name = inst_ct\n",
    "            \n",
    "        inst_color = cat_color[inst_ct]\n",
    "        net.set_cat_color(axis=axis, cat_index=cat_index, cat_name=cat_name, inst_color=inst_color)"
   ]
  },
  {
   "cell_type": "markdown",
   "metadata": {},
   "source": [
    "# Make Signatures"
   ]
  },
  {
   "cell_type": "markdown",
   "metadata": {},
   "source": [
    "### Make Very Narrow Digit Categories"
   ]
  },
  {
   "cell_type": "code",
   "execution_count": 40,
   "metadata": {},
   "outputs": [
    {
     "data": {
      "text/plain": [
       "(784, 35000)"
      ]
     },
     "execution_count": 40,
     "metadata": {},
     "output_type": "execute_result"
    }
   ],
   "source": [
    "df['mnist-train'].shape"
   ]
  },
  {
   "cell_type": "code",
   "execution_count": 42,
   "metadata": {},
   "outputs": [],
   "source": [
    "num_clusters = 3\n",
    "cluster_key = {}\n",
    "cluster_key[0] = 'a'\n",
    "cluster_key[1] = 'b'\n",
    "cluster_key[2] = 'c'"
   ]
  },
  {
   "cell_type": "code",
   "execution_count": 43,
   "metadata": {},
   "outputs": [
    {
     "data": {
      "text/plain": [
       "['Eight',\n",
       " 'Five',\n",
       " 'Four',\n",
       " 'Nine',\n",
       " 'One',\n",
       " 'Seven',\n",
       " 'Six',\n",
       " 'Three',\n",
       " 'Two',\n",
       " 'Zero']"
      ]
     },
     "execution_count": 43,
     "metadata": {},
     "output_type": "execute_result"
    }
   ],
   "source": [
    "cols = df['mnist-train'].columns.tolist()\n",
    "all_digits = sorted(list(set([x[1].split(': ') [1] for x in cols])))\n",
    "all_digits"
   ]
  },
  {
   "cell_type": "code",
   "execution_count": 46,
   "metadata": {},
   "outputs": [
    {
     "name": "stdout",
     "output_type": "stream",
     "text": [
      "(784, 3429)\n",
      "(784, 3144)\n",
      "(784, 3417)\n",
      "(784, 3532)\n",
      "(784, 3944)\n",
      "(784, 3540)\n",
      "(784, 3431)\n",
      "(784, 3567)\n",
      "(784, 3477)\n",
      "(784, 3519)\n"
     ]
    },
    {
     "data": {
      "text/plain": [
       "(784, 35000)"
      ]
     },
     "execution_count": 46,
     "metadata": {},
     "output_type": "execute_result"
    }
   ],
   "source": [
    "df_list = []\n",
    "for inst_digit in all_digits:\n",
    "    \n",
    "    cols = df['mnist-train'].columns.tolist()\n",
    "    keep_cols = [x for x in cols if x[1].split(': ')[1] == inst_digit]\n",
    "    inst_df = df['mnist-train'][keep_cols]\n",
    "    print(inst_df.shape)\n",
    "    \n",
    "    net.load_df(inst_df)\n",
    "    ds_info = list(net.downsample(axis='col', num_samples=num_clusters, ds_type='kmeans', random_state=99))\n",
    "    ds_info = [cluster_key[x] for x in ds_info]\n",
    "\n",
    "    cols = inst_df.columns.tolist()\n",
    "    new_cols = []\n",
    "    for index in range(len(cols)):\n",
    "        inst_col = cols[index]\n",
    "        inst_cluster = ds_info[index]\n",
    "        new_col = (inst_col[0], inst_col[1] + '-' + inst_cluster)\n",
    "        new_cols.append(new_col)\n",
    "\n",
    "    inst_df.columns = new_cols\n",
    "    df_list.append(inst_df)\n",
    "    \n",
    "df['mnist-train-vn'] = pd.concat(df_list, axis=1)\n",
    "df['mnist-train-vn'].shape"
   ]
  },
  {
   "cell_type": "code",
   "execution_count": 47,
   "metadata": {},
   "outputs": [
    {
     "data": {
      "application/vnd.jupyter.widget-view+json": {
       "model_id": "68bc69d52a68407a84bfd69e901b2c87",
       "version_major": 2,
       "version_minor": 0
      },
      "text/plain": [
       "ExampleWidget(network='{\"row_nodes\": [{\"name\": \"pos_0-12\", \"ini\": 616, \"clust\": 3, \"rank\": 23, \"rankvar\": 28, …"
      ]
     },
     "metadata": {},
     "output_type": "display_data"
    }
   ],
   "source": [
    "net.load_df(df['mnist-train-vn'])\n",
    "net.random_sample(axis='col', num_samples=1000)\n",
    "net.widget()"
   ]
  },
  {
   "cell_type": "markdown",
   "metadata": {},
   "source": [
    "## Make Narrow Digit Signatures"
   ]
  },
  {
   "cell_type": "code",
   "execution_count": 54,
   "metadata": {},
   "outputs": [
    {
     "name": "stdout",
     "output_type": "stream",
     "text": [
      "(394, 30)\n"
     ]
    }
   ],
   "source": [
    "pval_cutoff = 0.00001\n",
    "num_top_dims = 50\n",
    "\n",
    "df['sig'], keep_genes_dict, df_gene_pval, fold_info = cby.generate_signatures(\n",
    "                                                                     df['mnist-train-vn'],\n",
    "                                                                     'Digit', num_top_dims=num_top_dims)\n",
    "print(df['sig'].shape)"
   ]
  },
  {
   "cell_type": "code",
   "execution_count": 56,
   "metadata": {},
   "outputs": [
    {
     "data": {
      "text/html": [
       "<div>\n",
       "<style scoped>\n",
       "    .dataframe tbody tr th:only-of-type {\n",
       "        vertical-align: middle;\n",
       "    }\n",
       "\n",
       "    .dataframe tbody tr th {\n",
       "        vertical-align: top;\n",
       "    }\n",
       "\n",
       "    .dataframe thead th {\n",
       "        text-align: right;\n",
       "    }\n",
       "</style>\n",
       "<table border=\"1\" class=\"dataframe\">\n",
       "  <thead>\n",
       "    <tr style=\"text-align: right;\">\n",
       "      <th></th>\n",
       "      <th>(Eight-a, Digit: Eight-a)</th>\n",
       "      <th>(Eight-b, Digit: Eight-b)</th>\n",
       "      <th>(Eight-c, Digit: Eight-c)</th>\n",
       "      <th>(Five-a, Digit: Five-a)</th>\n",
       "      <th>(Five-b, Digit: Five-b)</th>\n",
       "      <th>(Five-c, Digit: Five-c)</th>\n",
       "      <th>(Four-a, Digit: Four-a)</th>\n",
       "      <th>(Four-b, Digit: Four-b)</th>\n",
       "      <th>(Four-c, Digit: Four-c)</th>\n",
       "      <th>(Nine-a, Digit: Nine-a)</th>\n",
       "      <th>...</th>\n",
       "      <th>(Six-c, Digit: Six-c)</th>\n",
       "      <th>(Three-a, Digit: Three-a)</th>\n",
       "      <th>(Three-b, Digit: Three-b)</th>\n",
       "      <th>(Three-c, Digit: Three-c)</th>\n",
       "      <th>(Two-a, Digit: Two-a)</th>\n",
       "      <th>(Two-b, Digit: Two-b)</th>\n",
       "      <th>(Two-c, Digit: Two-c)</th>\n",
       "      <th>(Zero-a, Digit: Zero-a)</th>\n",
       "      <th>(Zero-b, Digit: Zero-b)</th>\n",
       "      <th>(Zero-c, Digit: Zero-c)</th>\n",
       "    </tr>\n",
       "  </thead>\n",
       "  <tbody>\n",
       "    <tr>\n",
       "      <th>pos_10-10</th>\n",
       "      <td>85.673506</td>\n",
       "      <td>119.098658</td>\n",
       "      <td>187.972142</td>\n",
       "      <td>155.064791</td>\n",
       "      <td>158.256499</td>\n",
       "      <td>52.269278</td>\n",
       "      <td>138.941740</td>\n",
       "      <td>96.700099</td>\n",
       "      <td>140.246327</td>\n",
       "      <td>125.372350</td>\n",
       "      <td>...</td>\n",
       "      <td>175.177632</td>\n",
       "      <td>25.037344</td>\n",
       "      <td>24.225751</td>\n",
       "      <td>18.398496</td>\n",
       "      <td>27.107553</td>\n",
       "      <td>36.862443</td>\n",
       "      <td>35.979203</td>\n",
       "      <td>166.242472</td>\n",
       "      <td>145.693443</td>\n",
       "      <td>181.277724</td>\n",
       "    </tr>\n",
       "    <tr>\n",
       "      <th>pos_10-11</th>\n",
       "      <td>144.734166</td>\n",
       "      <td>111.444357</td>\n",
       "      <td>153.977906</td>\n",
       "      <td>187.772379</td>\n",
       "      <td>124.468804</td>\n",
       "      <td>102.788250</td>\n",
       "      <td>117.158021</td>\n",
       "      <td>46.761668</td>\n",
       "      <td>171.226448</td>\n",
       "      <td>70.385253</td>\n",
       "      <td>...</td>\n",
       "      <td>231.057749</td>\n",
       "      <td>37.512863</td>\n",
       "      <td>30.762232</td>\n",
       "      <td>26.309106</td>\n",
       "      <td>18.962233</td>\n",
       "      <td>34.723982</td>\n",
       "      <td>39.367418</td>\n",
       "      <td>123.251189</td>\n",
       "      <td>201.167213</td>\n",
       "      <td>177.376085</td>\n",
       "    </tr>\n",
       "    <tr>\n",
       "      <th>pos_10-12</th>\n",
       "      <td>174.327386</td>\n",
       "      <td>85.703236</td>\n",
       "      <td>94.056676</td>\n",
       "      <td>172.345269</td>\n",
       "      <td>79.785962</td>\n",
       "      <td>154.917993</td>\n",
       "      <td>77.774142</td>\n",
       "      <td>18.868918</td>\n",
       "      <td>146.824546</td>\n",
       "      <td>42.494931</td>\n",
       "      <td>...</td>\n",
       "      <td>178.113304</td>\n",
       "      <td>60.142739</td>\n",
       "      <td>36.746781</td>\n",
       "      <td>44.976608</td>\n",
       "      <td>14.365353</td>\n",
       "      <td>32.601810</td>\n",
       "      <td>32.851820</td>\n",
       "      <td>86.552298</td>\n",
       "      <td>221.797541</td>\n",
       "      <td>127.587271</td>\n",
       "    </tr>\n",
       "    <tr>\n",
       "      <th>pos_10-13</th>\n",
       "      <td>142.016057</td>\n",
       "      <td>58.132597</td>\n",
       "      <td>46.763689</td>\n",
       "      <td>124.502984</td>\n",
       "      <td>51.944541</td>\n",
       "      <td>186.069767</td>\n",
       "      <td>45.568236</td>\n",
       "      <td>7.571003</td>\n",
       "      <td>86.484010</td>\n",
       "      <td>34.935484</td>\n",
       "      <td>...</td>\n",
       "      <td>81.045322</td>\n",
       "      <td>93.204979</td>\n",
       "      <td>47.573391</td>\n",
       "      <td>77.331662</td>\n",
       "      <td>18.803777</td>\n",
       "      <td>35.075113</td>\n",
       "      <td>25.160312</td>\n",
       "      <td>62.714739</td>\n",
       "      <td>203.353279</td>\n",
       "      <td>77.704918</td>\n",
       "    </tr>\n",
       "    <tr>\n",
       "      <th>pos_10-14</th>\n",
       "      <td>85.534344</td>\n",
       "      <td>53.955801</td>\n",
       "      <td>29.013449</td>\n",
       "      <td>74.091219</td>\n",
       "      <td>40.796360</td>\n",
       "      <td>181.503060</td>\n",
       "      <td>35.935355</td>\n",
       "      <td>4.580933</td>\n",
       "      <td>34.344857</td>\n",
       "      <td>46.187097</td>\n",
       "      <td>...</td>\n",
       "      <td>19.961257</td>\n",
       "      <td>133.999170</td>\n",
       "      <td>66.187983</td>\n",
       "      <td>117.528822</td>\n",
       "      <td>43.514778</td>\n",
       "      <td>48.399095</td>\n",
       "      <td>16.863951</td>\n",
       "      <td>50.177496</td>\n",
       "      <td>159.409836</td>\n",
       "      <td>45.517840</td>\n",
       "    </tr>\n",
       "  </tbody>\n",
       "</table>\n",
       "<p>5 rows × 30 columns</p>\n",
       "</div>"
      ],
      "text/plain": [
       "           (Eight-a, Digit: Eight-a)  (Eight-b, Digit: Eight-b)  \\\n",
       "pos_10-10                  85.673506                 119.098658   \n",
       "pos_10-11                 144.734166                 111.444357   \n",
       "pos_10-12                 174.327386                  85.703236   \n",
       "pos_10-13                 142.016057                  58.132597   \n",
       "pos_10-14                  85.534344                  53.955801   \n",
       "\n",
       "           (Eight-c, Digit: Eight-c)  (Five-a, Digit: Five-a)  \\\n",
       "pos_10-10                 187.972142               155.064791   \n",
       "pos_10-11                 153.977906               187.772379   \n",
       "pos_10-12                  94.056676               172.345269   \n",
       "pos_10-13                  46.763689               124.502984   \n",
       "pos_10-14                  29.013449                74.091219   \n",
       "\n",
       "           (Five-b, Digit: Five-b)  (Five-c, Digit: Five-c)  \\\n",
       "pos_10-10               158.256499                52.269278   \n",
       "pos_10-11               124.468804               102.788250   \n",
       "pos_10-12                79.785962               154.917993   \n",
       "pos_10-13                51.944541               186.069767   \n",
       "pos_10-14                40.796360               181.503060   \n",
       "\n",
       "           (Four-a, Digit: Four-a)  (Four-b, Digit: Four-b)  \\\n",
       "pos_10-10               138.941740                96.700099   \n",
       "pos_10-11               117.158021                46.761668   \n",
       "pos_10-12                77.774142                18.868918   \n",
       "pos_10-13                45.568236                 7.571003   \n",
       "pos_10-14                35.935355                 4.580933   \n",
       "\n",
       "           (Four-c, Digit: Four-c)  (Nine-a, Digit: Nine-a)  \\\n",
       "pos_10-10               140.246327               125.372350   \n",
       "pos_10-11               171.226448                70.385253   \n",
       "pos_10-12               146.824546                42.494931   \n",
       "pos_10-13                86.484010                34.935484   \n",
       "pos_10-14                34.344857                46.187097   \n",
       "\n",
       "                    ...             (Six-c, Digit: Six-c)  \\\n",
       "pos_10-10           ...                        175.177632   \n",
       "pos_10-11           ...                        231.057749   \n",
       "pos_10-12           ...                        178.113304   \n",
       "pos_10-13           ...                         81.045322   \n",
       "pos_10-14           ...                         19.961257   \n",
       "\n",
       "           (Three-a, Digit: Three-a)  (Three-b, Digit: Three-b)  \\\n",
       "pos_10-10                  25.037344                  24.225751   \n",
       "pos_10-11                  37.512863                  30.762232   \n",
       "pos_10-12                  60.142739                  36.746781   \n",
       "pos_10-13                  93.204979                  47.573391   \n",
       "pos_10-14                 133.999170                  66.187983   \n",
       "\n",
       "           (Three-c, Digit: Three-c)  (Two-a, Digit: Two-a)  \\\n",
       "pos_10-10                  18.398496              27.107553   \n",
       "pos_10-11                  26.309106              18.962233   \n",
       "pos_10-12                  44.976608              14.365353   \n",
       "pos_10-13                  77.331662              18.803777   \n",
       "pos_10-14                 117.528822              43.514778   \n",
       "\n",
       "           (Two-b, Digit: Two-b)  (Two-c, Digit: Two-c)  \\\n",
       "pos_10-10              36.862443              35.979203   \n",
       "pos_10-11              34.723982              39.367418   \n",
       "pos_10-12              32.601810              32.851820   \n",
       "pos_10-13              35.075113              25.160312   \n",
       "pos_10-14              48.399095              16.863951   \n",
       "\n",
       "           (Zero-a, Digit: Zero-a)  (Zero-b, Digit: Zero-b)  \\\n",
       "pos_10-10               166.242472               145.693443   \n",
       "pos_10-11               123.251189               201.167213   \n",
       "pos_10-12                86.552298               221.797541   \n",
       "pos_10-13                62.714739               203.353279   \n",
       "pos_10-14                50.177496               159.409836   \n",
       "\n",
       "           (Zero-c, Digit: Zero-c)  \n",
       "pos_10-10               181.277724  \n",
       "pos_10-11               177.376085  \n",
       "pos_10-12               127.587271  \n",
       "pos_10-13                77.704918  \n",
       "pos_10-14                45.517840  \n",
       "\n",
       "[5 rows x 30 columns]"
      ]
     },
     "execution_count": 56,
     "metadata": {},
     "output_type": "execute_result"
    }
   ],
   "source": [
    "df['sig'].head()"
   ]
  },
  {
   "cell_type": "markdown",
   "metadata": {},
   "source": [
    "# Predict Digit Type Using Signatures"
   ]
  },
  {
   "cell_type": "markdown",
   "metadata": {},
   "source": [
    "### Predict using Narrow Signatures"
   ]
  },
  {
   "cell_type": "code",
   "execution_count": 52,
   "metadata": {},
   "outputs": [
    {
     "data": {
      "text/plain": [
       "('Four-709', 'Digit: Four')"
      ]
     },
     "execution_count": 52,
     "metadata": {},
     "output_type": "execute_result"
    }
   ],
   "source": [
    "df['mnist-pred'].columns.tolist()[0]"
   ]
  },
  {
   "cell_type": "code",
   "execution_count": 59,
   "metadata": {},
   "outputs": [
    {
     "name": "stdout",
     "output_type": "stream",
     "text": [
      "('Four-709', 'Digit: Four', 'Pred Digit: Nine-b')\n",
      "Predict:  0.877714285714\n"
     ]
    },
    {
     "data": {
      "text/plain": [
       "One      0.977117\n",
       "Six      0.952104\n",
       "Zero     0.942080\n",
       "Two      0.869912\n",
       "Nine     0.851138\n",
       "Four     0.845318\n",
       "Seven    0.844658\n",
       "Three    0.837717\n",
       "Five     0.824550\n",
       "Eight    0.818610\n",
       "dtype: float64"
      ]
     },
     "execution_count": 59,
     "metadata": {},
     "output_type": "execute_result"
    }
   ],
   "source": [
    "# Predict\n",
    "##################\n",
    "df_pred_cat, df_sig_sim, y_info = cby.predict_cats_from_sigs(df['mnist-pred'], df['sig'], truth_level=1,\n",
    "                                                                   predict_level='Pred Digit', unknown_thresh=0.0)\n",
    "\n",
    "\n",
    "y_info = {}\n",
    "cols = df_pred_cat.columns.tolist()\n",
    "print(cols[0])\n",
    "y_info['true'] = [x[1].split(': ')[1] for x in cols]\n",
    "y_info['pred'] = [x[2].split(': ')[1].split('-')[0] for x in cols]\n",
    "\n",
    "df_conf, population, ser_correct, fraction_correct = cby.confusion_matrix_and_correct_series(y_info)\n",
    "print('Predict: ', fraction_correct)\n",
    "ser_correct.sort_values(ascending=False)"
   ]
  },
  {
   "cell_type": "code",
   "execution_count": null,
   "metadata": {},
   "outputs": [],
   "source": []
  },
  {
   "cell_type": "code",
   "execution_count": null,
   "metadata": {},
   "outputs": [],
   "source": []
  },
  {
   "cell_type": "code",
   "execution_count": null,
   "metadata": {},
   "outputs": [],
   "source": []
  },
  {
   "cell_type": "code",
   "execution_count": null,
   "metadata": {},
   "outputs": [],
   "source": []
  },
  {
   "cell_type": "code",
   "execution_count": null,
   "metadata": {},
   "outputs": [],
   "source": []
  },
  {
   "cell_type": "code",
   "execution_count": null,
   "metadata": {},
   "outputs": [],
   "source": []
  },
  {
   "cell_type": "markdown",
   "metadata": {},
   "source": [
    "### Artifically Broadening the Narrow Digits Improves Performance\n",
    "Will test running narrow prediction on broad digits."
   ]
  },
  {
   "cell_type": "code",
   "execution_count": 45,
   "metadata": {},
   "outputs": [],
   "source": [
    "merge_358 = ['Three', 'Five', 'Eight']\n",
    "merge_479 = ['Four', 'Seven', 'Nine']\n",
    "merge_026 = ['Zero', 'Two', 'Six']"
   ]
  },
  {
   "cell_type": "code",
   "execution_count": 46,
   "metadata": {},
   "outputs": [
    {
     "name": "stdout",
     "output_type": "stream",
     "text": [
      "Predict:  0.900114285714\n",
      "\n",
      "broad cell type:  0.900114285714 \n",
      "\n",
      "One                 0.933435\n",
      "Four-Seven-Nine     0.910286\n",
      "Zero-Two-Six        0.906856\n",
      "Three-Five-Eight    0.869817\n",
      "dtype: float64\n"
     ]
    }
   ],
   "source": [
    "y_broad = {}\n",
    "\n",
    "inst_true = []\n",
    "for inst_cat in y_info['true']:\n",
    "    if inst_cat in merge_358:\n",
    "        inst_cat = 'Three-Five-Eight'\n",
    "\n",
    "    if inst_cat in merge_479:\n",
    "        inst_cat = 'Four-Seven-Nine' \n",
    "\n",
    "    if inst_cat in merge_026:\n",
    "        inst_cat = 'Zero-Two-Six'\n",
    "        \n",
    "    inst_true.append(inst_cat)\n",
    "\n",
    "inst_pred = []\n",
    "for inst_cat in y_info['pred']:\n",
    "    if inst_cat in merge_358:\n",
    "        inst_cat = 'Three-Five-Eight'\n",
    "\n",
    "    if inst_cat in merge_479:\n",
    "        inst_cat = 'Four-Seven-Nine' \n",
    "\n",
    "    if inst_cat in merge_026:\n",
    "        inst_cat = 'Zero-Two-Six'\n",
    "        \n",
    "    inst_pred.append(inst_cat)\n",
    "\n",
    "y_broad['true'] = inst_true\n",
    "y_broad['pred'] = inst_pred\n",
    "\n",
    "df_conf, population, ser_correct, fraction_correct = cby.confusion_matrix_and_correct_series(y_broad)\n",
    "print('Predict: ', fraction_correct)\n",
    "\n",
    "df_conf, population, ser_correct, fraction_correct = cby.confusion_matrix_and_correct_series(y_broad)\n",
    "print('\\nbroad cell type: ', fraction_correct, '\\n')\n",
    "print(ser_correct.sort_values(ascending=False))"
   ]
  },
  {
   "cell_type": "code",
   "execution_count": null,
   "metadata": {},
   "outputs": [],
   "source": []
  },
  {
   "cell_type": "code",
   "execution_count": null,
   "metadata": {},
   "outputs": [],
   "source": []
  },
  {
   "cell_type": "code",
   "execution_count": null,
   "metadata": {},
   "outputs": [],
   "source": []
  },
  {
   "cell_type": "code",
   "execution_count": null,
   "metadata": {},
   "outputs": [],
   "source": []
  },
  {
   "cell_type": "markdown",
   "metadata": {},
   "source": [
    "## Make Narrow Signatures"
   ]
  },
  {
   "cell_type": "markdown",
   "metadata": {},
   "source": [
    "### Make Broad DataFrames to Construct Narrow Signatures\n",
    "At the coarse grained level we appear to be able to distinguish\n",
    "* Three-Five-Eight\n",
    "* One\n",
    "* Zero-Two-Six\n",
    "* Four-Seven-Nine"
   ]
  },
  {
   "cell_type": "code",
   "execution_count": 38,
   "metadata": {},
   "outputs": [],
   "source": [
    "coarse_digits = {}\n",
    "coarse_digits['One'] = ['One']\n",
    "coarse_digits['Three-Five-Eight'] = ['Three', 'Five', 'Eight']\n",
    "coarse_digits['Four-Seven-Nine'] = ['Four', 'Seven', 'Nine']\n",
    "coarse_digits['Zero-Two-Six'] = ['Zero', 'Two', 'Six']"
   ]
  },
  {
   "cell_type": "code",
   "execution_count": 39,
   "metadata": {},
   "outputs": [
    {
     "name": "stdout",
     "output_type": "stream",
     "text": [
      "(784, 35000) (784, 35000)\n",
      "One (784, 3926)\n",
      "Three-Five-Eight (784, 10101)\n",
      "Four-Seven-Nine (784, 10575)\n",
      "Zero-Two-Six (784, 10398)\n"
     ]
    }
   ],
   "source": [
    "cols = df['mnist-cat'].columns.tolist()\n",
    "\n",
    "random.shuffle(cols)\n",
    "\n",
    "df['mnist-train'] = df['mnist-cat'][cols[:35000]]\n",
    "df['mnist-pred'] = df['mnist-cat'][cols[35000:]]\n",
    "print(df['mnist-train'].shape, df['mnist-pred'].shape)\n",
    "\n",
    "for inst_group in coarse_digits:\n",
    "    cols = df['mnist-train']\n",
    "    keep_cols = [x for x in cols if x[1].split(': ')[1] in coarse_digits[inst_group]]\n",
    "    df[inst_group] = df['mnist-train'][keep_cols]\n",
    "    print(inst_group, df[inst_group].shape)\n",
    "    \n",
    "    net.load_df(df[inst_group])\n",
    "    net.normalize(axis='row', norm_type='zscore')\n",
    "    df[inst_group + '-z'] = net.export_df()"
   ]
  },
  {
   "cell_type": "markdown",
   "metadata": {},
   "source": [
    "### Make Broad Subset Signatures"
   ]
  },
  {
   "cell_type": "code",
   "execution_count": 40,
   "metadata": {},
   "outputs": [
    {
     "name": "stdout",
     "output_type": "stream",
     "text": [
      "Three-Five-Eight\n",
      "Three-Five-Eight (103, 3)\n",
      "Three-Five-Eight\n"
     ]
    },
    {
     "name": "stderr",
     "output_type": "stream",
     "text": [
      "/Users/nickfernandez/anaconda3/envs/py36lab/lib/python3.6/site-packages/scipy/stats/_distn_infrastructure.py:879: RuntimeWarning: invalid value encountered in greater\n",
      "  return (self.a < x) & (x < self.b)\n",
      "/Users/nickfernandez/anaconda3/envs/py36lab/lib/python3.6/site-packages/scipy/stats/_distn_infrastructure.py:879: RuntimeWarning: invalid value encountered in less\n",
      "  return (self.a < x) & (x < self.b)\n",
      "/Users/nickfernandez/anaconda3/envs/py36lab/lib/python3.6/site-packages/scipy/stats/_distn_infrastructure.py:1821: RuntimeWarning: invalid value encountered in less_equal\n",
      "  cond2 = cond0 & (x <= self.a)\n"
     ]
    },
    {
     "name": "stdout",
     "output_type": "stream",
     "text": [
      "Three-Five-Eight-z (103, 3)\n",
      "Four-Seven-Nine\n",
      "Four-Seven-Nine (99, 3)\n",
      "Four-Seven-Nine\n",
      "Four-Seven-Nine-z (99, 3)\n",
      "Zero-Two-Six\n",
      "Zero-Two-Six (130, 3)\n",
      "Zero-Two-Six\n",
      "Zero-Two-Six-z (130, 3)\n"
     ]
    }
   ],
   "source": [
    "# Generate Signatures\n",
    "pval_cutoff = 1e-10\n",
    "num_top_dims=50\n",
    "\n",
    "for inst_group in coarse_digits:\n",
    "\n",
    "    for inst_norm in ['', '-z']:\n",
    "        \n",
    "        if '-' in inst_group:\n",
    "            print(inst_group)\n",
    "            df['sig-' + inst_group  + inst_norm], keep_genes_dict, df_gene_pval, fold_info = cby.generate_signatures(\n",
    "                df[inst_group + inst_norm], 'Digit', pval_cutoff=pval_cutoff, num_top_dims=num_top_dims)\n",
    "\n",
    "            print(inst_group + inst_norm, df['sig-' + inst_group  + inst_norm].shape)    "
   ]
  },
  {
   "cell_type": "code",
   "execution_count": 41,
   "metadata": {},
   "outputs": [
    {
     "data": {
      "text/plain": [
       "(99, 3)"
      ]
     },
     "execution_count": 41,
     "metadata": {},
     "output_type": "execute_result"
    }
   ],
   "source": [
    "df['sig-Four-Seven-Nine'].shape"
   ]
  },
  {
   "cell_type": "code",
   "execution_count": 42,
   "metadata": {},
   "outputs": [
    {
     "data": {
      "text/plain": [
       "{'Eight': '#393b79',\n",
       " 'Five': '#ff7f0e',\n",
       " 'Four': 'blue',\n",
       " 'Nine': 'grey',\n",
       " 'One': 'black',\n",
       " 'Seven': 'red',\n",
       " 'Six': '#FFDB58',\n",
       " 'Three': '#e377c2',\n",
       " 'Two': '#2ca02c',\n",
       " 'Zero': 'yellow'}"
      ]
     },
     "execution_count": 42,
     "metadata": {},
     "output_type": "execute_result"
    }
   ],
   "source": [
    "net.load_df(df['sig'])\n",
    "net.cluster()\n",
    "tmp_cat_color = deepcopy(net.viz['cat_colors']['col']['cat-0'])\n",
    "cat_color = {}\n",
    "for inst_key in tmp_cat_color:\n",
    "    cat_color[inst_key.split(': ')[1]] = tmp_cat_color[inst_key]\n",
    "    \n",
    "cat_color['Zero'] = 'yellow'\n",
    "cat_color['Four'] = 'blue'\n",
    "cat_color['Seven'] = 'red'\n",
    "cat_color['Nine'] = 'grey'\n",
    "cat_color['One'] = 'black'\n",
    "\n",
    "set_cat_colors(cat_color, axis='col', cat_index=1, cat_title='Digit')\n",
    "cat_color  "
   ]
  },
  {
   "cell_type": "code",
   "execution_count": 43,
   "metadata": {},
   "outputs": [
    {
     "data": {
      "application/vnd.jupyter.widget-view+json": {
       "model_id": "df2cc8ad6383447fa9af3a8acc97849f",
       "version_major": 2,
       "version_minor": 0
      },
      "text/plain": [
       "ExampleWidget(network='{\"row_nodes\": [{\"name\": \"pos_10-10\", \"ini\": 276, \"clust\": 234, \"rank\": 218, \"rankvar\": …"
      ]
     },
     "metadata": {},
     "output_type": "display_data"
    }
   ],
   "source": [
    "net.load_df(df['sig'])\n",
    "net.widget()"
   ]
  },
  {
   "cell_type": "markdown",
   "metadata": {},
   "source": [
    "# Predict Digit Type Using Signatures"
   ]
  },
  {
   "cell_type": "markdown",
   "metadata": {},
   "source": [
    "### Predict using Narrow Signatures"
   ]
  },
  {
   "cell_type": "code",
   "execution_count": 44,
   "metadata": {},
   "outputs": [
    {
     "name": "stdout",
     "output_type": "stream",
     "text": [
      "Predict:  0.816485714286\n"
     ]
    },
    {
     "data": {
      "text/plain": [
       "One      0.933435\n",
       "Zero     0.901810\n",
       "Six      0.884370\n",
       "Seven    0.833700\n",
       "Three    0.812517\n",
       "Four     0.803198\n",
       "Two      0.789207\n",
       "Nine     0.780338\n",
       "Eight    0.754257\n",
       "Five     0.643282\n",
       "dtype: float64"
      ]
     },
     "execution_count": 44,
     "metadata": {},
     "output_type": "execute_result"
    }
   ],
   "source": [
    "# Predict\n",
    "##################\n",
    "df_pred_cat, df_sig_sim, y_info = cby.predict_cats_from_sigs(df['mnist-pred'], df['sig'], truth_level=1,\n",
    "                                                                   predict_level='Pred Digit', unknown_thresh=0.0)\n",
    "\n",
    "df_conf, population, ser_correct, fraction_correct = cby.confusion_matrix_and_correct_series(y_info)\n",
    "print('Predict: ', fraction_correct)\n",
    "ser_correct.sort_values(ascending=False)"
   ]
  },
  {
   "cell_type": "markdown",
   "metadata": {},
   "source": [
    "### Artifically Broadening the Narrow Digits Improves Performance\n",
    "Will test running narrow prediction on broad digits."
   ]
  },
  {
   "cell_type": "code",
   "execution_count": 45,
   "metadata": {},
   "outputs": [],
   "source": [
    "merge_358 = ['Three', 'Five', 'Eight']\n",
    "merge_479 = ['Four', 'Seven', 'Nine']\n",
    "merge_026 = ['Zero', 'Two', 'Six']"
   ]
  },
  {
   "cell_type": "code",
   "execution_count": 46,
   "metadata": {},
   "outputs": [
    {
     "name": "stdout",
     "output_type": "stream",
     "text": [
      "Predict:  0.900114285714\n",
      "\n",
      "broad cell type:  0.900114285714 \n",
      "\n",
      "One                 0.933435\n",
      "Four-Seven-Nine     0.910286\n",
      "Zero-Two-Six        0.906856\n",
      "Three-Five-Eight    0.869817\n",
      "dtype: float64\n"
     ]
    }
   ],
   "source": [
    "y_broad = {}\n",
    "\n",
    "inst_true = []\n",
    "for inst_cat in y_info['true']:\n",
    "    if inst_cat in merge_358:\n",
    "        inst_cat = 'Three-Five-Eight'\n",
    "\n",
    "    if inst_cat in merge_479:\n",
    "        inst_cat = 'Four-Seven-Nine' \n",
    "\n",
    "    if inst_cat in merge_026:\n",
    "        inst_cat = 'Zero-Two-Six'\n",
    "        \n",
    "    inst_true.append(inst_cat)\n",
    "\n",
    "inst_pred = []\n",
    "for inst_cat in y_info['pred']:\n",
    "    if inst_cat in merge_358:\n",
    "        inst_cat = 'Three-Five-Eight'\n",
    "\n",
    "    if inst_cat in merge_479:\n",
    "        inst_cat = 'Four-Seven-Nine' \n",
    "\n",
    "    if inst_cat in merge_026:\n",
    "        inst_cat = 'Zero-Two-Six'\n",
    "        \n",
    "    inst_pred.append(inst_cat)\n",
    "\n",
    "y_broad['true'] = inst_true\n",
    "y_broad['pred'] = inst_pred\n",
    "\n",
    "df_conf, population, ser_correct, fraction_correct = cby.confusion_matrix_and_correct_series(y_broad)\n",
    "print('Predict: ', fraction_correct)\n",
    "\n",
    "df_conf, population, ser_correct, fraction_correct = cby.confusion_matrix_and_correct_series(y_broad)\n",
    "print('\\nbroad cell type: ', fraction_correct, '\\n')\n",
    "print(ser_correct.sort_values(ascending=False))"
   ]
  },
  {
   "cell_type": "markdown",
   "metadata": {},
   "source": [
    "# Predict using Broad then Narrow"
   ]
  },
  {
   "cell_type": "code",
   "execution_count": 58,
   "metadata": {},
   "outputs": [],
   "source": [
    "# Predict\n",
    "##################\n",
    "df_pred_cat, df_sig_sim, y_info = cby.predict_cats_from_sigs(df['mnist-pred'], df['sig'], truth_level=1,\n",
    "                                                                   predict_level='Broad Digit', unknown_thresh=0.0)\n",
    "\n",
    "ini_broad_cols = df_pred_cat.columns.tolist()\n",
    "\n",
    "broad_cols = []\n",
    "for inst_col in ini_broad_cols:\n",
    "    \n",
    "    inst_cat = inst_col[2].split(': ')[1]\n",
    "\n",
    "    broad_predict = inst_col[2]\n",
    "    for inst_group in coarse_digits:\n",
    "        if inst_cat in coarse_digits[inst_group]:\n",
    "            broad_predict = 'Broad Digit: ' + inst_group\n",
    "        \n",
    "    broad_col = (inst_col[0], inst_col[1], broad_predict)\n",
    "    broad_cols.append(broad_col)\n",
    "    \n",
    "df['pred-broad'] = deepcopy(df['mnist-pred'])\n",
    "df['pred-broad'].columns = broad_cols\n"
   ]
  },
  {
   "cell_type": "code",
   "execution_count": 61,
   "metadata": {},
   "outputs": [
    {
     "name": "stdout",
     "output_type": "stream",
     "text": [
      "One (784, 4456)\n",
      "Three-Five-Eight (784, 9918)\n",
      "Four-Seven-Nine (784, 10312)\n",
      "Zero-Two-Six (784, 10314)\n"
     ]
    },
    {
     "data": {
      "text/plain": [
       "(784, 35000)"
      ]
     },
     "execution_count": 61,
     "metadata": {},
     "output_type": "execute_result"
    }
   ],
   "source": [
    "# Re-run prediction on individual broad digits if necessary\n",
    "df_list = []\n",
    "for inst_broad in coarse_digits:\n",
    "    cols = df['pred-broad'].columns.tolist()\n",
    "    keep_cols = [x for x in cols if x[2].split(': ')[1] == inst_broad]\n",
    "\n",
    "    inst_df = df['pred-broad'][keep_cols]\n",
    "    \n",
    "    print(inst_broad, inst_df.shape)    \n",
    "    \n",
    "    # run prediction if necessary\n",
    "    if '-' in inst_broad:\n",
    "        \n",
    "        tmp_cols = inst_df.columns.tolist()\n",
    "        # drop previous prediction \n",
    "        new_cols = [(x[0], x[1]) for x in tmp_cols]\n",
    "        inst_df.columns = new_cols\n",
    "        \n",
    "        # predict using narrow signature\n",
    "        df_pred_cat, df_sig_sim, y_info = cby.predict_cats_from_sigs(inst_df, \n",
    "            df['sig-' + inst_broad], truth_level=1, predict_level='Digit', unknown_thresh=0.0)        \n",
    "        \n",
    "        inst_df.columns = df_pred_cat.columns.tolist()\n",
    "        df_list.append(inst_df)\n",
    "\n",
    "    else:\n",
    "        tmp_cols = inst_df.columns.tolist()\n",
    "        new_cols = [(x[0], x[1], x[2].replace('Broad Digit:', 'Digit:')) for x in tmp_cols]\n",
    "        inst_df.columns = new_cols\n",
    "        df_list.append(inst_df)\n",
    "        \n",
    "df['pred-narrow'] = pd.concat(df_list, axis=1)\n",
    "df['pred-narrow'].shape\n"
   ]
  },
  {
   "cell_type": "code",
   "execution_count": 62,
   "metadata": {},
   "outputs": [
    {
     "name": "stdout",
     "output_type": "stream",
     "text": [
      "Predict:  0.8172\n"
     ]
    },
    {
     "data": {
      "text/plain": [
       "One      0.933435\n",
       "Zero     0.922872\n",
       "Six      0.877687\n",
       "Seven    0.825165\n",
       "Four     0.815407\n",
       "Three    0.812238\n",
       "Nine     0.805134\n",
       "Two      0.777122\n",
       "Eight    0.751615\n",
       "Five     0.622612\n",
       "dtype: float64"
      ]
     },
     "execution_count": 62,
     "metadata": {},
     "output_type": "execute_result"
    }
   ],
   "source": [
    "cols = df['pred-narrow'].columns.tolist()\n",
    "cols[0]\n",
    "\n",
    "y_info = {}\n",
    "y_info['true'] = [x[1].split(': ')[1] for x in cols]\n",
    "y_info['pred'] = [x[2].split(': ')[1] for x in cols]\n",
    "\n",
    "df_conf, population, ser_correct, fraction_correct = cby.confusion_matrix_and_correct_series(y_info)\n",
    "print('Predict: ', fraction_correct)\n",
    "ser_correct.sort_values(ascending=False)"
   ]
  },
  {
   "cell_type": "code",
   "execution_count": null,
   "metadata": {},
   "outputs": [],
   "source": []
  },
  {
   "cell_type": "code",
   "execution_count": null,
   "metadata": {},
   "outputs": [],
   "source": []
  },
  {
   "cell_type": "code",
   "execution_count": null,
   "metadata": {},
   "outputs": [],
   "source": []
  },
  {
   "cell_type": "code",
   "execution_count": null,
   "metadata": {},
   "outputs": [],
   "source": []
  },
  {
   "cell_type": "code",
   "execution_count": null,
   "metadata": {},
   "outputs": [],
   "source": []
  },
  {
   "cell_type": "code",
   "execution_count": null,
   "metadata": {},
   "outputs": [],
   "source": []
  },
  {
   "cell_type": "code",
   "execution_count": null,
   "metadata": {},
   "outputs": [],
   "source": [
    "df_pred_cat.shape"
   ]
  },
  {
   "cell_type": "code",
   "execution_count": null,
   "metadata": {},
   "outputs": [],
   "source": [
    "net.load_df(df_pred_cat)\n",
    "set_cat_colors(cat_color, axis='col', cat_index=2, cat_title='Pred Digit')"
   ]
  },
  {
   "cell_type": "code",
   "execution_count": null,
   "metadata": {},
   "outputs": [],
   "source": [
    "net.load_df(df_pred_cat)\n",
    "net.random_sample(axis='col', num_samples=2500, random_state=100)\n",
    "net.widget()"
   ]
  },
  {
   "cell_type": "markdown",
   "metadata": {},
   "source": [
    "### Z-scored Data"
   ]
  },
  {
   "cell_type": "code",
   "execution_count": null,
   "metadata": {},
   "outputs": [],
   "source": [
    "# Predict\n",
    "##################\n",
    "df_pred_cat, df_sig_sim, y_info = cby.predict_cats_from_sigs(df['mnist-pred-z'], df['sig-z'], truth_level=1,\n",
    "                                                                   predict_level='Pred Digit', unknown_thresh=0.0)\n",
    "\n",
    "df_sig_sim.columns = df_pred_cat.columns.tolist()\n",
    "df_conf, population, ser_correct, fraction_correct = cby.confusion_matrix_and_correct_series(y_info)\n",
    "print('Predict: ', fraction_correct)\n",
    "\n",
    "df_conf, population, ser_correct, fraction_correct = cby.confusion_matrix_and_correct_series(y_info)\n",
    "print('\\nbroad cell type: ', fraction_correct, '\\n')\n",
    "print(ser_correct.sort_values(ascending=False))"
   ]
  },
  {
   "cell_type": "code",
   "execution_count": null,
   "metadata": {},
   "outputs": [],
   "source": [
    "df_conf.shape"
   ]
  },
  {
   "cell_type": "code",
   "execution_count": null,
   "metadata": {},
   "outputs": [],
   "source": [
    "# net.load_df(df_conf)\n",
    "# net.widget()"
   ]
  },
  {
   "cell_type": "code",
   "execution_count": null,
   "metadata": {},
   "outputs": [],
   "source": [
    "df_sig_sim.shape"
   ]
  },
  {
   "cell_type": "code",
   "execution_count": null,
   "metadata": {},
   "outputs": [],
   "source": [
    "net.load_df(df_sig_sim)\n",
    "net.random_sample(axis='col', num_samples=2500, random_state=99)\n",
    "net.load_df(net.export_df().round(2))\n",
    "net.widget()"
   ]
  },
  {
   "cell_type": "code",
   "execution_count": null,
   "metadata": {},
   "outputs": [],
   "source": [
    "net.load_df(df_pred_cat)\n",
    "net.random_sample(axis='col', num_samples=2500, random_state=99)\n",
    "net.load_df(net.export_df().round(2))\n",
    "net.widget()"
   ]
  },
  {
   "cell_type": "markdown",
   "metadata": {},
   "source": [
    "# Broad Predictions\n",
    "## Make Broad Signature"
   ]
  },
  {
   "cell_type": "markdown",
   "metadata": {},
   "source": [
    "### Merge Categories"
   ]
  },
  {
   "cell_type": "code",
   "execution_count": null,
   "metadata": {},
   "outputs": [],
   "source": [
    "cols = df['mnist-cat'].columns.tolist()\n",
    "\n",
    "\n",
    "random.shuffle(cols)\n",
    "\n",
    "df['mnist-train'] = df['mnist-cat'][cols[:35000]]\n",
    "df['mnist-pred'] = df['mnist-cat'][cols[35000:]]\n",
    "print(df['mnist-train'].shape, df['mnist-pred'].shape)\n",
    "\n",
    "for inst_data in ['mnist-train', 'mnist-pred']:\n",
    "    cols = df[inst_data]\n",
    "    new_cols = []\n",
    "    for inst_col in cols:\n",
    "        inst_cat = inst_col[1].split(': ')[1]\n",
    "        \n",
    "        if inst_cat in merge_358:\n",
    "            inst_cat = 'Three-Five-Eight'\n",
    "            \n",
    "        if inst_cat in merge_479:\n",
    "            inst_cat = 'Four-Seven-Nine' \n",
    "            \n",
    "        if inst_cat in merge_026:\n",
    "            inst_cat = 'Zero-Two-Six'\n",
    "            \n",
    "        new_col = (inst_col[0], 'Coarse: ' + inst_cat, inst_col[1])\n",
    "        new_cols.append(new_col)\n",
    "    \n",
    "    df[inst_data + '-coarse'] = deepcopy(df[inst_data])\n",
    "    df[inst_data + '-coarse'].columns = new_cols\n",
    "    print(df[inst_data + '-coarse'].shape)\n",
    "    \n",
    "    net.load_df(df[inst_data + '-coarse'])\n",
    "    net.normalize(axis='row', norm_type='zscore')\n",
    "    df[inst_data + '-coarse-z'] = net.export_df()"
   ]
  },
  {
   "cell_type": "markdown",
   "metadata": {},
   "source": [
    "### Make Broad Signature"
   ]
  },
  {
   "cell_type": "code",
   "execution_count": null,
   "metadata": {},
   "outputs": [],
   "source": [
    "pval_cutoff = 0.00001\n",
    "num_top_dims = 50\n",
    "for inst_norm in ['', '-z']:\n",
    "    df['sig-broad' + inst_norm], keep_genes_dict, df_gene_pval, fold_info = cby.generate_signatures(\n",
    "                                                                         df['mnist-train-coarse' + inst_norm],\n",
    "                                                                         'Coarse', num_top_dims=num_top_dims)\n",
    "    print(inst_norm, df['sig-broad' + inst_norm].shape)"
   ]
  },
  {
   "cell_type": "markdown",
   "metadata": {},
   "source": [
    "# Predict Broad then Narrow\n",
    "Need to predict broad digits, then separate each of the broad categories and predict using the narrow signature."
   ]
  },
  {
   "cell_type": "markdown",
   "metadata": {},
   "source": [
    "### Predict Broad Digits"
   ]
  },
  {
   "cell_type": "code",
   "execution_count": null,
   "metadata": {},
   "outputs": [],
   "source": [
    "# Predict\n",
    "##################\n",
    "df_pred_cat, df_sig_sim, y_info = cby.predict_cats_from_sigs(df['mnist-pred-coarse'], df['sig-broad'], truth_level=1,\n",
    "                                                                   predict_level='Pred Digit', unknown_thresh=0.0)\n",
    "\n",
    "df_conf, population, ser_correct, fraction_correct = cby.confusion_matrix_and_correct_series(y_info)\n",
    "print('Predict: ', fraction_correct)\n",
    "\n",
    "df_conf, population, ser_correct, fraction_correct = cby.confusion_matrix_and_correct_series(y_info)\n",
    "print('\\nbroad cell type: ', fraction_correct, '\\n')\n",
    "print(ser_correct.sort_values(ascending=False))"
   ]
  },
  {
   "cell_type": "code",
   "execution_count": null,
   "metadata": {},
   "outputs": [],
   "source": []
  },
  {
   "cell_type": "code",
   "execution_count": null,
   "metadata": {},
   "outputs": [],
   "source": []
  },
  {
   "cell_type": "code",
   "execution_count": null,
   "metadata": {},
   "outputs": [],
   "source": []
  },
  {
   "cell_type": "code",
   "execution_count": null,
   "metadata": {},
   "outputs": [],
   "source": []
  },
  {
   "cell_type": "code",
   "execution_count": null,
   "metadata": {},
   "outputs": [],
   "source": []
  },
  {
   "cell_type": "code",
   "execution_count": null,
   "metadata": {},
   "outputs": [],
   "source": []
  },
  {
   "cell_type": "code",
   "execution_count": null,
   "metadata": {},
   "outputs": [],
   "source": []
  },
  {
   "cell_type": "code",
   "execution_count": null,
   "metadata": {},
   "outputs": [],
   "source": []
  },
  {
   "cell_type": "code",
   "execution_count": null,
   "metadata": {},
   "outputs": [],
   "source": [
    "# Predict\n",
    "##################\n",
    "df_pred_cat, df_sig_sim, y_info = cby.predict_cats_from_sigs(df['mnist-pred-358-z'], df['sig-z'], truth_level=1,\n",
    "                                                                   predict_level='Pred Digit', unknown_thresh=0.0)\n",
    "\n",
    "df_conf, population, ser_correct, fraction_correct = cby.confusion_matrix_and_correct_series(y_info)\n",
    "print('Predict: ', fraction_correct)\n",
    "\n",
    "df_conf, population, ser_correct, fraction_correct = cby.confusion_matrix_and_correct_series(y_info)\n",
    "print(ser_correct.sort_values(ascending=False))"
   ]
  },
  {
   "cell_type": "code",
   "execution_count": null,
   "metadata": {},
   "outputs": [],
   "source": [
    "df_pred_cat.shape"
   ]
  },
  {
   "cell_type": "code",
   "execution_count": null,
   "metadata": {},
   "outputs": [],
   "source": [
    "net.load_df(df_pred_cat)\n",
    "net.random_sample(axis='col', num_samples=2500, random_state=99)\n",
    "net.load_df(net.export_df().round(2))\n",
    "net.widget()"
   ]
  },
  {
   "cell_type": "code",
   "execution_count": null,
   "metadata": {},
   "outputs": [],
   "source": [
    "cat_color['Three-Five-Eight'] = 'red'\n",
    "cat_color['Four-Seven-Nine'] = 'blue'\n",
    "cat_color['Zero-Two-Six'] = 'yellow'"
   ]
  },
  {
   "cell_type": "code",
   "execution_count": null,
   "metadata": {},
   "outputs": [],
   "source": [
    "net.load_df(df_pred_cat)\n",
    "set_cat_colors(cat_color, axis='col', cat_index=1, cat_title='Coarse')\n",
    "set_cat_colors(cat_color, axis='col', cat_index=3, cat_title='Pred Digit')"
   ]
  },
  {
   "cell_type": "code",
   "execution_count": null,
   "metadata": {},
   "outputs": [],
   "source": [
    "net.load_df(df_pred_cat)\n",
    "net.random_sample(axis='col', num_samples=2500, random_state=99)\n",
    "net.load_df(net.export_df().round(2))\n",
    "net.widget()"
   ]
  },
  {
   "cell_type": "code",
   "execution_count": null,
   "metadata": {},
   "outputs": [],
   "source": []
  }
 ],
 "metadata": {
  "kernelspec": {
   "display_name": "Python 3",
   "language": "python",
   "name": "python3"
  },
  "language_info": {
   "codemirror_mode": {
    "name": "ipython",
    "version": 3
   },
   "file_extension": ".py",
   "mimetype": "text/x-python",
   "name": "python",
   "nbconvert_exporter": "python",
   "pygments_lexer": "ipython3",
   "version": "3.6.6"
  }
 },
 "nbformat": 4,
 "nbformat_minor": 2
}
