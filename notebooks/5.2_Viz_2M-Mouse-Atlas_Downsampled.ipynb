{
 "cells": [
  {
   "cell_type": "markdown",
   "metadata": {},
   "source": [
    "# 5.2 Viz 2M-Mouse-Atlas Downsampled"
   ]
  },
  {
   "cell_type": "code",
   "execution_count": 1,
   "metadata": {},
   "outputs": [
    {
     "name": "stdout",
     "output_type": "stream",
     "text": [
      ">> clustergrammer2 backend version 0.4.2\n"
     ]
    }
   ],
   "source": [
    "from clustergrammer2 import net\n",
    "df = {}"
   ]
  },
  {
   "cell_type": "code",
   "execution_count": 7,
   "metadata": {},
   "outputs": [],
   "source": [
    "import pandas as pd\n",
    "from ast import literal_eval as make_tuple"
   ]
  },
  {
   "cell_type": "code",
   "execution_count": 8,
   "metadata": {},
   "outputs": [
    {
     "data": {
      "text/plain": [
       "(5000, 2229)"
      ]
     },
     "execution_count": 8,
     "metadata": {},
     "output_type": "execute_result"
    }
   ],
   "source": [
    "df_ds = pd.read_parquet('../data/cao_2million-cell_2019_61-embryo_downsample/cao_embryo_cell-type_downsample.parquet')\n",
    "df_ds.columns = [make_tuple(x) for x in df_ds.columns.tolist()]\n",
    "df_ds.shape"
   ]
  },
  {
   "cell_type": "code",
   "execution_count": 15,
   "metadata": {
    "scrolled": false
   },
   "outputs": [],
   "source": [
    "ser_cell_types = pd.Series([x[1].split(': ')[1] for x in df_ds.columns.tolist()])"
   ]
  },
  {
   "cell_type": "markdown",
   "metadata": {},
   "source": [
    "### Cell Type Distributions"
   ]
  },
  {
   "cell_type": "code",
   "execution_count": 44,
   "metadata": {},
   "outputs": [
    {
     "name": "stdout",
     "output_type": "stream",
     "text": [
      "                                    1\n",
      "0                                    \n",
      "Chondrocytes & osteoblasts     104698\n",
      "Connective tissue progenitors   98964\n",
      "Intermediate Mesoderm           89518\n",
      "Jaw and tooth progenitors       82289\n",
      "Early mesenchyme                71949\n",
      "Excitatory neurons              68567\n",
      "Epithelial cells                66209\n",
      "Radial glia                     65428\n",
      "Neural progenitor cells         58332\n",
      "Postmitotic premature neurons   56033\n",
      "Oligodendrocyte Progenitors     54606\n",
      "Isthmic organizer cells         48498\n",
      "Neural Tube                     45985\n",
      "Inhibitory neurons              44658\n",
      "Myocytes                        43197\n",
      "Definitive erythroid lineage    34205\n",
      "Chondroctye progenitors         33539\n",
      "Inhibitory neuron progenitors   31214\n",
      "Premature oligodendrocyte       29538\n",
      "Limb mesenchyme                 26559\n",
      "Sensory neurons                 26477\n",
      "Endothelial cells               26431\n",
      "Stromal cells                   23259\n",
      "Osteoblasts                     23223\n",
      "Schwann cell precursor          23145\n",
      "Granule neurons                 16131\n",
      "Notochord cells                 15481\n",
      "Primitive erythroid lineage     15138\n",
      "Inhibitory interneurons         13533\n",
      "Hepatocytes                     11229\n",
      "White blood cells                9202\n",
      "Ependymal cell                   8566\n",
      "Cholinergic neurons              7060\n",
      "Cardiac muscle lineages          4867\n",
      "Megakaryocytes                   3572\n",
      "Melanocytes                      2827\n",
      "Lens                             1954\n",
      "Neutrophils                       506\n"
     ]
    }
   ],
   "source": [
    "cell_type_dist = pd.read_csv('../data/cao_2million-cell_2019_61-embryo_downsample/cell_type_dist.txt', sep='\\t', index_col=0, header=None)\n",
    "print(cell_type_dist)"
   ]
  },
  {
   "cell_type": "markdown",
   "metadata": {},
   "source": [
    "#### Total number of cells in downsampled view"
   ]
  },
  {
   "cell_type": "code",
   "execution_count": 48,
   "metadata": {},
   "outputs": [
    {
     "data": {
      "text/plain": [
       "1386587"
      ]
     },
     "execution_count": 48,
     "metadata": {},
     "output_type": "execute_result"
    }
   ],
   "source": [
    "cell_type_dist.sum().get_values()[0]"
   ]
  },
  {
   "cell_type": "markdown",
   "metadata": {},
   "source": [
    "# Visualize Downsampled Data"
   ]
  },
  {
   "cell_type": "code",
   "execution_count": 16,
   "metadata": {},
   "outputs": [
    {
     "data": {
      "application/vnd.jupyter.widget-view+json": {
       "model_id": "eb153d40f50947189804fe28772b4724",
       "version_major": 2,
       "version_minor": 0
      },
      "text/plain": [
       "ExampleWidget(network='{\"row_nodes\": [{\"name\": \"Gm42418\", \"ini\": 250, \"clust\": 5, \"rank\": 79, \"rankvar\": 87, \"…"
      ]
     },
     "metadata": {},
     "output_type": "display_data"
    }
   ],
   "source": [
    "net.load_df(df_ds)\n",
    "net.filter_N_top(inst_rc='row', N_top=250, rank_type='var')\n",
    "net.normalize(axis='row', norm_type='zscore')\n",
    "net.clip(-5,5)\n",
    "net.widget()"
   ]
  },
  {
   "cell_type": "markdown",
   "metadata": {},
   "source": [
    "# Visualize Specific Cell Type Data"
   ]
  },
  {
   "cell_type": "code",
   "execution_count": 54,
   "metadata": {},
   "outputs": [],
   "source": [
    "inst_cell_type = 'Sensory neurons'"
   ]
  },
  {
   "cell_type": "code",
   "execution_count": 57,
   "metadata": {},
   "outputs": [
    {
     "data": {
      "application/vnd.jupyter.widget-view+json": {
       "model_id": "dacaea14d1844a9794ae2174d864a44b",
       "version_major": 2,
       "version_minor": 0
      },
      "text/plain": [
       "ExampleWidget(network='{\"row_nodes\": [{\"name\": \"mt-Rnr2\", \"ini\": 250, \"clust\": 9, \"rank\": 135, \"rankvar\": 190,…"
      ]
     },
     "metadata": {},
     "output_type": "display_data"
    }
   ],
   "source": [
    "net.load_df(df_ds)\n",
    "net.filter_cat(axis='col', cat_index=1, cat_name='Cell Type: ' + inst_cell_type)\n",
    "net.filter_N_top(inst_rc='row', N_top=250, rank_type='var')\n",
    "net.normalize(axis='row', norm_type='zscore')\n",
    "net.clip(-5,5)\n",
    "net.widget()"
   ]
  },
  {
   "cell_type": "code",
   "execution_count": null,
   "metadata": {},
   "outputs": [],
   "source": []
  }
 ],
 "metadata": {
  "kernelspec": {
   "display_name": "Python 3",
   "language": "python",
   "name": "python3"
  },
  "language_info": {
   "codemirror_mode": {
    "name": "ipython",
    "version": 3
   },
   "file_extension": ".py",
   "mimetype": "text/x-python",
   "name": "python",
   "nbconvert_exporter": "python",
   "pygments_lexer": "ipython3",
   "version": "3.6.5"
  }
 },
 "nbformat": 4,
 "nbformat_minor": 2
}
