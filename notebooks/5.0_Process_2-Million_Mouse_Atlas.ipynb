{
 "cells": [
  {
   "cell_type": "markdown",
   "metadata": {},
   "source": [
    "# 5.0 Process 2-Million Mouse Atlas"
   ]
  },
  {
   "cell_type": "code",
   "execution_count": 8,
   "metadata": {},
   "outputs": [],
   "source": [
    "import pandas as pd\n",
    "from glob import glob\n",
    "import os"
   ]
  },
  {
   "cell_type": "code",
   "execution_count": 2,
   "metadata": {},
   "outputs": [
    {
     "data": {
      "text/plain": [
       "61"
      ]
     },
     "execution_count": 2,
     "metadata": {},
     "output_type": "execute_result"
    }
   ],
   "source": [
    "all_samples = sorted(glob('../data/big_data/cao_2million-cell_2019_61-embryo_parquet_files/*'))\n",
    "len(all_samples)"
   ]
  },
  {
   "cell_type": "code",
   "execution_count": 3,
   "metadata": {},
   "outputs": [],
   "source": [
    "def make_dir(directory):\n",
    "    import os\n",
    "    if not os.path.exists(directory):\n",
    "        os.mkdir(directory)"
   ]
  },
  {
   "cell_type": "markdown",
   "metadata": {},
   "source": [
    "### Calc Variance of All Genes Across Samples"
   ]
  },
  {
   "cell_type": "code",
   "execution_count": 4,
   "metadata": {},
   "outputs": [],
   "source": [
    "def calc_gene_mean(inst_sample):\n",
    "    df_gex = pd.read_parquet(inst_sample + '/gex.parquet')\n",
    "    print(df_gex.shape)\n",
    "    inst_mean = df_gex.mean(axis=1)\n",
    "    return inst_mean"
   ]
  },
  {
   "cell_type": "code",
   "execution_count": 5,
   "metadata": {},
   "outputs": [
    {
     "name": "stdout",
     "output_type": "stream",
     "text": [
      "(26183, 19812)\n"
     ]
    }
   ],
   "source": [
    "inst_mean = calc_gene_mean(all_samples[0])\n",
    "top_mean = inst_mean.sort_values(ascending=False).index.tolist()[:10000]"
   ]
  },
  {
   "cell_type": "markdown",
   "metadata": {},
   "source": [
    "### Make Top 10K Gene Version of DataSets"
   ]
  },
  {
   "cell_type": "code",
   "execution_count": 6,
   "metadata": {},
   "outputs": [],
   "source": [
    "base_dir = '../data/big_data/cao_2million-cell_2019_61-embryo_parquet_files_top-10k-mean/'"
   ]
  },
  {
   "cell_type": "code",
   "execution_count": null,
   "metadata": {},
   "outputs": [],
   "source": [
    "for inst_sample_path in all_samples:\n",
    "    df_gex = pd.read_parquet(inst_sample_path + '/gex.parquet').loc[top_mean]\n",
    "    inst_sample = inst_sample_path.split('/')[-1]\n",
    "    \n",
    "    new_sample_dir = base_dir + inst_sample\n",
    "    make_dir(new_sample_dir)\n",
    "    df_gex.to_parquet(new_sample_dir + '/gex.parquet')\n",
    "    \n",
    "    # check file size (MB)\n",
    "    statinfo = os.stat(new_sample_dir + '/gex.parquet')\n",
    "    print(inst_sample, statinfo.st_size/(1000000))"
   ]
  },
  {
   "cell_type": "code",
   "execution_count": null,
   "metadata": {},
   "outputs": [],
   "source": []
  }
 ],
 "metadata": {
  "kernelspec": {
   "display_name": "Python 3",
   "language": "python",
   "name": "python3"
  },
  "language_info": {
   "codemirror_mode": {
    "name": "ipython",
    "version": 3
   },
   "file_extension": ".py",
   "mimetype": "text/x-python",
   "name": "python",
   "nbconvert_exporter": "python",
   "pygments_lexer": "ipython3",
   "version": "3.6.6"
  }
 },
 "nbformat": 4,
 "nbformat_minor": 2
}
