{
 "cells": [
  {
   "cell_type": "markdown",
   "metadata": {},
   "source": [
    "# 3.0 10X Genomics PBMC 2,700 Dataset"
   ]
  },
  {
   "cell_type": "code",
   "execution_count": 1,
   "metadata": {},
   "outputs": [
    {
     "name": "stdout",
     "output_type": "stream",
     "text": [
      "clustergrammer2 backend version 0.2.9\n"
     ]
    }
   ],
   "source": [
    "from clustergrammer2 import net\n",
    "\n",
    "df = {}\n",
    "import clustergrammer_groupby as cby\n",
    "import gene_exp_10x"
   ]
  },
  {
   "cell_type": "code",
   "execution_count": 2,
   "metadata": {},
   "outputs": [],
   "source": [
    "from sklearn.metrics import f1_score\n",
    "import pandas as pd\n",
    "import numpy as np\n",
    "from copy import deepcopy\n",
    "\n",
    "import matplotlib.pyplot as plt\n",
    "%matplotlib inline "
   ]
  },
  {
   "cell_type": "code",
   "execution_count": 3,
   "metadata": {},
   "outputs": [],
   "source": [
    "def calc_mean_var_disp(df_inst):\n",
    "    mean_arr = []\n",
    "    var_arr = []\n",
    "    mean_names = []\n",
    "    for inst_gene in df_inst.index.tolist():\n",
    "        mean_arr.append( df_inst.loc[inst_gene].mean() )\n",
    "        var_arr.append(df_inst.loc[inst_gene].var())\n",
    "        mean_names.append(inst_gene)\n",
    "\n",
    "    ser_mean = pd.Series(data=mean_arr, index=mean_names)\n",
    "    ser_var = pd.Series(data=var_arr, index=mean_names)    \n",
    "    return ser_mean, ser_var"
   ]
  },
  {
   "cell_type": "code",
   "execution_count": 4,
   "metadata": {},
   "outputs": [],
   "source": [
    "def cell_umi_count(df):\n",
    "    sum_arr = []\n",
    "    sum_names = []\n",
    "    for inst_cell in df:\n",
    "        sum_arr.append( df[inst_cell].sum() )\n",
    "        sum_names.append(inst_cell)\n",
    "    \n",
    "    ser_sum = pd.Series(data=sum_arr, index=sum_names)\n",
    "    return ser_sum"
   ]
  },
  {
   "cell_type": "markdown",
   "metadata": {},
   "source": [
    "### Load Data"
   ]
  },
  {
   "cell_type": "code",
   "execution_count": 5,
   "metadata": {},
   "outputs": [
    {
     "data": {
      "text/plain": [
       "(32738, 2700)"
      ]
     },
     "execution_count": 5,
     "metadata": {},
     "output_type": "execute_result"
    }
   ],
   "source": [
    "df = gene_exp_10x.load_gene_exp_to_df('../data/pbmc3k_filtered_gene_bc_matrices/hg19/')\n",
    "df.shape"
   ]
  },
  {
   "cell_type": "markdown",
   "metadata": {},
   "source": [
    "### Remove Ribosomal and Mitochondrial Genes"
   ]
  },
  {
   "cell_type": "code",
   "execution_count": 6,
   "metadata": {},
   "outputs": [
    {
     "name": "stdout",
     "output_type": "stream",
     "text": [
      "32738\n",
      "32546\n",
      "['MTRNR2L11', 'MTRNR2L12', 'MTRNR2L13', 'MTRF1L', 'MTRNR2L6', 'MTRNR2L10', 'MTRNR2L7', 'MTRNR2L5', 'MTRNR2L8', 'MTRF1', 'MTRNR2L4', 'MTRNR2L1', 'MTRNR2L3', 'MT-ND1', 'MT-ND2', 'MT-CO1', 'MT-CO2', 'MT-ATP8', 'MT-ATP6', 'MT-CO3', 'MT-ND3', 'MT-ND4L', 'MT-ND4', 'MT-ND5', 'MT-ND6', 'MT-CYB']\n"
     ]
    }
   ],
   "source": [
    "all_genes = df.index.tolist()\n",
    "print(len(all_genes))\n",
    "keep_genes = [x for x in all_genes if 'RPL' not in x]\n",
    "keep_genes = [x for x in keep_genes if 'RPS' not in x]\n",
    "print(len(keep_genes))\n",
    "\n",
    "df = df.loc[keep_genes]\n",
    "df.shape\n",
    "\n",
    "# Removing Mitochondrial Genes\n",
    "list_mito_genes = ['MTRNR2L11', 'MTRF1', 'MTRNR2L12', 'MTRNR2L13', 'MTRF1L', 'MTRNR2L6', 'MTRNR2L7',\n",
    "                'MTRNR2L10', 'MTRNR2L8', 'MTRNR2L5', 'MTRNR2L1', 'MTRNR2L3', 'MTRNR2L4']\n",
    "\n",
    "all_genes = df.index.tolist()\n",
    "mito_genes = [x for x in all_genes if 'MT-' == x[:3] or \n",
    "             x.split('_')[0] in list_mito_genes]\n",
    "print(mito_genes)\n",
    "\n",
    "keep_genes = [x for x in all_genes if x not in mito_genes]\n",
    "df = df.loc[keep_genes]"
   ]
  },
  {
   "cell_type": "markdown",
   "metadata": {},
   "source": [
    "### UMI Normalize GEX Data"
   ]
  },
  {
   "cell_type": "code",
   "execution_count": 7,
   "metadata": {},
   "outputs": [
    {
     "name": "stdout",
     "output_type": "stream",
     "text": [
      "(32520, 2700)\n",
      "AAACATACAACCAC    1.0\n",
      "AAACATTGAGCTAC    1.0\n",
      "AAACATTGATCAGC    1.0\n",
      "AAACCGTGCTTCCG    1.0\n",
      "AAACCGTGTATGCG    1.0\n",
      "dtype: float64\n"
     ]
    }
   ],
   "source": [
    "ser_sum = cell_umi_count(df)\n",
    "df = df.div(ser_sum)\n",
    "print(df.shape)\n",
    "print(df.sum().head())"
   ]
  },
  {
   "cell_type": "markdown",
   "metadata": {},
   "source": [
    "### Keep top expressing genes, ArcSinh Transform GEX Data"
   ]
  },
  {
   "cell_type": "code",
   "execution_count": 8,
   "metadata": {},
   "outputs": [
    {
     "name": "stdout",
     "output_type": "stream",
     "text": [
      "(5000, 2700)\n"
     ]
    }
   ],
   "source": [
    "ser_mean, ser_var = calc_mean_var_disp(df)\n",
    "\n",
    "num_keep_umi = 7500\n",
    "\n",
    "keep_genes = ser_mean.sort_values(ascending=False)[:num_keep_umi].index.tolist()\n",
    "\n",
    "df = df.loc[keep_genes]\n",
    "\n",
    "df = np.arcsinh(df/5)\n",
    "df.shape\n",
    "\n",
    "# save a copy of gex for use with signatures\n",
    "df_ini = deepcopy(df)\n",
    "net.load_df(df_ini)\n",
    "net.normalize(axis='row', norm_type='zscore')\n",
    "df_ini = net.export_df()\n",
    "\n",
    "print(df.shape)"
   ]
  },
  {
   "cell_type": "markdown",
   "metadata": {},
   "source": [
    "### Keep top 500 Genes by Variance, Z-score Across Cells"
   ]
  },
  {
   "cell_type": "code",
   "execution_count": 9,
   "metadata": {},
   "outputs": [
    {
     "name": "stdout",
     "output_type": "stream",
     "text": [
      "(500, 2700)\n"
     ]
    }
   ],
   "source": [
    "num_genes = 500\n",
    "num_cells = 2700\n",
    "\n",
    "# keep top genes based on variance\n",
    "ser_mean, ser_var = calc_mean_var_disp(df)\n",
    "keep_genes = ser_var.sort_values(ascending=False).index.tolist()[:num_genes]\n",
    "df = df.loc[keep_genes]\n",
    "\n",
    "net.load_df(df)\n",
    "net.normalize(axis='row', norm_type='zscore')\n",
    "df = net.export_df()\n",
    "print(df.shape)"
   ]
  },
  {
   "cell_type": "markdown",
   "metadata": {},
   "source": [
    "# Unlabeled Cells "
   ]
  },
  {
   "cell_type": "code",
   "execution_count": 10,
   "metadata": {},
   "outputs": [
    {
     "data": {
      "application/vnd.jupyter.widget-view+json": {
       "model_id": "221cf632c7d0490eb4634b787e7cae76",
       "version_major": 2,
       "version_minor": 0
      },
      "text/plain": [
       "ExampleWidget(network='{\"row_nodes\": [{\"name\": \"MALAT1\", \"ini\": 500, \"clust\": 374, \"rank\": 484, \"rankvar\": 484…"
      ]
     },
     "metadata": {},
     "output_type": "display_data"
    }
   ],
   "source": [
    "net.load_df(df)\n",
    "net.clip(lower=-5, upper=5)\n",
    "net.widget()"
   ]
  },
  {
   "cell_type": "markdown",
   "metadata": {},
   "source": [
    "### Load CIBERSORT gene sigantures"
   ]
  },
  {
   "cell_type": "code",
   "execution_count": 11,
   "metadata": {},
   "outputs": [
    {
     "name": "stdout",
     "output_type": "stream",
     "text": [
      "(523, 22)\n"
     ]
    }
   ],
   "source": [
    "net.load_file('../data/cell_type_signatures/nm3337_narrow_cell_type_sigs.txt')\n",
    "net.normalize(axis='row', norm_type='zscore')\n",
    "df_sig = net.export_df()\n",
    "print(df_sig.shape)\n",
    "\n",
    "rows = df_sig.index.tolist()\n",
    "new_rows = [x.split('_')[0] for x in rows]\n",
    "df_sig.index = new_rows"
   ]
  },
  {
   "cell_type": "code",
   "execution_count": 12,
   "metadata": {},
   "outputs": [],
   "source": [
    "net.set_cat_color(axis='col', cat_index=1, cat_name='T cells CD8', inst_color='red')\n",
    "net.set_cat_color(axis='col', cat_index=1, cat_name='T cells CD4 naive', inst_color='blue')\n",
    "net.set_cat_color(axis='col', cat_index=1, cat_name='T cells CD4 memory activated', inst_color='blue')\n",
    "net.set_cat_color(axis='col', cat_index=1, cat_name='T cells CD4 memory resting', inst_color='#87cefa') # sky blue\n",
    "net.set_cat_color(axis='col', cat_index=1, cat_name='B cells naive', inst_color='purple')\n",
    "net.set_cat_color(axis='col', cat_index=1, cat_name='B cells memory', inst_color='#DA70D6') # orchid\n",
    "net.set_cat_color(axis='col', cat_index=1, cat_name='NK cells activated', inst_color='yellow')\n",
    "net.set_cat_color(axis='col', cat_index=1, cat_name='NK cells resting', inst_color='#FCD116') # sign yellow\n",
    "net.set_cat_color(axis='col', cat_index=1, cat_name='Monocytes', inst_color='#98ff98') # mint green\n",
    "net.set_cat_color(axis='col', cat_index=1, cat_name='Macrophages M0', inst_color='#D3D3D3') # light grey\n",
    "net.set_cat_color(axis='col', cat_index=1, cat_name='Macrophages M1', inst_color='#C0C0C0') # silver\n",
    "net.set_cat_color(axis='col', cat_index=1, cat_name='Macrophages M2', inst_color='#A9A9A9') # dark grey"
   ]
  },
  {
   "cell_type": "code",
   "execution_count": 13,
   "metadata": {
    "scrolled": false
   },
   "outputs": [
    {
     "data": {
      "application/vnd.jupyter.widget-view+json": {
       "model_id": "203aa17494184e6b80e64a0524ee981b",
       "version_major": 2,
       "version_minor": 0
      },
      "text/plain": [
       "ExampleWidget(network='{\"row_nodes\": [{\"name\": \"ABCB4\", \"ini\": 523, \"clust\": 318, \"rank\": 341, \"rankvar\": 8, \"…"
      ]
     },
     "metadata": {},
     "output_type": "display_data"
    }
   ],
   "source": [
    "net.load_df(df_sig)\n",
    "net.clip(lower=-5, upper=5)\n",
    "net.widget()"
   ]
  },
  {
   "cell_type": "markdown",
   "metadata": {},
   "source": [
    "# Predict Cell Types using CIBERSORT Signatures"
   ]
  },
  {
   "cell_type": "code",
   "execution_count": 14,
   "metadata": {},
   "outputs": [
    {
     "name": "stdout",
     "output_type": "stream",
     "text": [
      "(185, 2700)\n"
     ]
    }
   ],
   "source": [
    "df_pred_cat, df_sig_sim, y_info = cby.predict_cats_from_sigs(df_ini, df_sig, \n",
    "                                                                   predict_level='Cell Type', unknown_thresh=0.05)\n",
    "df.columns = df_pred_cat.columns.tolist()\n",
    "print(df_pred_cat.shape)"
   ]
  },
  {
   "cell_type": "code",
   "execution_count": 15,
   "metadata": {},
   "outputs": [],
   "source": [
    "net.load_df(df_pred_cat)\n",
    "net.set_cat_color(axis='col', cat_index=1, cat_name='Cell Type: T cells CD8', inst_color='red')\n",
    "net.set_cat_color(axis='col', cat_index=1, cat_name='Cell Type: T cells CD4 naive', inst_color='blue')\n",
    "net.set_cat_color(axis='col', cat_index=1, cat_name='Cell Type: T cells CD4 memory activated', inst_color='blue')\n",
    "net.set_cat_color(axis='col', cat_index=1, cat_name='Cell Type: T cells CD4 memory resting', inst_color='#87cefa') # sky blue\n",
    "net.set_cat_color(axis='col', cat_index=1, cat_name='Cell Type: B cells naive', inst_color='purple')\n",
    "net.set_cat_color(axis='col', cat_index=1, cat_name='Cell Type: B cells memory', inst_color='#DA70D6') # orchid\n",
    "net.set_cat_color(axis='col', cat_index=1, cat_name='Cell Type: NK cells activated', inst_color='yellow')\n",
    "net.set_cat_color(axis='col', cat_index=1, cat_name='Cell Type: NK cells resting', inst_color='#FCD116') # sign yellow\n",
    "net.set_cat_color(axis='col', cat_index=1, cat_name='Cell Type: Monocytes', inst_color='#98ff98') # mint green\n",
    "net.set_cat_color(axis='col', cat_index=1, cat_name='Cell Type: Macrophages M0', inst_color='#D3D3D3') # light grey\n",
    "net.set_cat_color(axis='col', cat_index=1, cat_name='Cell Type: Macrophages M1', inst_color='#C0C0C0') # silver\n",
    "net.set_cat_color(axis='col', cat_index=1, cat_name='Cell Type: Macrophages M2', inst_color='#A9A9A9') # dark grey"
   ]
  },
  {
   "cell_type": "markdown",
   "metadata": {},
   "source": [
    "# Cells in CIBERSORT GEX Space"
   ]
  },
  {
   "cell_type": "code",
   "execution_count": 16,
   "metadata": {},
   "outputs": [
    {
     "data": {
      "application/vnd.jupyter.widget-view+json": {
       "model_id": "1439707e13e64e9bb1033205dad92656",
       "version_major": 2,
       "version_minor": 0
      },
      "text/plain": [
       "ExampleWidget(network='{\"row_nodes\": [{\"name\": \"CD300A\", \"ini\": 185, \"clust\": 76, \"rank\": 159, \"rankvar\": 161,…"
      ]
     },
     "metadata": {},
     "output_type": "display_data"
    }
   ],
   "source": [
    "net.load_df(df_pred_cat)\n",
    "net.clip(lower=-5, upper=5)\n",
    "net.widget()"
   ]
  },
  {
   "cell_type": "markdown",
   "metadata": {},
   "source": [
    "# Cells with CIBERSORT Predictions, Top Genes Based on Variance"
   ]
  },
  {
   "cell_type": "code",
   "execution_count": 17,
   "metadata": {},
   "outputs": [
    {
     "data": {
      "application/vnd.jupyter.widget-view+json": {
       "model_id": "2952f9828a0746bbb430a67821ffb22a",
       "version_major": 2,
       "version_minor": 0
      },
      "text/plain": [
       "ExampleWidget(network='{\"row_nodes\": [{\"name\": \"MALAT1\", \"ini\": 500, \"clust\": 374, \"rank\": 484, \"rankvar\": 484…"
      ]
     },
     "metadata": {},
     "output_type": "display_data"
    }
   ],
   "source": [
    "net.load_df(df)\n",
    "net.clip(lower=-5, upper=5)\n",
    "net.widget()"
   ]
  },
  {
   "cell_type": "code",
   "execution_count": null,
   "metadata": {},
   "outputs": [],
   "source": []
  },
  {
   "cell_type": "code",
   "execution_count": null,
   "metadata": {},
   "outputs": [],
   "source": []
  }
 ],
 "metadata": {
  "kernelspec": {
   "display_name": "Python 3",
   "language": "python",
   "name": "python3"
  },
  "language_info": {
   "codemirror_mode": {
    "name": "ipython",
    "version": 3
   },
   "file_extension": ".py",
   "mimetype": "text/x-python",
   "name": "python",
   "nbconvert_exporter": "python",
   "pygments_lexer": "ipython3",
   "version": "3.6.6"
  }
 },
 "nbformat": 4,
 "nbformat_minor": 2
}
