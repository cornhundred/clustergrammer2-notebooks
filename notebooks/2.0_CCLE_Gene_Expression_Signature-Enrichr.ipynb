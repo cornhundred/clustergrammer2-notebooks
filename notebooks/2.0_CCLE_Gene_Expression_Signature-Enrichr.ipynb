{
 "cells": [
  {
   "cell_type": "markdown",
   "metadata": {},
   "source": [
    "# 2.0 CCLE Gene Expression Signature"
   ]
  },
  {
   "cell_type": "code",
   "execution_count": 29,
   "metadata": {},
   "outputs": [],
   "source": [
    "from clustergrammer2 import net"
   ]
  },
  {
   "cell_type": "code",
   "execution_count": 30,
   "metadata": {},
   "outputs": [],
   "source": [
    "import clustergrammer_groupby as cby\n",
    "import warnings\n",
    "warnings.filterwarnings('ignore')"
   ]
  },
  {
   "cell_type": "code",
   "execution_count": 31,
   "metadata": {},
   "outputs": [],
   "source": [
    "import numpy as np\n",
    "import pandas as pd\n",
    "df = pd.read_csv('../data/CCLE/CCLE.txt.gz', compression='gzip', index_col=0)"
   ]
  },
  {
   "cell_type": "code",
   "execution_count": 34,
   "metadata": {},
   "outputs": [
    {
     "data": {
      "text/plain": [
       "(18874, 1037)"
      ]
     },
     "execution_count": 34,
     "metadata": {},
     "output_type": "execute_result"
    }
   ],
   "source": [
    "df.shape"
   ]
  },
  {
   "cell_type": "code",
   "execution_count": 32,
   "metadata": {},
   "outputs": [],
   "source": [
    "from ast import literal_eval as make_tuple\n",
    "cols = df.columns.tolist()\n",
    "new_cols = [make_tuple(x) for x in cols]\n",
    "df.columns = new_cols"
   ]
  },
  {
   "cell_type": "code",
   "execution_count": 33,
   "metadata": {},
   "outputs": [
    {
     "data": {
      "text/plain": [
       "18874"
      ]
     },
     "execution_count": 33,
     "metadata": {},
     "output_type": "execute_result"
    }
   ],
   "source": [
    "all_genes = df.index.tolist()\n",
    "len(all_genes)"
   ]
  },
  {
   "cell_type": "markdown",
   "metadata": {},
   "source": [
    "# CCLE Gene Expression Data, Z-score Genes"
   ]
  },
  {
   "cell_type": "code",
   "execution_count": 21,
   "metadata": {},
   "outputs": [
    {
     "data": {
      "application/vnd.jupyter.widget-view+json": {
       "model_id": "335f25e9c6554457bc43bfc47f2d4c75",
       "version_major": 2,
       "version_minor": 0
      },
      "text/plain": [
       "ExampleWidget(network='{\"row_nodes\": [{\"name\": \"KRT19\", \"ini\": 1000, \"clust\": 967, \"rank\": 948, \"rankvar\": 689…"
      ]
     },
     "metadata": {},
     "output_type": "display_data"
    }
   ],
   "source": [
    "rows = df.index.tolist()\n",
    "new_rows = [(x,) for x in rows]\n",
    "df.index = new_rows\n",
    "net.load_df(df)\n",
    "net.filter_N_top(inst_rc='row', N_top=1000, rank_type='var')\n",
    "net.normalize(axis='row', norm_type='zscore')\n",
    "df_tmp = net.export_df().round(2)\n",
    "net.load_df(df_tmp)\n",
    "net.cluster()\n",
    "net.dendro_cats(axis='row', dendro_level=5)\n",
    "df_dendro = net.export_df()\n",
    "net.widget()"
   ]
  },
  {
   "cell_type": "code",
   "execution_count": 23,
   "metadata": {},
   "outputs": [
    {
     "data": {
      "text/plain": [
       "('KRT19', 'Group 5: cat-13')"
      ]
     },
     "execution_count": 23,
     "metadata": {},
     "output_type": "execute_result"
    }
   ],
   "source": [
    "rows = df_dendro.index.tolist()\n",
    "rows[0]"
   ]
  },
  {
   "cell_type": "code",
   "execution_count": 35,
   "metadata": {},
   "outputs": [
    {
     "data": {
      "text/plain": [
       "121"
      ]
     },
     "execution_count": 35,
     "metadata": {},
     "output_type": "execute_result"
    }
   ],
   "source": [
    "gene_list = sorted([x[0] for x in rows if x[1] == 'Group 5: cat-5'])\n",
    "len(gene_list)"
   ]
  },
  {
   "cell_type": "markdown",
   "metadata": {},
   "source": [
    "### Tissue Type Signatures"
   ]
  },
  {
   "cell_type": "code",
   "execution_count": 7,
   "metadata": {},
   "outputs": [],
   "source": [
    "gmts = {}\n",
    "gmts['kea'] = net.load_gmt('../data/Enrichr_Libraries_of_Interest/KEA_2015.txt')"
   ]
  },
  {
   "cell_type": "code",
   "execution_count": 36,
   "metadata": {},
   "outputs": [
    {
     "data": {
      "text/plain": [
       "18874"
      ]
     },
     "execution_count": 36,
     "metadata": {},
     "output_type": "execute_result"
    }
   ],
   "source": [
    "len(all_genes)"
   ]
  },
  {
   "cell_type": "code",
   "execution_count": 37,
   "metadata": {},
   "outputs": [
    {
     "data": {
      "text/plain": [
       "121"
      ]
     },
     "execution_count": 37,
     "metadata": {},
     "output_type": "execute_result"
    }
   ],
   "source": [
    "len(set(all_genes).intersection(gene_list))"
   ]
  },
  {
   "cell_type": "code",
   "execution_count": 103,
   "metadata": {},
   "outputs": [],
   "source": [
    "from scipy.stats import binom_test\n",
    "def enrich_using_lib(lib_json, gene_list, background_list):\n",
    "    len_gene_list = len(gene_list)\n",
    "    \n",
    "    list_terms = []\n",
    "    list_pval = []\n",
    "    # list of series that will be used to make dataframe\n",
    "    list_term_ser = []\n",
    "    for inst_term in lib_json:\n",
    "        \n",
    "        term_ser = pd.Series(data=np.zeros(len(gene_list)), index=gene_list)\n",
    "        \n",
    "        term_genes = lib_json[inst_term]\n",
    "        \n",
    "        p_expect = len(set(all_genes).intersection(term_genes))/len(all_genes)\n",
    "        \n",
    "        found_genes = list(set(gene_list).intersection(term_genes))\n",
    "        actual_k = len(found_genes)\n",
    "        \n",
    "        # set found genes to one\n",
    "        term_ser[found_genes] =  1\n",
    "        \n",
    "        if actual_k/len_gene_list > p_expect:\n",
    "            inst_pval = binom_test(actual_k, len_gene_list, p_expect)\n",
    "        else:\n",
    "            inst_pval = 0.5\n",
    "        \n",
    "        if inst_pval < 0.05:\n",
    "            \n",
    "            list_terms.append(inst_term)\n",
    "            list_pval.append(inst_pval)\n",
    "            \n",
    "        if actual_k > 0:\n",
    "            term_name = (inst_term, 'Pval: ' + str(inst_pval))\n",
    "            term_ser.name = term_name\n",
    "\n",
    "            list_term_ser.append(term_ser)\n",
    "            \n",
    "    ser_pval = pd.Series(data=list_pval, index=list_terms).sort_values()\n",
    "    df_term = pd.concat(list_term_ser, axis=1)\n",
    "    \n",
    "    # remove genes (rows) with no matches\n",
    "    gene_sum = df_term.sum(axis=1)\n",
    "    keep_genes = gene_sum[gene_sum > 0].index.tolist()\n",
    "    df_term = df_term.loc[keep_genes]\n",
    "    \n",
    "    return ser_pval, df_term"
   ]
  },
  {
   "cell_type": "code",
   "execution_count": 109,
   "metadata": {},
   "outputs": [
    {
     "data": {
      "text/plain": [
       "LYN       9.367077e-07\n",
       "SYK       4.175092e-06\n",
       "PRKCD     4.553761e-04\n",
       "HCK       2.438379e-03\n",
       "IGF1R     1.720167e-02\n",
       "TXK       1.905054e-02\n",
       "PRKCQ     2.157760e-02\n",
       "LCK       2.430763e-02\n",
       "MAP4K1    2.532038e-02\n",
       "FES       3.774109e-02\n",
       "GRK6      3.774109e-02\n",
       "KIT       3.774109e-02\n",
       "FGR       4.389245e-02\n",
       "MAPK9     4.796557e-02\n",
       "dtype: float64"
      ]
     },
     "execution_count": 109,
     "metadata": {},
     "output_type": "execute_result"
    }
   ],
   "source": [
    "ser_pval, df_term = enrich_using_lib(gmts['kea'], gene_list, all_genes)\n",
    "ser_pval"
   ]
  },
  {
   "cell_type": "code",
   "execution_count": 108,
   "metadata": {},
   "outputs": [
    {
     "data": {
      "application/vnd.jupyter.widget-view+json": {
       "model_id": "d1e294dcb0934a598c0075b3da02e2e5",
       "version_major": 2,
       "version_minor": 0
      },
      "text/plain": [
       "ExampleWidget(network='{\"row_nodes\": [{\"name\": \"APOBEC3G\", \"ini\": 34, \"clust\": 7, \"rank\": 11, \"rankvar\": 11, \"…"
      ]
     },
     "metadata": {},
     "output_type": "display_data"
    }
   ],
   "source": [
    "net.load_df(df_term)\n",
    "net.widget()"
   ]
  },
  {
   "cell_type": "code",
   "execution_count": 88,
   "metadata": {},
   "outputs": [
    {
     "data": {
      "text/plain": [
       "121"
      ]
     },
     "execution_count": 88,
     "metadata": {},
     "output_type": "execute_result"
    }
   ],
   "source": [
    "len(gene_list)"
   ]
  },
  {
   "cell_type": "code",
   "execution_count": null,
   "metadata": {},
   "outputs": [],
   "source": []
  },
  {
   "cell_type": "code",
   "execution_count": 7,
   "metadata": {},
   "outputs": [
    {
     "data": {
      "application/vnd.jupyter.widget-view+json": {
       "model_id": "b1aeb174aad64e3a9b1f1a723435a0e7",
       "version_major": 2,
       "version_minor": 0
      },
      "text/plain": [
       "ExampleWidget(network='{\"row_nodes\": [{\"name\": \"ABCA1\", \"ini\": 703, \"clust\": 342, \"rank\": 341, \"rankvar\": 485,…"
      ]
     },
     "metadata": {},
     "output_type": "display_data"
    }
   ],
   "source": [
    "df_sig, keep_genes_dict, df_gene_pval, fold_info = cby.generate_signatures(df,\n",
    "                                                                     'tissue', num_top_dims=100)\n",
    "\n",
    "net.load_df(df_sig)\n",
    "net.widget()"
   ]
  },
  {
   "cell_type": "markdown",
   "metadata": {},
   "source": [
    "### Add tissue category to genes"
   ]
  },
  {
   "cell_type": "code",
   "execution_count": 8,
   "metadata": {},
   "outputs": [],
   "source": [
    "gene_sig = df_sig.idxmax(axis=1)\n",
    "gs_dict = {}\n",
    "for inst_gene in gene_sig.index.tolist():\n",
    "    gs_dict[inst_gene] = gene_sig[inst_gene][0]\n",
    "    \n",
    "rows = df.index.tolist()\n",
    "new_rows = [(x, 'Cell Type: ' + gs_dict[x]) if x in gs_dict else (x, 'N.A.') for x in rows ]\n",
    "df.index = new_rows\n",
    "net.load_df(df)"
   ]
  },
  {
   "cell_type": "code",
   "execution_count": 9,
   "metadata": {},
   "outputs": [],
   "source": [
    "ct_color = net.viz['cat_colors']['col']['cat-0']"
   ]
  },
  {
   "cell_type": "code",
   "execution_count": 10,
   "metadata": {},
   "outputs": [],
   "source": [
    "def set_cat_colors(axis, cat_index, cat_title=False):\n",
    "    for inst_ct in ct_color:\n",
    "        if cat_title != False:\n",
    "            cat_name = cat_title + ': ' + inst_ct\n",
    "        else:\n",
    "            cat_name = inst_ct\n",
    "            \n",
    "        inst_color = ct_color[inst_ct]\n",
    "        net.set_cat_color(axis=axis, cat_index=cat_index, cat_name=cat_name, inst_color=inst_color)"
   ]
  },
  {
   "cell_type": "code",
   "execution_count": 11,
   "metadata": {},
   "outputs": [],
   "source": [
    "set_cat_colors('row', 1)"
   ]
  },
  {
   "cell_type": "markdown",
   "metadata": {},
   "source": [
    "### CCLE Data with Gene-Tissue Category"
   ]
  },
  {
   "cell_type": "code",
   "execution_count": 12,
   "metadata": {},
   "outputs": [
    {
     "data": {
      "application/vnd.jupyter.widget-view+json": {
       "model_id": "1447e243ee11463093540158589a2236",
       "version_major": 2,
       "version_minor": 0
      },
      "text/plain": [
       "ExampleWidget(network='{\"row_nodes\": [{\"name\": \"KRT19\", \"ini\": 1000, \"clust\": 967, \"rank\": 948, \"rankvar\": 689…"
      ]
     },
     "metadata": {},
     "output_type": "display_data"
    }
   ],
   "source": [
    "net.load_df(df)\n",
    "net.widget()"
   ]
  },
  {
   "cell_type": "code",
   "execution_count": null,
   "metadata": {},
   "outputs": [],
   "source": []
  }
 ],
 "metadata": {
  "kernelspec": {
   "display_name": "Python 3",
   "language": "python",
   "name": "python3"
  },
  "language_info": {
   "codemirror_mode": {
    "name": "ipython",
    "version": 3
   },
   "file_extension": ".py",
   "mimetype": "text/x-python",
   "name": "python",
   "nbconvert_exporter": "python",
   "pygments_lexer": "ipython3",
   "version": "3.6.6"
  }
 },
 "nbformat": 4,
 "nbformat_minor": 2
}
