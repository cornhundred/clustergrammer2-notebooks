{
 "cells": [
  {
   "cell_type": "markdown",
   "metadata": {},
   "source": [
    "# 2.0 CCLE Gene Expression Signature"
   ]
  },
  {
   "cell_type": "code",
   "execution_count": 1,
   "metadata": {},
   "outputs": [
    {
     "name": "stdout",
     "output_type": "stream",
     "text": [
      "clustergrammer2 backend version 0.2.9\n"
     ]
    }
   ],
   "source": [
    "from clustergrammer2 import net"
   ]
  },
  {
   "cell_type": "code",
   "execution_count": 2,
   "metadata": {},
   "outputs": [],
   "source": [
    "import clustergrammer_groupby as cby\n",
    "import warnings\n",
    "warnings.filterwarnings('ignore')"
   ]
  },
  {
   "cell_type": "code",
   "execution_count": 3,
   "metadata": {},
   "outputs": [],
   "source": [
    "import numpy as np\n",
    "import pandas as pd\n",
    "df = pd.read_csv('../data/CCLE/CCLE.txt.gz', compression='gzip', index_col=0)"
   ]
  },
  {
   "cell_type": "code",
   "execution_count": 53,
   "metadata": {},
   "outputs": [],
   "source": [
    "net.load_df(df)\n",
    "net.filter_N_top(inst_rc='row', N_top=1000, rank_type='var')\n",
    "net.normalize(axis='row', norm_type='zscore')\n",
    "df_tmp = net.export_df().round(2)\n",
    "genes_top_var = df_tmp.index.tolist()"
   ]
  },
  {
   "cell_type": "code",
   "execution_count": 28,
   "metadata": {},
   "outputs": [
    {
     "data": {
      "text/plain": [
       "1000"
      ]
     },
     "execution_count": 28,
     "metadata": {},
     "output_type": "execute_result"
    }
   ],
   "source": [
    "len(genes_top_var)"
   ]
  },
  {
   "cell_type": "code",
   "execution_count": 33,
   "metadata": {
    "scrolled": false
   },
   "outputs": [
    {
     "data": {
      "application/vnd.jupyter.widget-view+json": {
       "model_id": "bd5e5aa6aa734c4d87a61bf48a7f68e6",
       "version_major": 2,
       "version_minor": 0
      },
      "text/plain": [
       "ExampleWidget(network='{\"row_nodes\": [{\"name\": \"KRT19\", \"ini\": 1000, \"clust\": 967, \"rank\": 241, \"rankvar\": 258…"
      ]
     },
     "metadata": {},
     "output_type": "display_data"
    }
   ],
   "source": [
    "net.load_df(df)\n",
    "net.filter_N_top(inst_rc='row', N_top=1000, rank_type='var')\n",
    "net.normalize(axis='row', norm_type='zscore')\n",
    "df_tmp = net.export_df().round(2)\n",
    "net.enrichrgram('GO_Biological_Process_2018')\n",
    "df_enr = net.export_df()\n",
    "net.widget()"
   ]
  },
  {
   "cell_type": "code",
   "execution_count": 75,
   "metadata": {},
   "outputs": [
    {
     "data": {
      "text/plain": [
       "('KRT19',\n",
       " 'extracellular matrix organization (GO:0030198): False<p> Pval 9.171026638093131e-29</p>',\n",
       " 'collagen fibril organization (GO:0030199): False<p> Pval 1.9897240254393085e-12</p>',\n",
       " 'regulation of cell migration (GO:0030334): False<p> Pval 6.6999547584764606e-15</p>',\n",
       " 'positive regulation of intracellular signal transduction (GO:1902533): False<p> Pval 5.5852790328680665e-12</p>',\n",
       " 'negative regulation of cellular process (GO:0048523): False<p> Pval 1.205623445289199e-13</p>',\n",
       " 'negative regulation of cell proliferation (GO:0008285): False<p> Pval 2.3244136779160615e-10</p>',\n",
       " 'neutrophil mediated immunity (GO:0002446): False<p> Pval 7.30336780471453e-10</p>',\n",
       " 'cytokine-mediated signaling pathway (GO:0019221): False<p> Pval 1.2455747717025743e-13</p>',\n",
       " 'neutrophil degranulation (GO:0043312): False<p> Pval 2.8513592127176324e-09</p>',\n",
       " 'regulation of angiogenesis (GO:0045765): False<p> Pval 2.3387050175471637e-10</p>')"
      ]
     },
     "execution_count": 75,
     "metadata": {},
     "output_type": "execute_result"
    }
   ],
   "source": [
    "df_enr.index.tolist()[0]"
   ]
  },
  {
   "cell_type": "code",
   "execution_count": 47,
   "metadata": {},
   "outputs": [
    {
     "data": {
      "text/plain": [
       "['extracellular matrix organization (GO:0030198)  9.171026638093131e-29</p>',\n",
       " 'collagen fibril organization (GO:0030199)  1.9897240254393085e-12</p>',\n",
       " 'regulation of cell migration (GO:0030334)  6.6999547584764606e-15</p>',\n",
       " 'positive regulation of intracellular signal transduction (GO:1902533)  5.5852790328680665e-12</p>',\n",
       " 'negative regulation of cellular process (GO:0048523)  1.205623445289199e-13</p>',\n",
       " 'negative regulation of cell proliferation (GO:0008285)  2.3244136779160615e-10</p>',\n",
       " 'neutrophil mediated immunity (GO:0002446)  7.30336780471453e-10</p>',\n",
       " 'cytokine-mediated signaling pathway (GO:0019221)  1.2455747717025743e-13</p>',\n",
       " 'neutrophil degranulation (GO:0043312)  2.8513592127176324e-09</p>',\n",
       " 'regulation of angiogenesis (GO:0045765)  2.3387050175471637e-10</p>']"
      ]
     },
     "execution_count": 47,
     "metadata": {},
     "output_type": "execute_result"
    }
   ],
   "source": [
    "enrichrgram_row = df_enr.index.tolist()[0][1:]\n",
    "enrichrgram_row = [x.split(': ')[0] + ' '+  x.split('Pval')[1] for x in enrichrgram_row]\n",
    "enrichrgram_row"
   ]
  },
  {
   "cell_type": "code",
   "execution_count": 5,
   "metadata": {},
   "outputs": [
    {
     "data": {
      "text/plain": [
       "(18874, 1037)"
      ]
     },
     "execution_count": 5,
     "metadata": {},
     "output_type": "execute_result"
    }
   ],
   "source": [
    "df.shape"
   ]
  },
  {
   "cell_type": "code",
   "execution_count": 6,
   "metadata": {},
   "outputs": [],
   "source": [
    "from ast import literal_eval as make_tuple\n",
    "cols = df.columns.tolist()\n",
    "new_cols = [make_tuple(x) for x in cols]\n",
    "df.columns = new_cols"
   ]
  },
  {
   "cell_type": "code",
   "execution_count": 7,
   "metadata": {},
   "outputs": [
    {
     "data": {
      "text/plain": [
       "18874"
      ]
     },
     "execution_count": 7,
     "metadata": {},
     "output_type": "execute_result"
    }
   ],
   "source": [
    "all_genes = df.index.tolist()\n",
    "len(all_genes)"
   ]
  },
  {
   "cell_type": "markdown",
   "metadata": {},
   "source": [
    "# CCLE Gene Expression Data, Z-score Genes"
   ]
  },
  {
   "cell_type": "code",
   "execution_count": 14,
   "metadata": {},
   "outputs": [],
   "source": [
    "rows = df.index.tolist()"
   ]
  },
  {
   "cell_type": "code",
   "execution_count": 19,
   "metadata": {},
   "outputs": [
    {
     "data": {
      "text/plain": [
       "'LOC100009676'"
      ]
     },
     "execution_count": 19,
     "metadata": {},
     "output_type": "execute_result"
    }
   ],
   "source": [
    "rows[0]"
   ]
  },
  {
   "cell_type": "code",
   "execution_count": null,
   "metadata": {},
   "outputs": [],
   "source": [
    "rows = df.index.tolist()\n",
    "new_rows = [(x,) for x in rows]\n",
    "df.index = new_rows\n",
    "net.load_df(df)\n",
    "net.filter_N_top(inst_rc='row', N_top=1000, rank_type='var')\n",
    "net.normalize(axis='row', norm_type='zscore')\n",
    "df_tmp = net.export_df().round(2)\n",
    "net.load_df(df_tmp)\n",
    "net.cluster()\n",
    "net.dendro_cats(axis='row', dendro_level=5)\n",
    "df_dendro = net.export_df()\n",
    "net.widget()"
   ]
  },
  {
   "cell_type": "code",
   "execution_count": null,
   "metadata": {},
   "outputs": [],
   "source": [
    "rows = df_dendro.index.tolist()\n",
    "rows[0]"
   ]
  },
  {
   "cell_type": "code",
   "execution_count": null,
   "metadata": {},
   "outputs": [],
   "source": [
    "gene_list = sorted([x[0] for x in rows if x[1] == 'Group 5: cat-5'])\n",
    "len(gene_list)"
   ]
  },
  {
   "cell_type": "code",
   "execution_count": 8,
   "metadata": {},
   "outputs": [],
   "source": [
    "gmts = {}\n",
    "gmts['kea'] = net.load_gmt('../data/Enrichr_Libraries_of_Interest/KEA_2015.txt')\n",
    "gmts['go-process'] = net.load_gmt('../data/Enrichr_Libraries_of_Interest/GO_Biological_Process_2018.txt')"
   ]
  },
  {
   "cell_type": "code",
   "execution_count": 9,
   "metadata": {},
   "outputs": [
    {
     "data": {
      "text/plain": [
       "18874"
      ]
     },
     "execution_count": 9,
     "metadata": {},
     "output_type": "execute_result"
    }
   ],
   "source": [
    "len(all_genes)"
   ]
  },
  {
   "cell_type": "code",
   "execution_count": 11,
   "metadata": {},
   "outputs": [],
   "source": [
    "# len(set(all_genes).intersection(gene_list))"
   ]
  },
  {
   "cell_type": "code",
   "execution_count": 12,
   "metadata": {},
   "outputs": [],
   "source": [
    "from scipy.stats import binom_test\n",
    "def enrich_gene_list_using_lib(lib_json, gene_list, background_list, pval_cutoff=0.05):\n",
    "    len_gene_list = len(gene_list)\n",
    "    \n",
    "    list_terms = []\n",
    "    list_pval = []\n",
    "    # list of series that will be used to make dataframe\n",
    "    list_term_ser = []\n",
    "    for inst_term in lib_json:\n",
    "        \n",
    "        term_ser = pd.Series(data=np.zeros(len(gene_list)), index=gene_list)\n",
    "        \n",
    "        term_genes = lib_json[inst_term]\n",
    "        \n",
    "        p_expect = len(set(all_genes).intersection(term_genes))/len(all_genes)\n",
    "        \n",
    "        found_genes = list(set(gene_list).intersection(term_genes))\n",
    "        actual_k = len(found_genes)\n",
    "        \n",
    "        # set found genes to one\n",
    "        term_ser[found_genes] =  1\n",
    "        \n",
    "        if actual_k/len_gene_list > p_expect:\n",
    "            inst_pval = binom_test(actual_k, len_gene_list, p_expect)\n",
    "        else:\n",
    "            inst_pval = 0.5\n",
    "        \n",
    "        if inst_pval < pval_cutoff:\n",
    "\n",
    "            term_name = (inst_term, 'Pval: ' + str(inst_pval))\n",
    "            \n",
    "            list_terms.append(term_name)\n",
    "            list_pval.append(inst_pval)\n",
    "\n",
    "            term_ser.name = term_name\n",
    "\n",
    "            list_term_ser.append(term_ser)\n",
    "            \n",
    "    ser_pval = pd.Series(data=list_pval, index=list_terms).sort_values()\n",
    "    df_term = pd.concat(list_term_ser, axis=1)\n",
    "    \n",
    "    # remove genes (rows) with no matches\n",
    "    gene_sum = df_term.sum(axis=1)\n",
    "    keep_genes = gene_sum[gene_sum > 0].index.tolist()\n",
    "    df_term = df_term.loc[keep_genes]\n",
    "    \n",
    "    return ser_pval, df_term"
   ]
  },
  {
   "cell_type": "code",
   "execution_count": 77,
   "metadata": {},
   "outputs": [],
   "source": [
    "def enrich_dataframe_using_lib(lib_json, df_ini, background_list, num_top_terms, pval_cutoff=0.05):\n",
    "\n",
    "    gene_list = df_ini.index.tolist()\n",
    "    \n",
    "    ser_pval, df_term = enrich_gene_list_using_lib(lib_json, gene_list, background_list, \n",
    "                                                   pval_cutoff=pval_cutoff)\n",
    "    \n",
    "    keep_terms = ser_pval.index.tolist()[:num_top_terms]\n",
    "    \n",
    "    ser_pval_keep = ser_pval[keep_terms]\n",
    "    \n",
    "    print(ser_pval_keep.shape)\n",
    "    \n",
    "    df_term = df_term[keep_terms]\n",
    "    \n",
    "    # drop pval, going to use the gmt json to add categories to rows\n",
    "    keep_term_names = [x[0] for x in keep_terms]\n",
    "    \n",
    "    rows_ini = df_ini.index.tolist()\n",
    "    \n",
    "    for inst_gene in rows_ini:\n",
    "        new_row = (inst_gene,)\n",
    "    \n",
    "        for inst_term in keep_term_names:\n",
    "            print(inst_term, len(lib_json[inst_term]), )\n",
    "    \n",
    "    return df_term"
   ]
  },
  {
   "cell_type": "code",
   "execution_count": null,
   "metadata": {},
   "outputs": [],
   "source": [
    "df_term = enrich_dataframe_using_lib(gmts['go-process'], df_tmp, all_genes, 10)"
   ]
  },
  {
   "cell_type": "code",
   "execution_count": null,
   "metadata": {},
   "outputs": [],
   "source": []
  },
  {
   "cell_type": "code",
   "execution_count": 76,
   "metadata": {},
   "outputs": [
    {
     "data": {
      "text/plain": [
       "('KRT19',\n",
       " 'extracellular matrix organization (GO:0030198): False<p> Pval 9.171026638093131e-29</p>',\n",
       " 'collagen fibril organization (GO:0030199): False<p> Pval 1.9897240254393085e-12</p>',\n",
       " 'regulation of cell migration (GO:0030334): False<p> Pval 6.6999547584764606e-15</p>',\n",
       " 'positive regulation of intracellular signal transduction (GO:1902533): False<p> Pval 5.5852790328680665e-12</p>',\n",
       " 'negative regulation of cellular process (GO:0048523): False<p> Pval 1.205623445289199e-13</p>',\n",
       " 'negative regulation of cell proliferation (GO:0008285): False<p> Pval 2.3244136779160615e-10</p>',\n",
       " 'neutrophil mediated immunity (GO:0002446): False<p> Pval 7.30336780471453e-10</p>',\n",
       " 'cytokine-mediated signaling pathway (GO:0019221): False<p> Pval 1.2455747717025743e-13</p>',\n",
       " 'neutrophil degranulation (GO:0043312): False<p> Pval 2.8513592127176324e-09</p>',\n",
       " 'regulation of angiogenesis (GO:0045765): False<p> Pval 2.3387050175471637e-10</p>')"
      ]
     },
     "execution_count": 76,
     "metadata": {},
     "output_type": "execute_result"
    }
   ],
   "source": [
    "df_enr.index.tolist()[0]"
   ]
  },
  {
   "cell_type": "code",
   "execution_count": null,
   "metadata": {},
   "outputs": [],
   "source": []
  },
  {
   "cell_type": "code",
   "execution_count": null,
   "metadata": {},
   "outputs": [],
   "source": []
  },
  {
   "cell_type": "code",
   "execution_count": 64,
   "metadata": {},
   "outputs": [
    {
     "data": {
      "text/plain": [
       "(700, 10)"
      ]
     },
     "execution_count": 64,
     "metadata": {},
     "output_type": "execute_result"
    }
   ],
   "source": [
    "df_term.shape"
   ]
  },
  {
   "cell_type": "code",
   "execution_count": 17,
   "metadata": {},
   "outputs": [],
   "source": [
    "genes_1k = [x[0] for x in rows]"
   ]
  },
  {
   "cell_type": "markdown",
   "metadata": {},
   "source": [
    "# KEA"
   ]
  },
  {
   "cell_type": "code",
   "execution_count": null,
   "metadata": {},
   "outputs": [],
   "source": [
    "ser_pval, df_term = enrich_gene_list_using_lib(gmts['kea'], genes_1k, all_genes)"
   ]
  },
  {
   "cell_type": "code",
   "execution_count": null,
   "metadata": {},
   "outputs": [],
   "source": [
    "keep_top_enr = ser_pval.index.tolist()[:10]"
   ]
  },
  {
   "cell_type": "code",
   "execution_count": null,
   "metadata": {
    "scrolled": false
   },
   "outputs": [],
   "source": [
    "net.load_df(df_term[keep_top_enr])\n",
    "net.widget()"
   ]
  },
  {
   "cell_type": "markdown",
   "metadata": {},
   "source": [
    "# GO Biological Process"
   ]
  },
  {
   "cell_type": "code",
   "execution_count": 22,
   "metadata": {},
   "outputs": [
    {
     "data": {
      "text/plain": [
       "['LOC100009676',\n",
       " 'AKT3',\n",
       " 'MED6',\n",
       " 'NR2E3',\n",
       " 'NAALAD2',\n",
       " 'CDKN2B-AS1',\n",
       " 'LOC100049716',\n",
       " 'NAALADL1',\n",
       " 'ACOT8',\n",
       " 'ABI1']"
      ]
     },
     "execution_count": 22,
     "metadata": {},
     "output_type": "execute_result"
    }
   ],
   "source": [
    "rows[:10]"
   ]
  },
  {
   "cell_type": "code",
   "execution_count": 25,
   "metadata": {},
   "outputs": [
    {
     "data": {
      "text/plain": [
       "18874"
      ]
     },
     "execution_count": 25,
     "metadata": {},
     "output_type": "execute_result"
    }
   ],
   "source": [
    "len(all_genes)"
   ]
  },
  {
   "cell_type": "code",
   "execution_count": 29,
   "metadata": {},
   "outputs": [
    {
     "data": {
      "text/plain": [
       "1000"
      ]
     },
     "execution_count": 29,
     "metadata": {},
     "output_type": "execute_result"
    }
   ],
   "source": [
    "len(genes_top_var)"
   ]
  },
  {
   "cell_type": "code",
   "execution_count": 31,
   "metadata": {},
   "outputs": [
    {
     "data": {
      "text/plain": [
       "(672, 483)"
      ]
     },
     "execution_count": 31,
     "metadata": {},
     "output_type": "execute_result"
    }
   ],
   "source": [
    "ser_pval, df_term = enrich_gene_list_using_lib(gmts['go-process'], genes_top_var, all_genes, 0.01)\n",
    "df_term.shape"
   ]
  },
  {
   "cell_type": "markdown",
   "metadata": {},
   "source": [
    "#### Terms from Enrichrgram"
   ]
  },
  {
   "cell_type": "code",
   "execution_count": 48,
   "metadata": {},
   "outputs": [
    {
     "data": {
      "text/plain": [
       "['extracellular matrix organization (GO:0030198)  9.171026638093131e-29</p>',\n",
       " 'collagen fibril organization (GO:0030199)  1.9897240254393085e-12</p>',\n",
       " 'regulation of cell migration (GO:0030334)  6.6999547584764606e-15</p>',\n",
       " 'positive regulation of intracellular signal transduction (GO:1902533)  5.5852790328680665e-12</p>',\n",
       " 'negative regulation of cellular process (GO:0048523)  1.205623445289199e-13</p>',\n",
       " 'negative regulation of cell proliferation (GO:0008285)  2.3244136779160615e-10</p>',\n",
       " 'neutrophil mediated immunity (GO:0002446)  7.30336780471453e-10</p>',\n",
       " 'cytokine-mediated signaling pathway (GO:0019221)  1.2455747717025743e-13</p>',\n",
       " 'neutrophil degranulation (GO:0043312)  2.8513592127176324e-09</p>',\n",
       " 'regulation of angiogenesis (GO:0045765)  2.3387050175471637e-10</p>']"
      ]
     },
     "execution_count": 48,
     "metadata": {},
     "output_type": "execute_result"
    }
   ],
   "source": [
    "enrichrgram_row"
   ]
  },
  {
   "cell_type": "markdown",
   "metadata": {},
   "source": [
    "#### Locally Enriched Terms"
   ]
  },
  {
   "cell_type": "code",
   "execution_count": 50,
   "metadata": {},
   "outputs": [
    {
     "data": {
      "text/plain": [
       "['extracellular matrix organization (GO:0030198) Pval: 4.88614872976e-26',\n",
       " 'cytokine-mediated signaling pathway (GO:0019221) Pval: 3.32810552013e-15',\n",
       " 'regulation of cell migration (GO:0030334) Pval: 1.5209499587e-14',\n",
       " 'regulation of cell proliferation (GO:0042127) Pval: 7.23143833268e-14',\n",
       " 'cellular response to cytokine stimulus (GO:0071345) Pval: 1.19559734474e-13',\n",
       " 'negative regulation of cellular process (GO:0048523) Pval: 3.10549303206e-13',\n",
       " 'positive regulation of cell proliferation (GO:0008284) Pval: 3.78251598995e-11',\n",
       " 'collagen fibril organization (GO:0030199) Pval: 3.95949893332e-11',\n",
       " 'positive regulation of intracellular signal transduction (GO:1902533) Pval: 6.85898688745e-11',\n",
       " 'skin development (GO:0043588) Pval: 1.24056102141e-10']"
      ]
     },
     "execution_count": 50,
     "metadata": {},
     "output_type": "execute_result"
    }
   ],
   "source": [
    "keep_top_enr = ser_pval.index.tolist()[:10]\n",
    "keep_top_enr = [x[0] + ' ' + x[1] for x in keep_top_enr]\n",
    "keep_top_enr"
   ]
  },
  {
   "cell_type": "code",
   "execution_count": null,
   "metadata": {
    "scrolled": false
   },
   "outputs": [],
   "source": [
    "net.load_df(df_term[keep_top_enr])\n",
    "net.widget()"
   ]
  },
  {
   "cell_type": "code",
   "execution_count": null,
   "metadata": {},
   "outputs": [],
   "source": [
    "len(gene_list)"
   ]
  },
  {
   "cell_type": "code",
   "execution_count": null,
   "metadata": {},
   "outputs": [],
   "source": []
  },
  {
   "cell_type": "code",
   "execution_count": null,
   "metadata": {},
   "outputs": [],
   "source": [
    "df_sig, keep_genes_dict, df_gene_pval, fold_info = cby.generate_signatures(df,\n",
    "                                                                     'tissue', num_top_dims=100)\n",
    "\n",
    "net.load_df(df_sig)\n",
    "net.widget()"
   ]
  },
  {
   "cell_type": "markdown",
   "metadata": {},
   "source": [
    "### Add tissue category to genes"
   ]
  },
  {
   "cell_type": "code",
   "execution_count": null,
   "metadata": {},
   "outputs": [],
   "source": [
    "gene_sig = df_sig.idxmax(axis=1)\n",
    "gs_dict = {}\n",
    "for inst_gene in gene_sig.index.tolist():\n",
    "    gs_dict[inst_gene] = gene_sig[inst_gene][0]\n",
    "    \n",
    "rows = df.index.tolist()\n",
    "new_rows = [(x, 'Cell Type: ' + gs_dict[x]) if x in gs_dict else (x, 'N.A.') for x in rows ]\n",
    "df.index = new_rows\n",
    "net.load_df(df)"
   ]
  },
  {
   "cell_type": "code",
   "execution_count": null,
   "metadata": {},
   "outputs": [],
   "source": [
    "ct_color = net.viz['cat_colors']['col']['cat-0']"
   ]
  },
  {
   "cell_type": "code",
   "execution_count": null,
   "metadata": {},
   "outputs": [],
   "source": [
    "def set_cat_colors(axis, cat_index, cat_title=False):\n",
    "    for inst_ct in ct_color:\n",
    "        if cat_title != False:\n",
    "            cat_name = cat_title + ': ' + inst_ct\n",
    "        else:\n",
    "            cat_name = inst_ct\n",
    "            \n",
    "        inst_color = ct_color[inst_ct]\n",
    "        net.set_cat_color(axis=axis, cat_index=cat_index, cat_name=cat_name, inst_color=inst_color)"
   ]
  },
  {
   "cell_type": "code",
   "execution_count": null,
   "metadata": {},
   "outputs": [],
   "source": [
    "set_cat_colors('row', 1)"
   ]
  },
  {
   "cell_type": "markdown",
   "metadata": {},
   "source": [
    "### CCLE Data with Gene-Tissue Category"
   ]
  },
  {
   "cell_type": "code",
   "execution_count": null,
   "metadata": {},
   "outputs": [],
   "source": [
    "net.load_df(df)\n",
    "net.widget()"
   ]
  },
  {
   "cell_type": "code",
   "execution_count": null,
   "metadata": {},
   "outputs": [],
   "source": []
  }
 ],
 "metadata": {
  "kernelspec": {
   "display_name": "Python 3",
   "language": "python",
   "name": "python3"
  },
  "language_info": {
   "codemirror_mode": {
    "name": "ipython",
    "version": 3
   },
   "file_extension": ".py",
   "mimetype": "text/x-python",
   "name": "python",
   "nbconvert_exporter": "python",
   "pygments_lexer": "ipython3",
   "version": "3.6.6"
  }
 },
 "nbformat": 4,
 "nbformat_minor": 2
}
