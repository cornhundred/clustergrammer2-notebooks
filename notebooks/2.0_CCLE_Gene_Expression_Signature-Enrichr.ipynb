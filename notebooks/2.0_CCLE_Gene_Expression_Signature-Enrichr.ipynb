{
 "cells": [
  {
   "cell_type": "markdown",
   "metadata": {},
   "source": [
    "# 2.0 CCLE Gene Expression Signature"
   ]
  },
  {
   "cell_type": "code",
   "execution_count": 1,
   "metadata": {},
   "outputs": [
    {
     "name": "stdout",
     "output_type": "stream",
     "text": [
      "clustergrammer2 backend version 0.2.9\n"
     ]
    }
   ],
   "source": [
    "from clustergrammer2 import net"
   ]
  },
  {
   "cell_type": "code",
   "execution_count": 2,
   "metadata": {},
   "outputs": [],
   "source": [
    "import clustergrammer_groupby as cby\n",
    "import warnings\n",
    "warnings.filterwarnings('ignore')"
   ]
  },
  {
   "cell_type": "code",
   "execution_count": 3,
   "metadata": {},
   "outputs": [],
   "source": [
    "import numpy as np\n",
    "import pandas as pd\n",
    "df = {}\n",
    "df['ccle'] = pd.read_csv('../data/CCLE/CCLE.txt.gz', compression='gzip', index_col=0)"
   ]
  },
  {
   "cell_type": "code",
   "execution_count": 4,
   "metadata": {},
   "outputs": [],
   "source": [
    "net.load_df(df['ccle'])\n",
    "net.filter_N_top(inst_rc='row', N_top=1000, rank_type='var')\n",
    "net.normalize(axis='row', norm_type='zscore')\n",
    "df['var'] = net.export_df().round(2)\n",
    "genes_top_var = df['var'].index.tolist()"
   ]
  },
  {
   "cell_type": "code",
   "execution_count": 5,
   "metadata": {
    "scrolled": false
   },
   "outputs": [
    {
     "data": {
      "application/vnd.jupyter.widget-view+json": {
       "model_id": "4e385df8bb644204aaeaa9afe1deca7f",
       "version_major": 2,
       "version_minor": 0
      },
      "text/plain": [
       "ExampleWidget(network='{\"row_nodes\": [{\"name\": \"KRT19\", \"ini\": 1000, \"clust\": 967, \"rank\": 35, \"rankvar\": 119,…"
      ]
     },
     "metadata": {},
     "output_type": "display_data"
    }
   ],
   "source": [
    "net.load_df(df['var'])\n",
    "net.normalize(axis='row', norm_type='zscore')\n",
    "df_tmp = net.export_df().round(2)\n",
    "net.enrichrgram('GO_Biological_Process_2018')\n",
    "df['enrichrgram'] = net.export_df()\n",
    "net.widget()"
   ]
  },
  {
   "cell_type": "code",
   "execution_count": 6,
   "metadata": {},
   "outputs": [
    {
     "data": {
      "text/plain": [
       "('KRT19',\n",
       " 'extracellular matrix organization (GO:0030198): False<p> Pval 9.171026638093131e-29</p>',\n",
       " 'collagen fibril organization (GO:0030199): False<p> Pval 1.9897240254393085e-12</p>',\n",
       " 'regulation of cell migration (GO:0030334): False<p> Pval 6.6999547584764606e-15</p>',\n",
       " 'positive regulation of intracellular signal transduction (GO:1902533): False<p> Pval 5.5852790328680665e-12</p>',\n",
       " 'negative regulation of cellular process (GO:0048523): False<p> Pval 1.205623445289199e-13</p>',\n",
       " 'negative regulation of cell proliferation (GO:0008285): False<p> Pval 2.3244136779160615e-10</p>',\n",
       " 'neutrophil mediated immunity (GO:0002446): False<p> Pval 7.30336780471453e-10</p>',\n",
       " 'cytokine-mediated signaling pathway (GO:0019221): False<p> Pval 1.2455747717025743e-13</p>',\n",
       " 'neutrophil degranulation (GO:0043312): False<p> Pval 2.8513592127176324e-09</p>',\n",
       " 'regulation of angiogenesis (GO:0045765): False<p> Pval 2.3387050175471637e-10</p>')"
      ]
     },
     "execution_count": 6,
     "metadata": {},
     "output_type": "execute_result"
    }
   ],
   "source": [
    "df['enrichrgram'].index.tolist()[0]"
   ]
  },
  {
   "cell_type": "code",
   "execution_count": 7,
   "metadata": {},
   "outputs": [
    {
     "data": {
      "text/html": [
       "<div>\n",
       "<style scoped>\n",
       "    .dataframe tbody tr th:only-of-type {\n",
       "        vertical-align: middle;\n",
       "    }\n",
       "\n",
       "    .dataframe tbody tr th {\n",
       "        vertical-align: top;\n",
       "    }\n",
       "\n",
       "    .dataframe thead th {\n",
       "        text-align: right;\n",
       "    }\n",
       "</style>\n",
       "<table border=\"1\" class=\"dataframe\">\n",
       "  <thead>\n",
       "    <tr style=\"text-align: right;\">\n",
       "      <th></th>\n",
       "      <th>('cell line: LN18', 'tissue: central_nervous_system', 'histology: glioma', 'sub-histology: astrocytoma_Grade_IV', 'gender: M')</th>\n",
       "      <th>('cell line: 769P', 'tissue: kidney', 'histology: carcinoma', 'sub-histology: clear_cell_renal_cell_carcinoma', 'gender: F')</th>\n",
       "      <th>('cell line: 786O', 'tissue: kidney', 'histology: carcinoma', 'sub-histology: clear_cell_renal_cell_carcinoma', 'gender: M')</th>\n",
       "      <th>('cell line: CAOV3', 'tissue: ovary', 'histology: carcinoma', 'sub-histology: adenocarcinoma', 'gender: F')</th>\n",
       "      <th>('cell line: HEPG2', 'tissue: liver', 'histology: carcinoma', 'sub-histology: hepatocellular_carcinoma', 'gender: M')</th>\n",
       "      <th>('cell line: MOLT4', 'tissue: haematopoietic_and_lymphoid_tissue', 'histology: lymphoid_neoplasm', 'sub-histology: acute_lymphoblastic_T_cell_leukaemia', 'gender: M')</th>\n",
       "      <th>('cell line: NCIH524', 'tissue: lung', 'histology: carcinoma', 'sub-histology: small_cell_carcinoma', 'gender: M')</th>\n",
       "      <th>('cell line: NCIH209', 'tissue: lung', 'histology: carcinoma', 'sub-histology: small_cell_carcinoma', 'gender: M')</th>\n",
       "      <th>('cell line: MIAPACA2', 'tissue: pancreas', 'histology: carcinoma', 'sub-histology: ductal_carcinoma', 'gender: M')</th>\n",
       "      <th>('cell line: MCAS', 'tissue: ovary', 'histology: carcinoma', 'sub-histology: adenocarcinoma', 'gender: F')</th>\n",
       "      <th>...</th>\n",
       "      <th>('cell line: SLR21', 'tissue: kidney', 'histology: carcinoma', 'sub-histology: renal_cell_carcinoma', 'gender: NA')</th>\n",
       "      <th>('cell line: LNZ308', 'tissue: central_nervous_system', 'histology: glioma', 'sub-histology: astrocytoma_Grade_IV', 'gender: NA')</th>\n",
       "      <th>('cell line: LN340', 'tissue: central_nervous_system', 'histology: glioma', 'sub-histology: astrocytoma_Grade_IV', 'gender: NA')</th>\n",
       "      <th>('cell line: HCC827GR5', 'tissue: lung', 'histology: carcinoma', 'sub-histology: adenocarcinoma', 'gender: NA')</th>\n",
       "      <th>('cell line: SLR20', 'tissue: kidney', 'histology: carcinoma', 'sub-histology: renal_cell_carcinoma', 'gender: NA')</th>\n",
       "      <th>('cell line: HK2', 'tissue: kidney', 'histology: other', 'sub-histology: immortalized_epithelial', 'gender: NA')</th>\n",
       "      <th>('cell line: EW8', 'tissue: bone', 'histology: Ewings_sarcoma-peripheral_primitive_neuroectodermal_tumour', 'sub-histology: NS', 'gender: NA')</th>\n",
       "      <th>('cell line: UOK101', 'tissue: kidney', 'histology: carcinoma', 'sub-histology: clear_cell_renal_cell_carcinoma', 'gender: NA')</th>\n",
       "      <th>('cell line: JHESOAD1', 'tissue: oesophagus', 'histology: carcinoma', 'sub-histology: barrett_associated_adenocarcinoma', 'gender: NA')</th>\n",
       "      <th>('cell line: CH157MN', 'tissue: central_nervous_system', 'histology: meningioma', 'sub-histology: NS', 'gender: NA')</th>\n",
       "    </tr>\n",
       "  </thead>\n",
       "  <tbody>\n",
       "    <tr>\n",
       "      <th>KRT19</th>\n",
       "      <td>-0.66</td>\n",
       "      <td>-0.99</td>\n",
       "      <td>0.69</td>\n",
       "      <td>0.96</td>\n",
       "      <td>0.75</td>\n",
       "      <td>-1.06</td>\n",
       "      <td>-1.04</td>\n",
       "      <td>0.65</td>\n",
       "      <td>0.89</td>\n",
       "      <td>1.29</td>\n",
       "      <td>...</td>\n",
       "      <td>1.13</td>\n",
       "      <td>-1.02</td>\n",
       "      <td>-0.73</td>\n",
       "      <td>1.33</td>\n",
       "      <td>-1.07</td>\n",
       "      <td>0.91</td>\n",
       "      <td>-0.98</td>\n",
       "      <td>-1.06</td>\n",
       "      <td>1.33</td>\n",
       "      <td>-0.68</td>\n",
       "    </tr>\n",
       "    <tr>\n",
       "      <th>EPCAM</th>\n",
       "      <td>-1.08</td>\n",
       "      <td>-1.13</td>\n",
       "      <td>-0.43</td>\n",
       "      <td>1.07</td>\n",
       "      <td>0.83</td>\n",
       "      <td>-1.03</td>\n",
       "      <td>0.51</td>\n",
       "      <td>1.06</td>\n",
       "      <td>-1.10</td>\n",
       "      <td>1.08</td>\n",
       "      <td>...</td>\n",
       "      <td>0.85</td>\n",
       "      <td>-1.12</td>\n",
       "      <td>-1.16</td>\n",
       "      <td>1.24</td>\n",
       "      <td>-0.46</td>\n",
       "      <td>0.75</td>\n",
       "      <td>-1.08</td>\n",
       "      <td>-0.17</td>\n",
       "      <td>1.28</td>\n",
       "      <td>-1.06</td>\n",
       "    </tr>\n",
       "    <tr>\n",
       "      <th>TACSTD2</th>\n",
       "      <td>-0.83</td>\n",
       "      <td>-0.83</td>\n",
       "      <td>-0.82</td>\n",
       "      <td>1.68</td>\n",
       "      <td>-0.59</td>\n",
       "      <td>-0.75</td>\n",
       "      <td>-0.76</td>\n",
       "      <td>-0.72</td>\n",
       "      <td>-0.71</td>\n",
       "      <td>1.38</td>\n",
       "      <td>...</td>\n",
       "      <td>0.96</td>\n",
       "      <td>-0.79</td>\n",
       "      <td>-0.89</td>\n",
       "      <td>1.56</td>\n",
       "      <td>0.91</td>\n",
       "      <td>-0.77</td>\n",
       "      <td>-0.75</td>\n",
       "      <td>-0.79</td>\n",
       "      <td>1.68</td>\n",
       "      <td>-0.81</td>\n",
       "    </tr>\n",
       "    <tr>\n",
       "      <th>MAL2</th>\n",
       "      <td>-1.10</td>\n",
       "      <td>0.92</td>\n",
       "      <td>0.14</td>\n",
       "      <td>1.09</td>\n",
       "      <td>0.81</td>\n",
       "      <td>-1.03</td>\n",
       "      <td>0.37</td>\n",
       "      <td>0.69</td>\n",
       "      <td>-0.98</td>\n",
       "      <td>1.28</td>\n",
       "      <td>...</td>\n",
       "      <td>0.93</td>\n",
       "      <td>-1.13</td>\n",
       "      <td>-1.11</td>\n",
       "      <td>1.17</td>\n",
       "      <td>-1.07</td>\n",
       "      <td>0.65</td>\n",
       "      <td>-0.76</td>\n",
       "      <td>-0.77</td>\n",
       "      <td>1.39</td>\n",
       "      <td>-0.88</td>\n",
       "    </tr>\n",
       "    <tr>\n",
       "      <th>TGFBI</th>\n",
       "      <td>0.84</td>\n",
       "      <td>0.78</td>\n",
       "      <td>1.27</td>\n",
       "      <td>0.48</td>\n",
       "      <td>0.94</td>\n",
       "      <td>-1.28</td>\n",
       "      <td>-1.00</td>\n",
       "      <td>-1.22</td>\n",
       "      <td>-0.46</td>\n",
       "      <td>0.42</td>\n",
       "      <td>...</td>\n",
       "      <td>1.15</td>\n",
       "      <td>1.06</td>\n",
       "      <td>1.22</td>\n",
       "      <td>0.67</td>\n",
       "      <td>-0.88</td>\n",
       "      <td>0.82</td>\n",
       "      <td>-1.30</td>\n",
       "      <td>1.14</td>\n",
       "      <td>0.50</td>\n",
       "      <td>1.09</td>\n",
       "    </tr>\n",
       "  </tbody>\n",
       "</table>\n",
       "<p>5 rows × 1037 columns</p>\n",
       "</div>"
      ],
      "text/plain": [
       "         ('cell line: LN18', 'tissue: central_nervous_system', 'histology: glioma', 'sub-histology: astrocytoma_Grade_IV', 'gender: M')  \\\n",
       "KRT19                                                -0.66                                                                                \n",
       "EPCAM                                                -1.08                                                                                \n",
       "TACSTD2                                              -0.83                                                                                \n",
       "MAL2                                                 -1.10                                                                                \n",
       "TGFBI                                                 0.84                                                                                \n",
       "\n",
       "         ('cell line: 769P', 'tissue: kidney', 'histology: carcinoma', 'sub-histology: clear_cell_renal_cell_carcinoma', 'gender: F')  \\\n",
       "KRT19                                                -0.99                                                                              \n",
       "EPCAM                                                -1.13                                                                              \n",
       "TACSTD2                                              -0.83                                                                              \n",
       "MAL2                                                  0.92                                                                              \n",
       "TGFBI                                                 0.78                                                                              \n",
       "\n",
       "         ('cell line: 786O', 'tissue: kidney', 'histology: carcinoma', 'sub-histology: clear_cell_renal_cell_carcinoma', 'gender: M')  \\\n",
       "KRT19                                                 0.69                                                                              \n",
       "EPCAM                                                -0.43                                                                              \n",
       "TACSTD2                                              -0.82                                                                              \n",
       "MAL2                                                  0.14                                                                              \n",
       "TGFBI                                                 1.27                                                                              \n",
       "\n",
       "         ('cell line: CAOV3', 'tissue: ovary', 'histology: carcinoma', 'sub-histology: adenocarcinoma', 'gender: F')  \\\n",
       "KRT19                                                 0.96                                                             \n",
       "EPCAM                                                 1.07                                                             \n",
       "TACSTD2                                               1.68                                                             \n",
       "MAL2                                                  1.09                                                             \n",
       "TGFBI                                                 0.48                                                             \n",
       "\n",
       "         ('cell line: HEPG2', 'tissue: liver', 'histology: carcinoma', 'sub-histology: hepatocellular_carcinoma', 'gender: M')  \\\n",
       "KRT19                                                 0.75                                                                       \n",
       "EPCAM                                                 0.83                                                                       \n",
       "TACSTD2                                              -0.59                                                                       \n",
       "MAL2                                                  0.81                                                                       \n",
       "TGFBI                                                 0.94                                                                       \n",
       "\n",
       "         ('cell line: MOLT4', 'tissue: haematopoietic_and_lymphoid_tissue', 'histology: lymphoid_neoplasm', 'sub-histology: acute_lymphoblastic_T_cell_leukaemia', 'gender: M')  \\\n",
       "KRT19                                                -1.06                                                                                                                        \n",
       "EPCAM                                                -1.03                                                                                                                        \n",
       "TACSTD2                                              -0.75                                                                                                                        \n",
       "MAL2                                                 -1.03                                                                                                                        \n",
       "TGFBI                                                -1.28                                                                                                                        \n",
       "\n",
       "         ('cell line: NCIH524', 'tissue: lung', 'histology: carcinoma', 'sub-histology: small_cell_carcinoma', 'gender: M')  \\\n",
       "KRT19                                                -1.04                                                                    \n",
       "EPCAM                                                 0.51                                                                    \n",
       "TACSTD2                                              -0.76                                                                    \n",
       "MAL2                                                  0.37                                                                    \n",
       "TGFBI                                                -1.00                                                                    \n",
       "\n",
       "         ('cell line: NCIH209', 'tissue: lung', 'histology: carcinoma', 'sub-histology: small_cell_carcinoma', 'gender: M')  \\\n",
       "KRT19                                                 0.65                                                                    \n",
       "EPCAM                                                 1.06                                                                    \n",
       "TACSTD2                                              -0.72                                                                    \n",
       "MAL2                                                  0.69                                                                    \n",
       "TGFBI                                                -1.22                                                                    \n",
       "\n",
       "         ('cell line: MIAPACA2', 'tissue: pancreas', 'histology: carcinoma', 'sub-histology: ductal_carcinoma', 'gender: M')  \\\n",
       "KRT19                                                 0.89                                                                     \n",
       "EPCAM                                                -1.10                                                                     \n",
       "TACSTD2                                              -0.71                                                                     \n",
       "MAL2                                                 -0.98                                                                     \n",
       "TGFBI                                                -0.46                                                                     \n",
       "\n",
       "         ('cell line: MCAS', 'tissue: ovary', 'histology: carcinoma', 'sub-histology: adenocarcinoma', 'gender: F')  \\\n",
       "KRT19                                                 1.29                                                            \n",
       "EPCAM                                                 1.08                                                            \n",
       "TACSTD2                                               1.38                                                            \n",
       "MAL2                                                  1.28                                                            \n",
       "TGFBI                                                 0.42                                                            \n",
       "\n",
       "                                                                 ...                                                           \\\n",
       "KRT19                                                            ...                                                            \n",
       "EPCAM                                                            ...                                                            \n",
       "TACSTD2                                                          ...                                                            \n",
       "MAL2                                                             ...                                                            \n",
       "TGFBI                                                            ...                                                            \n",
       "\n",
       "         ('cell line: SLR21', 'tissue: kidney', 'histology: carcinoma', 'sub-histology: renal_cell_carcinoma', 'gender: NA')  \\\n",
       "KRT19                                                 1.13                                                                     \n",
       "EPCAM                                                 0.85                                                                     \n",
       "TACSTD2                                               0.96                                                                     \n",
       "MAL2                                                  0.93                                                                     \n",
       "TGFBI                                                 1.15                                                                     \n",
       "\n",
       "         ('cell line: LNZ308', 'tissue: central_nervous_system', 'histology: glioma', 'sub-histology: astrocytoma_Grade_IV', 'gender: NA')  \\\n",
       "KRT19                                                -1.02                                                                                   \n",
       "EPCAM                                                -1.12                                                                                   \n",
       "TACSTD2                                              -0.79                                                                                   \n",
       "MAL2                                                 -1.13                                                                                   \n",
       "TGFBI                                                 1.06                                                                                   \n",
       "\n",
       "         ('cell line: LN340', 'tissue: central_nervous_system', 'histology: glioma', 'sub-histology: astrocytoma_Grade_IV', 'gender: NA')  \\\n",
       "KRT19                                                -0.73                                                                                  \n",
       "EPCAM                                                -1.16                                                                                  \n",
       "TACSTD2                                              -0.89                                                                                  \n",
       "MAL2                                                 -1.11                                                                                  \n",
       "TGFBI                                                 1.22                                                                                  \n",
       "\n",
       "         ('cell line: HCC827GR5', 'tissue: lung', 'histology: carcinoma', 'sub-histology: adenocarcinoma', 'gender: NA')  \\\n",
       "KRT19                                                 1.33                                                                 \n",
       "EPCAM                                                 1.24                                                                 \n",
       "TACSTD2                                               1.56                                                                 \n",
       "MAL2                                                  1.17                                                                 \n",
       "TGFBI                                                 0.67                                                                 \n",
       "\n",
       "         ('cell line: SLR20', 'tissue: kidney', 'histology: carcinoma', 'sub-histology: renal_cell_carcinoma', 'gender: NA')  \\\n",
       "KRT19                                                -1.07                                                                     \n",
       "EPCAM                                                -0.46                                                                     \n",
       "TACSTD2                                               0.91                                                                     \n",
       "MAL2                                                 -1.07                                                                     \n",
       "TGFBI                                                -0.88                                                                     \n",
       "\n",
       "         ('cell line: HK2', 'tissue: kidney', 'histology: other', 'sub-histology: immortalized_epithelial', 'gender: NA')  \\\n",
       "KRT19                                                 0.91                                                                  \n",
       "EPCAM                                                 0.75                                                                  \n",
       "TACSTD2                                              -0.77                                                                  \n",
       "MAL2                                                  0.65                                                                  \n",
       "TGFBI                                                 0.82                                                                  \n",
       "\n",
       "         ('cell line: EW8', 'tissue: bone', 'histology: Ewings_sarcoma-peripheral_primitive_neuroectodermal_tumour', 'sub-histology: NS', 'gender: NA')  \\\n",
       "KRT19                                                -0.98                                                                                                \n",
       "EPCAM                                                -1.08                                                                                                \n",
       "TACSTD2                                              -0.75                                                                                                \n",
       "MAL2                                                 -0.76                                                                                                \n",
       "TGFBI                                                -1.30                                                                                                \n",
       "\n",
       "         ('cell line: UOK101', 'tissue: kidney', 'histology: carcinoma', 'sub-histology: clear_cell_renal_cell_carcinoma', 'gender: NA')  \\\n",
       "KRT19                                                -1.06                                                                                 \n",
       "EPCAM                                                -0.17                                                                                 \n",
       "TACSTD2                                              -0.79                                                                                 \n",
       "MAL2                                                 -0.77                                                                                 \n",
       "TGFBI                                                 1.14                                                                                 \n",
       "\n",
       "         ('cell line: JHESOAD1', 'tissue: oesophagus', 'histology: carcinoma', 'sub-histology: barrett_associated_adenocarcinoma', 'gender: NA')  \\\n",
       "KRT19                                                 1.33                                                                                         \n",
       "EPCAM                                                 1.28                                                                                         \n",
       "TACSTD2                                               1.68                                                                                         \n",
       "MAL2                                                  1.39                                                                                         \n",
       "TGFBI                                                 0.50                                                                                         \n",
       "\n",
       "         ('cell line: CH157MN', 'tissue: central_nervous_system', 'histology: meningioma', 'sub-histology: NS', 'gender: NA')  \n",
       "KRT19                                                -0.68                                                                     \n",
       "EPCAM                                                -1.06                                                                     \n",
       "TACSTD2                                              -0.81                                                                     \n",
       "MAL2                                                 -0.88                                                                     \n",
       "TGFBI                                                 1.09                                                                     \n",
       "\n",
       "[5 rows x 1037 columns]"
      ]
     },
     "execution_count": 7,
     "metadata": {},
     "output_type": "execute_result"
    }
   ],
   "source": [
    "df['var'].head()"
   ]
  },
  {
   "cell_type": "code",
   "execution_count": 8,
   "metadata": {},
   "outputs": [],
   "source": [
    "# enrichrgram_row = df_enr.index.tolist()[0][1:]\n",
    "# enrichrgram_row = [x.split(': ')[0] + ' '+  x.split('Pval')[1] for x in enrichrgram_row]\n",
    "# enrichrgram_row"
   ]
  },
  {
   "cell_type": "code",
   "execution_count": 10,
   "metadata": {},
   "outputs": [],
   "source": [
    "from copy import deepcopy"
   ]
  },
  {
   "cell_type": "code",
   "execution_count": 11,
   "metadata": {},
   "outputs": [],
   "source": [
    "from ast import literal_eval as make_tuple\n",
    "cols = df['var'].columns.tolist()\n",
    "new_cols = [make_tuple(x) for x in cols]\n",
    "df['var-cat'] = deepcopy(df['var'])\n",
    "df['var-cat'].columns = new_cols"
   ]
  },
  {
   "cell_type": "code",
   "execution_count": 12,
   "metadata": {},
   "outputs": [
    {
     "data": {
      "text/plain": [
       "18874"
      ]
     },
     "execution_count": 12,
     "metadata": {},
     "output_type": "execute_result"
    }
   ],
   "source": [
    "all_genes = df['ccle'].index.tolist()\n",
    "len(all_genes)"
   ]
  },
  {
   "cell_type": "markdown",
   "metadata": {},
   "source": [
    "# CCLE Gene Expression Data, Z-score Genes"
   ]
  },
  {
   "cell_type": "code",
   "execution_count": null,
   "metadata": {},
   "outputs": [],
   "source": [
    "new_rows = [(x,) for x in df['var-cat'].index.tolist()]\n",
    "df['var-tuple'] = deepcopy(df['var-cat'])\n",
    "df['var-tuple'].index = new_rows\n",
    "net.load_df(df['var-tuple'])\n",
    "net.normalize(axis='row', norm_type='zscore')\n",
    "df_tmp = net.export_df().round(2)\n",
    "net.load_df(df_tmp)\n",
    "net.cluster()\n",
    "net.dendro_cats(axis='row', dendro_level=5)\n",
    "df['dendro'] = net.export_df()\n",
    "net.widget()"
   ]
  },
  {
   "cell_type": "markdown",
   "metadata": {},
   "source": [
    "### Select gene list of interest"
   ]
  },
  {
   "cell_type": "code",
   "execution_count": null,
   "metadata": {
    "scrolled": true
   },
   "outputs": [],
   "source": [
    "rows = df['dendro'].index.tolist()\n",
    "immune_genes = sorted([x[0] for x in rows if x[1] == 'Group 5: cat-5'])\n",
    "len(immune_genes)"
   ]
  },
  {
   "cell_type": "code",
   "execution_count": null,
   "metadata": {},
   "outputs": [],
   "source": [
    "rows = df['dendro'].index.tolist()\n",
    "cns_genes = sorted([x[0] for x in rows if x[1] == 'Group 5: cat-9'])\n",
    "len(cns_genes)"
   ]
  },
  {
   "cell_type": "code",
   "execution_count": null,
   "metadata": {},
   "outputs": [],
   "source": [
    "from glob import glob\n",
    "all_files = glob('../data/Enrichr_Libraries_of_Interest/*.txt')\n",
    "all_files"
   ]
  },
  {
   "cell_type": "code",
   "execution_count": null,
   "metadata": {},
   "outputs": [],
   "source": [
    "gmts = {}\n",
    "for inst_file in all_files:\n",
    "    inst_lib = inst_file.split('/')[-1].replace('.txt','')\n",
    "    gmts[inst_lib] = net.load_gmt(inst_file)\n",
    "    print(inst_lib)"
   ]
  },
  {
   "cell_type": "code",
   "execution_count": null,
   "metadata": {},
   "outputs": [],
   "source": [
    "from scipy.stats import binom_test\n",
    "def enrich_gene_list_using_lib(libs, lib_name, gene_list, background_list, pval_cutoff=0.05):\n",
    "        \n",
    "    lib_json = libs[lib_name]\n",
    "    len_gene_list = len(gene_list)\n",
    "\n",
    "    list_terms = []\n",
    "    list_pval = []\n",
    "    # list of series that will be used to make dataframe\n",
    "    list_term_ser = []\n",
    "    \n",
    "    for inst_term in lib_json:\n",
    "\n",
    "        term_ser = pd.Series(data=np.zeros(len(gene_list)), index=gene_list)\n",
    "\n",
    "        term_genes = lib_json[inst_term]\n",
    "\n",
    "        p_expect = len(set(all_genes).intersection(term_genes))/len(all_genes)\n",
    "\n",
    "        # print(gene_list)\n",
    "\n",
    "        found_genes = list(set(gene_list).intersection(term_genes))\n",
    "\n",
    "        # print('found_genes', len(found_genes))\n",
    "        actual_k = len(found_genes)\n",
    "\n",
    "        # set found genes to one\n",
    "        term_ser[found_genes] =  1\n",
    "\n",
    "        if actual_k/len_gene_list > p_expect:\n",
    "            inst_pval = binom_test(actual_k, len_gene_list, p_expect)\n",
    "        else:\n",
    "            inst_pval = 0.5\n",
    "\n",
    "        # print('HERE', inst_pval, actual_k, len_gene_list, p_expect)\n",
    "\n",
    "        if inst_pval < pval_cutoff:\n",
    "\n",
    "            term_name = (inst_term, 'Library: ' + lib_name, 'Pval: ' + str(inst_pval))\n",
    "\n",
    "            list_terms.append(term_name)\n",
    "            list_pval.append(inst_pval)\n",
    "\n",
    "            term_ser.name = term_name\n",
    "\n",
    "            list_term_ser.append(term_ser)\n",
    "\n",
    "    ser_pval = pd.Series(data=list_pval, index=list_terms).sort_values()\n",
    "    # rank df_enr by pval\n",
    "    df_enr = pd.concat(list_term_ser, axis=1)[ser_pval.index.tolist()]\n",
    "    \n",
    "    return ser_pval, df_enr"
   ]
  },
  {
   "cell_type": "code",
   "execution_count": null,
   "metadata": {},
   "outputs": [],
   "source": [
    "libraries_of_intersest = ['GO_Biological_Process_2018', \n",
    "                          'MGI_Mammalian_Phenotype_2017', 'ChEA_2016',\n",
    "                          'Disease_Perturbations_from_GEO_up', 'ARCHS4_TFs_Coexp',\n",
    "                          'ARCHS4_Tissues']\n",
    "\n",
    "keep_num_terms = 5"
   ]
  },
  {
   "cell_type": "code",
   "execution_count": null,
   "metadata": {},
   "outputs": [],
   "source": [
    "inst_genes = immune_genes\n",
    "df_list = []\n",
    "for inst_lib in libraries_of_intersest:\n",
    "    ser_pval, df_enr = enrich_gene_list_using_lib(gmts, inst_lib, inst_genes, all_genes)    \n",
    "    \n",
    "    df_list.append(df_enr.iloc[:, :keep_num_terms])\n",
    "    \n",
    "df['enr-immune'] = pd.concat(df_list, axis=1)\n",
    "df['enr-immune'].shape"
   ]
  },
  {
   "cell_type": "markdown",
   "metadata": {},
   "source": [
    "# Immune Gene Enrichment"
   ]
  },
  {
   "cell_type": "code",
   "execution_count": null,
   "metadata": {
    "scrolled": false
   },
   "outputs": [],
   "source": [
    "net.load_df(df['enr-immune'])\n",
    "net.filter_N_top(inst_rc='row', N_top=500, rank_type='sum')\n",
    "net.cluster(dist_type='jaccard')\n",
    "net.widget()"
   ]
  },
  {
   "cell_type": "code",
   "execution_count": null,
   "metadata": {},
   "outputs": [],
   "source": [
    "inst_genes = cns_genes\n",
    "df_list = []\n",
    "for inst_lib in libraries_of_intersest:\n",
    "    ser_pval, df_enr = enrich_gene_list_using_lib(gmts, inst_lib, inst_genes, all_genes)    \n",
    "    \n",
    "    df_list.append(df_enr.iloc[:, :keep_num_terms])\n",
    "    \n",
    "df['enr-cns'] = pd.concat(df_list, axis=1)\n",
    "df['enr-cns'].shape"
   ]
  },
  {
   "cell_type": "markdown",
   "metadata": {},
   "source": [
    "# CNS Gene Enrichment"
   ]
  },
  {
   "cell_type": "code",
   "execution_count": null,
   "metadata": {},
   "outputs": [],
   "source": [
    "net.load_df(df['enr-cns'])\n",
    "net.filter_N_top(inst_rc='row', N_top=500, rank_type='sum')\n",
    "net.cluster(dist_type='jaccard')\n",
    "net.widget()"
   ]
  },
  {
   "cell_type": "code",
   "execution_count": null,
   "metadata": {},
   "outputs": [],
   "source": []
  },
  {
   "cell_type": "code",
   "execution_count": null,
   "metadata": {},
   "outputs": [],
   "source": []
  },
  {
   "cell_type": "code",
   "execution_count": null,
   "metadata": {},
   "outputs": [],
   "source": []
  },
  {
   "cell_type": "code",
   "execution_count": null,
   "metadata": {},
   "outputs": [],
   "source": []
  },
  {
   "cell_type": "code",
   "execution_count": null,
   "metadata": {},
   "outputs": [],
   "source": []
  },
  {
   "cell_type": "code",
   "execution_count": null,
   "metadata": {},
   "outputs": [],
   "source": []
  },
  {
   "cell_type": "code",
   "execution_count": null,
   "metadata": {},
   "outputs": [],
   "source": []
  },
  {
   "cell_type": "code",
   "execution_count": null,
   "metadata": {},
   "outputs": [],
   "source": []
  },
  {
   "cell_type": "code",
   "execution_count": null,
   "metadata": {},
   "outputs": [],
   "source": []
  },
  {
   "cell_type": "code",
   "execution_count": null,
   "metadata": {},
   "outputs": [],
   "source": []
  },
  {
   "cell_type": "code",
   "execution_count": null,
   "metadata": {},
   "outputs": [],
   "source": [
    "net.load_df(df_term.loc[keep_rows])\n",
    "net.swap_nan_for_zero()\n",
    "net.widget()"
   ]
  },
  {
   "cell_type": "code",
   "execution_count": null,
   "metadata": {},
   "outputs": [],
   "source": []
  },
  {
   "cell_type": "code",
   "execution_count": null,
   "metadata": {},
   "outputs": [],
   "source": [
    "from copy import deepcopy"
   ]
  },
  {
   "cell_type": "code",
   "execution_count": null,
   "metadata": {},
   "outputs": [],
   "source": [
    "def enrich_dataframe_using_lib(lib_json, df_ini, background_list, num_top_terms, pval_cutoff=0.05):\n",
    "\n",
    "    gene_list = df_ini.index.tolist()\n",
    "    \n",
    "    ser_pval, df_term = enrich_gene_list_using_lib(lib_json, gene_list, background_list, \n",
    "                                                   pval_cutoff=pval_cutoff)\n",
    "    \n",
    "    keep_terms = ser_pval.index.tolist()[:num_top_terms]\n",
    "\n",
    "    df_term = df_term[keep_terms]\n",
    "    \n",
    "    # drop pval, going to use the gmt json to add categories to rows\n",
    "    keep_term_names = [x[0] for x in keep_terms]\n",
    "    \n",
    "    rows_ini = df_ini.index.tolist()\n",
    "    \n",
    "    new_rows = []\n",
    "    for inst_gene in rows_ini:\n",
    "        new_row = (inst_gene,)\n",
    "    \n",
    "        for inst_term in keep_terms:\n",
    "            \n",
    "            inst_term_name = inst_term[0]\n",
    "            inst_term_pval = inst_term[1]\n",
    "            \n",
    "            term_list = lib_json[inst_term_name]\n",
    "            \n",
    "            inst_found = 'False'\n",
    "            if inst_gene in term_list:\n",
    "                inst_found = 'True'\n",
    "                \n",
    "            inst_cat = inst_term_name + ': ' + inst_found + '<p> ' + inst_term_pval + '</p>'\n",
    "            new_row = new_row + (inst_cat,)\n",
    "\n",
    "        new_rows.append(new_row)\n",
    "        \n",
    "    df_cat = deepcopy(df_ini)\n",
    "    df_cat.index = new_rows\n",
    "    \n",
    "    return df_cat, ser_pval, df_term"
   ]
  },
  {
   "cell_type": "code",
   "execution_count": null,
   "metadata": {},
   "outputs": [],
   "source": [
    "df_tmp.shape"
   ]
  },
  {
   "cell_type": "code",
   "execution_count": null,
   "metadata": {},
   "outputs": [],
   "source": [
    "len(all_genes)"
   ]
  },
  {
   "cell_type": "code",
   "execution_count": null,
   "metadata": {},
   "outputs": [],
   "source": [
    "df_var.index.tolist()[0]"
   ]
  },
  {
   "cell_type": "code",
   "execution_count": null,
   "metadata": {
    "scrolled": false
   },
   "outputs": [],
   "source": [
    "df_cat, ser_pval, df_term = enrich_dataframe_using_lib(gmts['go-process'], df_var, all_genes, 10)"
   ]
  },
  {
   "cell_type": "code",
   "execution_count": null,
   "metadata": {},
   "outputs": [],
   "source": [
    "df_cat.shape"
   ]
  },
  {
   "cell_type": "markdown",
   "metadata": {},
   "source": [
    "# Compare Local vs Enrichrgram Enrichment"
   ]
  },
  {
   "cell_type": "code",
   "execution_count": null,
   "metadata": {},
   "outputs": [],
   "source": [
    "df_cat.index.tolist()[0]"
   ]
  },
  {
   "cell_type": "code",
   "execution_count": null,
   "metadata": {},
   "outputs": [],
   "source": [
    "df_enr.index.tolist()[0]"
   ]
  },
  {
   "cell_type": "markdown",
   "metadata": {},
   "source": [
    "# Local Enrichment"
   ]
  },
  {
   "cell_type": "code",
   "execution_count": null,
   "metadata": {
    "scrolled": false
   },
   "outputs": [],
   "source": [
    "net.load_df(df_cat)\n",
    "net.widget()"
   ]
  },
  {
   "cell_type": "code",
   "execution_count": null,
   "metadata": {},
   "outputs": [],
   "source": [
    "genes_1k = [x[0] for x in df.index.tolist()]"
   ]
  },
  {
   "cell_type": "code",
   "execution_count": null,
   "metadata": {},
   "outputs": [],
   "source": [
    "genes_1k[:10]"
   ]
  },
  {
   "cell_type": "code",
   "execution_count": null,
   "metadata": {},
   "outputs": [],
   "source": [
    "df_var.index.tolist()[:10]"
   ]
  },
  {
   "cell_type": "code",
   "execution_count": null,
   "metadata": {},
   "outputs": [],
   "source": [
    "ser_pval, df_term = enrich_gene_list_using_lib(gmts['go-process'], df_var.index.tolist(), all_genes)\n",
    "df_term.shape"
   ]
  },
  {
   "cell_type": "code",
   "execution_count": null,
   "metadata": {},
   "outputs": [],
   "source": [
    "ser_pval, df_term = enrich_gene_list_using_lib(gmts['kea'], df_var.index.tolist(), all_genes)\n",
    "df_term.shape"
   ]
  },
  {
   "cell_type": "code",
   "execution_count": null,
   "metadata": {},
   "outputs": [],
   "source": [
    "df_term.head()"
   ]
  },
  {
   "cell_type": "code",
   "execution_count": null,
   "metadata": {},
   "outputs": [],
   "source": []
  },
  {
   "cell_type": "code",
   "execution_count": null,
   "metadata": {},
   "outputs": [],
   "source": []
  },
  {
   "cell_type": "code",
   "execution_count": null,
   "metadata": {},
   "outputs": [],
   "source": []
  },
  {
   "cell_type": "code",
   "execution_count": null,
   "metadata": {},
   "outputs": [],
   "source": []
  },
  {
   "cell_type": "code",
   "execution_count": null,
   "metadata": {},
   "outputs": [],
   "source": [
    "df_term.shape"
   ]
  },
  {
   "cell_type": "code",
   "execution_count": null,
   "metadata": {},
   "outputs": [],
   "source": [
    "genes_1k = [x[0] for x in rows]"
   ]
  },
  {
   "cell_type": "markdown",
   "metadata": {},
   "source": [
    "# KEA"
   ]
  },
  {
   "cell_type": "code",
   "execution_count": null,
   "metadata": {
    "scrolled": false
   },
   "outputs": [],
   "source": [
    "ser_pval, df_term = enrich_gene_list_using_lib(gmts['kea'], genes_1k, all_genes)"
   ]
  },
  {
   "cell_type": "code",
   "execution_count": null,
   "metadata": {},
   "outputs": [],
   "source": [
    "keep_top_enr = ser_pval.index.tolist()[:10]"
   ]
  },
  {
   "cell_type": "code",
   "execution_count": null,
   "metadata": {
    "scrolled": false
   },
   "outputs": [],
   "source": [
    "net.load_df(df_term[keep_top_enr])\n",
    "net.widget()"
   ]
  },
  {
   "cell_type": "markdown",
   "metadata": {},
   "source": [
    "# GO Biological Process"
   ]
  },
  {
   "cell_type": "code",
   "execution_count": null,
   "metadata": {},
   "outputs": [],
   "source": [
    "rows[:10]"
   ]
  },
  {
   "cell_type": "code",
   "execution_count": null,
   "metadata": {},
   "outputs": [],
   "source": [
    "len(all_genes)"
   ]
  },
  {
   "cell_type": "code",
   "execution_count": null,
   "metadata": {},
   "outputs": [],
   "source": [
    "len(genes_top_var)"
   ]
  },
  {
   "cell_type": "code",
   "execution_count": null,
   "metadata": {},
   "outputs": [],
   "source": [
    "ser_pval, df_term = enrich_gene_list_using_lib(gmts['go-process'], genes_top_var, all_genes, 0.01)\n",
    "df_term.shape"
   ]
  },
  {
   "cell_type": "markdown",
   "metadata": {},
   "source": [
    "#### Terms from Enrichrgram"
   ]
  },
  {
   "cell_type": "code",
   "execution_count": null,
   "metadata": {},
   "outputs": [],
   "source": [
    "enrichrgram_row"
   ]
  },
  {
   "cell_type": "markdown",
   "metadata": {},
   "source": [
    "#### Locally Enriched Terms"
   ]
  },
  {
   "cell_type": "code",
   "execution_count": null,
   "metadata": {},
   "outputs": [],
   "source": [
    "keep_top_enr = ser_pval.index.tolist()[:10]\n",
    "keep_top_enr = [x[0] + ' ' + x[1] for x in keep_top_enr]\n",
    "keep_top_enr"
   ]
  },
  {
   "cell_type": "code",
   "execution_count": null,
   "metadata": {
    "scrolled": false
   },
   "outputs": [],
   "source": [
    "net.load_df(df_term[keep_top_enr])\n",
    "net.widget()"
   ]
  },
  {
   "cell_type": "code",
   "execution_count": null,
   "metadata": {},
   "outputs": [],
   "source": [
    "len(gene_list)"
   ]
  },
  {
   "cell_type": "code",
   "execution_count": null,
   "metadata": {},
   "outputs": [],
   "source": []
  },
  {
   "cell_type": "code",
   "execution_count": null,
   "metadata": {},
   "outputs": [],
   "source": [
    "df_sig, keep_genes_dict, df_gene_pval, fold_info = cby.generate_signatures(df,\n",
    "                                                                     'tissue', num_top_dims=100)\n",
    "\n",
    "net.load_df(df_sig)\n",
    "net.widget()"
   ]
  },
  {
   "cell_type": "markdown",
   "metadata": {},
   "source": [
    "### Add tissue category to genes"
   ]
  },
  {
   "cell_type": "code",
   "execution_count": null,
   "metadata": {},
   "outputs": [],
   "source": [
    "gene_sig = df_sig.idxmax(axis=1)\n",
    "gs_dict = {}\n",
    "for inst_gene in gene_sig.index.tolist():\n",
    "    gs_dict[inst_gene] = gene_sig[inst_gene][0]\n",
    "    \n",
    "rows = df.index.tolist()\n",
    "new_rows = [(x, 'Cell Type: ' + gs_dict[x]) if x in gs_dict else (x, 'N.A.') for x in rows ]\n",
    "df.index = new_rows\n",
    "net.load_df(df)"
   ]
  },
  {
   "cell_type": "code",
   "execution_count": null,
   "metadata": {},
   "outputs": [],
   "source": [
    "ct_color = net.viz['cat_colors']['col']['cat-0']"
   ]
  },
  {
   "cell_type": "code",
   "execution_count": null,
   "metadata": {},
   "outputs": [],
   "source": [
    "def set_cat_colors(axis, cat_index, cat_title=False):\n",
    "    for inst_ct in ct_color:\n",
    "        if cat_title != False:\n",
    "            cat_name = cat_title + ': ' + inst_ct\n",
    "        else:\n",
    "            cat_name = inst_ct\n",
    "            \n",
    "        inst_color = ct_color[inst_ct]\n",
    "        net.set_cat_color(axis=axis, cat_index=cat_index, cat_name=cat_name, inst_color=inst_color)"
   ]
  },
  {
   "cell_type": "code",
   "execution_count": null,
   "metadata": {},
   "outputs": [],
   "source": [
    "set_cat_colors('row', 1)"
   ]
  },
  {
   "cell_type": "markdown",
   "metadata": {},
   "source": [
    "### CCLE Data with Gene-Tissue Category"
   ]
  },
  {
   "cell_type": "code",
   "execution_count": null,
   "metadata": {},
   "outputs": [],
   "source": [
    "net.load_df(df)\n",
    "net.widget()"
   ]
  },
  {
   "cell_type": "code",
   "execution_count": null,
   "metadata": {},
   "outputs": [],
   "source": []
  }
 ],
 "metadata": {
  "kernelspec": {
   "display_name": "Python 3",
   "language": "python",
   "name": "python3"
  },
  "language_info": {
   "codemirror_mode": {
    "name": "ipython",
    "version": 3
   },
   "file_extension": ".py",
   "mimetype": "text/x-python",
   "name": "python",
   "nbconvert_exporter": "python",
   "pygments_lexer": "ipython3",
   "version": "3.6.6"
  }
 },
 "nbformat": 4,
 "nbformat_minor": 2
}
