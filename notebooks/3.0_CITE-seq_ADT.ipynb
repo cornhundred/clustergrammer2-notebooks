{
 "cells": [
  {
   "cell_type": "markdown",
   "metadata": {},
   "source": [
    "# 3.0 CITE-seq ADT"
   ]
  },
  {
   "cell_type": "code",
   "execution_count": 1,
   "metadata": {},
   "outputs": [
    {
     "name": "stdout",
     "output_type": "stream",
     "text": [
      "clustergrammer2 backend version 0.2.7\n"
     ]
    }
   ],
   "source": [
    "from clustergrammer2 import net\n",
    "df = {}"
   ]
  },
  {
   "cell_type": "code",
   "execution_count": 2,
   "metadata": {},
   "outputs": [],
   "source": [
    "import numpy as np\n",
    "import pandas as pd\n",
    "import gene_exp_10x\n",
    "from copy import deepcopy"
   ]
  },
  {
   "cell_type": "markdown",
   "metadata": {},
   "source": [
    "### Load ADT Data\n",
    "Load ADT data, arcsinh transform the ADT levels, then Z-score ADT levels across cells.\n",
    "\n",
    "### Drop CCR5, CCR7, and CD10 (following Seurat tutorial)"
   ]
  },
  {
   "cell_type": "code",
   "execution_count": 3,
   "metadata": {},
   "outputs": [
    {
     "data": {
      "text/plain": [
       "(10, 8617)"
      ]
     },
     "execution_count": 3,
     "metadata": {},
     "output_type": "execute_result"
    }
   ],
   "source": [
    "df['adt-ini'] = pd.read_csv('../data/CITE-seq_data/GSE100866_CBMC_8K_13AB_10X-ADT_umi.csv', index_col=0)\n",
    "df['adt'] = np.arcsinh(df['adt-ini']/5)\n",
    "\n",
    "net.load_df(df['adt'])\n",
    "net.normalize(axis='row', norm_type='zscore')\n",
    "df['adt-z'] = net.export_df()\n",
    "\n",
    "df['adt'] = df['adt'].drop(['CCR5', 'CCR7', 'CD10'])\n",
    "\n",
    "df['adt'].shape"
   ]
  },
  {
   "cell_type": "markdown",
   "metadata": {},
   "source": [
    "# Visualize ADT Levels (Z-scored)"
   ]
  },
  {
   "cell_type": "code",
   "execution_count": 4,
   "metadata": {},
   "outputs": [],
   "source": [
    "cols = df['adt-z'].columns.tolist()\n",
    "new_cols = [(x,) for x in cols]\n",
    "df['adt-z-cat'] = deepcopy(df['adt-z'])\n",
    "df['adt-z-cat'].columns = new_cols"
   ]
  },
  {
   "cell_type": "code",
   "execution_count": 5,
   "metadata": {},
   "outputs": [
    {
     "data": {
      "application/vnd.jupyter.widget-view+json": {
       "model_id": "42c019e6cb084ed9b0c113cf68ec0a74",
       "version_major": 2,
       "version_minor": 0
      },
      "text/plain": [
       "ExampleWidget(network='{\"row_nodes\": [{\"name\": \"CD3\", \"ini\": 13, \"clust\": 1, \"rank\": 11, \"rankvar\": 2, \"group\"…"
      ]
     },
     "metadata": {},
     "output_type": "display_data"
    }
   ],
   "source": [
    "net.load_df(df['adt-z-cat'])\n",
    "net.widget()"
   ]
  },
  {
   "cell_type": "code",
   "execution_count": 6,
   "metadata": {},
   "outputs": [
    {
     "data": {
      "application/vnd.jupyter.widget-view+json": {
       "model_id": "ab50ce9142a14c38962564e1fe6a6365",
       "version_major": 2,
       "version_minor": 0
      },
      "text/plain": [
       "ExampleWidget(network='{\"row_nodes\": [{\"name\": \"CD3\", \"ini\": 13, \"clust\": 1, \"rank\": 11, \"rankvar\": 2, \"group\"…"
      ]
     },
     "metadata": {},
     "output_type": "display_data"
    }
   ],
   "source": [
    "net.load_df(df['adt-z-cat'])\n",
    "net.cluster()\n",
    "net.dendro_cats(axis='col', dendro_level=3)\n",
    "net.cluster()\n",
    "net.widget()"
   ]
  },
  {
   "cell_type": "code",
   "execution_count": 7,
   "metadata": {},
   "outputs": [],
   "source": [
    "df['adt-groups'] = net.export_df()"
   ]
  },
  {
   "cell_type": "code",
   "execution_count": 8,
   "metadata": {},
   "outputs": [
    {
     "data": {
      "text/html": [
       "<div>\n",
       "<style scoped>\n",
       "    .dataframe tbody tr th:only-of-type {\n",
       "        vertical-align: middle;\n",
       "    }\n",
       "\n",
       "    .dataframe tbody tr th {\n",
       "        vertical-align: top;\n",
       "    }\n",
       "\n",
       "    .dataframe thead th {\n",
       "        text-align: right;\n",
       "    }\n",
       "</style>\n",
       "<table border=\"1\" class=\"dataframe\">\n",
       "  <thead>\n",
       "    <tr style=\"text-align: right;\">\n",
       "      <th></th>\n",
       "      <th>(CTGTTTACACCGCTAG, Group 3: cat-11)</th>\n",
       "      <th>(CTCTACGGTGTGGCTC, Group 3: cat-6)</th>\n",
       "      <th>(AGCAGCCAGGCTCATT, Group 3: cat-11)</th>\n",
       "      <th>(GAATAAGAGATCCCAT, Group 3: cat-11)</th>\n",
       "      <th>(GTGCATAGTCATGCAT, Group 3: cat-11)</th>\n",
       "      <th>(TACACGACACATCCGG, Group 3: cat-11)</th>\n",
       "      <th>(TCATTTGGTGTGAAAT, Group 3: cat-11)</th>\n",
       "      <th>(GGGCACTGTGAAGGCT, Group 3: cat-11)</th>\n",
       "      <th>(AACACGTCATTAACCG, Group 3: cat-11)</th>\n",
       "      <th>(CACATAGCAATGCCAT, Group 3: cat-11)</th>\n",
       "      <th>...</th>\n",
       "      <th>(GACGCGTGTAGAAAGG, Group 3: cat-15)</th>\n",
       "      <th>(AGCGTCGTCCCAAGTA, Group 3: cat-7)</th>\n",
       "      <th>(AGCGTCGAGTCAAGGC, Group 3: cat-15)</th>\n",
       "      <th>(GTCGGGTAGTAGCCGA, Group 3: cat-15)</th>\n",
       "      <th>(GTCGGGTAGTTCGCAT, Group 3: cat-15)</th>\n",
       "      <th>(TTGCCGTGTAGATTAG, Group 3: cat-15)</th>\n",
       "      <th>(GGCGTGTAGTGTACTC, Group 3: cat-15)</th>\n",
       "      <th>(CGTATGCCGTCTTCTG, Group 3: cat-14)</th>\n",
       "      <th>(TACACGACGCTCTTCC, Group 3: cat-14)</th>\n",
       "      <th>(ACACGACGCTCTTCCG, Group 3: cat-14)</th>\n",
       "    </tr>\n",
       "  </thead>\n",
       "  <tbody>\n",
       "    <tr>\n",
       "      <th>CD3</th>\n",
       "      <td>-0.543827</td>\n",
       "      <td>-0.631404</td>\n",
       "      <td>-0.302133</td>\n",
       "      <td>-0.597090</td>\n",
       "      <td>-0.513946</td>\n",
       "      <td>-0.352381</td>\n",
       "      <td>-0.619753</td>\n",
       "      <td>-0.761885</td>\n",
       "      <td>-0.212489</td>\n",
       "      <td>-0.586063</td>\n",
       "      <td>...</td>\n",
       "      <td>-1.273152</td>\n",
       "      <td>-0.927425</td>\n",
       "      <td>-1.181428</td>\n",
       "      <td>-1.420379</td>\n",
       "      <td>-0.927425</td>\n",
       "      <td>-1.873388</td>\n",
       "      <td>-1.420379</td>\n",
       "      <td>-1.798419</td>\n",
       "      <td>-1.273152</td>\n",
       "      <td>-1.610609</td>\n",
       "    </tr>\n",
       "    <tr>\n",
       "      <th>CD4</th>\n",
       "      <td>-0.685180</td>\n",
       "      <td>-0.947400</td>\n",
       "      <td>-0.383522</td>\n",
       "      <td>-0.744525</td>\n",
       "      <td>-0.613287</td>\n",
       "      <td>-0.630565</td>\n",
       "      <td>-0.776242</td>\n",
       "      <td>-0.820949</td>\n",
       "      <td>-0.325093</td>\n",
       "      <td>-0.704396</td>\n",
       "      <td>...</td>\n",
       "      <td>-0.613287</td>\n",
       "      <td>-1.376299</td>\n",
       "      <td>-1.326470</td>\n",
       "      <td>-0.685180</td>\n",
       "      <td>-0.844445</td>\n",
       "      <td>-1.052177</td>\n",
       "      <td>-1.085296</td>\n",
       "      <td>-2.129844</td>\n",
       "      <td>-1.698427</td>\n",
       "      <td>-1.785024</td>\n",
       "    </tr>\n",
       "    <tr>\n",
       "      <th>CD8</th>\n",
       "      <td>0.157238</td>\n",
       "      <td>-0.034537</td>\n",
       "      <td>-0.009303</td>\n",
       "      <td>-0.074025</td>\n",
       "      <td>0.318405</td>\n",
       "      <td>-0.060634</td>\n",
       "      <td>-0.009303</td>\n",
       "      <td>-0.087656</td>\n",
       "      <td>0.027046</td>\n",
       "      <td>0.196118</td>\n",
       "      <td>...</td>\n",
       "      <td>-0.519812</td>\n",
       "      <td>-1.055818</td>\n",
       "      <td>-1.572664</td>\n",
       "      <td>-0.309538</td>\n",
       "      <td>-0.087656</td>\n",
       "      <td>-1.488353</td>\n",
       "      <td>-0.965103</td>\n",
       "      <td>-2.004966</td>\n",
       "      <td>-0.845981</td>\n",
       "      <td>-1.275165</td>\n",
       "    </tr>\n",
       "    <tr>\n",
       "      <th>CD45RA</th>\n",
       "      <td>-0.791953</td>\n",
       "      <td>0.629771</td>\n",
       "      <td>-0.665935</td>\n",
       "      <td>-1.101692</td>\n",
       "      <td>-0.708270</td>\n",
       "      <td>-0.926837</td>\n",
       "      <td>-0.914607</td>\n",
       "      <td>-0.937708</td>\n",
       "      <td>-0.838326</td>\n",
       "      <td>-0.845195</td>\n",
       "      <td>...</td>\n",
       "      <td>-2.026419</td>\n",
       "      <td>0.919822</td>\n",
       "      <td>-1.824478</td>\n",
       "      <td>-1.582840</td>\n",
       "      <td>-1.430958</td>\n",
       "      <td>-2.378348</td>\n",
       "      <td>-1.784029</td>\n",
       "      <td>-2.834537</td>\n",
       "      <td>-1.895330</td>\n",
       "      <td>-1.993034</td>\n",
       "    </tr>\n",
       "    <tr>\n",
       "      <th>CD56</th>\n",
       "      <td>0.336685</td>\n",
       "      <td>0.407352</td>\n",
       "      <td>0.694778</td>\n",
       "      <td>0.221995</td>\n",
       "      <td>0.903134</td>\n",
       "      <td>-0.099352</td>\n",
       "      <td>0.336685</td>\n",
       "      <td>0.001766</td>\n",
       "      <td>1.216452</td>\n",
       "      <td>0.747243</td>\n",
       "      <td>...</td>\n",
       "      <td>-0.951546</td>\n",
       "      <td>1.250316</td>\n",
       "      <td>-1.329907</td>\n",
       "      <td>-1.006955</td>\n",
       "      <td>0.667637</td>\n",
       "      <td>-1.258111</td>\n",
       "      <td>-1.406146</td>\n",
       "      <td>-2.790703</td>\n",
       "      <td>-1.768058</td>\n",
       "      <td>-2.425336</td>\n",
       "    </tr>\n",
       "  </tbody>\n",
       "</table>\n",
       "<p>5 rows × 8617 columns</p>\n",
       "</div>"
      ],
      "text/plain": [
       "        (CTGTTTACACCGCTAG, Group 3: cat-11)  \\\n",
       "CD3                               -0.543827   \n",
       "CD4                               -0.685180   \n",
       "CD8                                0.157238   \n",
       "CD45RA                            -0.791953   \n",
       "CD56                               0.336685   \n",
       "\n",
       "        (CTCTACGGTGTGGCTC, Group 3: cat-6)  \\\n",
       "CD3                              -0.631404   \n",
       "CD4                              -0.947400   \n",
       "CD8                              -0.034537   \n",
       "CD45RA                            0.629771   \n",
       "CD56                              0.407352   \n",
       "\n",
       "        (AGCAGCCAGGCTCATT, Group 3: cat-11)  \\\n",
       "CD3                               -0.302133   \n",
       "CD4                               -0.383522   \n",
       "CD8                               -0.009303   \n",
       "CD45RA                            -0.665935   \n",
       "CD56                               0.694778   \n",
       "\n",
       "        (GAATAAGAGATCCCAT, Group 3: cat-11)  \\\n",
       "CD3                               -0.597090   \n",
       "CD4                               -0.744525   \n",
       "CD8                               -0.074025   \n",
       "CD45RA                            -1.101692   \n",
       "CD56                               0.221995   \n",
       "\n",
       "        (GTGCATAGTCATGCAT, Group 3: cat-11)  \\\n",
       "CD3                               -0.513946   \n",
       "CD4                               -0.613287   \n",
       "CD8                                0.318405   \n",
       "CD45RA                            -0.708270   \n",
       "CD56                               0.903134   \n",
       "\n",
       "        (TACACGACACATCCGG, Group 3: cat-11)  \\\n",
       "CD3                               -0.352381   \n",
       "CD4                               -0.630565   \n",
       "CD8                               -0.060634   \n",
       "CD45RA                            -0.926837   \n",
       "CD56                              -0.099352   \n",
       "\n",
       "        (TCATTTGGTGTGAAAT, Group 3: cat-11)  \\\n",
       "CD3                               -0.619753   \n",
       "CD4                               -0.776242   \n",
       "CD8                               -0.009303   \n",
       "CD45RA                            -0.914607   \n",
       "CD56                               0.336685   \n",
       "\n",
       "        (GGGCACTGTGAAGGCT, Group 3: cat-11)  \\\n",
       "CD3                               -0.761885   \n",
       "CD4                               -0.820949   \n",
       "CD8                               -0.087656   \n",
       "CD45RA                            -0.937708   \n",
       "CD56                               0.001766   \n",
       "\n",
       "        (AACACGTCATTAACCG, Group 3: cat-11)  \\\n",
       "CD3                               -0.212489   \n",
       "CD4                               -0.325093   \n",
       "CD8                                0.027046   \n",
       "CD45RA                            -0.838326   \n",
       "CD56                               1.216452   \n",
       "\n",
       "        (CACATAGCAATGCCAT, Group 3: cat-11)  \\\n",
       "CD3                               -0.586063   \n",
       "CD4                               -0.704396   \n",
       "CD8                                0.196118   \n",
       "CD45RA                            -0.845195   \n",
       "CD56                               0.747243   \n",
       "\n",
       "                       ...                   \\\n",
       "CD3                    ...                    \n",
       "CD4                    ...                    \n",
       "CD8                    ...                    \n",
       "CD45RA                 ...                    \n",
       "CD56                   ...                    \n",
       "\n",
       "        (GACGCGTGTAGAAAGG, Group 3: cat-15)  \\\n",
       "CD3                               -1.273152   \n",
       "CD4                               -0.613287   \n",
       "CD8                               -0.519812   \n",
       "CD45RA                            -2.026419   \n",
       "CD56                              -0.951546   \n",
       "\n",
       "        (AGCGTCGTCCCAAGTA, Group 3: cat-7)  \\\n",
       "CD3                              -0.927425   \n",
       "CD4                              -1.376299   \n",
       "CD8                              -1.055818   \n",
       "CD45RA                            0.919822   \n",
       "CD56                              1.250316   \n",
       "\n",
       "        (AGCGTCGAGTCAAGGC, Group 3: cat-15)  \\\n",
       "CD3                               -1.181428   \n",
       "CD4                               -1.326470   \n",
       "CD8                               -1.572664   \n",
       "CD45RA                            -1.824478   \n",
       "CD56                              -1.329907   \n",
       "\n",
       "        (GTCGGGTAGTAGCCGA, Group 3: cat-15)  \\\n",
       "CD3                               -1.420379   \n",
       "CD4                               -0.685180   \n",
       "CD8                               -0.309538   \n",
       "CD45RA                            -1.582840   \n",
       "CD56                              -1.006955   \n",
       "\n",
       "        (GTCGGGTAGTTCGCAT, Group 3: cat-15)  \\\n",
       "CD3                               -0.927425   \n",
       "CD4                               -0.844445   \n",
       "CD8                               -0.087656   \n",
       "CD45RA                            -1.430958   \n",
       "CD56                               0.667637   \n",
       "\n",
       "        (TTGCCGTGTAGATTAG, Group 3: cat-15)  \\\n",
       "CD3                               -1.873388   \n",
       "CD4                               -1.052177   \n",
       "CD8                               -1.488353   \n",
       "CD45RA                            -2.378348   \n",
       "CD56                              -1.258111   \n",
       "\n",
       "        (GGCGTGTAGTGTACTC, Group 3: cat-15)  \\\n",
       "CD3                               -1.420379   \n",
       "CD4                               -1.085296   \n",
       "CD8                               -0.965103   \n",
       "CD45RA                            -1.784029   \n",
       "CD56                              -1.406146   \n",
       "\n",
       "        (CGTATGCCGTCTTCTG, Group 3: cat-14)  \\\n",
       "CD3                               -1.798419   \n",
       "CD4                               -2.129844   \n",
       "CD8                               -2.004966   \n",
       "CD45RA                            -2.834537   \n",
       "CD56                              -2.790703   \n",
       "\n",
       "        (TACACGACGCTCTTCC, Group 3: cat-14)  \\\n",
       "CD3                               -1.273152   \n",
       "CD4                               -1.698427   \n",
       "CD8                               -0.845981   \n",
       "CD45RA                            -1.895330   \n",
       "CD56                              -1.768058   \n",
       "\n",
       "        (ACACGACGCTCTTCCG, Group 3: cat-14)  \n",
       "CD3                               -1.610609  \n",
       "CD4                               -1.785024  \n",
       "CD8                               -1.275165  \n",
       "CD45RA                            -1.993034  \n",
       "CD56                              -2.425336  \n",
       "\n",
       "[5 rows x 8617 columns]"
      ]
     },
     "execution_count": 8,
     "metadata": {},
     "output_type": "execute_result"
    }
   ],
   "source": [
    "df['adt-groups'].head()"
   ]
  },
  {
   "cell_type": "code",
   "execution_count": 10,
   "metadata": {},
   "outputs": [],
   "source": [
    "import clustergrammer_groupby as cby"
   ]
  },
  {
   "cell_type": "code",
   "execution_count": 11,
   "metadata": {},
   "outputs": [
    {
     "name": "stderr",
     "output_type": "stream",
     "text": [
      "/Users/nickfernandez/anaconda3/envs/py36lab/lib/python3.6/site-packages/numpy/core/fromnumeric.py:3146: RuntimeWarning: Degrees of freedom <= 0 for slice\n",
      "  **kwargs)\n",
      "/Users/nickfernandez/anaconda3/envs/py36lab/lib/python3.6/site-packages/numpy/core/_methods.py:125: RuntimeWarning: invalid value encountered in true_divide\n",
      "  ret, rcount, out=ret, casting='unsafe', subok=False)\n",
      "/Users/nickfernandez/anaconda3/envs/py36lab/lib/python3.6/site-packages/scipy/stats/_distn_infrastructure.py:879: RuntimeWarning: invalid value encountered in greater\n",
      "  return (self.a < x) & (x < self.b)\n",
      "/Users/nickfernandez/anaconda3/envs/py36lab/lib/python3.6/site-packages/scipy/stats/_distn_infrastructure.py:879: RuntimeWarning: invalid value encountered in less\n",
      "  return (self.a < x) & (x < self.b)\n",
      "/Users/nickfernandez/anaconda3/envs/py36lab/lib/python3.6/site-packages/scipy/stats/_distn_infrastructure.py:1821: RuntimeWarning: invalid value encountered in less_equal\n",
      "  cond2 = cond0 & (x <= self.a)\n"
     ]
    }
   ],
   "source": [
    "df['cat-sig'], keep_genes_dict, df_gene_pval, all_fold_info = cby.generate_signatures(df['adt-groups'], category_level='Group 3')"
   ]
  },
  {
   "cell_type": "code",
   "execution_count": 12,
   "metadata": {},
   "outputs": [
    {
     "data": {
      "application/vnd.jupyter.widget-view+json": {
       "model_id": "e993872177e44c688f469eca2fdb5ea0",
       "version_major": 2,
       "version_minor": 0
      },
      "text/plain": [
       "ExampleWidget(network='{\"row_nodes\": [{\"name\": \"CCR5\", \"ini\": 13, \"clust\": 8, \"rank\": 6, \"rankvar\": 2, \"group\"…"
      ]
     },
     "metadata": {},
     "output_type": "display_data"
    }
   ],
   "source": [
    "net.load_df(df['cat-sig'])\n",
    "net.widget()"
   ]
  },
  {
   "cell_type": "code",
   "execution_count": 13,
   "metadata": {},
   "outputs": [],
   "source": [
    "import zipfile"
   ]
  },
  {
   "cell_type": "code",
   "execution_count": null,
   "metadata": {},
   "outputs": [],
   "source": []
  }
 ],
 "metadata": {
  "kernelspec": {
   "display_name": "Python 3",
   "language": "python",
   "name": "python3"
  },
  "language_info": {
   "codemirror_mode": {
    "name": "ipython",
    "version": 3
   },
   "file_extension": ".py",
   "mimetype": "text/x-python",
   "name": "python",
   "nbconvert_exporter": "python",
   "pygments_lexer": "ipython3",
   "version": "3.6.6"
  }
 },
 "nbformat": 4,
 "nbformat_minor": 2
}
