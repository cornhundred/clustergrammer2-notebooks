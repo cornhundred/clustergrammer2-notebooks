{
 "cells": [
  {
   "cell_type": "markdown",
   "metadata": {},
   "source": [
    "# 3.0 CITE-seq ADT"
   ]
  },
  {
   "cell_type": "code",
   "execution_count": 1,
   "metadata": {},
   "outputs": [
    {
     "name": "stdout",
     "output_type": "stream",
     "text": [
      "clustergrammer2 backend version 0.2.7\n"
     ]
    }
   ],
   "source": [
    "from clustergrammer2 import net\n",
    "df = {}"
   ]
  },
  {
   "cell_type": "code",
   "execution_count": 32,
   "metadata": {},
   "outputs": [],
   "source": [
    "import numpy as np\n",
    "import pandas as pd\n",
    "import gene_exp_10x\n",
    "from copy import deepcopy\n",
    "import json_scripts\n",
    "import clustergrammer_groupby as cby"
   ]
  },
  {
   "cell_type": "code",
   "execution_count": 16,
   "metadata": {},
   "outputs": [],
   "source": [
    "cell_dict = json_scripts.load_to_dict('../data/CITE-seq_data/human_mouse_cell_dictionary.json')"
   ]
  },
  {
   "cell_type": "markdown",
   "metadata": {},
   "source": [
    "### Load ADT Data\n",
    "Load ADT data, arcsinh transform the ADT levels, then Z-score ADT levels across cells.\n",
    "\n",
    "### Drop CCR5, CCR7, and CD10 (following Seurat tutorial)"
   ]
  },
  {
   "cell_type": "code",
   "execution_count": 22,
   "metadata": {},
   "outputs": [
    {
     "data": {
      "text/plain": [
       "(10, 7339)"
      ]
     },
     "execution_count": 22,
     "metadata": {},
     "output_type": "execute_result"
    }
   ],
   "source": [
    "df['adt-ini'] = pd.read_csv('../data/CITE-seq_data/GSE100866_CBMC_8K_13AB_10X-ADT_umi.csv', index_col=0)\n",
    "df['adt'] = np.arcsinh(df['adt-ini']/5)\n",
    "\n",
    "# drop markers with low \"poor enrichments\"\n",
    "df['adt'] = df['adt'].drop(['CCR5', 'CCR7', 'CD10'])\n",
    "\n",
    "# keep only human cells\n",
    "df['adt'] = df['adt'][cell_dict['human-cells']]\n",
    "\n",
    "net.load_df(df['adt'])\n",
    "net.normalize(axis='row', norm_type='zscore')\n",
    "df['adt-z'] = net.export_df()\n",
    "\n",
    "df['adt'].shape"
   ]
  },
  {
   "cell_type": "markdown",
   "metadata": {},
   "source": [
    "# Visualize ADT Levels (Z-scored)"
   ]
  },
  {
   "cell_type": "code",
   "execution_count": 23,
   "metadata": {},
   "outputs": [],
   "source": [
    "cols = df['adt-z'].columns.tolist()\n",
    "new_cols = [(x,) for x in cols]\n",
    "df['adt-z-cat'] = deepcopy(df['adt-z'])\n",
    "df['adt-z-cat'].columns = new_cols"
   ]
  },
  {
   "cell_type": "code",
   "execution_count": 35,
   "metadata": {
    "scrolled": false
   },
   "outputs": [
    {
     "data": {
      "application/vnd.jupyter.widget-view+json": {
       "model_id": "8f7a66e5b8624cd89aebe11bf1f1849a",
       "version_major": 2,
       "version_minor": 0
      },
      "text/plain": [
       "ExampleWidget(network='{\"row_nodes\": [{\"name\": \"CD3\", \"ini\": 10, \"clust\": 1, \"rank\": 9, \"rankvar\": 0, \"group\":…"
      ]
     },
     "metadata": {},
     "output_type": "display_data"
    }
   ],
   "source": [
    "net.load_df(df['adt-z-cat'])\n",
    "net.cluster()\n",
    "net.dendro_cats(axis='col', dendro_level=2)\n",
    "df['adt-groups'] = net.export_df()\n",
    "net.cluster()\n",
    "net.widget()"
   ]
  },
  {
   "cell_type": "code",
   "execution_count": 36,
   "metadata": {},
   "outputs": [],
   "source": [
    "cols = df['adt-groups'].columns.tolist()"
   ]
  },
  {
   "cell_type": "code",
   "execution_count": 38,
   "metadata": {},
   "outputs": [],
   "source": [
    "group_info = [x[1] for x in cols]"
   ]
  },
  {
   "cell_type": "code",
   "execution_count": 44,
   "metadata": {},
   "outputs": [
    {
     "data": {
      "text/plain": [
       "(7339,)"
      ]
     },
     "execution_count": 44,
     "metadata": {},
     "output_type": "execute_result"
    }
   ],
   "source": [
    "ser_groups = pd.Series(group_info)\n"
   ]
  },
  {
   "cell_type": "code",
   "execution_count": 45,
   "metadata": {},
   "outputs": [
    {
     "name": "stdout",
     "output_type": "stream",
     "text": [
      "(30,)\n"
     ]
    },
    {
     "data": {
      "text/plain": [
       "Group 2: cat-4     2529\n",
       "Group 2: cat-19    1455\n",
       "Group 2: cat-26     891\n",
       "Group 2: cat-20     623\n",
       "Group 2: cat-10     410\n",
       "Group 2: cat-29     305\n",
       "Group 2: cat-25     267\n",
       "Group 2: cat-18     169\n",
       "Group 2: cat-24     152\n",
       "Group 2: cat-16     131\n",
       "Group 2: cat-7      131\n",
       "Group 2: cat-23      51\n",
       "Group 2: cat-13      50\n",
       "Group 2: cat-27      49\n",
       "Group 2: cat-1       32\n",
       "Group 2: cat-8       20\n",
       "Group 2: cat-9       13\n",
       "Group 2: cat-15      10\n",
       "Group 2: cat-2        9\n",
       "Group 2: cat-5        8\n",
       "Group 2: cat-17       7\n",
       "Group 2: cat-11       5\n",
       "Group 2: cat-22       5\n",
       "Group 2: cat-6        4\n",
       "Group 2: cat-12       4\n",
       "Group 2: cat-3        3\n",
       "Group 2: cat-21       2\n",
       "Group 2: cat-28       2\n",
       "Group 2: cat-14       1\n",
       "Group 2: cat-30       1\n",
       "dtype: int64"
      ]
     },
     "execution_count": 45,
     "metadata": {},
     "output_type": "execute_result"
    }
   ],
   "source": [
    "group_val_counts = ser_groups.value_counts()\n",
    "print(group_val_counts.shape)\n",
    "group_val_counts"
   ]
  },
  {
   "cell_type": "code",
   "execution_count": 47,
   "metadata": {},
   "outputs": [
    {
     "name": "stdout",
     "output_type": "stream",
     "text": [
      "(16,)\n"
     ]
    },
    {
     "data": {
      "text/plain": [
       "Group 2: cat-4     2529\n",
       "Group 2: cat-19    1455\n",
       "Group 2: cat-26     891\n",
       "Group 2: cat-20     623\n",
       "Group 2: cat-10     410\n",
       "Group 2: cat-29     305\n",
       "Group 2: cat-25     267\n",
       "Group 2: cat-18     169\n",
       "Group 2: cat-24     152\n",
       "Group 2: cat-16     131\n",
       "Group 2: cat-7      131\n",
       "Group 2: cat-23      51\n",
       "Group 2: cat-13      50\n",
       "Group 2: cat-27      49\n",
       "Group 2: cat-1       32\n",
       "Group 2: cat-8       20\n",
       "dtype: int64"
      ]
     },
     "execution_count": 47,
     "metadata": {},
     "output_type": "execute_result"
    }
   ],
   "source": [
    "keep_group_val_counts = group_val_counts[group_val_counts >= 15]\n",
    "print(keep_group_val_counts.shape)\n",
    "keep_group_val_counts"
   ]
  },
  {
   "cell_type": "code",
   "execution_count": 33,
   "metadata": {},
   "outputs": [
    {
     "name": "stderr",
     "output_type": "stream",
     "text": [
      "/Users/nickfernandez/anaconda3/envs/py36lab/lib/python3.6/site-packages/numpy/core/fromnumeric.py:3146: RuntimeWarning: Degrees of freedom <= 0 for slice\n",
      "  **kwargs)\n",
      "/Users/nickfernandez/anaconda3/envs/py36lab/lib/python3.6/site-packages/numpy/core/_methods.py:125: RuntimeWarning: invalid value encountered in true_divide\n",
      "  ret, rcount, out=ret, casting='unsafe', subok=False)\n",
      "/Users/nickfernandez/anaconda3/envs/py36lab/lib/python3.6/site-packages/scipy/stats/_distn_infrastructure.py:879: RuntimeWarning: invalid value encountered in greater\n",
      "  return (self.a < x) & (x < self.b)\n",
      "/Users/nickfernandez/anaconda3/envs/py36lab/lib/python3.6/site-packages/scipy/stats/_distn_infrastructure.py:879: RuntimeWarning: invalid value encountered in less\n",
      "  return (self.a < x) & (x < self.b)\n",
      "/Users/nickfernandez/anaconda3/envs/py36lab/lib/python3.6/site-packages/scipy/stats/_distn_infrastructure.py:1821: RuntimeWarning: invalid value encountered in less_equal\n",
      "  cond2 = cond0 & (x <= self.a)\n"
     ]
    }
   ],
   "source": [
    "df['cat-sig'], keep_genes_dict, df_gene_pval, all_fold_info = cby.generate_signatures(df['adt-groups'], category_level='Group 2')"
   ]
  },
  {
   "cell_type": "code",
   "execution_count": 34,
   "metadata": {},
   "outputs": [
    {
     "data": {
      "application/vnd.jupyter.widget-view+json": {
       "model_id": "ba6d8fdfc5e3484fa9b7603c89a29f53",
       "version_major": 2,
       "version_minor": 0
      },
      "text/plain": [
       "ExampleWidget(network='{\"row_nodes\": [{\"name\": \"CD11c\", \"ini\": 10, \"clust\": 5, \"rank\": 6, \"rankvar\": 5, \"group…"
      ]
     },
     "metadata": {},
     "output_type": "display_data"
    }
   ],
   "source": [
    "net.load_df(df['cat-sig'])\n",
    "net.widget()"
   ]
  },
  {
   "cell_type": "code",
   "execution_count": 13,
   "metadata": {},
   "outputs": [],
   "source": [
    "import zipfile"
   ]
  },
  {
   "cell_type": "code",
   "execution_count": null,
   "metadata": {},
   "outputs": [],
   "source": []
  }
 ],
 "metadata": {
  "kernelspec": {
   "display_name": "Python 3",
   "language": "python",
   "name": "python3"
  },
  "language_info": {
   "codemirror_mode": {
    "name": "ipython",
    "version": 3
   },
   "file_extension": ".py",
   "mimetype": "text/x-python",
   "name": "python",
   "nbconvert_exporter": "python",
   "pygments_lexer": "ipython3",
   "version": "3.6.6"
  }
 },
 "nbformat": 4,
 "nbformat_minor": 2
}
