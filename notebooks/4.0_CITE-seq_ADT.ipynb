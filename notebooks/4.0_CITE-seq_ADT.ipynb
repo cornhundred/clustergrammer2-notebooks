{
 "cells": [
  {
   "cell_type": "markdown",
   "metadata": {},
   "source": [
    "# 3.0 CITE-seq ADT"
   ]
  },
  {
   "cell_type": "code",
   "execution_count": 1,
   "metadata": {},
   "outputs": [
    {
     "name": "stdout",
     "output_type": "stream",
     "text": [
      "clustergrammer2 backend version 0.2.9\n"
     ]
    }
   ],
   "source": [
    "from clustergrammer2 import net\n",
    "df = {}"
   ]
  },
  {
   "cell_type": "code",
   "execution_count": 2,
   "metadata": {},
   "outputs": [],
   "source": [
    "import numpy as np\n",
    "import pandas as pd\n",
    "import gene_exp_10x\n",
    "from copy import deepcopy\n",
    "import json_scripts\n",
    "import clustergrammer_groupby as cby"
   ]
  },
  {
   "cell_type": "code",
   "execution_count": 3,
   "metadata": {},
   "outputs": [],
   "source": [
    "cell_dict = json_scripts.load_to_dict('../data/CITE-seq_data/human_mouse_cell_dictionary.json')"
   ]
  },
  {
   "cell_type": "markdown",
   "metadata": {},
   "source": [
    "### Load ADT Data\n",
    "Load ADT data, arcsinh transform the ADT levels, then Z-score ADT levels across cells.\n",
    "\n",
    "### Drop CCR5, CCR7, and CD10 (following Seurat tutorial)"
   ]
  },
  {
   "cell_type": "code",
   "execution_count": 4,
   "metadata": {},
   "outputs": [
    {
     "data": {
      "text/plain": [
       "(10, 7339)"
      ]
     },
     "execution_count": 4,
     "metadata": {},
     "output_type": "execute_result"
    }
   ],
   "source": [
    "df['adt-ini'] = pd.read_csv('../data/CITE-seq_data/GSE100866_CBMC_8K_13AB_10X-ADT_umi.csv', index_col=0)\n",
    "df['adt'] = np.arcsinh(df['adt-ini']/5)\n",
    "\n",
    "# drop markers with low \"poor enrichments\"\n",
    "df['adt'] = df['adt'].drop(['CCR5', 'CCR7', 'CD10'])\n",
    "\n",
    "# keep only human cells\n",
    "df['adt'] = df['adt'][cell_dict['human-cells']]\n",
    "\n",
    "net.load_df(df['adt'])\n",
    "net.normalize(axis='row', norm_type='zscore')\n",
    "df['adt-z'] = net.export_df()\n",
    "\n",
    "df['adt'].shape"
   ]
  },
  {
   "cell_type": "markdown",
   "metadata": {},
   "source": [
    "# Visualize ADT Levels (Z-scored)"
   ]
  },
  {
   "cell_type": "code",
   "execution_count": 5,
   "metadata": {},
   "outputs": [],
   "source": [
    "cols = df['adt-z'].columns.tolist()\n",
    "new_cols = [(x,) for x in cols]\n",
    "df['adt-z-cat'] = deepcopy(df['adt-z'])\n",
    "df['adt-z-cat'].columns = new_cols"
   ]
  },
  {
   "cell_type": "code",
   "execution_count": 6,
   "metadata": {
    "scrolled": false
   },
   "outputs": [],
   "source": [
    "net.load_df(df['adt-z-cat'])\n",
    "net.cluster()\n",
    "net.dendro_cats(axis='col', dendro_level=2)\n",
    "df['adt-groups'] = net.export_df()\n",
    "# net.cluster()\n",
    "# net.widget()"
   ]
  },
  {
   "cell_type": "code",
   "execution_count": 7,
   "metadata": {},
   "outputs": [],
   "source": [
    "cols = df['adt-groups'].columns.tolist()"
   ]
  },
  {
   "cell_type": "code",
   "execution_count": 8,
   "metadata": {},
   "outputs": [],
   "source": [
    "group_info = [x[1] for x in cols]"
   ]
  },
  {
   "cell_type": "code",
   "execution_count": 9,
   "metadata": {},
   "outputs": [],
   "source": [
    "ser_groups = pd.Series(group_info)\n"
   ]
  },
  {
   "cell_type": "code",
   "execution_count": 10,
   "metadata": {},
   "outputs": [
    {
     "name": "stdout",
     "output_type": "stream",
     "text": [
      "(30,)\n"
     ]
    },
    {
     "data": {
      "text/plain": [
       "Group 2: cat-4     2529\n",
       "Group 2: cat-19    1455\n",
       "Group 2: cat-26     891\n",
       "Group 2: cat-20     623\n",
       "Group 2: cat-10     410\n",
       "Group 2: cat-29     305\n",
       "Group 2: cat-25     267\n",
       "Group 2: cat-18     169\n",
       "Group 2: cat-24     152\n",
       "Group 2: cat-16     131\n",
       "Group 2: cat-7      131\n",
       "Group 2: cat-23      51\n",
       "Group 2: cat-13      50\n",
       "Group 2: cat-27      49\n",
       "Group 2: cat-1       32\n",
       "Group 2: cat-8       20\n",
       "Group 2: cat-9       13\n",
       "Group 2: cat-15      10\n",
       "Group 2: cat-2        9\n",
       "Group 2: cat-5        8\n",
       "Group 2: cat-17       7\n",
       "Group 2: cat-11       5\n",
       "Group 2: cat-22       5\n",
       "Group 2: cat-12       4\n",
       "Group 2: cat-6        4\n",
       "Group 2: cat-3        3\n",
       "Group 2: cat-21       2\n",
       "Group 2: cat-28       2\n",
       "Group 2: cat-30       1\n",
       "Group 2: cat-14       1\n",
       "dtype: int64"
      ]
     },
     "execution_count": 10,
     "metadata": {},
     "output_type": "execute_result"
    }
   ],
   "source": [
    "group_val_counts = ser_groups.value_counts()\n",
    "print(group_val_counts.shape)\n",
    "group_val_counts"
   ]
  },
  {
   "cell_type": "code",
   "execution_count": 11,
   "metadata": {},
   "outputs": [
    {
     "name": "stdout",
     "output_type": "stream",
     "text": [
      "(16,)\n"
     ]
    },
    {
     "data": {
      "text/plain": [
       "Group 2: cat-4     2529\n",
       "Group 2: cat-19    1455\n",
       "Group 2: cat-26     891\n",
       "Group 2: cat-20     623\n",
       "Group 2: cat-10     410\n",
       "Group 2: cat-29     305\n",
       "Group 2: cat-25     267\n",
       "Group 2: cat-18     169\n",
       "Group 2: cat-24     152\n",
       "Group 2: cat-16     131\n",
       "Group 2: cat-7      131\n",
       "Group 2: cat-23      51\n",
       "Group 2: cat-13      50\n",
       "Group 2: cat-27      49\n",
       "Group 2: cat-1       32\n",
       "Group 2: cat-8       20\n",
       "dtype: int64"
      ]
     },
     "execution_count": 11,
     "metadata": {},
     "output_type": "execute_result"
    }
   ],
   "source": [
    "keep_group_val_counts = group_val_counts[group_val_counts >= 15]\n",
    "print(keep_group_val_counts.shape)\n",
    "keep_group_val_counts"
   ]
  },
  {
   "cell_type": "code",
   "execution_count": 12,
   "metadata": {},
   "outputs": [],
   "source": [
    "keep_groups = keep_group_val_counts.index.tolist()"
   ]
  },
  {
   "cell_type": "code",
   "execution_count": 13,
   "metadata": {},
   "outputs": [
    {
     "name": "stdout",
     "output_type": "stream",
     "text": [
      "7339 7265\n"
     ]
    }
   ],
   "source": [
    "cols = df['adt-groups'].columns.tolist()\n",
    "keep_clustered = [x for x in cols if x[1] in keep_groups]\n",
    "print(len(cols), len(keep_clustered))"
   ]
  },
  {
   "cell_type": "code",
   "execution_count": 14,
   "metadata": {},
   "outputs": [],
   "source": [
    "df['adt-trim'] = df['adt-groups'][keep_clustered]"
   ]
  },
  {
   "cell_type": "code",
   "execution_count": 15,
   "metadata": {},
   "outputs": [
    {
     "data": {
      "application/vnd.jupyter.widget-view+json": {
       "model_id": "079369bce58147b7a5aea6537dec3cc7",
       "version_major": 2,
       "version_minor": 0
      },
      "text/plain": [
       "ExampleWidget(network='{\"row_nodes\": [{\"name\": \"CD3\", \"ini\": 10, \"clust\": 1, \"rank\": 4, \"rankvar\": 2, \"group\":…"
      ]
     },
     "metadata": {},
     "output_type": "display_data"
    }
   ],
   "source": [
    "net.load_df(df['adt-trim'])\n",
    "net.widget()"
   ]
  },
  {
   "cell_type": "code",
   "execution_count": 16,
   "metadata": {},
   "outputs": [],
   "source": [
    "df['cat-sig'], keep_genes_dict, df_gene_pval, all_fold_info = cby.generate_signatures(df['adt-trim'], category_level='Group 2')"
   ]
  },
  {
   "cell_type": "markdown",
   "metadata": {},
   "source": [
    "### Add cluster size to cluster names"
   ]
  },
  {
   "cell_type": "code",
   "execution_count": 17,
   "metadata": {},
   "outputs": [],
   "source": [
    "# cols"
   ]
  },
  {
   "cell_type": "code",
   "execution_count": 18,
   "metadata": {},
   "outputs": [],
   "source": [
    "cols = df['cat-sig'].columns.tolist()\n",
    "keep_group_val_counts.loc[cols[0][1]]\n",
    "\n",
    "new_cols = []\n",
    "for inst_col in cols:\n",
    "    inst_name = inst_col[0]\n",
    "    inst_cat = inst_col[1]\n",
    "    inst_count = keep_group_val_counts[inst_col[1]]\n",
    "    new_col = (inst_name.replace('cat-', 'G') + '_' + str(inst_count), inst_cat)\n",
    "    new_cols.append(new_col)\n",
    "    \n",
    "df['cat-sig-count'] = deepcopy(df['cat-sig'])\n",
    "df['cat-sig-count'].columns = new_cols"
   ]
  },
  {
   "cell_type": "code",
   "execution_count": 19,
   "metadata": {},
   "outputs": [
    {
     "data": {
      "text/plain": [
       "Group 2: cat-4     2529\n",
       "Group 2: cat-19    1455\n",
       "Group 2: cat-26     891\n",
       "Group 2: cat-20     623\n",
       "Group 2: cat-10     410\n",
       "Group 2: cat-29     305\n",
       "Group 2: cat-25     267\n",
       "Group 2: cat-18     169\n",
       "Group 2: cat-24     152\n",
       "Group 2: cat-16     131\n",
       "Group 2: cat-7      131\n",
       "Group 2: cat-23      51\n",
       "Group 2: cat-13      50\n",
       "Group 2: cat-27      49\n",
       "Group 2: cat-1       32\n",
       "Group 2: cat-8       20\n",
       "dtype: int64"
      ]
     },
     "execution_count": 19,
     "metadata": {},
     "output_type": "execute_result"
    }
   ],
   "source": [
    "keep_group_val_counts"
   ]
  },
  {
   "cell_type": "code",
   "execution_count": 20,
   "metadata": {},
   "outputs": [
    {
     "data": {
      "text/plain": [
       "(10, 16)"
      ]
     },
     "execution_count": 20,
     "metadata": {},
     "output_type": "execute_result"
    }
   ],
   "source": [
    "df['cat-sig-count'].shape"
   ]
  },
  {
   "cell_type": "code",
   "execution_count": 21,
   "metadata": {},
   "outputs": [],
   "source": [
    "cols = df['cat-sig-count']\n",
    "ct_dict = {}\n",
    "for inst_col in cols:\n",
    "    ct_dict[inst_col[0]] = inst_col[0]"
   ]
  },
  {
   "cell_type": "code",
   "execution_count": 22,
   "metadata": {},
   "outputs": [],
   "source": [
    "ct_dict['G29_305'] = 'B cell'\n",
    "ct_dict['G27_49'] = 'pDC_1'\n",
    "ct_dict['G26_891'] = 'NK cell'\n",
    "ct_dict['G25_267'] = 'CD8 T cell'\n",
    "ct_dict['G4_2529'] = 'CD4 T cell'\n",
    "ct_dict['G1_32'] = 'pDC_2'\n",
    "ct_dict['G13_50'] = 'CD34+ cell'\n",
    "ct_dict['G20_623'] = 'CD14+ Mono cell_1'\n",
    "ct_dict['G19_1455'] = 'CD14+ Mono cell_2'\n",
    "ct_dict['G18_169'] = 'CD16+ Mono cell'\n",
    "\n",
    "ct_dict['G16_131'] = 'Unknown_1'\n",
    "ct_dict['G7_131'] = 'Unknown_2'\n",
    "ct_dict['G10_410'] = 'Unknown_3'\n",
    "ct_dict['G8_20'] = 'Unknown_4'\n",
    "ct_dict['G24_152'] = 'Unknown_5'\n",
    "ct_dict['G23_51'] = 'Unknown_6'"
   ]
  },
  {
   "cell_type": "code",
   "execution_count": 23,
   "metadata": {},
   "outputs": [],
   "source": [
    "tct_dict = {}\n",
    "for inst_group in ct_dict:\n",
    "    tct_dict[inst_group.split('_')[0]] = ct_dict[inst_group]"
   ]
  },
  {
   "cell_type": "code",
   "execution_count": 24,
   "metadata": {},
   "outputs": [],
   "source": [
    "new_cols = [(ct_dict[x[0]], x[1]) for x in cols]\n",
    "df['cat-sig-labeled'] = deepcopy(df['cat-sig-count'])\n",
    "df['cat-sig-labeled'].columns = new_cols"
   ]
  },
  {
   "cell_type": "markdown",
   "metadata": {},
   "source": [
    "### Labeled Average Marker Data"
   ]
  },
  {
   "cell_type": "code",
   "execution_count": 25,
   "metadata": {},
   "outputs": [
    {
     "data": {
      "application/vnd.jupyter.widget-view+json": {
       "model_id": "2d3ec2a6d7824a3e97caf23be5208e82",
       "version_major": 2,
       "version_minor": 0
      },
      "text/plain": [
       "ExampleWidget(network='{\"row_nodes\": [{\"name\": \"CD11c\", \"ini\": 10, \"clust\": 4, \"rank\": 4, \"rankvar\": 3, \"group…"
      ]
     },
     "metadata": {},
     "output_type": "display_data"
    }
   ],
   "source": [
    "net.load_df(df['cat-sig-labeled'])\n",
    "net.widget()"
   ]
  },
  {
   "cell_type": "markdown",
   "metadata": {},
   "source": [
    "### Transfer labels to trimmed data"
   ]
  },
  {
   "cell_type": "code",
   "execution_count": 26,
   "metadata": {},
   "outputs": [],
   "source": [
    "cols = df['adt-trim'].columns.tolist()\n",
    "new_cols = [(x[0], tct_dict[x[1].split(': ')[1].replace('cat-','G')]) for x in cols]\n",
    "df['adt-trim-cat'] = deepcopy(df['adt-trim'])\n",
    "df['adt-trim-cat'].columns = new_cols"
   ]
  },
  {
   "cell_type": "code",
   "execution_count": 27,
   "metadata": {},
   "outputs": [
    {
     "data": {
      "application/vnd.jupyter.widget-view+json": {
       "model_id": "65e8b4aa22c044aaa2ffad96c972d81b",
       "version_major": 2,
       "version_minor": 0
      },
      "text/plain": [
       "ExampleWidget(network='{\"row_nodes\": [{\"name\": \"CD3\", \"ini\": 10, \"clust\": 1, \"rank\": 4, \"rankvar\": 2, \"group\":…"
      ]
     },
     "metadata": {},
     "output_type": "display_data"
    }
   ],
   "source": [
    "net.load_df(df['adt-trim-cat'])\n",
    "net.widget()"
   ]
  },
  {
   "cell_type": "code",
   "execution_count": 28,
   "metadata": {},
   "outputs": [],
   "source": [
    "df['adt-trim-cat'].to_csv('../data/CITE-seq_data/adt_ashz_trim_cats.txt', sep='\\t')"
   ]
  },
  {
   "cell_type": "code",
   "execution_count": null,
   "metadata": {},
   "outputs": [],
   "source": []
  }
 ],
 "metadata": {
  "kernelspec": {
   "display_name": "Python 3",
   "language": "python",
   "name": "python3"
  },
  "language_info": {
   "codemirror_mode": {
    "name": "ipython",
    "version": 3
   },
   "file_extension": ".py",
   "mimetype": "text/x-python",
   "name": "python",
   "nbconvert_exporter": "python",
   "pygments_lexer": "ipython3",
   "version": "3.6.6"
  }
 },
 "nbformat": 4,
 "nbformat_minor": 2
}
