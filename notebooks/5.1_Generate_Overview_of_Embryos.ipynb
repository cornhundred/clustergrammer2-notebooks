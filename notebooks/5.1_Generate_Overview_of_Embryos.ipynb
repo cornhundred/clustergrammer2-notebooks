{
 "cells": [
  {
   "cell_type": "markdown",
   "metadata": {},
   "source": [
    "# 5.1 Generate Overview of Embryos"
   ]
  },
  {
   "cell_type": "code",
   "execution_count": 2,
   "metadata": {},
   "outputs": [],
   "source": [
    "from clustergrammer2 import net\n",
    "df = {}"
   ]
  },
  {
   "cell_type": "code",
   "execution_count": 32,
   "metadata": {},
   "outputs": [],
   "source": [
    "import pandas as pd\n",
    "from glob import glob\n",
    "import os\n",
    "from copy import deepcopy"
   ]
  },
  {
   "cell_type": "markdown",
   "metadata": {},
   "source": [
    "### Cell Type Distributions"
   ]
  },
  {
   "cell_type": "code",
   "execution_count": 48,
   "metadata": {},
   "outputs": [
    {
     "name": "stdout",
     "output_type": "stream",
     "text": [
      "1386587\n"
     ]
    }
   ],
   "source": [
    "list_cell_types = []\n",
    "new_samples = sorted(glob('../data/big_data/cao_2million-cell_2019_61-embryo_parquet_files_binder/*'))\n",
    "for inst_sample in new_samples:\n",
    "\n",
    "    df_meta = pd.read_parquet(inst_sample + '/meta_cell.parquet')\n",
    "    \n",
    "    list_cell_types.extend(list(df_meta['Main_cell_type'].get_values()))\n",
    "    \n",
    "print(len(list_cell_types))"
   ]
  },
  {
   "cell_type": "code",
   "execution_count": 51,
   "metadata": {},
   "outputs": [
    {
     "name": "stdout",
     "output_type": "stream",
     "text": [
      "there are 38 cell types\n"
     ]
    },
    {
     "data": {
      "text/plain": [
       "Chondrocytes & osteoblasts       104698\n",
       "Connective tissue progenitors     98964\n",
       "Intermediate Mesoderm             89518\n",
       "Jaw and tooth progenitors         82289\n",
       "Early mesenchyme                  71949\n",
       "Excitatory neurons                68567\n",
       "Epithelial cells                  66209\n",
       "Radial glia                       65428\n",
       "Neural progenitor cells           58332\n",
       "Postmitotic premature neurons     56033\n",
       "Oligodendrocyte Progenitors       54606\n",
       "Isthmic organizer cells           48498\n",
       "Neural Tube                       45985\n",
       "Inhibitory neurons                44658\n",
       "Myocytes                          43197\n",
       "Definitive erythroid lineage      34205\n",
       "Chondroctye progenitors           33539\n",
       "Inhibitory neuron progenitors     31214\n",
       "Premature oligodendrocyte         29538\n",
       "Limb mesenchyme                   26559\n",
       "Sensory neurons                   26477\n",
       "Endothelial cells                 26431\n",
       "Stromal cells                     23259\n",
       "Osteoblasts                       23223\n",
       "Schwann cell precursor            23145\n",
       "Granule neurons                   16131\n",
       "Notochord cells                   15481\n",
       "Primitive erythroid lineage       15138\n",
       "Inhibitory interneurons           13533\n",
       "Hepatocytes                       11229\n",
       "White blood cells                  9202\n",
       "Ependymal cell                     8566\n",
       "Cholinergic neurons                7060\n",
       "Cardiac muscle lineages            4867\n",
       "Megakaryocytes                     3572\n",
       "Melanocytes                        2827\n",
       "Lens                               1954\n",
       "Neutrophils                         506\n",
       "dtype: int64"
      ]
     },
     "execution_count": 51,
     "metadata": {},
     "output_type": "execute_result"
    }
   ],
   "source": [
    "ser_cell_types = pd.Series(list_cell_types)\n",
    "print('there are', ser_cell_types.value_counts().shape[0], 'cell types')\n",
    "ser_cell_types.value_counts()"
   ]
  },
  {
   "cell_type": "code",
   "execution_count": 23,
   "metadata": {},
   "outputs": [],
   "source": [
    "for inst_sample in new_samples[:1]:\n",
    "    df_gex = pd.read_parquet(inst_sample + '/gex.parquet')\n",
    "    df_meta = pd.read_parquet(inst_sample + '/meta_cell.parquet')\n",
    "    df_gex.shape"
   ]
  },
  {
   "cell_type": "code",
   "execution_count": 24,
   "metadata": {},
   "outputs": [
    {
     "data": {
      "text/plain": [
       "(5000, 15666)"
      ]
     },
     "execution_count": 24,
     "metadata": {},
     "output_type": "execute_result"
    }
   ],
   "source": [
    "df_gex.shape"
   ]
  },
  {
   "cell_type": "code",
   "execution_count": 26,
   "metadata": {},
   "outputs": [
    {
     "data": {
      "text/plain": [
       "(15666, 36)"
      ]
     },
     "execution_count": 26,
     "metadata": {},
     "output_type": "execute_result"
    }
   ],
   "source": [
    "df_meta.shape"
   ]
  },
  {
   "cell_type": "markdown",
   "metadata": {},
   "source": [
    "### Working on adding categories from metadata"
   ]
  },
  {
   "cell_type": "code",
   "execution_count": 11,
   "metadata": {},
   "outputs": [],
   "source": [
    "def add_cats_from_meta(barcodes, df_meta, add_cat_list):\n",
    "    '''\n",
    "    Add categories from df_meta.\n",
    "    '''\n",
    "\n",
    "    # get metadata of interest (add_cat_list) from barcodes of interest\n",
    "    df_cats = df_meta.loc[barcodes][add_cat_list]\n",
    "\n",
    "    # get list of cats\n",
    "    list_cat_ini = [list(x) for x in df_cats.values]\n",
    "\n",
    "    # add titles to cats\n",
    "    list_cat_titles = [ list([str(x) + ': ' + str(y) for x,y in zip(add_cat_list, a)]) for a in list_cat_ini]\n",
    "\n",
    "    # add barcodes to new columns\n",
    "    new_cols = [tuple([x] + y) for x,y in zip(barcodes, list_cat_titles)]\n",
    "\n",
    "    return new_cols"
   ]
  },
  {
   "cell_type": "code",
   "execution_count": 13,
   "metadata": {},
   "outputs": [
    {
     "data": {
      "text/html": [
       "<div>\n",
       "<style scoped>\n",
       "    .dataframe tbody tr th:only-of-type {\n",
       "        vertical-align: middle;\n",
       "    }\n",
       "\n",
       "    .dataframe tbody tr th {\n",
       "        vertical-align: top;\n",
       "    }\n",
       "\n",
       "    .dataframe thead th {\n",
       "        text-align: right;\n",
       "    }\n",
       "</style>\n",
       "<table border=\"1\" class=\"dataframe\">\n",
       "  <thead>\n",
       "    <tr style=\"text-align: right;\">\n",
       "      <th></th>\n",
       "      <th>Unnamed: 0</th>\n",
       "      <th>all_exon_count</th>\n",
       "      <th>all_intron_count</th>\n",
       "      <th>all_read_count</th>\n",
       "      <th>intergenic_rate</th>\n",
       "      <th>embryo_id</th>\n",
       "      <th>embryo_sex</th>\n",
       "      <th>nuclei_extraction_date</th>\n",
       "      <th>development_stage</th>\n",
       "      <th>Total_mRNAs</th>\n",
       "      <th>...</th>\n",
       "      <th>Main_trajectory_umap_3</th>\n",
       "      <th>Main_trajectory_refined_by_cluster</th>\n",
       "      <th>Main_trajectory_refined_umap_1</th>\n",
       "      <th>Main_trajectory_refined_umap_2</th>\n",
       "      <th>Main_trajectory_refined_umap_3</th>\n",
       "      <th>Sub_trajectory_name</th>\n",
       "      <th>Sub_trajectory_umap_1</th>\n",
       "      <th>Sub_trajectory_umap_2</th>\n",
       "      <th>Sub_trajectory_louvain_component</th>\n",
       "      <th>Sub_trajectory_Pseudotime</th>\n",
       "    </tr>\n",
       "    <tr>\n",
       "      <th>sample</th>\n",
       "      <th></th>\n",
       "      <th></th>\n",
       "      <th></th>\n",
       "      <th></th>\n",
       "      <th></th>\n",
       "      <th></th>\n",
       "      <th></th>\n",
       "      <th></th>\n",
       "      <th></th>\n",
       "      <th></th>\n",
       "      <th></th>\n",
       "      <th></th>\n",
       "      <th></th>\n",
       "      <th></th>\n",
       "      <th></th>\n",
       "      <th></th>\n",
       "      <th></th>\n",
       "      <th></th>\n",
       "      <th></th>\n",
       "      <th></th>\n",
       "      <th></th>\n",
       "    </tr>\n",
       "  </thead>\n",
       "  <tbody>\n",
       "    <tr>\n",
       "      <th>sci3-me-001.ATTAGTCTGTGTATAATACG</th>\n",
       "      <td>0</td>\n",
       "      <td>1612.0</td>\n",
       "      <td>382.0</td>\n",
       "      <td>2442.0</td>\n",
       "      <td>0.183456</td>\n",
       "      <td>9</td>\n",
       "      <td>M</td>\n",
       "      <td>2</td>\n",
       "      <td>11.5</td>\n",
       "      <td>1989.0</td>\n",
       "      <td>...</td>\n",
       "      <td>1.723381</td>\n",
       "      <td>Endothelial trajectory</td>\n",
       "      <td>1.208097</td>\n",
       "      <td>1.138210</td>\n",
       "      <td>1.053613</td>\n",
       "      <td>Venous and capillary endothelial trajectory</td>\n",
       "      <td>1.130985</td>\n",
       "      <td>1.567624</td>\n",
       "      <td>1.0</td>\n",
       "      <td>0.068362</td>\n",
       "    </tr>\n",
       "    <tr>\n",
       "      <th>sci3-me-002.GTACCTCTTATTCGACCAA</th>\n",
       "      <td>12</td>\n",
       "      <td>138.0</td>\n",
       "      <td>416.0</td>\n",
       "      <td>672.0</td>\n",
       "      <td>0.175595</td>\n",
       "      <td>9</td>\n",
       "      <td>M</td>\n",
       "      <td>2</td>\n",
       "      <td>11.5</td>\n",
       "      <td>554.0</td>\n",
       "      <td>...</td>\n",
       "      <td>0.864672</td>\n",
       "      <td>Neural tube and notochord trajectory</td>\n",
       "      <td>1.811370</td>\n",
       "      <td>1.316749</td>\n",
       "      <td>1.021694</td>\n",
       "      <td>Neural epithelial trajectory</td>\n",
       "      <td>2.394788</td>\n",
       "      <td>1.078920</td>\n",
       "      <td>1.0</td>\n",
       "      <td>1.570391</td>\n",
       "    </tr>\n",
       "    <tr>\n",
       "      <th>sci3-me-002.ACCGTAGCTAGGAGAGAAC</th>\n",
       "      <td>13</td>\n",
       "      <td>181.0</td>\n",
       "      <td>682.0</td>\n",
       "      <td>997.0</td>\n",
       "      <td>0.134403</td>\n",
       "      <td>9</td>\n",
       "      <td>M</td>\n",
       "      <td>2</td>\n",
       "      <td>11.5</td>\n",
       "      <td>858.0</td>\n",
       "      <td>...</td>\n",
       "      <td>0.721429</td>\n",
       "      <td>Neural tube and notochord trajectory</td>\n",
       "      <td>1.557839</td>\n",
       "      <td>0.811976</td>\n",
       "      <td>0.521807</td>\n",
       "      <td>Neuron progenitor trajectory</td>\n",
       "      <td>1.782221</td>\n",
       "      <td>0.887197</td>\n",
       "      <td>1.0</td>\n",
       "      <td>0.168541</td>\n",
       "    </tr>\n",
       "    <tr>\n",
       "      <th>sci3-me-002.ATAACTTCCTTATGAGTTAA</th>\n",
       "      <td>15</td>\n",
       "      <td>359.0</td>\n",
       "      <td>935.0</td>\n",
       "      <td>1470.0</td>\n",
       "      <td>0.119728</td>\n",
       "      <td>9</td>\n",
       "      <td>M</td>\n",
       "      <td>2</td>\n",
       "      <td>11.5</td>\n",
       "      <td>1293.0</td>\n",
       "      <td>...</td>\n",
       "      <td>1.093316</td>\n",
       "      <td>Neural tube and notochord trajectory</td>\n",
       "      <td>1.524517</td>\n",
       "      <td>1.654862</td>\n",
       "      <td>1.773734</td>\n",
       "      <td>Oligodendrocyte trajectory</td>\n",
       "      <td>0.304404</td>\n",
       "      <td>0.886391</td>\n",
       "      <td>1.0</td>\n",
       "      <td>1.583377</td>\n",
       "    </tr>\n",
       "    <tr>\n",
       "      <th>sci3-me-002.TCTCTCCATAATGCCGCTT</th>\n",
       "      <td>17</td>\n",
       "      <td>160.0</td>\n",
       "      <td>367.0</td>\n",
       "      <td>602.0</td>\n",
       "      <td>0.124585</td>\n",
       "      <td>9</td>\n",
       "      <td>M</td>\n",
       "      <td>2</td>\n",
       "      <td>11.5</td>\n",
       "      <td>527.0</td>\n",
       "      <td>...</td>\n",
       "      <td>1.089299</td>\n",
       "      <td>Neural tube and notochord trajectory</td>\n",
       "      <td>1.586869</td>\n",
       "      <td>1.665207</td>\n",
       "      <td>1.784211</td>\n",
       "      <td>Oligodendrocyte trajectory</td>\n",
       "      <td>0.293331</td>\n",
       "      <td>0.843669</td>\n",
       "      <td>1.0</td>\n",
       "      <td>1.580017</td>\n",
       "    </tr>\n",
       "  </tbody>\n",
       "</table>\n",
       "<p>5 rows × 36 columns</p>\n",
       "</div>"
      ],
      "text/plain": [
       "                                  Unnamed: 0  all_exon_count  \\\n",
       "sample                                                         \n",
       "sci3-me-001.ATTAGTCTGTGTATAATACG           0          1612.0   \n",
       "sci3-me-002.GTACCTCTTATTCGACCAA           12           138.0   \n",
       "sci3-me-002.ACCGTAGCTAGGAGAGAAC           13           181.0   \n",
       "sci3-me-002.ATAACTTCCTTATGAGTTAA          15           359.0   \n",
       "sci3-me-002.TCTCTCCATAATGCCGCTT           17           160.0   \n",
       "\n",
       "                                  all_intron_count  all_read_count  \\\n",
       "sample                                                               \n",
       "sci3-me-001.ATTAGTCTGTGTATAATACG             382.0          2442.0   \n",
       "sci3-me-002.GTACCTCTTATTCGACCAA              416.0           672.0   \n",
       "sci3-me-002.ACCGTAGCTAGGAGAGAAC              682.0           997.0   \n",
       "sci3-me-002.ATAACTTCCTTATGAGTTAA             935.0          1470.0   \n",
       "sci3-me-002.TCTCTCCATAATGCCGCTT              367.0           602.0   \n",
       "\n",
       "                                  intergenic_rate  embryo_id embryo_sex  \\\n",
       "sample                                                                    \n",
       "sci3-me-001.ATTAGTCTGTGTATAATACG         0.183456          9          M   \n",
       "sci3-me-002.GTACCTCTTATTCGACCAA          0.175595          9          M   \n",
       "sci3-me-002.ACCGTAGCTAGGAGAGAAC          0.134403          9          M   \n",
       "sci3-me-002.ATAACTTCCTTATGAGTTAA         0.119728          9          M   \n",
       "sci3-me-002.TCTCTCCATAATGCCGCTT          0.124585          9          M   \n",
       "\n",
       "                                  nuclei_extraction_date  development_stage  \\\n",
       "sample                                                                        \n",
       "sci3-me-001.ATTAGTCTGTGTATAATACG                       2               11.5   \n",
       "sci3-me-002.GTACCTCTTATTCGACCAA                        2               11.5   \n",
       "sci3-me-002.ACCGTAGCTAGGAGAGAAC                        2               11.5   \n",
       "sci3-me-002.ATAACTTCCTTATGAGTTAA                       2               11.5   \n",
       "sci3-me-002.TCTCTCCATAATGCCGCTT                        2               11.5   \n",
       "\n",
       "                                  Total_mRNAs  ...  Main_trajectory_umap_3  \\\n",
       "sample                                         ...                           \n",
       "sci3-me-001.ATTAGTCTGTGTATAATACG       1989.0  ...                1.723381   \n",
       "sci3-me-002.GTACCTCTTATTCGACCAA         554.0  ...                0.864672   \n",
       "sci3-me-002.ACCGTAGCTAGGAGAGAAC         858.0  ...                0.721429   \n",
       "sci3-me-002.ATAACTTCCTTATGAGTTAA       1293.0  ...                1.093316   \n",
       "sci3-me-002.TCTCTCCATAATGCCGCTT         527.0  ...                1.089299   \n",
       "\n",
       "                                    Main_trajectory_refined_by_cluster  \\\n",
       "sample                                                                   \n",
       "sci3-me-001.ATTAGTCTGTGTATAATACG                Endothelial trajectory   \n",
       "sci3-me-002.GTACCTCTTATTCGACCAA   Neural tube and notochord trajectory   \n",
       "sci3-me-002.ACCGTAGCTAGGAGAGAAC   Neural tube and notochord trajectory   \n",
       "sci3-me-002.ATAACTTCCTTATGAGTTAA  Neural tube and notochord trajectory   \n",
       "sci3-me-002.TCTCTCCATAATGCCGCTT   Neural tube and notochord trajectory   \n",
       "\n",
       "                                  Main_trajectory_refined_umap_1  \\\n",
       "sample                                                             \n",
       "sci3-me-001.ATTAGTCTGTGTATAATACG                        1.208097   \n",
       "sci3-me-002.GTACCTCTTATTCGACCAA                         1.811370   \n",
       "sci3-me-002.ACCGTAGCTAGGAGAGAAC                         1.557839   \n",
       "sci3-me-002.ATAACTTCCTTATGAGTTAA                        1.524517   \n",
       "sci3-me-002.TCTCTCCATAATGCCGCTT                         1.586869   \n",
       "\n",
       "                                  Main_trajectory_refined_umap_2  \\\n",
       "sample                                                             \n",
       "sci3-me-001.ATTAGTCTGTGTATAATACG                        1.138210   \n",
       "sci3-me-002.GTACCTCTTATTCGACCAA                         1.316749   \n",
       "sci3-me-002.ACCGTAGCTAGGAGAGAAC                         0.811976   \n",
       "sci3-me-002.ATAACTTCCTTATGAGTTAA                        1.654862   \n",
       "sci3-me-002.TCTCTCCATAATGCCGCTT                         1.665207   \n",
       "\n",
       "                                  Main_trajectory_refined_umap_3  \\\n",
       "sample                                                             \n",
       "sci3-me-001.ATTAGTCTGTGTATAATACG                        1.053613   \n",
       "sci3-me-002.GTACCTCTTATTCGACCAA                         1.021694   \n",
       "sci3-me-002.ACCGTAGCTAGGAGAGAAC                         0.521807   \n",
       "sci3-me-002.ATAACTTCCTTATGAGTTAA                        1.773734   \n",
       "sci3-me-002.TCTCTCCATAATGCCGCTT                         1.784211   \n",
       "\n",
       "                                                          Sub_trajectory_name  \\\n",
       "sample                                                                          \n",
       "sci3-me-001.ATTAGTCTGTGTATAATACG  Venous and capillary endothelial trajectory   \n",
       "sci3-me-002.GTACCTCTTATTCGACCAA                  Neural epithelial trajectory   \n",
       "sci3-me-002.ACCGTAGCTAGGAGAGAAC                  Neuron progenitor trajectory   \n",
       "sci3-me-002.ATAACTTCCTTATGAGTTAA                   Oligodendrocyte trajectory   \n",
       "sci3-me-002.TCTCTCCATAATGCCGCTT                    Oligodendrocyte trajectory   \n",
       "\n",
       "                                  Sub_trajectory_umap_1  \\\n",
       "sample                                                    \n",
       "sci3-me-001.ATTAGTCTGTGTATAATACG               1.130985   \n",
       "sci3-me-002.GTACCTCTTATTCGACCAA                2.394788   \n",
       "sci3-me-002.ACCGTAGCTAGGAGAGAAC                1.782221   \n",
       "sci3-me-002.ATAACTTCCTTATGAGTTAA               0.304404   \n",
       "sci3-me-002.TCTCTCCATAATGCCGCTT                0.293331   \n",
       "\n",
       "                                  Sub_trajectory_umap_2  \\\n",
       "sample                                                    \n",
       "sci3-me-001.ATTAGTCTGTGTATAATACG               1.567624   \n",
       "sci3-me-002.GTACCTCTTATTCGACCAA                1.078920   \n",
       "sci3-me-002.ACCGTAGCTAGGAGAGAAC                0.887197   \n",
       "sci3-me-002.ATAACTTCCTTATGAGTTAA               0.886391   \n",
       "sci3-me-002.TCTCTCCATAATGCCGCTT                0.843669   \n",
       "\n",
       "                                  Sub_trajectory_louvain_component  \\\n",
       "sample                                                               \n",
       "sci3-me-001.ATTAGTCTGTGTATAATACG                               1.0   \n",
       "sci3-me-002.GTACCTCTTATTCGACCAA                                1.0   \n",
       "sci3-me-002.ACCGTAGCTAGGAGAGAAC                                1.0   \n",
       "sci3-me-002.ATAACTTCCTTATGAGTTAA                               1.0   \n",
       "sci3-me-002.TCTCTCCATAATGCCGCTT                                1.0   \n",
       "\n",
       "                                  Sub_trajectory_Pseudotime  \n",
       "sample                                                       \n",
       "sci3-me-001.ATTAGTCTGTGTATAATACG                   0.068362  \n",
       "sci3-me-002.GTACCTCTTATTCGACCAA                    1.570391  \n",
       "sci3-me-002.ACCGTAGCTAGGAGAGAAC                    0.168541  \n",
       "sci3-me-002.ATAACTTCCTTATGAGTTAA                   1.583377  \n",
       "sci3-me-002.TCTCTCCATAATGCCGCTT                    1.580017  \n",
       "\n",
       "[5 rows x 36 columns]"
      ]
     },
     "execution_count": 13,
     "metadata": {},
     "output_type": "execute_result"
    }
   ],
   "source": [
    "df_meta.head()"
   ]
  },
  {
   "cell_type": "code",
   "execution_count": 27,
   "metadata": {},
   "outputs": [],
   "source": [
    "new_cols = add_cats_from_meta(df_gex.columns.tolist(), df_meta, ['Main_cell_type', 'Main_trajectory', 'development_stage'])"
   ]
  },
  {
   "cell_type": "code",
   "execution_count": 28,
   "metadata": {},
   "outputs": [
    {
     "data": {
      "text/plain": [
       "15666"
      ]
     },
     "execution_count": 28,
     "metadata": {},
     "output_type": "execute_result"
    }
   ],
   "source": [
    "len(new_cols)"
   ]
  },
  {
   "cell_type": "code",
   "execution_count": 29,
   "metadata": {},
   "outputs": [
    {
     "data": {
      "text/plain": [
       "('sci3-me-002.AGATCGGATGCGTTGGAGC',\n",
       " 'Main_cell_type: Early mesenchyme',\n",
       " 'Main_trajectory: Mesenchymal trajectory',\n",
       " 'development_stage: 9.5')"
      ]
     },
     "execution_count": 29,
     "metadata": {},
     "output_type": "execute_result"
    }
   ],
   "source": [
    "new_cols[0]"
   ]
  },
  {
   "cell_type": "code",
   "execution_count": 30,
   "metadata": {},
   "outputs": [
    {
     "data": {
      "text/plain": [
       "(5000, 15666)"
      ]
     },
     "execution_count": 30,
     "metadata": {},
     "output_type": "execute_result"
    }
   ],
   "source": [
    "df_gex.shape"
   ]
  },
  {
   "cell_type": "code",
   "execution_count": 31,
   "metadata": {},
   "outputs": [
    {
     "data": {
      "text/plain": [
       "(15666, 36)"
      ]
     },
     "execution_count": 31,
     "metadata": {},
     "output_type": "execute_result"
    }
   ],
   "source": [
    "df_meta.shape"
   ]
  },
  {
   "cell_type": "code",
   "execution_count": 33,
   "metadata": {},
   "outputs": [],
   "source": [
    "df_cat = deepcopy(df_gex)\n",
    "df_cat.columns = new_cols"
   ]
  },
  {
   "cell_type": "code",
   "execution_count": 38,
   "metadata": {},
   "outputs": [
    {
     "data": {
      "text/plain": [
       "Main_cell_type: Early mesenchyme                 3623\n",
       "Main_cell_type: Neural Tube                      2448\n",
       "Main_cell_type: Intermediate Mesoderm            1560\n",
       "Main_cell_type: Epithelial cells                 1319\n",
       "Main_cell_type: Isthmic organizer cells           925\n",
       "Main_cell_type: Oligodendrocyte Progenitors       784\n",
       "Main_cell_type: Radial glia                       696\n",
       "Main_cell_type: Endothelial cells                 585\n",
       "Main_cell_type: Stromal cells                     527\n",
       "Main_cell_type: Primitive erythroid lineage       495\n",
       "Main_cell_type: Neural progenitor cells           439\n",
       "Main_cell_type: Chondroctye progenitors           388\n",
       "Main_cell_type: Notochord cells                   370\n",
       "Main_cell_type: Jaw and tooth progenitors         344\n",
       "Main_cell_type: Schwann cell precursor            307\n",
       "Main_cell_type: Cardiac muscle lineages           263\n",
       "Main_cell_type: Sensory neurons                   142\n",
       "Main_cell_type: Myocytes                           80\n",
       "Main_cell_type: Cholinergic neurons                76\n",
       "Main_cell_type: Osteoblasts                        55\n",
       "Main_cell_type: Ependymal cell                     41\n",
       "Main_cell_type: Megakaryocytes                     35\n",
       "Main_cell_type: Hepatocytes                        28\n",
       "Main_cell_type: Melanocytes                        26\n",
       "Main_cell_type: Postmitotic premature neurons      24\n",
       "Main_cell_type: Premature oligodendrocyte          15\n",
       "Main_cell_type: White blood cells                  15\n",
       "Main_cell_type: Lens                               14\n",
       "Main_cell_type: Limb mesenchyme                    12\n",
       "Main_cell_type: Inhibitory neuron progenitors       8\n",
       "Main_cell_type: Chondrocytes & osteoblasts          8\n",
       "Main_cell_type: Definitive erythroid lineage        6\n",
       "Main_cell_type: Excitatory neurons                  3\n",
       "Main_cell_type: Connective tissue progenitors       3\n",
       "Main_cell_type: Inhibitory interneurons             1\n",
       "Main_cell_type: Neutrophils                         1\n",
       "dtype: int64"
      ]
     },
     "execution_count": 38,
     "metadata": {},
     "output_type": "execute_result"
    }
   ],
   "source": [
    "ser_traj = pd.Series([x[1] for x in df_cat.columns.tolist()])\n",
    "cell_types = ser_traj.value_counts().index.tolist()\n",
    "ser_traj.value_counts()"
   ]
  },
  {
   "cell_type": "code",
   "execution_count": 43,
   "metadata": {},
   "outputs": [
    {
     "name": "stdout",
     "output_type": "stream",
     "text": [
      "Main_cell_type: Early mesenchyme\n",
      "4\n",
      "Main_cell_type: Neural Tube\n",
      "4\n",
      "Main_cell_type: Intermediate Mesoderm\n",
      "6\n",
      "Main_cell_type: Epithelial cells\n",
      "6\n",
      "Main_cell_type: Isthmic organizer cells\n",
      "5\n",
      "Main_cell_type: Oligodendrocyte Progenitors\n",
      "5\n",
      "Main_cell_type: Radial glia\n",
      "5\n",
      "Main_cell_type: Endothelial cells\n",
      "4\n",
      "Main_cell_type: Stromal cells\n",
      "6\n",
      "Main_cell_type: Primitive erythroid lineage\n",
      "1\n",
      "Main_cell_type: Neural progenitor cells\n",
      "1\n",
      "Main_cell_type: Chondroctye progenitors\n",
      "1\n",
      "Main_cell_type: Notochord cells\n",
      "1\n",
      "Main_cell_type: Jaw and tooth progenitors\n",
      "1\n",
      "Main_cell_type: Schwann cell precursor\n",
      "5\n",
      "Main_cell_type: Cardiac muscle lineages\n",
      "5\n",
      "Main_cell_type: Sensory neurons\n",
      "2\n",
      "Main_cell_type: Myocytes\n",
      "3\n",
      "Main_cell_type: Cholinergic neurons\n",
      "1\n",
      "Main_cell_type: Osteoblasts\n",
      "4\n",
      "Main_cell_type: Ependymal cell\n",
      "4\n",
      "Main_cell_type: Megakaryocytes\n",
      "4\n",
      "Main_cell_type: Hepatocytes\n",
      "2\n",
      "Main_cell_type: Melanocytes\n",
      "3\n",
      "Main_cell_type: Postmitotic premature neurons\n",
      "2\n",
      "Main_cell_type: Premature oligodendrocyte\n",
      "2\n",
      "Main_cell_type: White blood cells\n",
      "1\n",
      "Main_cell_type: Lens\n",
      "2\n",
      "Main_cell_type: Limb mesenchyme\n",
      "1\n",
      "Main_cell_type: Inhibitory neuron progenitors\n",
      "1\n",
      "Main_cell_type: Chondrocytes & osteoblasts\n",
      "1\n",
      "Main_cell_type: Definitive erythroid lineage\n",
      "2\n",
      "Main_cell_type: Excitatory neurons\n",
      "2\n",
      "Main_cell_type: Connective tissue progenitors\n",
      "1\n",
      "Main_cell_type: Inhibitory interneurons\n",
      "1\n",
      "Main_cell_type: Neutrophils\n",
      "1\n"
     ]
    }
   ],
   "source": [
    "for inst_cell_type in cell_types:\n",
    "    print(inst_cell_type)\n",
    "    ser_traj = pd.Series([x[2] for x in df_cat.columns.tolist() if x[1] == inst_cell_type])\n",
    "    print(len(ser_traj.value_counts().index.tolist()))"
   ]
  },
  {
   "cell_type": "code",
   "execution_count": 35,
   "metadata": {},
   "outputs": [
    {
     "data": {
      "text/plain": [
       "development_stage: 9.5    15666\n",
       "dtype: int64"
      ]
     },
     "execution_count": 35,
     "metadata": {},
     "output_type": "execute_result"
    }
   ],
   "source": [
    "ser_traj = pd.Series([x[3] for x in df_cat.columns.tolist()])\n",
    "ser_traj.value_counts()"
   ]
  },
  {
   "cell_type": "code",
   "execution_count": null,
   "metadata": {},
   "outputs": [],
   "source": [
    "net.generate_signatures(df_cat, 'Main_cell_type')"
   ]
  }
 ],
 "metadata": {
  "kernelspec": {
   "display_name": "Python 3",
   "language": "python",
   "name": "python3"
  },
  "language_info": {
   "codemirror_mode": {
    "name": "ipython",
    "version": 3
   },
   "file_extension": ".py",
   "mimetype": "text/x-python",
   "name": "python",
   "nbconvert_exporter": "python",
   "pygments_lexer": "ipython3",
   "version": "3.6.6"
  }
 },
 "nbformat": 4,
 "nbformat_minor": 2
}
