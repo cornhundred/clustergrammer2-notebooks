{
 "cells": [
  {
   "cell_type": "markdown",
   "metadata": {},
   "source": [
    "# 5.1 Generate Overview of Embryos\n",
    "Working on cell type by developmental stage downsampled view of the data. I'll downsample the data from each embryo into cell types. Each embryo has the same developmental stage."
   ]
  },
  {
   "cell_type": "code",
   "execution_count": 1,
   "metadata": {},
   "outputs": [
    {
     "name": "stdout",
     "output_type": "stream",
     "text": [
      ">> clustergrammer2 backend version 0.4.2\n"
     ]
    }
   ],
   "source": [
    "from clustergrammer2 import net\n",
    "df = {}"
   ]
  },
  {
   "cell_type": "code",
   "execution_count": 2,
   "metadata": {},
   "outputs": [],
   "source": [
    "import pandas as pd\n",
    "from glob import glob\n",
    "import os\n",
    "from copy import deepcopy"
   ]
  },
  {
   "cell_type": "code",
   "execution_count": 3,
   "metadata": {},
   "outputs": [],
   "source": [
    "def add_cats_from_meta(barcodes, df_meta, add_cat_list):\n",
    "    '''\n",
    "    Add categories from df_meta.\n",
    "    '''\n",
    "\n",
    "    # get metadata of interest (add_cat_list) from barcodes of interest\n",
    "    df_cats = df_meta.loc[barcodes][add_cat_list]\n",
    "\n",
    "    # get list of cats\n",
    "    list_cat_ini = [list(x) for x in df_cats.values]\n",
    "\n",
    "    # add titles to cats\n",
    "    list_cat_titles = [ list([str(x) + ': ' + str(y) for x,y in zip(add_cat_list, a)]) for a in list_cat_ini]\n",
    "\n",
    "    # add barcodes to new columns\n",
    "    new_cols = [tuple([x] + y) for x,y in zip(barcodes, list_cat_titles)]\n",
    "\n",
    "    return new_cols"
   ]
  },
  {
   "cell_type": "markdown",
   "metadata": {},
   "source": [
    "### Cell Type Distributions"
   ]
  },
  {
   "cell_type": "code",
   "execution_count": 4,
   "metadata": {},
   "outputs": [
    {
     "name": "stdout",
     "output_type": "stream",
     "text": [
      "1386587\n"
     ]
    }
   ],
   "source": [
    "list_cell_types = []\n",
    "meta_list = []\n",
    "new_samples = sorted(glob('../data/big_data/cao_2million-cell_2019_61-embryo_parquet_files_binder/*'))\n",
    "for inst_sample in new_samples:\n",
    "\n",
    "    df_meta = pd.read_parquet(inst_sample + '/meta_cell.parquet')\n",
    "    meta_list.append(df_meta)\n",
    "    \n",
    "    list_cell_types.extend(list(df_meta['Main_cell_type'].get_values()))\n",
    "    \n",
    "print(len(list_cell_types))"
   ]
  },
  {
   "cell_type": "code",
   "execution_count": 5,
   "metadata": {},
   "outputs": [
    {
     "name": "stdout",
     "output_type": "stream",
     "text": [
      "there are 38 cell types\n"
     ]
    },
    {
     "data": {
      "text/plain": [
       "Chondrocytes & osteoblasts       104698\n",
       "Connective tissue progenitors     98964\n",
       "Intermediate Mesoderm             89518\n",
       "Jaw and tooth progenitors         82289\n",
       "Early mesenchyme                  71949\n",
       "Excitatory neurons                68567\n",
       "Epithelial cells                  66209\n",
       "Radial glia                       65428\n",
       "Neural progenitor cells           58332\n",
       "Postmitotic premature neurons     56033\n",
       "Oligodendrocyte Progenitors       54606\n",
       "Isthmic organizer cells           48498\n",
       "Neural Tube                       45985\n",
       "Inhibitory neurons                44658\n",
       "Myocytes                          43197\n",
       "Definitive erythroid lineage      34205\n",
       "Chondroctye progenitors           33539\n",
       "Inhibitory neuron progenitors     31214\n",
       "Premature oligodendrocyte         29538\n",
       "Limb mesenchyme                   26559\n",
       "Sensory neurons                   26477\n",
       "Endothelial cells                 26431\n",
       "Stromal cells                     23259\n",
       "Osteoblasts                       23223\n",
       "Schwann cell precursor            23145\n",
       "Granule neurons                   16131\n",
       "Notochord cells                   15481\n",
       "Primitive erythroid lineage       15138\n",
       "Inhibitory interneurons           13533\n",
       "Hepatocytes                       11229\n",
       "White blood cells                  9202\n",
       "Ependymal cell                     8566\n",
       "Cholinergic neurons                7060\n",
       "Cardiac muscle lineages            4867\n",
       "Megakaryocytes                     3572\n",
       "Melanocytes                        2827\n",
       "Lens                               1954\n",
       "Neutrophils                         506\n",
       "dtype: int64"
      ]
     },
     "execution_count": 5,
     "metadata": {},
     "output_type": "execute_result"
    }
   ],
   "source": [
    "ser_cell_types = pd.Series(list_cell_types)\n",
    "all_cell_types = ser_cell_types.value_counts().index.tolist()\n",
    "\n",
    "print('there are', len(all_cell_types), 'cell types')\n",
    "ser_cell_types.value_counts()"
   ]
  },
  {
   "cell_type": "markdown",
   "metadata": {},
   "source": [
    "### Calculate the Average Expression of Each Cell Type in Each Embryo\n",
    "Add categories for: cell type, developmental stage, embryo id, and population number."
   ]
  },
  {
   "cell_type": "code",
   "execution_count": 51,
   "metadata": {},
   "outputs": [],
   "source": [
    "dev_dict = {}\n",
    "dev_dict['E9.5']   = '1-E9.5'\n",
    "dev_dict['E10.5']  = '2-E10.5'\n",
    "dev_dict['E11.5']  = '3-E11.5'\n",
    "dev_dict['E12.5']  = '4-E12.5'\n",
    "dev_dict['E13.5']  = '5-E13.5'"
   ]
  },
  {
   "cell_type": "code",
   "execution_count": null,
   "metadata": {},
   "outputs": [
    {
     "name": "stdout",
     "output_type": "stream",
     "text": [
      "embryo-1-E9.5 (5000, 15666) (5000, 36)\n",
      "embryo-10-E11.5 (5000, 32449) (5000, 38)\n",
      "embryo-11-E12.5 (5000, 10270) (5000, 37)\n",
      "embryo-12-E12.5 (5000, 27090) (5000, 38)\n"
     ]
    }
   ],
   "source": [
    "%%time\n",
    "df_mean_list = []\n",
    "for inst_sample_path in new_samples:\n",
    "    df_gex = pd.read_parquet(inst_sample_path + '/gex.parquet')\n",
    "    df_meta = pd.read_parquet(inst_sample_path + '/meta_cell.parquet')\n",
    "    inst_sample = inst_sample_path.split('/')[-1]\n",
    "    \n",
    "    inst_embryo = 'embryo-' + inst_sample.split('-')[1]\n",
    "    inst_dev = inst_sample.split('-')[2]\n",
    "    \n",
    "    new_cols = add_cats_from_meta(df_gex.columns.tolist(), \n",
    "                                  df_meta, \n",
    "                                  ['Main_cell_type', 'development_stage'])\n",
    "    \n",
    "    # save number of cells in each cluster\n",
    "    ct_pop = pd.Series([x[1] for x in new_cols]).value_counts()\n",
    "    ct_pop.index = [x.split(': ')[1] for x in ct_pop.index.tolist()]\n",
    "    \n",
    "    df_cat = deepcopy(df_gex)\n",
    "    df_cat.columns = new_cols\n",
    "    \n",
    "    df_mi = net.row_tuple_to_multiindex(df_cat.transpose())\n",
    "    df_mean_ini = df_mi.groupby(level='Main_cell_type').mean().transpose()\n",
    "    rows = df_mean_ini.index.tolist()\n",
    "    cols = [(x + '_' + inst_sample.replace('embryo','e'), \n",
    "             'Cell Type: ' + x, \n",
    "             'Dev Stage: ' + dev_dict[inst_dev], \n",
    "             'Embryo: ' + inst_embryo, \n",
    "             'Pop: ' + str(ct_pop[x])) for x in df_mean_ini.columns.tolist()]\n",
    "    mat = df_mean_ini.get_values()\n",
    "    df_mean = pd.DataFrame(index=rows, columns=cols, data=mat)\n",
    "    print(inst_sample, df_cat.shape, df_mean.shape)\n",
    "    \n",
    "    df_mean_list.append(df_mean)"
   ]
  },
  {
   "cell_type": "code",
   "execution_count": null,
   "metadata": {},
   "outputs": [],
   "source": [
    "df_merge = pd.concat(df_mean_list, axis=1)\n",
    "df_merge.shape"
   ]
  },
  {
   "cell_type": "code",
   "execution_count": null,
   "metadata": {},
   "outputs": [],
   "source": [
    "df_save = deepcopy(df_merge)\n",
    "df_save.columns = [str(x) for x in df_save.columns.tolist()]\n",
    "df_save.to_parquet('../data/cao_2million-cell_2019_61-embryo_downsample/cao_embryo_cell-type_downsample.parquet')"
   ]
  },
  {
   "cell_type": "code",
   "execution_count": null,
   "metadata": {
    "scrolled": true
   },
   "outputs": [],
   "source": [
    "df_merge.columns.tolist()[:3]"
   ]
  },
  {
   "cell_type": "markdown",
   "metadata": {},
   "source": [
    "# Visualize Downsample Data"
   ]
  },
  {
   "cell_type": "code",
   "execution_count": null,
   "metadata": {},
   "outputs": [],
   "source": [
    "net.load_df(df_merge)\n",
    "net.filter_N_top(inst_rc='row', N_top=250, rank_type='var')\n",
    "net.normalize(axis='row', norm_type='zscore')\n",
    "net.clip(-5,5)\n",
    "net.widget()"
   ]
  },
  {
   "cell_type": "markdown",
   "metadata": {},
   "source": [
    "# Visualize Data for Single Cell Type"
   ]
  },
  {
   "cell_type": "code",
   "execution_count": null,
   "metadata": {
    "scrolled": false
   },
   "outputs": [],
   "source": [
    "net.load_df(df_merge)\n",
    "net.filter_cat(axis='col', cat_index=1, cat_name='Cell Type: Sensory neurons')\n",
    "net.filter_N_top(inst_rc='row', N_top=250, rank_type='var')\n",
    "net.normalize(axis='row', norm_type='zscore')\n",
    "net.clip(-5,5)\n",
    "net.widget()"
   ]
  },
  {
   "cell_type": "code",
   "execution_count": null,
   "metadata": {},
   "outputs": [],
   "source": [
    "cols = df_merge.columns.tolist()\n",
    "total_cells = 0\n",
    "for inst_col in cols:\n",
    "    inst_pop = int(inst_col[4].split(': ')[1])\n",
    "    total_cells = total_cells + inst_pop\n",
    "print('total number of cells represented: ', total_cells)"
   ]
  }
 ],
 "metadata": {
  "kernelspec": {
   "display_name": "Python 3",
   "language": "python",
   "name": "python3"
  },
  "language_info": {
   "codemirror_mode": {
    "name": "ipython",
    "version": 3
   },
   "file_extension": ".py",
   "mimetype": "text/x-python",
   "name": "python",
   "nbconvert_exporter": "python",
   "pygments_lexer": "ipython3",
   "version": "3.6.5"
  }
 },
 "nbformat": 4,
 "nbformat_minor": 2
}
