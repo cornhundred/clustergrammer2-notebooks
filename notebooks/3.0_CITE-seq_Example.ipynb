{
 "cells": [
  {
   "cell_type": "markdown",
   "metadata": {},
   "source": [
    "# 3.0 CITE-seq Example"
   ]
  },
  {
   "cell_type": "code",
   "execution_count": 3,
   "metadata": {},
   "outputs": [],
   "source": [
    "from clustergrammer2 import net\n",
    "df = {}"
   ]
  },
  {
   "cell_type": "code",
   "execution_count": 4,
   "metadata": {},
   "outputs": [],
   "source": [
    "import pandas as pd"
   ]
  },
  {
   "cell_type": "markdown",
   "metadata": {},
   "source": [
    "### ADT Data"
   ]
  },
  {
   "cell_type": "code",
   "execution_count": 12,
   "metadata": {},
   "outputs": [],
   "source": [
    "df['adt'] = pd.read_csv('../data/big_data/CITE-seq_CBMC_8K_13AB_10X/GSE100866_CBMC_8K_13AB_10X-ADT_umi.csv', index_col=0)"
   ]
  },
  {
   "cell_type": "code",
   "execution_count": 13,
   "metadata": {},
   "outputs": [
    {
     "data": {
      "text/plain": [
       "(13, 8617)"
      ]
     },
     "execution_count": 13,
     "metadata": {},
     "output_type": "execute_result"
    }
   ],
   "source": [
    "df['adt'].shape"
   ]
  },
  {
   "cell_type": "code",
   "execution_count": 15,
   "metadata": {},
   "outputs": [
    {
     "data": {
      "text/plain": [
       "112021"
      ]
     },
     "execution_count": 15,
     "metadata": {},
     "output_type": "execute_result"
    }
   ],
   "source": [
    "13*8617"
   ]
  },
  {
   "cell_type": "code",
   "execution_count": 14,
   "metadata": {},
   "outputs": [
    {
     "data": {
      "text/html": [
       "<div>\n",
       "<style scoped>\n",
       "    .dataframe tbody tr th:only-of-type {\n",
       "        vertical-align: middle;\n",
       "    }\n",
       "\n",
       "    .dataframe tbody tr th {\n",
       "        vertical-align: top;\n",
       "    }\n",
       "\n",
       "    .dataframe thead th {\n",
       "        text-align: right;\n",
       "    }\n",
       "</style>\n",
       "<table border=\"1\" class=\"dataframe\">\n",
       "  <thead>\n",
       "    <tr style=\"text-align: right;\">\n",
       "      <th></th>\n",
       "      <th>CTGTTTACACCGCTAG</th>\n",
       "      <th>CTCTACGGTGTGGCTC</th>\n",
       "      <th>AGCAGCCAGGCTCATT</th>\n",
       "      <th>GAATAAGAGATCCCAT</th>\n",
       "      <th>GTGCATAGTCATGCAT</th>\n",
       "      <th>TACACGACACATCCGG</th>\n",
       "      <th>TCATTTGGTGTGAAAT</th>\n",
       "      <th>GGGCACTGTGAAGGCT</th>\n",
       "      <th>AACACGTCATTAACCG</th>\n",
       "      <th>CACATAGCAATGCCAT</th>\n",
       "      <th>...</th>\n",
       "      <th>GACGCGTGTAGAAAGG</th>\n",
       "      <th>AGCGTCGTCCCAAGTA</th>\n",
       "      <th>AGCGTCGAGTCAAGGC</th>\n",
       "      <th>GTCGGGTAGTAGCCGA</th>\n",
       "      <th>GTCGGGTAGTTCGCAT</th>\n",
       "      <th>TTGCCGTGTAGATTAG</th>\n",
       "      <th>GGCGTGTAGTGTACTC</th>\n",
       "      <th>CGTATGCCGTCTTCTG</th>\n",
       "      <th>TACACGACGCTCTTCC</th>\n",
       "      <th>ACACGACGCTCTTCCG</th>\n",
       "    </tr>\n",
       "  </thead>\n",
       "  <tbody>\n",
       "    <tr>\n",
       "      <th>CD3</th>\n",
       "      <td>60</td>\n",
       "      <td>52</td>\n",
       "      <td>89</td>\n",
       "      <td>55</td>\n",
       "      <td>63</td>\n",
       "      <td>82</td>\n",
       "      <td>53</td>\n",
       "      <td>42</td>\n",
       "      <td>103</td>\n",
       "      <td>56</td>\n",
       "      <td>...</td>\n",
       "      <td>18</td>\n",
       "      <td>32</td>\n",
       "      <td>21</td>\n",
       "      <td>14</td>\n",
       "      <td>32</td>\n",
       "      <td>6</td>\n",
       "      <td>14</td>\n",
       "      <td>7</td>\n",
       "      <td>18</td>\n",
       "      <td>10</td>\n",
       "    </tr>\n",
       "    <tr>\n",
       "      <th>CD4</th>\n",
       "      <td>72</td>\n",
       "      <td>49</td>\n",
       "      <td>112</td>\n",
       "      <td>66</td>\n",
       "      <td>80</td>\n",
       "      <td>78</td>\n",
       "      <td>63</td>\n",
       "      <td>59</td>\n",
       "      <td>122</td>\n",
       "      <td>70</td>\n",
       "      <td>...</td>\n",
       "      <td>80</td>\n",
       "      <td>26</td>\n",
       "      <td>28</td>\n",
       "      <td>72</td>\n",
       "      <td>57</td>\n",
       "      <td>42</td>\n",
       "      <td>40</td>\n",
       "      <td>8</td>\n",
       "      <td>16</td>\n",
       "      <td>14</td>\n",
       "    </tr>\n",
       "    <tr>\n",
       "      <th>CD8</th>\n",
       "      <td>76</td>\n",
       "      <td>59</td>\n",
       "      <td>61</td>\n",
       "      <td>56</td>\n",
       "      <td>94</td>\n",
       "      <td>57</td>\n",
       "      <td>61</td>\n",
       "      <td>55</td>\n",
       "      <td>64</td>\n",
       "      <td>80</td>\n",
       "      <td>...</td>\n",
       "      <td>31</td>\n",
       "      <td>15</td>\n",
       "      <td>7</td>\n",
       "      <td>41</td>\n",
       "      <td>55</td>\n",
       "      <td>8</td>\n",
       "      <td>17</td>\n",
       "      <td>3</td>\n",
       "      <td>20</td>\n",
       "      <td>11</td>\n",
       "    </tr>\n",
       "    <tr>\n",
       "      <th>CD45RA</th>\n",
       "      <td>575</td>\n",
       "      <td>3943</td>\n",
       "      <td>682</td>\n",
       "      <td>378</td>\n",
       "      <td>644</td>\n",
       "      <td>479</td>\n",
       "      <td>487</td>\n",
       "      <td>472</td>\n",
       "      <td>540</td>\n",
       "      <td>535</td>\n",
       "      <td>...</td>\n",
       "      <td>108</td>\n",
       "      <td>5840</td>\n",
       "      <td>142</td>\n",
       "      <td>197</td>\n",
       "      <td>242</td>\n",
       "      <td>67</td>\n",
       "      <td>150</td>\n",
       "      <td>36</td>\n",
       "      <td>129</td>\n",
       "      <td>113</td>\n",
       "    </tr>\n",
       "    <tr>\n",
       "      <th>CD56</th>\n",
       "      <td>64</td>\n",
       "      <td>68</td>\n",
       "      <td>87</td>\n",
       "      <td>58</td>\n",
       "      <td>104</td>\n",
       "      <td>44</td>\n",
       "      <td>64</td>\n",
       "      <td>48</td>\n",
       "      <td>136</td>\n",
       "      <td>91</td>\n",
       "      <td>...</td>\n",
       "      <td>21</td>\n",
       "      <td>140</td>\n",
       "      <td>15</td>\n",
       "      <td>20</td>\n",
       "      <td>85</td>\n",
       "      <td>16</td>\n",
       "      <td>14</td>\n",
       "      <td>3</td>\n",
       "      <td>10</td>\n",
       "      <td>5</td>\n",
       "    </tr>\n",
       "  </tbody>\n",
       "</table>\n",
       "<p>5 rows × 8617 columns</p>\n",
       "</div>"
      ],
      "text/plain": [
       "        CTGTTTACACCGCTAG  CTCTACGGTGTGGCTC  AGCAGCCAGGCTCATT  \\\n",
       "CD3                   60                52                89   \n",
       "CD4                   72                49               112   \n",
       "CD8                   76                59                61   \n",
       "CD45RA               575              3943               682   \n",
       "CD56                  64                68                87   \n",
       "\n",
       "        GAATAAGAGATCCCAT  GTGCATAGTCATGCAT  TACACGACACATCCGG  \\\n",
       "CD3                   55                63                82   \n",
       "CD4                   66                80                78   \n",
       "CD8                   56                94                57   \n",
       "CD45RA               378               644               479   \n",
       "CD56                  58               104                44   \n",
       "\n",
       "        TCATTTGGTGTGAAAT  GGGCACTGTGAAGGCT  AACACGTCATTAACCG  \\\n",
       "CD3                   53                42               103   \n",
       "CD4                   63                59               122   \n",
       "CD8                   61                55                64   \n",
       "CD45RA               487               472               540   \n",
       "CD56                  64                48               136   \n",
       "\n",
       "        CACATAGCAATGCCAT        ...         GACGCGTGTAGAAAGG  \\\n",
       "CD3                   56        ...                       18   \n",
       "CD4                   70        ...                       80   \n",
       "CD8                   80        ...                       31   \n",
       "CD45RA               535        ...                      108   \n",
       "CD56                  91        ...                       21   \n",
       "\n",
       "        AGCGTCGTCCCAAGTA  AGCGTCGAGTCAAGGC  GTCGGGTAGTAGCCGA  \\\n",
       "CD3                   32                21                14   \n",
       "CD4                   26                28                72   \n",
       "CD8                   15                 7                41   \n",
       "CD45RA              5840               142               197   \n",
       "CD56                 140                15                20   \n",
       "\n",
       "        GTCGGGTAGTTCGCAT  TTGCCGTGTAGATTAG  GGCGTGTAGTGTACTC  \\\n",
       "CD3                   32                 6                14   \n",
       "CD4                   57                42                40   \n",
       "CD8                   55                 8                17   \n",
       "CD45RA               242                67               150   \n",
       "CD56                  85                16                14   \n",
       "\n",
       "        CGTATGCCGTCTTCTG  TACACGACGCTCTTCC  ACACGACGCTCTTCCG  \n",
       "CD3                    7                18                10  \n",
       "CD4                    8                16                14  \n",
       "CD8                    3                20                11  \n",
       "CD45RA                36               129               113  \n",
       "CD56                   3                10                 5  \n",
       "\n",
       "[5 rows x 8617 columns]"
      ]
     },
     "execution_count": 14,
     "metadata": {},
     "output_type": "execute_result"
    }
   ],
   "source": [
    "df['adt'].head()"
   ]
  },
  {
   "cell_type": "code",
   "execution_count": null,
   "metadata": {},
   "outputs": [],
   "source": [
    "net.load_df(df['adt'])\n",
    "net.widget()"
   ]
  },
  {
   "cell_type": "markdown",
   "metadata": {},
   "source": [
    "### Gene Expression Data"
   ]
  },
  {
   "cell_type": "code",
   "execution_count": null,
   "metadata": {},
   "outputs": [],
   "source": [
    "df['gex'] = pd.read_csv('../data/big_data/CITE-seq_CBMC_8K_13AB_10X/GSE100866_CBMC_8K_13AB_10X-RNA_umi.csv', index_col=0)"
   ]
  },
  {
   "cell_type": "code",
   "execution_count": null,
   "metadata": {},
   "outputs": [],
   "source": [
    "df['gex'].shape"
   ]
  },
  {
   "cell_type": "code",
   "execution_count": null,
   "metadata": {},
   "outputs": [],
   "source": []
  }
 ],
 "metadata": {
  "kernelspec": {
   "display_name": "Python 3",
   "language": "python",
   "name": "python3"
  },
  "language_info": {
   "codemirror_mode": {
    "name": "ipython",
    "version": 3
   },
   "file_extension": ".py",
   "mimetype": "text/x-python",
   "name": "python",
   "nbconvert_exporter": "python",
   "pygments_lexer": "ipython3",
   "version": "3.6.6"
  }
 },
 "nbformat": 4,
 "nbformat_minor": 2
}
