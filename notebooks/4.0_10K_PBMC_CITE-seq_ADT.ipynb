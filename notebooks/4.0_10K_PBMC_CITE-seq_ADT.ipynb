{
 "cells": [
  {
   "cell_type": "markdown",
   "metadata": {},
   "source": [
    "# 4.0_10K_PBMC_CITE-seq_ADTs"
   ]
  },
  {
   "cell_type": "code",
   "execution_count": 1,
   "metadata": {},
   "outputs": [],
   "source": [
    "import pandas as pd\n",
    "import numpy as np\n",
    "from copy import deepcopy\n",
    "\n",
    "import matplotlib.pyplot as plt\n",
    "%matplotlib inline "
   ]
  },
  {
   "cell_type": "code",
   "execution_count": 2,
   "metadata": {},
   "outputs": [
    {
     "name": "stdout",
     "output_type": "stream",
     "text": [
      ">> clustergrammer2 backend version 0.4.2\n"
     ]
    }
   ],
   "source": [
    "from clustergrammer2 import net\n",
    "import helper_functions as hf"
   ]
  },
  {
   "cell_type": "code",
   "execution_count": 3,
   "metadata": {},
   "outputs": [
    {
     "name": "stdout",
     "output_type": "stream",
     "text": [
      "CPU times: user 31.3 s, sys: 669 ms, total: 31.9 s\n",
      "Wall time: 31.5 s\n"
     ]
    }
   ],
   "source": [
    "%%time\n",
    "inst_path = '../data/10k_pbmc_feature_v3-chem_v3.0.0-cr/filtered_feature_bc_matrix/'\n",
    "feature_data = hf.load_v3_comp_sparse_feat_matrix(inst_path)"
   ]
  },
  {
   "cell_type": "markdown",
   "metadata": {},
   "source": [
    "### Clean ADT Features"
   ]
  },
  {
   "cell_type": "code",
   "execution_count": 4,
   "metadata": {},
   "outputs": [],
   "source": [
    "inst_features = feature_data['adt']['features']\n",
    "keep_indexes = []\n",
    "keep_features = []\n",
    "for inst_index in range(len(inst_features)):\n",
    "    inst_feature = inst_features[inst_index]\n",
    "    if '_control' not in inst_feature:\n",
    "        keep_indexes.append(inst_index)\n",
    "        keep_features.append(inst_feature)\n",
    "\n",
    "feature_data['adt']['features'] = keep_features\n",
    "feature_data['adt']['mat'] = feature_data['adt']['mat'][keep_indexes,:]"
   ]
  },
  {
   "cell_type": "code",
   "execution_count": 8,
   "metadata": {},
   "outputs": [
    {
     "name": "stdout",
     "output_type": "stream",
     "text": [
      "gex\n",
      "33538 7865\n",
      "(33538, 7865) \n",
      "\n",
      "adt\n",
      "14 7865\n",
      "(14, 7865) \n",
      "\n"
     ]
    }
   ],
   "source": [
    "hf.check_feature_data_size(feature_data)"
   ]
  },
  {
   "cell_type": "code",
   "execution_count": 9,
   "metadata": {},
   "outputs": [
    {
     "name": "stdout",
     "output_type": "stream",
     "text": [
      "adt (14, 7865)\n",
      "gex (33538, 7865)\n",
      "CPU times: user 426 ms, sys: 712 ms, total: 1.14 s\n",
      "Wall time: 1.21 s\n"
     ]
    }
   ],
   "source": [
    "%%time\n",
    "df = hf.convert_feature_data_to_df_dict(feature_data, make_sparse=False)\n",
    "print('adt', df['adt'].shape)\n",
    "print('gex', df['gex'].shape)"
   ]
  },
  {
   "cell_type": "code",
   "execution_count": null,
   "metadata": {},
   "outputs": [],
   "source": []
  }
 ],
 "metadata": {
  "kernelspec": {
   "display_name": "Python 3",
   "language": "python",
   "name": "python3"
  },
  "language_info": {
   "codemirror_mode": {
    "name": "ipython",
    "version": 3
   },
   "file_extension": ".py",
   "mimetype": "text/x-python",
   "name": "python",
   "nbconvert_exporter": "python",
   "pygments_lexer": "ipython3",
   "version": "3.6.5"
  }
 },
 "nbformat": 4,
 "nbformat_minor": 2
}
